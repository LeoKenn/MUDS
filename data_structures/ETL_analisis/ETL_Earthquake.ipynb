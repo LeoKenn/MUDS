{
  "cells": [
    {
      "cell_type": "markdown",
      "id": "PgX_X3d6fooC",
      "metadata": {
        "id": "PgX_X3d6fooC"
      },
      "source": [
        "\n",
        "## <font color='#3d59c6'>  INTRODUCCIÓN </font>"
      ]
    },
    {
      "cell_type": "markdown",
      "id": "ncAc4UWBfu8d",
      "metadata": {
        "id": "ncAc4UWBfu8d"
      },
      "source": [
        " **Estrategia**\n",
        "\n",
        "* Extracción de Datos\n",
        "* Transformación de Datos\n",
        "* Carga de Datos\n",
        "* Conclusiones\n"
      ]
    },
    {
      "cell_type": "markdown",
      "id": "7lC-g40YgESF",
      "metadata": {
        "id": "7lC-g40YgESF"
      },
      "source": [
        "## <font color='#3d59c6'>  INSTALACIÓN DE PACKAGES </font>"
      ]
    },
    {
      "cell_type": "code",
      "execution_count": null,
      "id": "3226031d",
      "metadata": {
        "id": "3226031d",
        "colab": {
          "base_uri": "https://localhost:8080/",
          "height": 211
        },
        "outputId": "40cc755f-7589-4447-86f5-74cceb828df8"
      },
      "outputs": [
        {
          "output_type": "error",
          "ename": "ModuleNotFoundError",
          "evalue": "No module named 'pymongo'",
          "traceback": [
            "\u001b[0;31m---------------------------------------------------------------------------\u001b[0m",
            "\u001b[0;31mModuleNotFoundError\u001b[0m                       Traceback (most recent call last)",
            "\u001b[0;32m<ipython-input-2-3a2815285d8b>\u001b[0m in \u001b[0;36m<cell line: 9>\u001b[0;34m()\u001b[0m\n\u001b[1;32m      7\u001b[0m \u001b[0;32mimport\u001b[0m \u001b[0mplotly\u001b[0m\u001b[0;34m.\u001b[0m\u001b[0mexpress\u001b[0m \u001b[0;32mas\u001b[0m \u001b[0mpx\u001b[0m\u001b[0;34m\u001b[0m\u001b[0;34m\u001b[0m\u001b[0m\n\u001b[1;32m      8\u001b[0m \u001b[0;32mimport\u001b[0m \u001b[0mplotly\u001b[0m\u001b[0;34m.\u001b[0m\u001b[0mgraph_objects\u001b[0m \u001b[0;32mas\u001b[0m \u001b[0mgo\u001b[0m\u001b[0;34m\u001b[0m\u001b[0;34m\u001b[0m\u001b[0m\n\u001b[0;32m----> 9\u001b[0;31m \u001b[0;32mfrom\u001b[0m \u001b[0mpymongo\u001b[0m \u001b[0;32mimport\u001b[0m \u001b[0mMongoClient\u001b[0m\u001b[0;34m\u001b[0m\u001b[0;34m\u001b[0m\u001b[0m\n\u001b[0m\u001b[1;32m     10\u001b[0m \u001b[0;32mfrom\u001b[0m \u001b[0mio\u001b[0m \u001b[0;32mimport\u001b[0m \u001b[0mBytesIO\u001b[0m\u001b[0;34m\u001b[0m\u001b[0;34m\u001b[0m\u001b[0m\n\u001b[1;32m     11\u001b[0m \u001b[0;32mimport\u001b[0m \u001b[0mplotly\u001b[0m\u001b[0;34m.\u001b[0m\u001b[0mgraph_objs\u001b[0m \u001b[0;32mas\u001b[0m \u001b[0mgo\u001b[0m\u001b[0;34m\u001b[0m\u001b[0;34m\u001b[0m\u001b[0m\n",
            "\u001b[0;31mModuleNotFoundError\u001b[0m: No module named 'pymongo'"
          ]
        }
      ],
      "source": [
        "import pandas as pd\n",
        "import numpy as np\n",
        "import folium\n",
        "import requests\n",
        "import matplotlib.pyplot as plt\n",
        "#Instalar plotly para visualizar los graficos\n",
        "import plotly.express as px\n",
        "import plotly.graph_objects as go\n",
        "from pymongo import MongoClient\n",
        "from io import BytesIO\n",
        "import plotly.graph_objs as go\n",
        "import plotly.offline as offline"
      ]
    },
    {
      "cell_type": "markdown",
      "id": "Tw2cMUhBgLz0",
      "metadata": {
        "id": "Tw2cMUhBgLz0"
      },
      "source": [
        "## <font color='#3d59c6'>  EXTRACCIÓN DE DATOS </font>"
      ]
    },
    {
      "cell_type": "code",
      "execution_count": null,
      "id": "e6080cf3",
      "metadata": {
        "colab": {
          "base_uri": "https://localhost:8080/"
        },
        "id": "e6080cf3",
        "outputId": "8106644c-e91a-4184-f28e-bd11edf99212"
      },
      "outputs": [
        {
          "output_type": "stream",
          "name": "stdout",
          "text": [
            "Datos de terremotos guardados en el DataFrame 'datos'.\n"
          ]
        }
      ],
      "source": [
        "import requests\n",
        "import pandas as pd\n",
        "\n",
        "# URL del endpoint de la API\n",
        "url = 'https://earthquake.usgs.gov/fdsnws/event/1/query?format=geojson'\n",
        "\n",
        "# Realizar la solicitud GET\n",
        "response = requests.get(url)\n",
        "\n",
        "# Verificar el estado de la respuesta\n",
        "if response.status_code == 200:\n",
        "    # Si la solicitud fue exitosa, obtener el contenido JSON de la respuesta\n",
        "    data = response.json()\n",
        "\n",
        "    # Crear un DataFrame de pandas con todas las variables disponibles en el JSON\n",
        "    earthquakes = []\n",
        "    for feature in data['features']:\n",
        "        earthquake = feature['properties']\n",
        "        earthquake['latitude'] = feature['geometry']['coordinates'][1]\n",
        "        earthquake['longitude'] = feature['geometry']['coordinates'][0]\n",
        "        earthquake['depth'] = feature['geometry']['coordinates'][2]  # Agregar profundidad\n",
        "        earthquake['locationSource'] = earthquake['nst'] if 'nst' in earthquake else None  # Obtener la fuente de la ubicación\n",
        "        earthquakes.append(earthquake)\n",
        "\n",
        "    data = pd.DataFrame(earthquakes)\n",
        "\n",
        "    print(\"Datos de terremotos guardados en el DataFrame 'datos'.\")\n",
        "else:\n",
        "    # Si la solicitud no fue exitosa, imprimir el mensaje de error\n",
        "    print(\"Error al realizar la solicitud:\", response.status_code)\n",
        "#Se limita los datos a cuya magnitud sea mayor o igual a 3\n",
        "data = data[data['mag'] >= 3.0]"
      ]
    },
    {
      "cell_type": "code",
      "execution_count": null,
      "id": "1c109625",
      "metadata": {
        "colab": {
          "base_uri": "https://localhost:8080/",
          "height": 933
        },
        "id": "1c109625",
        "outputId": "5f739326-f1c5-40b8-902b-5c8c6ccaafab"
      },
      "outputs": [
        {
          "output_type": "execute_result",
          "data": {
            "text/plain": [
              "     mag                             place           time        updated  \\\n",
              "14  3.54  17 km WSW of Brinnon, Washington  1708101018830  1708110768990   \n",
              "19  4.40       9 km E of San Felipe, Chile  1708098657575  1708100342040   \n",
              "21  4.40       156 km SSE of Damusi, China  1708097907867  1708099621040   \n",
              "23  3.00     274 km ESE of Chiniak, Alaska  1708097454146  1708109984646   \n",
              "27  4.80  210 km ESE of Onagawa Chō, Japan  1708095589232  1708096591040   \n",
              "32  4.90       256 km W of Tual, Indonesia  1708093413839  1708094429040   \n",
              "35  4.50         234 km NW of Houma, Tonga  1708092042357  1708095599040   \n",
              "36  4.40  68 km NNW of Murghob, Tajikistan  1708091236544  1708099254732   \n",
              "68  5.10         Izu Islands, Japan region  1708081262731  1708082398040   \n",
              "79  4.50       3 km ESE of Shiraoka, Japan  1708077133768  1708080042333   \n",
              "\n",
              "      tz                                                url  \\\n",
              "14  None  https://earthquake.usgs.gov/earthquakes/eventp...   \n",
              "19  None  https://earthquake.usgs.gov/earthquakes/eventp...   \n",
              "21  None  https://earthquake.usgs.gov/earthquakes/eventp...   \n",
              "23  None  https://earthquake.usgs.gov/earthquakes/eventp...   \n",
              "27  None  https://earthquake.usgs.gov/earthquakes/eventp...   \n",
              "32  None  https://earthquake.usgs.gov/earthquakes/eventp...   \n",
              "35  None  https://earthquake.usgs.gov/earthquakes/eventp...   \n",
              "36  None  https://earthquake.usgs.gov/earthquakes/eventp...   \n",
              "68  None  https://earthquake.usgs.gov/earthquakes/eventp...   \n",
              "79  None  https://earthquake.usgs.gov/earthquakes/eventp...   \n",
              "\n",
              "                                               detail  felt  cdi    mmi  ...  \\\n",
              "14  https://earthquake.usgs.gov/fdsnws/event/1/que...  72.0  3.6  2.341  ...   \n",
              "19  https://earthquake.usgs.gov/fdsnws/event/1/que...   NaN  NaN    NaN  ...   \n",
              "21  https://earthquake.usgs.gov/fdsnws/event/1/que...   NaN  NaN    NaN  ...   \n",
              "23  https://earthquake.usgs.gov/fdsnws/event/1/que...   NaN  NaN    NaN  ...   \n",
              "27  https://earthquake.usgs.gov/fdsnws/event/1/que...   NaN  NaN    NaN  ...   \n",
              "32  https://earthquake.usgs.gov/fdsnws/event/1/que...   NaN  NaN    NaN  ...   \n",
              "35  https://earthquake.usgs.gov/fdsnws/event/1/que...   NaN  NaN    NaN  ...   \n",
              "36  https://earthquake.usgs.gov/fdsnws/event/1/que...   1.0  2.0    NaN  ...   \n",
              "68  https://earthquake.usgs.gov/fdsnws/event/1/que...   NaN  NaN    NaN  ...   \n",
              "79  https://earthquake.usgs.gov/fdsnws/event/1/que...   1.0  1.0    NaN  ...   \n",
              "\n",
              "       dmin   rms    gap  magType        type  \\\n",
              "14  0.05931  0.37   20.0       ml  earthquake   \n",
              "19  0.06800  0.59   72.0       mb  earthquake   \n",
              "21  4.33100  0.55   86.0       mb  earthquake   \n",
              "23      NaN  0.49    NaN       ml  earthquake   \n",
              "27  3.56900  0.91  139.0       mb  earthquake   \n",
              "32  1.62200  0.58  122.0       mb  earthquake   \n",
              "35  2.18000  0.66   76.0       mb  earthquake   \n",
              "36  1.56200  0.60  106.0       mb  earthquake   \n",
              "68  1.76200  0.52  130.0       mb  earthquake   \n",
              "79  1.31500  0.56  125.0       mb  earthquake   \n",
              "\n",
              "                                       title latitude   longitude    depth  \\\n",
              "14  M 3.5 - 17 km WSW of Brinnon, Washington  47.5950 -123.093833   50.370   \n",
              "19       M 4.4 - 9 km E of San Felipe, Chile -32.7419  -70.627500   88.931   \n",
              "21       M 4.4 - 156 km SSE of Damusi, China  36.4580   77.297000  133.350   \n",
              "23     M 3.0 - 274 km ESE of Chiniak, Alaska  56.4982 -148.245300    3.300   \n",
              "27  M 4.8 - 210 km ESE of Onagawa Chō, Japan  37.8787  143.736000   10.000   \n",
              "32       M 4.9 - 256 km W of Tual, Indonesia  -6.0505  130.476800  116.767   \n",
              "35         M 4.5 - 234 km NW of Houma, Tonga -19.7566 -176.980200  325.526   \n",
              "36  M 4.4 - 68 km NNW of Murghob, Tajikistan  38.6865   73.530900   94.042   \n",
              "68         M 5.1 - Izu Islands, Japan region  31.4812  140.604900   52.679   \n",
              "79       M 4.5 - 3 km ESE of Shiraoka, Japan  36.0046  139.695500   61.377   \n",
              "\n",
              "    locationSource  \n",
              "14            93.0  \n",
              "19            37.0  \n",
              "21            63.0  \n",
              "23             NaN  \n",
              "27            58.0  \n",
              "32            57.0  \n",
              "35            43.0  \n",
              "36            25.0  \n",
              "68            51.0  \n",
              "79            51.0  \n",
              "\n",
              "[10 rows x 30 columns]"
            ],
            "text/html": [
              "\n",
              "  <div id=\"df-f547919b-7e6e-451c-85a5-470c52414479\" class=\"colab-df-container\">\n",
              "    <div>\n",
              "<style scoped>\n",
              "    .dataframe tbody tr th:only-of-type {\n",
              "        vertical-align: middle;\n",
              "    }\n",
              "\n",
              "    .dataframe tbody tr th {\n",
              "        vertical-align: top;\n",
              "    }\n",
              "\n",
              "    .dataframe thead th {\n",
              "        text-align: right;\n",
              "    }\n",
              "</style>\n",
              "<table border=\"1\" class=\"dataframe\">\n",
              "  <thead>\n",
              "    <tr style=\"text-align: right;\">\n",
              "      <th></th>\n",
              "      <th>mag</th>\n",
              "      <th>place</th>\n",
              "      <th>time</th>\n",
              "      <th>updated</th>\n",
              "      <th>tz</th>\n",
              "      <th>url</th>\n",
              "      <th>detail</th>\n",
              "      <th>felt</th>\n",
              "      <th>cdi</th>\n",
              "      <th>mmi</th>\n",
              "      <th>...</th>\n",
              "      <th>dmin</th>\n",
              "      <th>rms</th>\n",
              "      <th>gap</th>\n",
              "      <th>magType</th>\n",
              "      <th>type</th>\n",
              "      <th>title</th>\n",
              "      <th>latitude</th>\n",
              "      <th>longitude</th>\n",
              "      <th>depth</th>\n",
              "      <th>locationSource</th>\n",
              "    </tr>\n",
              "  </thead>\n",
              "  <tbody>\n",
              "    <tr>\n",
              "      <th>14</th>\n",
              "      <td>3.54</td>\n",
              "      <td>17 km WSW of Brinnon, Washington</td>\n",
              "      <td>1708101018830</td>\n",
              "      <td>1708110768990</td>\n",
              "      <td>None</td>\n",
              "      <td>https://earthquake.usgs.gov/earthquakes/eventp...</td>\n",
              "      <td>https://earthquake.usgs.gov/fdsnws/event/1/que...</td>\n",
              "      <td>72.0</td>\n",
              "      <td>3.6</td>\n",
              "      <td>2.341</td>\n",
              "      <td>...</td>\n",
              "      <td>0.05931</td>\n",
              "      <td>0.37</td>\n",
              "      <td>20.0</td>\n",
              "      <td>ml</td>\n",
              "      <td>earthquake</td>\n",
              "      <td>M 3.5 - 17 km WSW of Brinnon, Washington</td>\n",
              "      <td>47.5950</td>\n",
              "      <td>-123.093833</td>\n",
              "      <td>50.370</td>\n",
              "      <td>93.0</td>\n",
              "    </tr>\n",
              "    <tr>\n",
              "      <th>19</th>\n",
              "      <td>4.40</td>\n",
              "      <td>9 km E of San Felipe, Chile</td>\n",
              "      <td>1708098657575</td>\n",
              "      <td>1708100342040</td>\n",
              "      <td>None</td>\n",
              "      <td>https://earthquake.usgs.gov/earthquakes/eventp...</td>\n",
              "      <td>https://earthquake.usgs.gov/fdsnws/event/1/que...</td>\n",
              "      <td>NaN</td>\n",
              "      <td>NaN</td>\n",
              "      <td>NaN</td>\n",
              "      <td>...</td>\n",
              "      <td>0.06800</td>\n",
              "      <td>0.59</td>\n",
              "      <td>72.0</td>\n",
              "      <td>mb</td>\n",
              "      <td>earthquake</td>\n",
              "      <td>M 4.4 - 9 km E of San Felipe, Chile</td>\n",
              "      <td>-32.7419</td>\n",
              "      <td>-70.627500</td>\n",
              "      <td>88.931</td>\n",
              "      <td>37.0</td>\n",
              "    </tr>\n",
              "    <tr>\n",
              "      <th>21</th>\n",
              "      <td>4.40</td>\n",
              "      <td>156 km SSE of Damusi, China</td>\n",
              "      <td>1708097907867</td>\n",
              "      <td>1708099621040</td>\n",
              "      <td>None</td>\n",
              "      <td>https://earthquake.usgs.gov/earthquakes/eventp...</td>\n",
              "      <td>https://earthquake.usgs.gov/fdsnws/event/1/que...</td>\n",
              "      <td>NaN</td>\n",
              "      <td>NaN</td>\n",
              "      <td>NaN</td>\n",
              "      <td>...</td>\n",
              "      <td>4.33100</td>\n",
              "      <td>0.55</td>\n",
              "      <td>86.0</td>\n",
              "      <td>mb</td>\n",
              "      <td>earthquake</td>\n",
              "      <td>M 4.4 - 156 km SSE of Damusi, China</td>\n",
              "      <td>36.4580</td>\n",
              "      <td>77.297000</td>\n",
              "      <td>133.350</td>\n",
              "      <td>63.0</td>\n",
              "    </tr>\n",
              "    <tr>\n",
              "      <th>23</th>\n",
              "      <td>3.00</td>\n",
              "      <td>274 km ESE of Chiniak, Alaska</td>\n",
              "      <td>1708097454146</td>\n",
              "      <td>1708109984646</td>\n",
              "      <td>None</td>\n",
              "      <td>https://earthquake.usgs.gov/earthquakes/eventp...</td>\n",
              "      <td>https://earthquake.usgs.gov/fdsnws/event/1/que...</td>\n",
              "      <td>NaN</td>\n",
              "      <td>NaN</td>\n",
              "      <td>NaN</td>\n",
              "      <td>...</td>\n",
              "      <td>NaN</td>\n",
              "      <td>0.49</td>\n",
              "      <td>NaN</td>\n",
              "      <td>ml</td>\n",
              "      <td>earthquake</td>\n",
              "      <td>M 3.0 - 274 km ESE of Chiniak, Alaska</td>\n",
              "      <td>56.4982</td>\n",
              "      <td>-148.245300</td>\n",
              "      <td>3.300</td>\n",
              "      <td>NaN</td>\n",
              "    </tr>\n",
              "    <tr>\n",
              "      <th>27</th>\n",
              "      <td>4.80</td>\n",
              "      <td>210 km ESE of Onagawa Chō, Japan</td>\n",
              "      <td>1708095589232</td>\n",
              "      <td>1708096591040</td>\n",
              "      <td>None</td>\n",
              "      <td>https://earthquake.usgs.gov/earthquakes/eventp...</td>\n",
              "      <td>https://earthquake.usgs.gov/fdsnws/event/1/que...</td>\n",
              "      <td>NaN</td>\n",
              "      <td>NaN</td>\n",
              "      <td>NaN</td>\n",
              "      <td>...</td>\n",
              "      <td>3.56900</td>\n",
              "      <td>0.91</td>\n",
              "      <td>139.0</td>\n",
              "      <td>mb</td>\n",
              "      <td>earthquake</td>\n",
              "      <td>M 4.8 - 210 km ESE of Onagawa Chō, Japan</td>\n",
              "      <td>37.8787</td>\n",
              "      <td>143.736000</td>\n",
              "      <td>10.000</td>\n",
              "      <td>58.0</td>\n",
              "    </tr>\n",
              "    <tr>\n",
              "      <th>32</th>\n",
              "      <td>4.90</td>\n",
              "      <td>256 km W of Tual, Indonesia</td>\n",
              "      <td>1708093413839</td>\n",
              "      <td>1708094429040</td>\n",
              "      <td>None</td>\n",
              "      <td>https://earthquake.usgs.gov/earthquakes/eventp...</td>\n",
              "      <td>https://earthquake.usgs.gov/fdsnws/event/1/que...</td>\n",
              "      <td>NaN</td>\n",
              "      <td>NaN</td>\n",
              "      <td>NaN</td>\n",
              "      <td>...</td>\n",
              "      <td>1.62200</td>\n",
              "      <td>0.58</td>\n",
              "      <td>122.0</td>\n",
              "      <td>mb</td>\n",
              "      <td>earthquake</td>\n",
              "      <td>M 4.9 - 256 km W of Tual, Indonesia</td>\n",
              "      <td>-6.0505</td>\n",
              "      <td>130.476800</td>\n",
              "      <td>116.767</td>\n",
              "      <td>57.0</td>\n",
              "    </tr>\n",
              "    <tr>\n",
              "      <th>35</th>\n",
              "      <td>4.50</td>\n",
              "      <td>234 km NW of Houma, Tonga</td>\n",
              "      <td>1708092042357</td>\n",
              "      <td>1708095599040</td>\n",
              "      <td>None</td>\n",
              "      <td>https://earthquake.usgs.gov/earthquakes/eventp...</td>\n",
              "      <td>https://earthquake.usgs.gov/fdsnws/event/1/que...</td>\n",
              "      <td>NaN</td>\n",
              "      <td>NaN</td>\n",
              "      <td>NaN</td>\n",
              "      <td>...</td>\n",
              "      <td>2.18000</td>\n",
              "      <td>0.66</td>\n",
              "      <td>76.0</td>\n",
              "      <td>mb</td>\n",
              "      <td>earthquake</td>\n",
              "      <td>M 4.5 - 234 km NW of Houma, Tonga</td>\n",
              "      <td>-19.7566</td>\n",
              "      <td>-176.980200</td>\n",
              "      <td>325.526</td>\n",
              "      <td>43.0</td>\n",
              "    </tr>\n",
              "    <tr>\n",
              "      <th>36</th>\n",
              "      <td>4.40</td>\n",
              "      <td>68 km NNW of Murghob, Tajikistan</td>\n",
              "      <td>1708091236544</td>\n",
              "      <td>1708099254732</td>\n",
              "      <td>None</td>\n",
              "      <td>https://earthquake.usgs.gov/earthquakes/eventp...</td>\n",
              "      <td>https://earthquake.usgs.gov/fdsnws/event/1/que...</td>\n",
              "      <td>1.0</td>\n",
              "      <td>2.0</td>\n",
              "      <td>NaN</td>\n",
              "      <td>...</td>\n",
              "      <td>1.56200</td>\n",
              "      <td>0.60</td>\n",
              "      <td>106.0</td>\n",
              "      <td>mb</td>\n",
              "      <td>earthquake</td>\n",
              "      <td>M 4.4 - 68 km NNW of Murghob, Tajikistan</td>\n",
              "      <td>38.6865</td>\n",
              "      <td>73.530900</td>\n",
              "      <td>94.042</td>\n",
              "      <td>25.0</td>\n",
              "    </tr>\n",
              "    <tr>\n",
              "      <th>68</th>\n",
              "      <td>5.10</td>\n",
              "      <td>Izu Islands, Japan region</td>\n",
              "      <td>1708081262731</td>\n",
              "      <td>1708082398040</td>\n",
              "      <td>None</td>\n",
              "      <td>https://earthquake.usgs.gov/earthquakes/eventp...</td>\n",
              "      <td>https://earthquake.usgs.gov/fdsnws/event/1/que...</td>\n",
              "      <td>NaN</td>\n",
              "      <td>NaN</td>\n",
              "      <td>NaN</td>\n",
              "      <td>...</td>\n",
              "      <td>1.76200</td>\n",
              "      <td>0.52</td>\n",
              "      <td>130.0</td>\n",
              "      <td>mb</td>\n",
              "      <td>earthquake</td>\n",
              "      <td>M 5.1 - Izu Islands, Japan region</td>\n",
              "      <td>31.4812</td>\n",
              "      <td>140.604900</td>\n",
              "      <td>52.679</td>\n",
              "      <td>51.0</td>\n",
              "    </tr>\n",
              "    <tr>\n",
              "      <th>79</th>\n",
              "      <td>4.50</td>\n",
              "      <td>3 km ESE of Shiraoka, Japan</td>\n",
              "      <td>1708077133768</td>\n",
              "      <td>1708080042333</td>\n",
              "      <td>None</td>\n",
              "      <td>https://earthquake.usgs.gov/earthquakes/eventp...</td>\n",
              "      <td>https://earthquake.usgs.gov/fdsnws/event/1/que...</td>\n",
              "      <td>1.0</td>\n",
              "      <td>1.0</td>\n",
              "      <td>NaN</td>\n",
              "      <td>...</td>\n",
              "      <td>1.31500</td>\n",
              "      <td>0.56</td>\n",
              "      <td>125.0</td>\n",
              "      <td>mb</td>\n",
              "      <td>earthquake</td>\n",
              "      <td>M 4.5 - 3 km ESE of Shiraoka, Japan</td>\n",
              "      <td>36.0046</td>\n",
              "      <td>139.695500</td>\n",
              "      <td>61.377</td>\n",
              "      <td>51.0</td>\n",
              "    </tr>\n",
              "  </tbody>\n",
              "</table>\n",
              "<p>10 rows × 30 columns</p>\n",
              "</div>\n",
              "    <div class=\"colab-df-buttons\">\n",
              "\n",
              "  <div class=\"colab-df-container\">\n",
              "    <button class=\"colab-df-convert\" onclick=\"convertToInteractive('df-f547919b-7e6e-451c-85a5-470c52414479')\"\n",
              "            title=\"Convert this dataframe to an interactive table.\"\n",
              "            style=\"display:none;\">\n",
              "\n",
              "  <svg xmlns=\"http://www.w3.org/2000/svg\" height=\"24px\" viewBox=\"0 -960 960 960\">\n",
              "    <path d=\"M120-120v-720h720v720H120Zm60-500h600v-160H180v160Zm220 220h160v-160H400v160Zm0 220h160v-160H400v160ZM180-400h160v-160H180v160Zm440 0h160v-160H620v160ZM180-180h160v-160H180v160Zm440 0h160v-160H620v160Z\"/>\n",
              "  </svg>\n",
              "    </button>\n",
              "\n",
              "  <style>\n",
              "    .colab-df-container {\n",
              "      display:flex;\n",
              "      gap: 12px;\n",
              "    }\n",
              "\n",
              "    .colab-df-convert {\n",
              "      background-color: #E8F0FE;\n",
              "      border: none;\n",
              "      border-radius: 50%;\n",
              "      cursor: pointer;\n",
              "      display: none;\n",
              "      fill: #1967D2;\n",
              "      height: 32px;\n",
              "      padding: 0 0 0 0;\n",
              "      width: 32px;\n",
              "    }\n",
              "\n",
              "    .colab-df-convert:hover {\n",
              "      background-color: #E2EBFA;\n",
              "      box-shadow: 0px 1px 2px rgba(60, 64, 67, 0.3), 0px 1px 3px 1px rgba(60, 64, 67, 0.15);\n",
              "      fill: #174EA6;\n",
              "    }\n",
              "\n",
              "    .colab-df-buttons div {\n",
              "      margin-bottom: 4px;\n",
              "    }\n",
              "\n",
              "    [theme=dark] .colab-df-convert {\n",
              "      background-color: #3B4455;\n",
              "      fill: #D2E3FC;\n",
              "    }\n",
              "\n",
              "    [theme=dark] .colab-df-convert:hover {\n",
              "      background-color: #434B5C;\n",
              "      box-shadow: 0px 1px 3px 1px rgba(0, 0, 0, 0.15);\n",
              "      filter: drop-shadow(0px 1px 2px rgba(0, 0, 0, 0.3));\n",
              "      fill: #FFFFFF;\n",
              "    }\n",
              "  </style>\n",
              "\n",
              "    <script>\n",
              "      const buttonEl =\n",
              "        document.querySelector('#df-f547919b-7e6e-451c-85a5-470c52414479 button.colab-df-convert');\n",
              "      buttonEl.style.display =\n",
              "        google.colab.kernel.accessAllowed ? 'block' : 'none';\n",
              "\n",
              "      async function convertToInteractive(key) {\n",
              "        const element = document.querySelector('#df-f547919b-7e6e-451c-85a5-470c52414479');\n",
              "        const dataTable =\n",
              "          await google.colab.kernel.invokeFunction('convertToInteractive',\n",
              "                                                    [key], {});\n",
              "        if (!dataTable) return;\n",
              "\n",
              "        const docLinkHtml = 'Like what you see? Visit the ' +\n",
              "          '<a target=\"_blank\" href=https://colab.research.google.com/notebooks/data_table.ipynb>data table notebook</a>'\n",
              "          + ' to learn more about interactive tables.';\n",
              "        element.innerHTML = '';\n",
              "        dataTable['output_type'] = 'display_data';\n",
              "        await google.colab.output.renderOutput(dataTable, element);\n",
              "        const docLink = document.createElement('div');\n",
              "        docLink.innerHTML = docLinkHtml;\n",
              "        element.appendChild(docLink);\n",
              "      }\n",
              "    </script>\n",
              "  </div>\n",
              "\n",
              "\n",
              "<div id=\"df-0e02ca63-e46a-438f-96e9-07e75d72b8e9\">\n",
              "  <button class=\"colab-df-quickchart\" onclick=\"quickchart('df-0e02ca63-e46a-438f-96e9-07e75d72b8e9')\"\n",
              "            title=\"Suggest charts\"\n",
              "            style=\"display:none;\">\n",
              "\n",
              "<svg xmlns=\"http://www.w3.org/2000/svg\" height=\"24px\"viewBox=\"0 0 24 24\"\n",
              "     width=\"24px\">\n",
              "    <g>\n",
              "        <path d=\"M19 3H5c-1.1 0-2 .9-2 2v14c0 1.1.9 2 2 2h14c1.1 0 2-.9 2-2V5c0-1.1-.9-2-2-2zM9 17H7v-7h2v7zm4 0h-2V7h2v10zm4 0h-2v-4h2v4z\"/>\n",
              "    </g>\n",
              "</svg>\n",
              "  </button>\n",
              "\n",
              "<style>\n",
              "  .colab-df-quickchart {\n",
              "      --bg-color: #E8F0FE;\n",
              "      --fill-color: #1967D2;\n",
              "      --hover-bg-color: #E2EBFA;\n",
              "      --hover-fill-color: #174EA6;\n",
              "      --disabled-fill-color: #AAA;\n",
              "      --disabled-bg-color: #DDD;\n",
              "  }\n",
              "\n",
              "  [theme=dark] .colab-df-quickchart {\n",
              "      --bg-color: #3B4455;\n",
              "      --fill-color: #D2E3FC;\n",
              "      --hover-bg-color: #434B5C;\n",
              "      --hover-fill-color: #FFFFFF;\n",
              "      --disabled-bg-color: #3B4455;\n",
              "      --disabled-fill-color: #666;\n",
              "  }\n",
              "\n",
              "  .colab-df-quickchart {\n",
              "    background-color: var(--bg-color);\n",
              "    border: none;\n",
              "    border-radius: 50%;\n",
              "    cursor: pointer;\n",
              "    display: none;\n",
              "    fill: var(--fill-color);\n",
              "    height: 32px;\n",
              "    padding: 0;\n",
              "    width: 32px;\n",
              "  }\n",
              "\n",
              "  .colab-df-quickchart:hover {\n",
              "    background-color: var(--hover-bg-color);\n",
              "    box-shadow: 0 1px 2px rgba(60, 64, 67, 0.3), 0 1px 3px 1px rgba(60, 64, 67, 0.15);\n",
              "    fill: var(--button-hover-fill-color);\n",
              "  }\n",
              "\n",
              "  .colab-df-quickchart-complete:disabled,\n",
              "  .colab-df-quickchart-complete:disabled:hover {\n",
              "    background-color: var(--disabled-bg-color);\n",
              "    fill: var(--disabled-fill-color);\n",
              "    box-shadow: none;\n",
              "  }\n",
              "\n",
              "  .colab-df-spinner {\n",
              "    border: 2px solid var(--fill-color);\n",
              "    border-color: transparent;\n",
              "    border-bottom-color: var(--fill-color);\n",
              "    animation:\n",
              "      spin 1s steps(1) infinite;\n",
              "  }\n",
              "\n",
              "  @keyframes spin {\n",
              "    0% {\n",
              "      border-color: transparent;\n",
              "      border-bottom-color: var(--fill-color);\n",
              "      border-left-color: var(--fill-color);\n",
              "    }\n",
              "    20% {\n",
              "      border-color: transparent;\n",
              "      border-left-color: var(--fill-color);\n",
              "      border-top-color: var(--fill-color);\n",
              "    }\n",
              "    30% {\n",
              "      border-color: transparent;\n",
              "      border-left-color: var(--fill-color);\n",
              "      border-top-color: var(--fill-color);\n",
              "      border-right-color: var(--fill-color);\n",
              "    }\n",
              "    40% {\n",
              "      border-color: transparent;\n",
              "      border-right-color: var(--fill-color);\n",
              "      border-top-color: var(--fill-color);\n",
              "    }\n",
              "    60% {\n",
              "      border-color: transparent;\n",
              "      border-right-color: var(--fill-color);\n",
              "    }\n",
              "    80% {\n",
              "      border-color: transparent;\n",
              "      border-right-color: var(--fill-color);\n",
              "      border-bottom-color: var(--fill-color);\n",
              "    }\n",
              "    90% {\n",
              "      border-color: transparent;\n",
              "      border-bottom-color: var(--fill-color);\n",
              "    }\n",
              "  }\n",
              "</style>\n",
              "\n",
              "  <script>\n",
              "    async function quickchart(key) {\n",
              "      const quickchartButtonEl =\n",
              "        document.querySelector('#' + key + ' button');\n",
              "      quickchartButtonEl.disabled = true;  // To prevent multiple clicks.\n",
              "      quickchartButtonEl.classList.add('colab-df-spinner');\n",
              "      try {\n",
              "        const charts = await google.colab.kernel.invokeFunction(\n",
              "            'suggestCharts', [key], {});\n",
              "      } catch (error) {\n",
              "        console.error('Error during call to suggestCharts:', error);\n",
              "      }\n",
              "      quickchartButtonEl.classList.remove('colab-df-spinner');\n",
              "      quickchartButtonEl.classList.add('colab-df-quickchart-complete');\n",
              "    }\n",
              "    (() => {\n",
              "      let quickchartButtonEl =\n",
              "        document.querySelector('#df-0e02ca63-e46a-438f-96e9-07e75d72b8e9 button');\n",
              "      quickchartButtonEl.style.display =\n",
              "        google.colab.kernel.accessAllowed ? 'block' : 'none';\n",
              "    })();\n",
              "  </script>\n",
              "</div>\n",
              "    </div>\n",
              "  </div>\n"
            ],
            "application/vnd.google.colaboratory.intrinsic+json": {
              "type": "dataframe"
            }
          },
          "metadata": {},
          "execution_count": 3
        }
      ],
      "source": [
        "data[:10]"
      ]
    },
    {
      "cell_type": "markdown",
      "id": "opp-T3H1gUAB",
      "metadata": {
        "id": "opp-T3H1gUAB"
      },
      "source": [
        "## <font color='#3d59c6'>  TRANSFORMACIÓN DE DATOS </font>"
      ]
    },
    {
      "cell_type": "markdown",
      "id": "a59685fa-1e4e-4cb9-a4f3-c112eb69e35c",
      "metadata": {
        "id": "a59685fa-1e4e-4cb9-a4f3-c112eb69e35c"
      },
      "source": [
        "### <font color='#3d59c6'>  VISUALIZACIONES DE TERREMOTOS </font>"
      ]
    },
    {
      "cell_type": "markdown",
      "id": "461e9c1c-1eb7-415c-8667-35907b35b883",
      "metadata": {
        "id": "461e9c1c-1eb7-415c-8667-35907b35b883"
      },
      "source": [
        "### Actividad sísmica mundiañl ocurrida entre el 10 de enero de 2024 y el 9 de febrero de 2024.\n",
        "\n",
        "Para entender los patrones y la distribución de los terremotos, es esencial presentar la información de una manera que sea tanto informativa como accesible. Para lograr esto, hemos recurrido a una fuente confiable y autorizada: el Servicio Geológico de Estados Unidos (USGS).\n",
        "\n",
        "Los datos que vamos a presentar provienen de la API de terremotos del USGS, específicamente la consulta que nos proporciona información sobre eventos sísmicos de magnitud igual o superior a 3 ocurrida entre el 10 de enero de 2024 y el 9 de febrero de 2024. Estos datos han sido convertidos a formato CSV para facilitar su manipulación y análisis en nuestro entorno de trabajo.\n",
        "\n",
        "Ahora, nos adentraremos en la visualización de estos datos a través de gráficos interactivos creados con la biblioteca de Plotly en Python. Plotly nos permite transformar números y coordenadas en representaciones visuales que destacan la frecuencia, magnitud y ubicación de los sismos. Veremos:\n",
        "\n",
        "1. **Mapas de Dispersión Geográfica**: Estos nos mostrarán la ubicación exacta de los terremotos, con puntos codificados por colores y tamaños que representan la magnitud de cada evento. Este tipo de gráfico nos ayuda a identificar rápidamente áreas de alta actividad sísmica.\n",
        "\n",
        "2. **Histogramas y Gráficos de Barras**: Para comprender mejor la distribución de las magnitudes de terremotos y su frecuencia, utilizaremos gráficos que nos permitan visualizar la cantidad de terremotos en diferentes rangos de magnitud.\n",
        "\n",
        "3. **Gráficos de Línea de Tiempo**: A través de estos, podremos observar la secuencia de los terremotos a lo largo del tiempo, proporcionando una perspectiva clara de la actividad sísmica a lo largo de un periodo específico.\n",
        "\n",
        "Cada visualización está diseñada para aportar una capa de comprensión, permitiéndonos descifrar patrones y extraer conclusiones sobre la actividad sísmica global. Con la interactividad de nuestras gráficas, invitamos a los espectadores a sumergirse en los datos, explorando cada terremoto con la riqueza de detalle que solo la visualización de datos puede proporcionar.ctiva y enriquecedora."
      ]
    },
    {
      "cell_type": "markdown",
      "id": "d4ebbc5c-9c80-4201-948e-f013b2d93bfb",
      "metadata": {
        "id": "d4ebbc5c-9c80-4201-948e-f013b2d93bfb"
      },
      "source": [
        "## Terremotos en todo el mundo.\n",
        "\n",
        "Este gráfico interactivo proporciona una representación visual inmediata del registro global de terremotos con magnitudes de 3.0 o superiores. Cada círculo en el mapa representa un terremoto, con su ubicación geográfica precisa dada por las coordenadas de latitud y longitud. La escala de colores, que va de amarillo a morado oscuro, se utiliza para indicar la magnitud de cada terremoto, con tonos más oscuros que representan magnitudes más altas."
      ]
    },
    {
      "cell_type": "code",
      "execution_count": null,
      "id": "d73721a8-9b4f-46e1-85d1-e19a7854465b",
      "metadata": {
        "id": "d73721a8-9b4f-46e1-85d1-e19a7854465b"
      },
      "outputs": [],
      "source": [
        "fig = px.scatter_geo(data,\n",
        "                     lat='latitude',\n",
        "                     lon='longitude',\n",
        "                     color='mag',  # Color de los puntos basado en la magnitud\n",
        "                     hover_name='place',  # Mostrar el lugar al pasar el ratón por encima\n",
        "                     size='mag',  # Tamaño de los puntos basado en la magnitud\n",
        "                     projection='natural earth',  # Tipo de proyección del mapa\n",
        "                     title='Terremotos en todo el mundo, en el último mes.')\n",
        "\n",
        "# Configurar las dimensiones del layout del gráfico\n",
        "fig.update_layout(width=1000, height=600)  # Puedes ajustar estos valores según tus necesidades\n",
        "\n",
        "# Convertir la figura a bytes\n",
        "img_reg_globales = fig.to_image(format=\"png\")\n",
        "\n",
        "fig.show()\n",
        "\n",
        "# Guardar el gráfico como un archivo HTML\n",
        "offline.plot(fig, filename='Grafico_terremoto_ultimo_mes.html', auto_open=False)\n"
      ]
    },
    {
      "cell_type": "markdown",
      "id": "1efff615-61a5-4069-8c5c-6b7f164dbc59",
      "metadata": {
        "id": "1efff615-61a5-4069-8c5c-6b7f164dbc59"
      },
      "source": [
        "Al observar el mapa, se pueden destacar varios puntos clave:\n",
        "\n",
        "- Concentración de Terremotos: Los círculos están densamente agrupados a lo largo de ciertas áreas, destacando las zonas de alta actividad sísmica conocidas como las fronteras de placas tectónicas.\n",
        "\n",
        "- Magnitud de los Terremotos: Los tamaños de los círculos varían, lo que indica la magnitud de los terremotos. Los terremotos más grandes, con magnitudes más cercanas a 7, están marcados con círculos de color más oscuro. Esto nos permite identificar rápidamente las regiones que han experimentado terremotos más potentes.\n",
        "\n",
        "- Distribución Geográfica: Aunque hay una presencia global de terremotos, es evidente que hay regiones con una actividad sísmica significativamente menor, como es Europa, donde España es una privilegiada al escapar de la actividad sismica. Podemos ver también que las áreas centrales de los continentes tienden a tener menos terremotos que las regiones costeras o las islas.islas."
      ]
    },
    {
      "cell_type": "markdown",
      "id": "140a058d-be33-4f4e-b58e-99f2c2870b6f",
      "metadata": {
        "id": "140a058d-be33-4f4e-b58e-99f2c2870b6f"
      },
      "source": [
        "## Terremotos sobre grado 6.\n"
      ]
    },
    {
      "cell_type": "code",
      "execution_count": null,
      "id": "3ae420b6-db96-4d24-8b63-9790365f56ab",
      "metadata": {
        "id": "3ae420b6-db96-4d24-8b63-9790365f56ab"
      },
      "outputs": [],
      "source": [
        "data_filtrado = data[data['mag'] >= 6.0]\n",
        "\n",
        "fig = px.scatter_geo(data_filtrado,\n",
        "                     lat='latitude',\n",
        "                     lon='longitude',\n",
        "                     color='mag',\n",
        "                     hover_name='place',\n",
        "                     size='mag',\n",
        "                     projection='natural earth',\n",
        "                     title='Terremotos significativos en todo el mundo (>6.0 de magnitud)')\n",
        "\n",
        "fig.update_layout(width=1000, height=600)\n",
        "\n",
        "# Convertir la figura a bytes\n",
        "img_terremotos_grado_6 = fig.to_image(format=\"png\")\n",
        "\n",
        "fig.show()\n",
        "\n",
        "# Guardar el gráfico como un archivo HTML\n",
        "offline.plot(fig, filename='Grafico_terremoto_todo_mundo.html', auto_open=False)\n"
      ]
    },
    {
      "cell_type": "markdown",
      "id": "0672bfa6-412a-4797-9b13-a7a371f95854",
      "metadata": {
        "id": "0672bfa6-412a-4797-9b13-a7a371f95854"
      },
      "source": [
        "- Notables Eventos Sísmicos: El mapa destaca terremotos significativos en Brasil y China, poniendo de relieve que la actividad sísmica no se limita solo a las zonas tradicionalmente activas como el Cinturón de Fuego del Pacífico."
      ]
    },
    {
      "cell_type": "code",
      "execution_count": null,
      "id": "72247aba-5062-4db1-83ff-a58bd256a8fb",
      "metadata": {
        "id": "72247aba-5062-4db1-83ff-a58bd256a8fb"
      },
      "outputs": [],
      "source": [
        "fig = px.histogram(data, x='mag', nbins=50, title='Distribución de Magnitudes de Terremotos')\n",
        "fig.update_layout(width=1000, height=600)\n",
        "\n",
        "# Convertir la figura a bytes\n",
        "img_hist_terremotos = fig.to_image(format=\"png\")\n",
        "\n",
        "\n",
        "fig.show()\n",
        "\n",
        "# Guardar el gráfico como un archivo HTML\n",
        "offline.plot(fig, filename='Grafico_Distribucion_terremoto.html', auto_open=False)\n"
      ]
    },
    {
      "cell_type": "markdown",
      "id": "c7a11462-b65e-4443-80ff-9838f5cd4a36",
      "metadata": {
        "id": "c7a11462-b65e-4443-80ff-9838f5cd4a36"
      },
      "source": [
        "En el histograma se evidencia que la mayor concentración de terremotos se encuentra en el intervalo de magnitud entre 4 y 5 grados."
      ]
    },
    {
      "cell_type": "code",
      "execution_count": null,
      "id": "b5f8eecd-b240-4f38-929a-fa86d3912acd",
      "metadata": {
        "id": "b5f8eecd-b240-4f38-929a-fa86d3912acd",
        "scrolled": true
      },
      "outputs": [],
      "source": [
        "fig = px.scatter(data, x='depth', y='mag', title='Profundidad vs Magnitud de Terremotos',\n",
        "                 labels={'depth':'Profundidad (km)', 'mag':'Magnitud'})\n",
        "\n",
        "# Convertir la figura a bytes\n",
        "img_profundidad_magnitud = fig.to_image(format=\"png\")\n",
        "\n",
        "fig.show()\n",
        "\n",
        "# Guardar el gráfico como un archivo HTML\n",
        "offline.plot(fig, filename='Grafico_Profundidad_magnitud.html', auto_open=False)\n"
      ]
    },
    {
      "cell_type": "markdown",
      "id": "d9ce85b7-baa7-4441-af51-ce98ee6cb035",
      "metadata": {
        "id": "d9ce85b7-baa7-4441-af51-ce98ee6cb035"
      },
      "source": [
        "**Concentración de Datos:** Hay una gran concentración de datos en el rango de profundidad de 0 a 100 kilómetros y con magnitudes entre aproximadamente 3 y 6. Esto sugiere que la mayoría de los terremotos registrados en este conjunto de datos son relativamente superficiales y tienen magnitudes moderadas.\n",
        "\n",
        "**Correlación:** No parece haber una correlación clara o lineal entre la profundidad y la magnitud de los terremotos. Los puntos están bastante dispersos sin un patrón claro que indique que una variable aumenta o disminuye consistentemente con la otra."
      ]
    },
    {
      "cell_type": "markdown",
      "id": "330e041c-ea40-4b9a-a5c6-e77925affae9",
      "metadata": {
        "id": "330e041c-ea40-4b9a-a5c6-e77925affae9"
      },
      "source": [
        "## Comparacion placas tecntonicas y terremotos del último mes.\n"
      ]
    },
    {
      "cell_type": "markdown",
      "id": "9e254883-0aea-4ee2-a7af-bc39f80f4fee",
      "metadata": {
        "id": "9e254883-0aea-4ee2-a7af-bc39f80f4fee"
      },
      "source": [
        "<img src=\"https://significado.com/img/cien/placas-tectonicas-distribucion-planisferio.jpg\" width=\"1000\" height=\"600\" alt=\"Distribución de las Placas Tectónicas\">\n",
        "\n"
      ]
    },
    {
      "cell_type": "markdown",
      "id": "f6ee9e9b-1a3c-483c-81b6-f7add3fe2976",
      "metadata": {
        "id": "f6ee9e9b-1a3c-483c-81b6-f7add3fe2976"
      },
      "source": [
        "\n",
        "En el análisis del mapa de calor de la actividad sísmica del último mes (Mapa que esta abajo de este texto) y su comparación con la distribución global de las placas tectónicas, es evidente que hay una correlación significativa entre los patrones sísmicos y las ubicaciones de las placas tectónicas. Los movimientos y colisiones de estas placas suelen ser el origen de los terremotos, lo cual se refleja claramente en el gráfico, demostrando que los terremotos tienden a concentrarse en las áreas donde estas placas se encuentran o se deslizan unas contra otras."
      ]
    },
    {
      "cell_type": "code",
      "execution_count": null,
      "id": "e83ec0fe-3882-4e37-9424-3e64dd38e91d",
      "metadata": {
        "id": "e83ec0fe-3882-4e37-9424-3e64dd38e91d"
      },
      "outputs": [],
      "source": [
        "fig = go.Figure(go.Densitymapbox(lat=data['latitude'], lon=data['longitude'], z=data['mag'], radius=10))\n",
        "fig.update_layout(mapbox_style=\"open-street-map\")\n",
        "fig.update_layout(width=1000, height=600)\n",
        "\n",
        "# Convertir la figura a bytes\n",
        "img_mapa_calor = fig.to_image(format=\"png\")\n",
        "\n",
        "fig.show()\n",
        "\n",
        "# Guardar el gráfico como un archivo HTML\n",
        "offline.plot(fig, filename='Grafico_calor.html', auto_open=False)\n"
      ]
    },
    {
      "cell_type": "code",
      "execution_count": null,
      "id": "f0c687b9-bd74-4fb7-b2f5-cedaa5d45af0",
      "metadata": {
        "id": "f0c687b9-bd74-4fb7-b2f5-cedaa5d45af0"
      },
      "outputs": [],
      "source": [
        "data['time'] = pd.to_datetime(data['time'])\n",
        "\n",
        "fig = px.line(data, x='time', y='mag', title='Magnitud de Terremotos a lo Largo del Tiempo',\n",
        "              labels={'time':'Tiempo', 'mag':'Magnitud'})\n",
        "\n",
        "# Convertir la figura a bytes\n",
        "img_magnitud_terremotos = fig.to_image(format=\"png\")\n",
        "\n",
        "fig.show()\n",
        "\n",
        "# Guardar el gráfico como un archivo HTML\n",
        "offline.plot(fig, filename='Grafico_Magnitud_terremoto.html', auto_open=False)\n",
        "\n"
      ]
    },
    {
      "cell_type": "markdown",
      "id": "1efe060b-3765-4523-a1b2-e6d319461939",
      "metadata": {
        "id": "1efe060b-3765-4523-a1b2-e6d319461939"
      },
      "source": [
        "**Ausencia de patrones claros:** No parece haber un patrón claro o cíclico en la ocurrencia de terremotos de alta magnitud, lo que indica que estos eventos no siguen una tendencia predecible en este conjunto de datos.\n",
        "\n",
        "**Rango de magnitud:** Las magnitudes parecen oscilar principalmente entre aproximadamente 3 y 7, con la mayoría de los terremotos presentando magnitudes en el extremo inferior de ese rango. Los eventos de magnitud 6 o más parecen ser menos frecuentes."
      ]
    },
    {
      "cell_type": "markdown",
      "id": "2CFQKf9ggiFA",
      "metadata": {
        "id": "2CFQKf9ggiFA"
      },
      "source": [
        "### <font color='#3d59c6'>  TABLA DE FRECUENCIAS: Centros Observatorios de Terremotos </font>"
      ]
    },
    {
      "cell_type": "markdown",
      "source": [
        "La API nos da información del lugar en el que se realizaron las observaciones del terremoto. Esta\n",
        "información fue almacenada en una tabla de frecuencia para poder identificar cuáles han sido los\n",
        "centros observatorios con mayor actividad en el último mes. Esta tabla también tiene los datos de\n",
        "la magnitud media de los terremotos captados en cada centro de observación."
      ],
      "metadata": {
        "id": "8FKu9t-178ex"
      },
      "id": "8FKu9t-178ex"
    },
    {
      "cell_type": "code",
      "execution_count": null,
      "id": "rNvUi_KhY5Bd",
      "metadata": {
        "id": "rNvUi_KhY5Bd"
      },
      "outputs": [],
      "source": [
        "\n",
        "def frequency_table(data):\n",
        "    # Calcular la frecuencia de cada zona\n",
        "    frequency = data['locationSource'].value_counts()\n",
        "\n",
        "    # Calcular la media de la magnitud para cada zona\n",
        "    magnitud_media = data.groupby('locationSource')['mag'].mean()\n",
        "\n",
        "    # Ordenar las zonas por frecuencia descendente\n",
        "    frequency = frequency.sort_values(ascending=False)\n",
        "\n",
        "    # Crear el DataFrame con la frecuencia y la magnitud media\n",
        "    frequency_table = pd.DataFrame({'Zona': frequency.index, 'Frecuencia': frequency.values})\n",
        "\n",
        "    # Agregar la columna de magnitud media al DataFrame\n",
        "    frequency_table['Magnitud Media'] = frequency_table['Zona'].map(magnitud_media)\n",
        "\n",
        "    return frequency_table\n",
        "\n",
        "# Ejemplo de uso\n",
        "frequency_table(data)\n",
        "# En este ademas ponemos la media de la magnitud"
      ]
    },
    {
      "cell_type": "markdown",
      "source": [
        "La API tiene un campo llamado \"place\", donde hace una descripción del sitio y el país en donde\n",
        "ocurrió el terremoto. Sin embargo, luego de analizar los datos, se observa que el país en muchas\n",
        "ocasiones no está correcto. El caso más común y recurrente, es el de Estados Unidos, en donde en vez del país aparece el nombre del estado.\n",
        "Para poder identificar de manera precisa el país de origen del movimiento telúrico, se han utilizado\n",
        "los campos de latitud y longitud. Usando la librería ’reverse geocode’, se toman las coordenadas\n",
        "geográficas latitud y longitud y se convierten para obtener el país en donde se encuentran"
      ],
      "metadata": {
        "id": "noBY68mZ8C_u"
      },
      "id": "noBY68mZ8C_u"
    },
    {
      "cell_type": "markdown",
      "id": "KMFhgfVDiUiJ",
      "metadata": {
        "id": "KMFhgfVDiUiJ"
      },
      "source": [
        "### <font color='#3d59c6'>  TABLA DE FRECUENCIAS: Per Country </font>"
      ]
    },
    {
      "cell_type": "code",
      "execution_count": null,
      "id": "eu0BHSN7cMcr",
      "metadata": {
        "id": "eu0BHSN7cMcr"
      },
      "outputs": [],
      "source": [
        "import reverse_geocode\n",
        "\n",
        "# Función para obtener el país a partir de las coordenadas\n",
        "def get_country(row):\n",
        "    coordinates = (row['latitude'], row['longitude'])\n",
        "    location = reverse_geocode.search([coordinates])\n",
        "    return location[0]['country']\n",
        "\n",
        "# Agrega una nueva columna 'country' al DataFrame\n",
        "data['country'] = data.apply(get_country, axis=1)\n",
        "\n"
      ]
    },
    {
      "cell_type": "markdown",
      "source": [
        "Una vez agregada esta nueva columna de ’country’ al dataset, se procede a crear una tabla de frecuencias que identifique, esta vez, aquellos países que han tenido mayor cantidad de terremotos en\n",
        "el último mes y la magnitud promedio de los mismos.\n",
        "Se crea así un histograma con los 15 paises de mayor actividad sísmica en el último mes.\n"
      ],
      "metadata": {
        "id": "EsmYBbUo8SM-"
      },
      "id": "EsmYBbUo8SM-"
    },
    {
      "cell_type": "code",
      "execution_count": null,
      "id": "GmJNJGhkdjji",
      "metadata": {
        "id": "GmJNJGhkdjji"
      },
      "outputs": [],
      "source": [
        "\n",
        "def country_frequency_table(data):\n",
        "    # Calcular la frecuencia de cada país\n",
        "    frequency = data['country'].value_counts()\n",
        "\n",
        "    # Tomar solo los primeros \"X\" países en términos de frecuencia\n",
        "    top_countries = frequency.head(15).index\n",
        "\n",
        "    # Filtrar el DataFrame original para incluir solo las filas correspondientes a los primeros países\n",
        "    filtered_data = data[data['country'].isin(top_countries)]\n",
        "\n",
        "    # Calcular la media de la magnitud para cada país\n",
        "    magnitud_media = filtered_data.groupby('country')['mag'].mean()\n",
        "\n",
        "    # Ordenar los países por frecuencia descendente\n",
        "    frequency = frequency.sort_values(ascending=False)\n",
        "\n",
        "    # Crear el DataFrame con la frecuencia y la magnitud media\n",
        "    frequency_table = pd.DataFrame({'País': top_countries, 'Frecuencia': frequency[top_countries].values})\n",
        "\n",
        "    # Agregar la columna de magnitud media al DataFrame\n",
        "    frequency_table['Magnitud Media'] = frequency_table['País'].map(magnitud_media)\n",
        "\n",
        "    return frequency_table\n",
        "\n",
        "# Ejemplo de uso\n",
        "country_frequency_table(data)\n"
      ]
    },
    {
      "cell_type": "code",
      "execution_count": null,
      "id": "eC9iC585eI5p",
      "metadata": {
        "id": "eC9iC585eI5p"
      },
      "outputs": [],
      "source": [
        "import matplotlib.pyplot as plt\n",
        "import base64\n",
        "import io\n",
        "\n",
        "def country_frequency_histogram(data):\n",
        "    # Calcular la frecuencia de cada país\n",
        "    frequency = data['country'].value_counts()\n",
        "\n",
        "    # Tomar solo los primeros 15 países en términos de frecuencia\n",
        "    top_countries = frequency.head(15)\n",
        "\n",
        "    # Crear el histograma\n",
        "    plt.figure(figsize=(10, 6))\n",
        "    top_countries.plot(kind='bar')\n",
        "    plt.xlabel('País')\n",
        "    plt.ylabel('Frecuencia')\n",
        "    plt.title('Frecuencia de Terremotos por País (Top 15)')\n",
        "    plt.xticks(rotation=90)\n",
        "    plt.tight_layout()\n",
        "    plt.show()\n",
        "\n",
        "\n",
        " # Convertir la figura a un formato que se pueda almacenar en MongoDB\n",
        "buffer = io.BytesIO()\n",
        "plt.savefig(buffer, format='png')\n",
        "buffer.seek(0)\n",
        "image_png = buffer.getvalue()\n",
        "buffer.close()\n",
        "\n",
        "# Codificar la imagen en base64\n",
        "img_frecuencia_terremoto = base64.b64encode(image_png).decode('utf-8')\n",
        "\n",
        "# Ejemplo de uso\n",
        "country_frequency_histogram(data)\n",
        "\n",
        "# Guardar el gráfico como un archivo HTML\n",
        "offline.plot(img_frecuencia_terremoto, filename='Grafico_Frecuencia_terremotos.html', auto_open=False)\n"
      ]
    },
    {
      "cell_type": "markdown",
      "id": "nr5Duea1cMGP",
      "metadata": {
        "id": "nr5Duea1cMGP"
      },
      "source": [
        "## <font color='#3d59c6'>  CARGA DE DATOS </font>"
      ]
    },
    {
      "cell_type": "code",
      "execution_count": null,
      "id": "0d1c6324",
      "metadata": {
        "id": "0d1c6324"
      },
      "outputs": [],
      "source": [
        "# Conectar a la base de datos MongoDB\n",
        "client = MongoClient('mongodb://localhost:27017/')\n",
        "db = client['bd_terremotos']\n",
        "collection = db['terremotos']\n"
      ]
    },
    {
      "cell_type": "code",
      "execution_count": null,
      "id": "eea1845a",
      "metadata": {
        "id": "eea1845a"
      },
      "outputs": [],
      "source": [
        "# Crear una lista de los documentos que contienen las imágenes\n",
        "imagenes_para_insertar = [\n",
        "    {'image': img_reg_globales},\n",
        "    {'image': img_terremotos_grado_6},\n",
        "    {'image': img_hist_terremotos},\n",
        "    {'image': img_profundidad_magnitud},\n",
        "    {'image': img_mapa_calor},\n",
        "    {'image': img_magnitud_terremotos},\n",
        "    {'image': img_frecuencia_terremoto}\n",
        "]\n",
        "\n",
        "# Insertar las imágenes en la base de datos\n",
        "resultados_insercion = collection.insert_many(imagenes_para_insertar)\n",
        "\n",
        "# Verificar si la inserción fue exitosa para ambas imágenes\n",
        "if resultados_insercion.acknowledged:\n",
        "    print(\"Imágenes insertadas correctamente en la base de datos.\")\n",
        "else:\n",
        "    print(\"Error al insertar las imágenes en la base de datos.\")\n"
      ]
    },
    {
      "cell_type": "markdown",
      "id": "W2f5eu9QhRIS",
      "metadata": {
        "id": "W2f5eu9QhRIS"
      },
      "source": [
        "## <font color='#3d59c6'>  CONCLUSIONES </font>"
      ]
    },
    {
      "cell_type": "markdown",
      "id": "458c6431",
      "metadata": {
        "id": "458c6431"
      },
      "source": [
        "Siguiendo lo aprendido en la clase de Estructura de Datos y su Almacenamiento, hemos optado por utilizar una base de datos NoSQL, en este caso MongoDB, para almacenar la información de forma local. Esta decisión nos permite mantener un repositorio actualizado cada vez que realicemos cambios o actualizaciones en nuestros datos.\n",
        "\n",
        "En nuestro proyecto, hemos almacenado las imágenes que fueron otorgadas durante el análisis y la transformación de los datos. Estas imágenes representan información relevante para nuestro estudio y son un elemento fundamental en nuestro proceso de análisis de datos.\n",
        "\n",
        "Al utilizar MongoDB como nuestro sistema de gestión de base de datos, tenemos la flexibilidad necesaria para almacenar datos no estructurados, como imágenes, de manera eficiente y escalable. Esto nos permite organizar y acceder a nuestra información de manera efectiva, facilitando así el desarrollo de nuestro proyecto y la realización de análisis posteriores.\n",
        "\n",
        "Además, al mantener la información localmente, tenemos un mayor control sobre nuestros datos y podemos trabajar en un entorno familiar y seguro. Esto nos brinda la confianza necesaria para realizar experimentos y pruebas sin preocuparnos por la integridad o la disponibilidad de nuestros datos.\n",
        "\n",
        "Hemos elegido MongoDB como nuestra solución de almacenamiento de datos debido a su capacidad para manejar datos no estructurados, su escalabilidad y su facilidad de uso. Al mantener nuestras imágenes en una base de datos local, podemos asegurar un acceso rápido y seguro a nuestra información, lo que nos permite avanzar en nuestro proyecto de manera eficiente y efectiva."
      ]
    }
  ],
  "metadata": {
    "colab": {
      "collapsed_sections": [
        "PgX_X3d6fooC",
        "7lC-g40YgESF",
        "d4ebbc5c-9c80-4201-948e-f013b2d93bfb",
        "140a058d-be33-4f4e-b58e-99f2c2870b6f"
      ],
      "provenance": []
    },
    "kernelspec": {
      "display_name": "Python 3 (ipykernel)",
      "language": "python",
      "name": "python3"
    },
    "language_info": {
      "codemirror_mode": {
        "name": "ipython",
        "version": 3
      },
      "file_extension": ".py",
      "mimetype": "text/x-python",
      "name": "python",
      "nbconvert_exporter": "python",
      "pygments_lexer": "ipython3",
      "version": "3.11.4"
    }
  },
  "nbformat": 4,
  "nbformat_minor": 5
}