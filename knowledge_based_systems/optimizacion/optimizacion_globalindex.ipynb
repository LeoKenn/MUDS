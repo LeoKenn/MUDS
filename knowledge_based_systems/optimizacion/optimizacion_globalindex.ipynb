{
  "nbformat": 4,
  "nbformat_minor": 0,
  "metadata": {
    "colab": {
      "provenance": [],
      "collapsed_sections": [
        "YRcvO8FLYHxf",
        "oRt1-xBNaYfZ",
        "MfgyMtb97gOT",
        "GOT-T7qtTZcO",
        "aTGbhC7_XTR3",
        "90nN17c30Ynx",
        "fXRoBTc2E-mI",
        "o6VWnU8j8LTe",
        "dehAHSbw8qFk",
        "SQ7lq1rtSBSm"
      ]
    },
    "kernelspec": {
      "name": "python3",
      "display_name": "Python 3"
    },
    "language_info": {
      "name": "python"
    }
  },
  "cells": [
    {
      "cell_type": "markdown",
      "source": [
        "# <font color='#3d59c6'>  OPTIMIZACIÓN </font>"
      ],
      "metadata": {
        "id": "5HRnjK7LX9b7"
      }
    },
    {
      "cell_type": "markdown",
      "source": [
        "\n",
        "## <font color='#3d59c6'>  Introducción </font>"
      ],
      "metadata": {
        "id": "YRcvO8FLYHxf"
      }
    },
    {
      "cell_type": "markdown",
      "source": [
        "Optimización de algoritmos de Aprendizaje supervisado\n",
        "Clasificación, aplicados a índices macroeconómicos.\n",
        "\n",
        " **Estrategia**\n",
        "\n",
        "Utilizando modelado de datos de practica de Clasificación se utilizan métodos de optimización en Arboles de decisión multiclase\n",
        "* Método Grid Search\n",
        "* Metodo RandomSearchAnálisis de Componentes Principales\n",
        "* Método Bayes\n",
        "* Conclusiones\n",
        "* Optativo:Opiniones"
      ],
      "metadata": {
        "id": "6bSvbFVuXtYj"
      }
    },
    {
      "cell_type": "markdown",
      "source": [
        "\n",
        "Ahora, para ver el comportamiento del método Decision Tree multiclase, vamos a usar los umbrales de ingresos que utiliza el Banco Mundial. Esta vez, vamos a dejar los 4, ya que este modelo debería ser capaz de hacer clasificación multiclase.\n",
        "\n",
        "*   Nivel de Ingresos Bajo [0]: GNI per cápita <1006\n",
        "*   Nivel de Ingresos Mediano Bajo[1]: GNI per cápita 1005> y <3955\n",
        "*   Nivel de Ingresos Medio-Alto [2]: GNI per cápita 3956> y <12235\n",
        "*   Nivel de Ingresos Alto[3]: GNI per cápita >12235\n",
        "\n",
        "\n",
        "En este caso vamos a tomar mas registros para ver como se comporta el modelo cuando tiene que hacer más restas. Así que se van a tomar los datos de 10 años. Del 2010 al 2019.\n",
        "\n",
        "Cabe resaltar, que se toma para los umbrales un valor medio entre 2010 y 2019. Lo suyo sería que cada año tuviera los umbrales estipulados por el banco mundial."
      ],
      "metadata": {
        "id": "dE1OdHlQ3_e9"
      }
    },
    {
      "cell_type": "markdown",
      "source": [
        "## <font color='#3d59c6'>  Carga de Packages </font>"
      ],
      "metadata": {
        "id": "oRt1-xBNaYfZ"
      }
    },
    {
      "cell_type": "code",
      "source": [
        "# Import necessary libraries\n",
        "import numpy as np\n",
        "import pandas as pd\n",
        "import seaborn as sns\n",
        "import matplotlib.pyplot as plt\n",
        "import time\n",
        "from sklearn.metrics import accuracy_score, confusion_matrix, classification_report, ConfusionMatrixDisplay\n",
        "from sklearn.preprocessing import StandardScaler\n",
        "from sklearn.tree import DecisionTreeClassifier\n",
        "from sklearn.model_selection import train_test_split, GridSearchCV, cross_val_score\n",
        "from skopt.space import Integer, Categorical\n",
        "from skopt import BayesSearchCV\n",
        "\n",
        "\n",
        "\n",
        "\n",
        "\n",
        "\n",
        "\n",
        "\n",
        "\n",
        "\n"
      ],
      "metadata": {
        "id": "S_GllACpxTmj"
      },
      "execution_count": 52,
      "outputs": []
    },
    {
      "cell_type": "code",
      "source": [
        "#  pip install --upgrade scikit-optimize numpy\n"
      ],
      "metadata": {
        "id": "oASBRKBpIASK"
      },
      "execution_count": 53,
      "outputs": []
    },
    {
      "cell_type": "markdown",
      "source": [
        "## <font color='#3d59c6'>  Carga de Datos </font>"
      ],
      "metadata": {
        "id": "MfgyMtb97gOT"
      }
    },
    {
      "cell_type": "code",
      "source": [
        "global_indicators = pd.read_csv(\"/content/Global Economy Indicators.csv\")\n",
        "\n",
        "global_indicators.head()"
      ],
      "metadata": {
        "colab": {
          "base_uri": "https://localhost:8080/",
          "height": 0
        },
        "id": "tCWm2Hv47ftS",
        "outputId": "31eac93f-c03d-4f66-e46a-0e7bbabb7c98"
      },
      "execution_count": 54,
      "outputs": [
        {
          "output_type": "execute_result",
          "data": {
            "text/plain": [
              "    CountryID        Country    Year    AMA exchange rate   \\\n",
              "0            4   Afghanistan     1970             0.044998   \n",
              "1            4   Afghanistan     1971             0.044998   \n",
              "2            4   Afghanistan     1972             0.044998   \n",
              "3            4   Afghanistan     1973             0.044998   \n",
              "4            4   Afghanistan     1974             0.044998   \n",
              "\n",
              "    IMF based exchange rate    Population   Currency    Per capita GNI   \\\n",
              "0                   0.044998      10752971   Afghani                164   \n",
              "1                   0.044998      11015857   Afghani                168   \n",
              "2                   0.044998      11286753   Afghani                149   \n",
              "3                   0.044998      11575305   Afghani                150   \n",
              "4                   0.044998      11869879   Afghani                177   \n",
              "\n",
              "    Agriculture, hunting, forestry, fishing (ISIC A-B)   \\\n",
              "0                                       8.699174e+08      \n",
              "1                                       9.108281e+08      \n",
              "2                                       8.279453e+08      \n",
              "3                                       8.554869e+08      \n",
              "4                                       1.035913e+09      \n",
              "\n",
              "    Changes in inventories   ...  \\\n",
              "0                       NaN  ...   \n",
              "1                       NaN  ...   \n",
              "2                       NaN  ...   \n",
              "3                       NaN  ...   \n",
              "4                       NaN  ...   \n",
              "\n",
              "    Household consumption expenditure (including Non-profit institutions serving households)   \\\n",
              "0                                       1.551094e+09                                            \n",
              "1                                       1.675426e+09                                            \n",
              "2                                       1.498812e+09                                            \n",
              "3                                       1.508024e+09                                            \n",
              "4                                       1.778819e+09                                            \n",
              "\n",
              "    Imports of goods and services    Manufacturing (ISIC D)   \\\n",
              "0                      195277226.0               370146827.0   \n",
              "1                      276296480.0               387549502.0   \n",
              "2                      290370350.0               352284669.0   \n",
              "3                      262962880.0               364010279.0   \n",
              "4                      305679151.0               440760406.0   \n",
              "\n",
              "    Mining, Manufacturing, Utilities (ISIC C-E)   \\\n",
              "0                                    376690811.0   \n",
              "1                                    394401164.0   \n",
              "2                                    358512865.0   \n",
              "3                                    370445793.0   \n",
              "4                                    448552790.0   \n",
              "\n",
              "    Other Activities (ISIC J-P)    Total Value Added   \\\n",
              "0                    127747843.0         1.731454e+09   \n",
              "1                    133754097.0         1.812857e+09   \n",
              "2                    121582672.0         1.647918e+09   \n",
              "3                    125630236.0         1.702735e+09   \n",
              "4                    152119162.0         2.061752e+09   \n",
              "\n",
              "    Transport, storage and communication (ISIC I)   \\\n",
              "0                                       83917200.0   \n",
              "1                                       87860382.0   \n",
              "2                                       79864525.0   \n",
              "3                                       82528885.0   \n",
              "4                                       99918604.0   \n",
              "\n",
              "    Wholesale, retail trade, restaurants and hotels (ISIC G-H)   \\\n",
              "0                                        226387091.0              \n",
              "1                                        237019196.0              \n",
              "2                                        215477287.0              \n",
              "3                                        222624293.0              \n",
              "4                                        269525910.0              \n",
              "\n",
              "    Gross National Income(GNI) in USD    Gross Domestic Product (GDP)   \n",
              "0                         1.766528e+09                    1.731436e+09  \n",
              "1                         1.850122e+09                    1.812838e+09  \n",
              "2                         1.683948e+09                    1.647900e+09  \n",
              "3                         1.739998e+09                    1.702716e+09  \n",
              "4                         2.106420e+09                    2.061729e+09  \n",
              "\n",
              "[5 rows x 26 columns]"
            ],
            "text/html": [
              "\n",
              "  <div id=\"df-34a89a3c-b947-4873-840f-35768e28e45a\" class=\"colab-df-container\">\n",
              "    <div>\n",
              "<style scoped>\n",
              "    .dataframe tbody tr th:only-of-type {\n",
              "        vertical-align: middle;\n",
              "    }\n",
              "\n",
              "    .dataframe tbody tr th {\n",
              "        vertical-align: top;\n",
              "    }\n",
              "\n",
              "    .dataframe thead th {\n",
              "        text-align: right;\n",
              "    }\n",
              "</style>\n",
              "<table border=\"1\" class=\"dataframe\">\n",
              "  <thead>\n",
              "    <tr style=\"text-align: right;\">\n",
              "      <th></th>\n",
              "      <th>CountryID</th>\n",
              "      <th>Country</th>\n",
              "      <th>Year</th>\n",
              "      <th>AMA exchange rate</th>\n",
              "      <th>IMF based exchange rate</th>\n",
              "      <th>Population</th>\n",
              "      <th>Currency</th>\n",
              "      <th>Per capita GNI</th>\n",
              "      <th>Agriculture, hunting, forestry, fishing (ISIC A-B)</th>\n",
              "      <th>Changes in inventories</th>\n",
              "      <th>...</th>\n",
              "      <th>Household consumption expenditure (including Non-profit institutions serving households)</th>\n",
              "      <th>Imports of goods and services</th>\n",
              "      <th>Manufacturing (ISIC D)</th>\n",
              "      <th>Mining, Manufacturing, Utilities (ISIC C-E)</th>\n",
              "      <th>Other Activities (ISIC J-P)</th>\n",
              "      <th>Total Value Added</th>\n",
              "      <th>Transport, storage and communication (ISIC I)</th>\n",
              "      <th>Wholesale, retail trade, restaurants and hotels (ISIC G-H)</th>\n",
              "      <th>Gross National Income(GNI) in USD</th>\n",
              "      <th>Gross Domestic Product (GDP)</th>\n",
              "    </tr>\n",
              "  </thead>\n",
              "  <tbody>\n",
              "    <tr>\n",
              "      <th>0</th>\n",
              "      <td>4</td>\n",
              "      <td>Afghanistan</td>\n",
              "      <td>1970</td>\n",
              "      <td>0.044998</td>\n",
              "      <td>0.044998</td>\n",
              "      <td>10752971</td>\n",
              "      <td>Afghani</td>\n",
              "      <td>164</td>\n",
              "      <td>8.699174e+08</td>\n",
              "      <td>NaN</td>\n",
              "      <td>...</td>\n",
              "      <td>1.551094e+09</td>\n",
              "      <td>195277226.0</td>\n",
              "      <td>370146827.0</td>\n",
              "      <td>376690811.0</td>\n",
              "      <td>127747843.0</td>\n",
              "      <td>1.731454e+09</td>\n",
              "      <td>83917200.0</td>\n",
              "      <td>226387091.0</td>\n",
              "      <td>1.766528e+09</td>\n",
              "      <td>1.731436e+09</td>\n",
              "    </tr>\n",
              "    <tr>\n",
              "      <th>1</th>\n",
              "      <td>4</td>\n",
              "      <td>Afghanistan</td>\n",
              "      <td>1971</td>\n",
              "      <td>0.044998</td>\n",
              "      <td>0.044998</td>\n",
              "      <td>11015857</td>\n",
              "      <td>Afghani</td>\n",
              "      <td>168</td>\n",
              "      <td>9.108281e+08</td>\n",
              "      <td>NaN</td>\n",
              "      <td>...</td>\n",
              "      <td>1.675426e+09</td>\n",
              "      <td>276296480.0</td>\n",
              "      <td>387549502.0</td>\n",
              "      <td>394401164.0</td>\n",
              "      <td>133754097.0</td>\n",
              "      <td>1.812857e+09</td>\n",
              "      <td>87860382.0</td>\n",
              "      <td>237019196.0</td>\n",
              "      <td>1.850122e+09</td>\n",
              "      <td>1.812838e+09</td>\n",
              "    </tr>\n",
              "    <tr>\n",
              "      <th>2</th>\n",
              "      <td>4</td>\n",
              "      <td>Afghanistan</td>\n",
              "      <td>1972</td>\n",
              "      <td>0.044998</td>\n",
              "      <td>0.044998</td>\n",
              "      <td>11286753</td>\n",
              "      <td>Afghani</td>\n",
              "      <td>149</td>\n",
              "      <td>8.279453e+08</td>\n",
              "      <td>NaN</td>\n",
              "      <td>...</td>\n",
              "      <td>1.498812e+09</td>\n",
              "      <td>290370350.0</td>\n",
              "      <td>352284669.0</td>\n",
              "      <td>358512865.0</td>\n",
              "      <td>121582672.0</td>\n",
              "      <td>1.647918e+09</td>\n",
              "      <td>79864525.0</td>\n",
              "      <td>215477287.0</td>\n",
              "      <td>1.683948e+09</td>\n",
              "      <td>1.647900e+09</td>\n",
              "    </tr>\n",
              "    <tr>\n",
              "      <th>3</th>\n",
              "      <td>4</td>\n",
              "      <td>Afghanistan</td>\n",
              "      <td>1973</td>\n",
              "      <td>0.044998</td>\n",
              "      <td>0.044998</td>\n",
              "      <td>11575305</td>\n",
              "      <td>Afghani</td>\n",
              "      <td>150</td>\n",
              "      <td>8.554869e+08</td>\n",
              "      <td>NaN</td>\n",
              "      <td>...</td>\n",
              "      <td>1.508024e+09</td>\n",
              "      <td>262962880.0</td>\n",
              "      <td>364010279.0</td>\n",
              "      <td>370445793.0</td>\n",
              "      <td>125630236.0</td>\n",
              "      <td>1.702735e+09</td>\n",
              "      <td>82528885.0</td>\n",
              "      <td>222624293.0</td>\n",
              "      <td>1.739998e+09</td>\n",
              "      <td>1.702716e+09</td>\n",
              "    </tr>\n",
              "    <tr>\n",
              "      <th>4</th>\n",
              "      <td>4</td>\n",
              "      <td>Afghanistan</td>\n",
              "      <td>1974</td>\n",
              "      <td>0.044998</td>\n",
              "      <td>0.044998</td>\n",
              "      <td>11869879</td>\n",
              "      <td>Afghani</td>\n",
              "      <td>177</td>\n",
              "      <td>1.035913e+09</td>\n",
              "      <td>NaN</td>\n",
              "      <td>...</td>\n",
              "      <td>1.778819e+09</td>\n",
              "      <td>305679151.0</td>\n",
              "      <td>440760406.0</td>\n",
              "      <td>448552790.0</td>\n",
              "      <td>152119162.0</td>\n",
              "      <td>2.061752e+09</td>\n",
              "      <td>99918604.0</td>\n",
              "      <td>269525910.0</td>\n",
              "      <td>2.106420e+09</td>\n",
              "      <td>2.061729e+09</td>\n",
              "    </tr>\n",
              "  </tbody>\n",
              "</table>\n",
              "<p>5 rows × 26 columns</p>\n",
              "</div>\n",
              "    <div class=\"colab-df-buttons\">\n",
              "\n",
              "  <div class=\"colab-df-container\">\n",
              "    <button class=\"colab-df-convert\" onclick=\"convertToInteractive('df-34a89a3c-b947-4873-840f-35768e28e45a')\"\n",
              "            title=\"Convert this dataframe to an interactive table.\"\n",
              "            style=\"display:none;\">\n",
              "\n",
              "  <svg xmlns=\"http://www.w3.org/2000/svg\" height=\"24px\" viewBox=\"0 -960 960 960\">\n",
              "    <path d=\"M120-120v-720h720v720H120Zm60-500h600v-160H180v160Zm220 220h160v-160H400v160Zm0 220h160v-160H400v160ZM180-400h160v-160H180v160Zm440 0h160v-160H620v160ZM180-180h160v-160H180v160Zm440 0h160v-160H620v160Z\"/>\n",
              "  </svg>\n",
              "    </button>\n",
              "\n",
              "  <style>\n",
              "    .colab-df-container {\n",
              "      display:flex;\n",
              "      gap: 12px;\n",
              "    }\n",
              "\n",
              "    .colab-df-convert {\n",
              "      background-color: #E8F0FE;\n",
              "      border: none;\n",
              "      border-radius: 50%;\n",
              "      cursor: pointer;\n",
              "      display: none;\n",
              "      fill: #1967D2;\n",
              "      height: 32px;\n",
              "      padding: 0 0 0 0;\n",
              "      width: 32px;\n",
              "    }\n",
              "\n",
              "    .colab-df-convert:hover {\n",
              "      background-color: #E2EBFA;\n",
              "      box-shadow: 0px 1px 2px rgba(60, 64, 67, 0.3), 0px 1px 3px 1px rgba(60, 64, 67, 0.15);\n",
              "      fill: #174EA6;\n",
              "    }\n",
              "\n",
              "    .colab-df-buttons div {\n",
              "      margin-bottom: 4px;\n",
              "    }\n",
              "\n",
              "    [theme=dark] .colab-df-convert {\n",
              "      background-color: #3B4455;\n",
              "      fill: #D2E3FC;\n",
              "    }\n",
              "\n",
              "    [theme=dark] .colab-df-convert:hover {\n",
              "      background-color: #434B5C;\n",
              "      box-shadow: 0px 1px 3px 1px rgba(0, 0, 0, 0.15);\n",
              "      filter: drop-shadow(0px 1px 2px rgba(0, 0, 0, 0.3));\n",
              "      fill: #FFFFFF;\n",
              "    }\n",
              "  </style>\n",
              "\n",
              "    <script>\n",
              "      const buttonEl =\n",
              "        document.querySelector('#df-34a89a3c-b947-4873-840f-35768e28e45a button.colab-df-convert');\n",
              "      buttonEl.style.display =\n",
              "        google.colab.kernel.accessAllowed ? 'block' : 'none';\n",
              "\n",
              "      async function convertToInteractive(key) {\n",
              "        const element = document.querySelector('#df-34a89a3c-b947-4873-840f-35768e28e45a');\n",
              "        const dataTable =\n",
              "          await google.colab.kernel.invokeFunction('convertToInteractive',\n",
              "                                                    [key], {});\n",
              "        if (!dataTable) return;\n",
              "\n",
              "        const docLinkHtml = 'Like what you see? Visit the ' +\n",
              "          '<a target=\"_blank\" href=https://colab.research.google.com/notebooks/data_table.ipynb>data table notebook</a>'\n",
              "          + ' to learn more about interactive tables.';\n",
              "        element.innerHTML = '';\n",
              "        dataTable['output_type'] = 'display_data';\n",
              "        await google.colab.output.renderOutput(dataTable, element);\n",
              "        const docLink = document.createElement('div');\n",
              "        docLink.innerHTML = docLinkHtml;\n",
              "        element.appendChild(docLink);\n",
              "      }\n",
              "    </script>\n",
              "  </div>\n",
              "\n",
              "\n",
              "<div id=\"df-a3a87a78-e205-461c-a459-b7542e9f29eb\">\n",
              "  <button class=\"colab-df-quickchart\" onclick=\"quickchart('df-a3a87a78-e205-461c-a459-b7542e9f29eb')\"\n",
              "            title=\"Suggest charts\"\n",
              "            style=\"display:none;\">\n",
              "\n",
              "<svg xmlns=\"http://www.w3.org/2000/svg\" height=\"24px\"viewBox=\"0 0 24 24\"\n",
              "     width=\"24px\">\n",
              "    <g>\n",
              "        <path d=\"M19 3H5c-1.1 0-2 .9-2 2v14c0 1.1.9 2 2 2h14c1.1 0 2-.9 2-2V5c0-1.1-.9-2-2-2zM9 17H7v-7h2v7zm4 0h-2V7h2v10zm4 0h-2v-4h2v4z\"/>\n",
              "    </g>\n",
              "</svg>\n",
              "  </button>\n",
              "\n",
              "<style>\n",
              "  .colab-df-quickchart {\n",
              "      --bg-color: #E8F0FE;\n",
              "      --fill-color: #1967D2;\n",
              "      --hover-bg-color: #E2EBFA;\n",
              "      --hover-fill-color: #174EA6;\n",
              "      --disabled-fill-color: #AAA;\n",
              "      --disabled-bg-color: #DDD;\n",
              "  }\n",
              "\n",
              "  [theme=dark] .colab-df-quickchart {\n",
              "      --bg-color: #3B4455;\n",
              "      --fill-color: #D2E3FC;\n",
              "      --hover-bg-color: #434B5C;\n",
              "      --hover-fill-color: #FFFFFF;\n",
              "      --disabled-bg-color: #3B4455;\n",
              "      --disabled-fill-color: #666;\n",
              "  }\n",
              "\n",
              "  .colab-df-quickchart {\n",
              "    background-color: var(--bg-color);\n",
              "    border: none;\n",
              "    border-radius: 50%;\n",
              "    cursor: pointer;\n",
              "    display: none;\n",
              "    fill: var(--fill-color);\n",
              "    height: 32px;\n",
              "    padding: 0;\n",
              "    width: 32px;\n",
              "  }\n",
              "\n",
              "  .colab-df-quickchart:hover {\n",
              "    background-color: var(--hover-bg-color);\n",
              "    box-shadow: 0 1px 2px rgba(60, 64, 67, 0.3), 0 1px 3px 1px rgba(60, 64, 67, 0.15);\n",
              "    fill: var(--button-hover-fill-color);\n",
              "  }\n",
              "\n",
              "  .colab-df-quickchart-complete:disabled,\n",
              "  .colab-df-quickchart-complete:disabled:hover {\n",
              "    background-color: var(--disabled-bg-color);\n",
              "    fill: var(--disabled-fill-color);\n",
              "    box-shadow: none;\n",
              "  }\n",
              "\n",
              "  .colab-df-spinner {\n",
              "    border: 2px solid var(--fill-color);\n",
              "    border-color: transparent;\n",
              "    border-bottom-color: var(--fill-color);\n",
              "    animation:\n",
              "      spin 1s steps(1) infinite;\n",
              "  }\n",
              "\n",
              "  @keyframes spin {\n",
              "    0% {\n",
              "      border-color: transparent;\n",
              "      border-bottom-color: var(--fill-color);\n",
              "      border-left-color: var(--fill-color);\n",
              "    }\n",
              "    20% {\n",
              "      border-color: transparent;\n",
              "      border-left-color: var(--fill-color);\n",
              "      border-top-color: var(--fill-color);\n",
              "    }\n",
              "    30% {\n",
              "      border-color: transparent;\n",
              "      border-left-color: var(--fill-color);\n",
              "      border-top-color: var(--fill-color);\n",
              "      border-right-color: var(--fill-color);\n",
              "    }\n",
              "    40% {\n",
              "      border-color: transparent;\n",
              "      border-right-color: var(--fill-color);\n",
              "      border-top-color: var(--fill-color);\n",
              "    }\n",
              "    60% {\n",
              "      border-color: transparent;\n",
              "      border-right-color: var(--fill-color);\n",
              "    }\n",
              "    80% {\n",
              "      border-color: transparent;\n",
              "      border-right-color: var(--fill-color);\n",
              "      border-bottom-color: var(--fill-color);\n",
              "    }\n",
              "    90% {\n",
              "      border-color: transparent;\n",
              "      border-bottom-color: var(--fill-color);\n",
              "    }\n",
              "  }\n",
              "</style>\n",
              "\n",
              "  <script>\n",
              "    async function quickchart(key) {\n",
              "      const quickchartButtonEl =\n",
              "        document.querySelector('#' + key + ' button');\n",
              "      quickchartButtonEl.disabled = true;  // To prevent multiple clicks.\n",
              "      quickchartButtonEl.classList.add('colab-df-spinner');\n",
              "      try {\n",
              "        const charts = await google.colab.kernel.invokeFunction(\n",
              "            'suggestCharts', [key], {});\n",
              "      } catch (error) {\n",
              "        console.error('Error during call to suggestCharts:', error);\n",
              "      }\n",
              "      quickchartButtonEl.classList.remove('colab-df-spinner');\n",
              "      quickchartButtonEl.classList.add('colab-df-quickchart-complete');\n",
              "    }\n",
              "    (() => {\n",
              "      let quickchartButtonEl =\n",
              "        document.querySelector('#df-a3a87a78-e205-461c-a459-b7542e9f29eb button');\n",
              "      quickchartButtonEl.style.display =\n",
              "        google.colab.kernel.accessAllowed ? 'block' : 'none';\n",
              "    })();\n",
              "  </script>\n",
              "</div>\n",
              "    </div>\n",
              "  </div>\n"
            ],
            "application/vnd.google.colaboratory.intrinsic+json": {
              "type": "dataframe",
              "variable_name": "global_indicators"
            }
          },
          "metadata": {},
          "execution_count": 54
        }
      ]
    },
    {
      "cell_type": "markdown",
      "source": [
        "## <font color='#3d59c6'>  Limpieza de Datos </font>"
      ],
      "metadata": {
        "id": "GOT-T7qtTZcO"
      }
    },
    {
      "cell_type": "code",
      "source": [
        "global_indicators.columns"
      ],
      "metadata": {
        "colab": {
          "base_uri": "https://localhost:8080/"
        },
        "id": "7iRk72n8StTL",
        "outputId": "20aba479-50e6-428e-e9f4-5d0e37532d44"
      },
      "execution_count": 55,
      "outputs": [
        {
          "output_type": "execute_result",
          "data": {
            "text/plain": [
              "Index([' CountryID ', ' Country ', ' Year ', ' AMA exchange rate ',\n",
              "       ' IMF based exchange rate ', ' Population ', ' Currency ',\n",
              "       ' Per capita GNI ',\n",
              "       ' Agriculture, hunting, forestry, fishing (ISIC A-B) ',\n",
              "       ' Changes in inventories ', ' Construction (ISIC F) ',\n",
              "       ' Exports of goods and services ', ' Final consumption expenditure ',\n",
              "       ' General government final consumption expenditure ',\n",
              "       ' Gross capital formation ',\n",
              "       ' Gross fixed capital formation (including Acquisitions less disposals of valuables) ',\n",
              "       ' Household consumption expenditure (including Non-profit institutions serving households) ',\n",
              "       ' Imports of goods and services ', ' Manufacturing (ISIC D) ',\n",
              "       ' Mining, Manufacturing, Utilities (ISIC C-E) ',\n",
              "       ' Other Activities (ISIC J-P) ', ' Total Value Added ',\n",
              "       ' Transport, storage and communication (ISIC I) ',\n",
              "       ' Wholesale, retail trade, restaurants and hotels (ISIC G-H) ',\n",
              "       ' Gross National Income(GNI) in USD ',\n",
              "       ' Gross Domestic Product (GDP) '],\n",
              "      dtype='object')"
            ]
          },
          "metadata": {},
          "execution_count": 55
        }
      ]
    },
    {
      "cell_type": "code",
      "source": [
        "\n",
        "datos_optativo = global_indicators.copy()\n",
        "\n",
        "# Eliminar las columnas especificadas\n",
        "columnas_a_eliminar = [ ' AMA exchange rate ', ' IMF based exchange rate ', ' Currency ', ' Changes in inventories ',' Gross National Income(GNI) in USD ']\n",
        "datos_optativo = datos_optativo.drop(columnas_a_eliminar, axis=1)\n",
        "\n",
        "\n",
        "# Cambiar los nombres de las columnas a versiones más cortas\n",
        "nuevos_nombres = {\n",
        "    ' CountryID ': 'CountryID',\n",
        "    ' Country ': 'Country',\n",
        "    ' Year ': 'Year',\n",
        "    ' Population ': 'Population',\n",
        "    ' Per capita GNI ': 'pcGNI',\n",
        "    ' Agriculture, hunting, forestry, fishing (ISIC A-B) ': 'Agriculture',\n",
        "    ' Construction (ISIC F) ': 'Construction',\n",
        "    ' Exports of goods and services ': 'Exports',\n",
        "    ' Final consumption expenditure ': 'FinalConsumption',\n",
        "    ' General government final consumption expenditure ': 'GovtConsumption',\n",
        "    ' Gross capital formation ': 'GrossCapFormation',\n",
        "    ' Gross fixed capital formation (including Acquisitions less disposals of valuables) ': 'GrossFixedCapFormation',\n",
        "    ' Household consumption expenditure (including Non-profit institutions serving households) ': 'HouseholdConsumption',\n",
        "    ' Imports of goods and services ': 'Imports',\n",
        "    ' Manufacturing (ISIC D) ': 'Manufacturing',\n",
        "    ' Mining, Manufacturing, Utilities (ISIC C-E) ': 'Mining',\n",
        "    ' Other Activities (ISIC J-P) ': 'OtherActivities',\n",
        "    ' Total Value Added ': 'TotalValueAdded',\n",
        "    ' Transport, storage and communication (ISIC I) ': 'Transport',\n",
        "    ' Wholesale, retail trade, restaurants and hotels (ISIC G-H) ': 'Wholesale',\n",
        "    ' Gross Domestic Product (GDP) ': 'GDP'\n",
        "\n",
        "}\n",
        "\n",
        "datos_optativo = datos_optativo.rename(columns=nuevos_nombres)"
      ],
      "metadata": {
        "id": "MpcyKbPOTDIu"
      },
      "execution_count": 56,
      "outputs": []
    },
    {
      "cell_type": "code",
      "source": [
        "datos_optativo = datos_optativo[~datos_optativo['Country'].isin([' D.P.R. of Korea ', ' China, Macao SAR ', ' Sint Maarten (Dutch part) ', ' Monaco ',  ' Venezuela (Bolivarian Republic of) ', ' Tuvalu ' ])]\n"
      ],
      "metadata": {
        "id": "0o0jTth8Te8c"
      },
      "execution_count": 57,
      "outputs": []
    },
    {
      "cell_type": "code",
      "source": [
        "def categorizar_ingresos(gni_per_capita):\n",
        "    if gni_per_capita < 1006:\n",
        "        return 0  # Nivel de Ingresos Bajo\n",
        "    elif 1005 < gni_per_capita < 3955:\n",
        "        return 1  # Nivel de Ingresos Mediano Bajo\n",
        "    elif 3956 < gni_per_capita < 12235:\n",
        "        return 2  # Nivel de Ingresos Medio-Alto\n",
        "    else:\n",
        "        return 3  # Nivel de Ingresos Alto\n",
        "\n",
        "datos_optativo['ingresos'] = datos_optativo['pcGNI'].apply(categorizar_ingresos)\n"
      ],
      "metadata": {
        "id": "tLK9-o9xUEA-"
      },
      "execution_count": 58,
      "outputs": []
    },
    {
      "cell_type": "code",
      "source": [
        "datos_optativo = datos_optativo.drop('pcGNI',axis=1)"
      ],
      "metadata": {
        "id": "hyefIRuVTu27"
      },
      "execution_count": 59,
      "outputs": []
    },
    {
      "cell_type": "code",
      "source": [
        "# Filtrar los datos desde 2010 hasta 2019\n",
        "datos_filtrados_optativo = datos_optativo[(datos_optativo['Year'] >= 2010) & (datos_optativo['Year'] <= 2019)].copy()\n"
      ],
      "metadata": {
        "id": "qhMUkr52UaQV"
      },
      "execution_count": 60,
      "outputs": []
    },
    {
      "cell_type": "code",
      "source": [
        "indices_optativo = datos_filtrados_optativo.drop(['Country', 'Year'], axis=1).copy()"
      ],
      "metadata": {
        "id": "-0e6qq4CU4XY"
      },
      "execution_count": 61,
      "outputs": []
    },
    {
      "cell_type": "code",
      "source": [
        "indices_optativo.isnull().sum()"
      ],
      "metadata": {
        "colab": {
          "base_uri": "https://localhost:8080/"
        },
        "id": "uQkW5yHxVFds",
        "outputId": "afe3e0fd-a77e-4d65-82d7-628c55248be7"
      },
      "execution_count": 62,
      "outputs": [
        {
          "output_type": "execute_result",
          "data": {
            "text/plain": [
              "CountryID                 0\n",
              "Population                0\n",
              "Agriculture               0\n",
              "Construction              0\n",
              "Exports                   0\n",
              "FinalConsumption          0\n",
              "GovtConsumption           0\n",
              "GrossCapFormation         0\n",
              "GrossFixedCapFormation    0\n",
              "HouseholdConsumption      0\n",
              "Imports                   0\n",
              "Manufacturing             0\n",
              "Mining                    0\n",
              "OtherActivities           0\n",
              "TotalValueAdded           0\n",
              "Transport                 0\n",
              "Wholesale                 0\n",
              "GDP                       0\n",
              "ingresos                  0\n",
              "dtype: int64"
            ]
          },
          "metadata": {},
          "execution_count": 62
        }
      ]
    },
    {
      "cell_type": "code",
      "source": [
        "from sklearn.preprocessing import StandardScaler\n",
        "\n",
        "# Escalar todas las variables Excepto Country ID e ingresos\n",
        "variables_escalar = indices_optativo.drop(columns=['CountryID', 'ingresos'])\n",
        "\n",
        "\n",
        "scaler_optativo = StandardScaler()\n",
        "\n",
        "# Aplica el escalado a las variables seleccionadas\n",
        "indices_scaled_optativo = variables_escalar.apply(lambda x: scaler_optativo.fit_transform(x.values.reshape(-1, 1))[:, 0] if x.name not in ['CountryID', 'ingresos'] else x)\n",
        "\n",
        "# Agrega las columnas 'countryID' e 'ingresos' al DataFrame escalado\n",
        "indices_scaled_optativo[['CountryID', 'ingresos']] = indices_optativo[['CountryID', 'ingresos']]\n",
        "\n",
        "indices_scaled_optativo.head()"
      ],
      "metadata": {
        "colab": {
          "base_uri": "https://localhost:8080/",
          "height": 0
        },
        "id": "NE1kT5lwVSgq",
        "outputId": "9ebc8bbb-c0bb-4586-818f-c6005b9745b2"
      },
      "execution_count": 63,
      "outputs": [
        {
          "output_type": "execute_result",
          "data": {
            "text/plain": [
              "    Population  Agriculture  Construction   Exports  FinalConsumption  \\\n",
              "40   -0.052383    -0.153898     -0.250252 -0.358211         -0.216325   \n",
              "41   -0.044670    -0.144903     -0.249925 -0.360218         -0.214566   \n",
              "42   -0.035808    -0.140787     -0.249635 -0.360357         -0.214040   \n",
              "43   -0.027984    -0.140708     -0.249695 -0.358995         -0.214273   \n",
              "44   -0.019430    -0.142101     -0.249504 -0.357918         -0.214306   \n",
              "\n",
              "    GovtConsumption  GrossCapFormation  GrossFixedCapFormation  \\\n",
              "40        -0.242897          -0.214245               -0.212348   \n",
              "41        -0.241108          -0.213928               -0.212022   \n",
              "42        -0.239627          -0.213474               -0.211557   \n",
              "43        -0.239013          -0.213346               -0.211426   \n",
              "44        -0.237777          -0.213265               -0.211342   \n",
              "\n",
              "    HouseholdConsumption   Imports  Manufacturing    Mining  OtherActivities  \\\n",
              "40             -0.207678 -0.333718      -0.210530 -0.235264        -0.196648   \n",
              "41             -0.205940 -0.331562      -0.210028 -0.234372        -0.195164   \n",
              "42             -0.205667 -0.327381      -0.210159 -0.234377        -0.194435   \n",
              "43             -0.206119 -0.327312      -0.210677 -0.234789        -0.194076   \n",
              "44             -0.206484 -0.329557      -0.210962 -0.234957        -0.193273   \n",
              "\n",
              "    TotalValueAdded  Transport  Wholesale       GDP  CountryID  ingresos  \n",
              "40        -0.220675  -0.208774  -0.225943 -0.229450          4         0  \n",
              "41        -0.219015  -0.207484  -0.224663 -0.227757          4         0  \n",
              "42        -0.218046  -0.205534  -0.223075 -0.226617          4         0  \n",
              "43        -0.217835  -0.204654  -0.222795 -0.226307          4         0  \n",
              "44        -0.217669  -0.205886  -0.223006 -0.226353          4         0  "
            ],
            "text/html": [
              "\n",
              "  <div id=\"df-e5e78fc7-be9b-4652-bd99-0ae89ed90396\" class=\"colab-df-container\">\n",
              "    <div>\n",
              "<style scoped>\n",
              "    .dataframe tbody tr th:only-of-type {\n",
              "        vertical-align: middle;\n",
              "    }\n",
              "\n",
              "    .dataframe tbody tr th {\n",
              "        vertical-align: top;\n",
              "    }\n",
              "\n",
              "    .dataframe thead th {\n",
              "        text-align: right;\n",
              "    }\n",
              "</style>\n",
              "<table border=\"1\" class=\"dataframe\">\n",
              "  <thead>\n",
              "    <tr style=\"text-align: right;\">\n",
              "      <th></th>\n",
              "      <th>Population</th>\n",
              "      <th>Agriculture</th>\n",
              "      <th>Construction</th>\n",
              "      <th>Exports</th>\n",
              "      <th>FinalConsumption</th>\n",
              "      <th>GovtConsumption</th>\n",
              "      <th>GrossCapFormation</th>\n",
              "      <th>GrossFixedCapFormation</th>\n",
              "      <th>HouseholdConsumption</th>\n",
              "      <th>Imports</th>\n",
              "      <th>Manufacturing</th>\n",
              "      <th>Mining</th>\n",
              "      <th>OtherActivities</th>\n",
              "      <th>TotalValueAdded</th>\n",
              "      <th>Transport</th>\n",
              "      <th>Wholesale</th>\n",
              "      <th>GDP</th>\n",
              "      <th>CountryID</th>\n",
              "      <th>ingresos</th>\n",
              "    </tr>\n",
              "  </thead>\n",
              "  <tbody>\n",
              "    <tr>\n",
              "      <th>40</th>\n",
              "      <td>-0.052383</td>\n",
              "      <td>-0.153898</td>\n",
              "      <td>-0.250252</td>\n",
              "      <td>-0.358211</td>\n",
              "      <td>-0.216325</td>\n",
              "      <td>-0.242897</td>\n",
              "      <td>-0.214245</td>\n",
              "      <td>-0.212348</td>\n",
              "      <td>-0.207678</td>\n",
              "      <td>-0.333718</td>\n",
              "      <td>-0.210530</td>\n",
              "      <td>-0.235264</td>\n",
              "      <td>-0.196648</td>\n",
              "      <td>-0.220675</td>\n",
              "      <td>-0.208774</td>\n",
              "      <td>-0.225943</td>\n",
              "      <td>-0.229450</td>\n",
              "      <td>4</td>\n",
              "      <td>0</td>\n",
              "    </tr>\n",
              "    <tr>\n",
              "      <th>41</th>\n",
              "      <td>-0.044670</td>\n",
              "      <td>-0.144903</td>\n",
              "      <td>-0.249925</td>\n",
              "      <td>-0.360218</td>\n",
              "      <td>-0.214566</td>\n",
              "      <td>-0.241108</td>\n",
              "      <td>-0.213928</td>\n",
              "      <td>-0.212022</td>\n",
              "      <td>-0.205940</td>\n",
              "      <td>-0.331562</td>\n",
              "      <td>-0.210028</td>\n",
              "      <td>-0.234372</td>\n",
              "      <td>-0.195164</td>\n",
              "      <td>-0.219015</td>\n",
              "      <td>-0.207484</td>\n",
              "      <td>-0.224663</td>\n",
              "      <td>-0.227757</td>\n",
              "      <td>4</td>\n",
              "      <td>0</td>\n",
              "    </tr>\n",
              "    <tr>\n",
              "      <th>42</th>\n",
              "      <td>-0.035808</td>\n",
              "      <td>-0.140787</td>\n",
              "      <td>-0.249635</td>\n",
              "      <td>-0.360357</td>\n",
              "      <td>-0.214040</td>\n",
              "      <td>-0.239627</td>\n",
              "      <td>-0.213474</td>\n",
              "      <td>-0.211557</td>\n",
              "      <td>-0.205667</td>\n",
              "      <td>-0.327381</td>\n",
              "      <td>-0.210159</td>\n",
              "      <td>-0.234377</td>\n",
              "      <td>-0.194435</td>\n",
              "      <td>-0.218046</td>\n",
              "      <td>-0.205534</td>\n",
              "      <td>-0.223075</td>\n",
              "      <td>-0.226617</td>\n",
              "      <td>4</td>\n",
              "      <td>0</td>\n",
              "    </tr>\n",
              "    <tr>\n",
              "      <th>43</th>\n",
              "      <td>-0.027984</td>\n",
              "      <td>-0.140708</td>\n",
              "      <td>-0.249695</td>\n",
              "      <td>-0.358995</td>\n",
              "      <td>-0.214273</td>\n",
              "      <td>-0.239013</td>\n",
              "      <td>-0.213346</td>\n",
              "      <td>-0.211426</td>\n",
              "      <td>-0.206119</td>\n",
              "      <td>-0.327312</td>\n",
              "      <td>-0.210677</td>\n",
              "      <td>-0.234789</td>\n",
              "      <td>-0.194076</td>\n",
              "      <td>-0.217835</td>\n",
              "      <td>-0.204654</td>\n",
              "      <td>-0.222795</td>\n",
              "      <td>-0.226307</td>\n",
              "      <td>4</td>\n",
              "      <td>0</td>\n",
              "    </tr>\n",
              "    <tr>\n",
              "      <th>44</th>\n",
              "      <td>-0.019430</td>\n",
              "      <td>-0.142101</td>\n",
              "      <td>-0.249504</td>\n",
              "      <td>-0.357918</td>\n",
              "      <td>-0.214306</td>\n",
              "      <td>-0.237777</td>\n",
              "      <td>-0.213265</td>\n",
              "      <td>-0.211342</td>\n",
              "      <td>-0.206484</td>\n",
              "      <td>-0.329557</td>\n",
              "      <td>-0.210962</td>\n",
              "      <td>-0.234957</td>\n",
              "      <td>-0.193273</td>\n",
              "      <td>-0.217669</td>\n",
              "      <td>-0.205886</td>\n",
              "      <td>-0.223006</td>\n",
              "      <td>-0.226353</td>\n",
              "      <td>4</td>\n",
              "      <td>0</td>\n",
              "    </tr>\n",
              "  </tbody>\n",
              "</table>\n",
              "</div>\n",
              "    <div class=\"colab-df-buttons\">\n",
              "\n",
              "  <div class=\"colab-df-container\">\n",
              "    <button class=\"colab-df-convert\" onclick=\"convertToInteractive('df-e5e78fc7-be9b-4652-bd99-0ae89ed90396')\"\n",
              "            title=\"Convert this dataframe to an interactive table.\"\n",
              "            style=\"display:none;\">\n",
              "\n",
              "  <svg xmlns=\"http://www.w3.org/2000/svg\" height=\"24px\" viewBox=\"0 -960 960 960\">\n",
              "    <path d=\"M120-120v-720h720v720H120Zm60-500h600v-160H180v160Zm220 220h160v-160H400v160Zm0 220h160v-160H400v160ZM180-400h160v-160H180v160Zm440 0h160v-160H620v160ZM180-180h160v-160H180v160Zm440 0h160v-160H620v160Z\"/>\n",
              "  </svg>\n",
              "    </button>\n",
              "\n",
              "  <style>\n",
              "    .colab-df-container {\n",
              "      display:flex;\n",
              "      gap: 12px;\n",
              "    }\n",
              "\n",
              "    .colab-df-convert {\n",
              "      background-color: #E8F0FE;\n",
              "      border: none;\n",
              "      border-radius: 50%;\n",
              "      cursor: pointer;\n",
              "      display: none;\n",
              "      fill: #1967D2;\n",
              "      height: 32px;\n",
              "      padding: 0 0 0 0;\n",
              "      width: 32px;\n",
              "    }\n",
              "\n",
              "    .colab-df-convert:hover {\n",
              "      background-color: #E2EBFA;\n",
              "      box-shadow: 0px 1px 2px rgba(60, 64, 67, 0.3), 0px 1px 3px 1px rgba(60, 64, 67, 0.15);\n",
              "      fill: #174EA6;\n",
              "    }\n",
              "\n",
              "    .colab-df-buttons div {\n",
              "      margin-bottom: 4px;\n",
              "    }\n",
              "\n",
              "    [theme=dark] .colab-df-convert {\n",
              "      background-color: #3B4455;\n",
              "      fill: #D2E3FC;\n",
              "    }\n",
              "\n",
              "    [theme=dark] .colab-df-convert:hover {\n",
              "      background-color: #434B5C;\n",
              "      box-shadow: 0px 1px 3px 1px rgba(0, 0, 0, 0.15);\n",
              "      filter: drop-shadow(0px 1px 2px rgba(0, 0, 0, 0.3));\n",
              "      fill: #FFFFFF;\n",
              "    }\n",
              "  </style>\n",
              "\n",
              "    <script>\n",
              "      const buttonEl =\n",
              "        document.querySelector('#df-e5e78fc7-be9b-4652-bd99-0ae89ed90396 button.colab-df-convert');\n",
              "      buttonEl.style.display =\n",
              "        google.colab.kernel.accessAllowed ? 'block' : 'none';\n",
              "\n",
              "      async function convertToInteractive(key) {\n",
              "        const element = document.querySelector('#df-e5e78fc7-be9b-4652-bd99-0ae89ed90396');\n",
              "        const dataTable =\n",
              "          await google.colab.kernel.invokeFunction('convertToInteractive',\n",
              "                                                    [key], {});\n",
              "        if (!dataTable) return;\n",
              "\n",
              "        const docLinkHtml = 'Like what you see? Visit the ' +\n",
              "          '<a target=\"_blank\" href=https://colab.research.google.com/notebooks/data_table.ipynb>data table notebook</a>'\n",
              "          + ' to learn more about interactive tables.';\n",
              "        element.innerHTML = '';\n",
              "        dataTable['output_type'] = 'display_data';\n",
              "        await google.colab.output.renderOutput(dataTable, element);\n",
              "        const docLink = document.createElement('div');\n",
              "        docLink.innerHTML = docLinkHtml;\n",
              "        element.appendChild(docLink);\n",
              "      }\n",
              "    </script>\n",
              "  </div>\n",
              "\n",
              "\n",
              "<div id=\"df-37c99f36-f12e-4dfc-bc35-9b76ba02ceef\">\n",
              "  <button class=\"colab-df-quickchart\" onclick=\"quickchart('df-37c99f36-f12e-4dfc-bc35-9b76ba02ceef')\"\n",
              "            title=\"Suggest charts\"\n",
              "            style=\"display:none;\">\n",
              "\n",
              "<svg xmlns=\"http://www.w3.org/2000/svg\" height=\"24px\"viewBox=\"0 0 24 24\"\n",
              "     width=\"24px\">\n",
              "    <g>\n",
              "        <path d=\"M19 3H5c-1.1 0-2 .9-2 2v14c0 1.1.9 2 2 2h14c1.1 0 2-.9 2-2V5c0-1.1-.9-2-2-2zM9 17H7v-7h2v7zm4 0h-2V7h2v10zm4 0h-2v-4h2v4z\"/>\n",
              "    </g>\n",
              "</svg>\n",
              "  </button>\n",
              "\n",
              "<style>\n",
              "  .colab-df-quickchart {\n",
              "      --bg-color: #E8F0FE;\n",
              "      --fill-color: #1967D2;\n",
              "      --hover-bg-color: #E2EBFA;\n",
              "      --hover-fill-color: #174EA6;\n",
              "      --disabled-fill-color: #AAA;\n",
              "      --disabled-bg-color: #DDD;\n",
              "  }\n",
              "\n",
              "  [theme=dark] .colab-df-quickchart {\n",
              "      --bg-color: #3B4455;\n",
              "      --fill-color: #D2E3FC;\n",
              "      --hover-bg-color: #434B5C;\n",
              "      --hover-fill-color: #FFFFFF;\n",
              "      --disabled-bg-color: #3B4455;\n",
              "      --disabled-fill-color: #666;\n",
              "  }\n",
              "\n",
              "  .colab-df-quickchart {\n",
              "    background-color: var(--bg-color);\n",
              "    border: none;\n",
              "    border-radius: 50%;\n",
              "    cursor: pointer;\n",
              "    display: none;\n",
              "    fill: var(--fill-color);\n",
              "    height: 32px;\n",
              "    padding: 0;\n",
              "    width: 32px;\n",
              "  }\n",
              "\n",
              "  .colab-df-quickchart:hover {\n",
              "    background-color: var(--hover-bg-color);\n",
              "    box-shadow: 0 1px 2px rgba(60, 64, 67, 0.3), 0 1px 3px 1px rgba(60, 64, 67, 0.15);\n",
              "    fill: var(--button-hover-fill-color);\n",
              "  }\n",
              "\n",
              "  .colab-df-quickchart-complete:disabled,\n",
              "  .colab-df-quickchart-complete:disabled:hover {\n",
              "    background-color: var(--disabled-bg-color);\n",
              "    fill: var(--disabled-fill-color);\n",
              "    box-shadow: none;\n",
              "  }\n",
              "\n",
              "  .colab-df-spinner {\n",
              "    border: 2px solid var(--fill-color);\n",
              "    border-color: transparent;\n",
              "    border-bottom-color: var(--fill-color);\n",
              "    animation:\n",
              "      spin 1s steps(1) infinite;\n",
              "  }\n",
              "\n",
              "  @keyframes spin {\n",
              "    0% {\n",
              "      border-color: transparent;\n",
              "      border-bottom-color: var(--fill-color);\n",
              "      border-left-color: var(--fill-color);\n",
              "    }\n",
              "    20% {\n",
              "      border-color: transparent;\n",
              "      border-left-color: var(--fill-color);\n",
              "      border-top-color: var(--fill-color);\n",
              "    }\n",
              "    30% {\n",
              "      border-color: transparent;\n",
              "      border-left-color: var(--fill-color);\n",
              "      border-top-color: var(--fill-color);\n",
              "      border-right-color: var(--fill-color);\n",
              "    }\n",
              "    40% {\n",
              "      border-color: transparent;\n",
              "      border-right-color: var(--fill-color);\n",
              "      border-top-color: var(--fill-color);\n",
              "    }\n",
              "    60% {\n",
              "      border-color: transparent;\n",
              "      border-right-color: var(--fill-color);\n",
              "    }\n",
              "    80% {\n",
              "      border-color: transparent;\n",
              "      border-right-color: var(--fill-color);\n",
              "      border-bottom-color: var(--fill-color);\n",
              "    }\n",
              "    90% {\n",
              "      border-color: transparent;\n",
              "      border-bottom-color: var(--fill-color);\n",
              "    }\n",
              "  }\n",
              "</style>\n",
              "\n",
              "  <script>\n",
              "    async function quickchart(key) {\n",
              "      const quickchartButtonEl =\n",
              "        document.querySelector('#' + key + ' button');\n",
              "      quickchartButtonEl.disabled = true;  // To prevent multiple clicks.\n",
              "      quickchartButtonEl.classList.add('colab-df-spinner');\n",
              "      try {\n",
              "        const charts = await google.colab.kernel.invokeFunction(\n",
              "            'suggestCharts', [key], {});\n",
              "      } catch (error) {\n",
              "        console.error('Error during call to suggestCharts:', error);\n",
              "      }\n",
              "      quickchartButtonEl.classList.remove('colab-df-spinner');\n",
              "      quickchartButtonEl.classList.add('colab-df-quickchart-complete');\n",
              "    }\n",
              "    (() => {\n",
              "      let quickchartButtonEl =\n",
              "        document.querySelector('#df-37c99f36-f12e-4dfc-bc35-9b76ba02ceef button');\n",
              "      quickchartButtonEl.style.display =\n",
              "        google.colab.kernel.accessAllowed ? 'block' : 'none';\n",
              "    })();\n",
              "  </script>\n",
              "</div>\n",
              "    </div>\n",
              "  </div>\n"
            ],
            "application/vnd.google.colaboratory.intrinsic+json": {
              "type": "dataframe",
              "variable_name": "indices_scaled_optativo",
              "summary": "{\n  \"name\": \"indices_scaled_optativo\",\n  \"rows\": 2064,\n  \"fields\": [\n    {\n      \"column\": \"Population\",\n      \"properties\": {\n        \"dtype\": \"number\",\n        \"std\": 1.0002423361237562,\n        \"min\": -0.2575660013144821,\n        \"max\": 10.093290776755028,\n        \"samples\": [\n          -0.25619195326064076,\n          -0.2479343137808614,\n          -0.23579525862963172\n        ],\n        \"num_unique_values\": 2061,\n        \"semantic_type\": \"\",\n        \"description\": \"\"\n      }\n    },\n    {\n      \"column\": \"Agriculture\",\n      \"properties\": {\n        \"dtype\": \"number\",\n        \"std\": 1.0002423361237562,\n        \"min\": -0.21860407603686713,\n        \"max\": 15.01889906853134,\n        \"samples\": [\n          -0.21853493843099056,\n          -0.20645785900837935,\n          -0.19512548191703216\n        ],\n        \"num_unique_values\": 2061,\n        \"semantic_type\": \"\",\n        \"description\": \"\"\n      }\n    },\n    {\n      \"column\": \"Construction\",\n      \"properties\": {\n        \"dtype\": \"number\",\n        \"std\": 1.0002423361237562,\n        \"min\": -0.2582639472975039,\n        \"max\": 12.877359143156797,\n        \"samples\": [\n          -0.20555685504830734,\n          -0.24783701491193696,\n          -0.2398986138688374\n        ],\n        \"num_unique_values\": 2032,\n        \"semantic_type\": \"\",\n        \"description\": \"\"\n      }\n    },\n    {\n      \"column\": \"Exports\",\n      \"properties\": {\n        \"dtype\": \"number\",\n        \"std\": 1.0002423361237562,\n        \"min\": -0.36732196851228816,\n        \"max\": 8.680000475862148,\n        \"samples\": [\n          -0.3228400950794677,\n          -0.36382367131326854,\n          -0.3652412243118368\n        ],\n        \"num_unique_values\": 1965,\n        \"semantic_type\": \"\",\n        \"description\": \"\"\n      }\n    },\n    {\n      \"column\": \"FinalConsumption\",\n      \"properties\": {\n        \"dtype\": \"number\",\n        \"std\": 1.000242336123756,\n        \"min\": -0.23050391627019032,\n        \"max\": 14.354846015107132,\n        \"samples\": [\n          0.3109395798312388,\n          -0.21310243118147065,\n          11.420999021943372\n        ],\n        \"num_unique_values\": 1905,\n        \"semantic_type\": \"\",\n        \"description\": \"\"\n      }\n    },\n    {\n      \"column\": \"GovtConsumption\",\n      \"properties\": {\n        \"dtype\": \"number\",\n        \"std\": 1.0002423361237562,\n        \"min\": -0.25445811948395375,\n        \"max\": 11.869560031751409,\n        \"samples\": [\n          -0.10644815021522483,\n          -0.24992597380468834,\n          -0.12128292914928145\n        ],\n        \"num_unique_values\": 2030,\n        \"semantic_type\": \"\",\n        \"description\": \"\"\n      }\n    },\n    {\n      \"column\": \"GrossCapFormation\",\n      \"properties\": {\n        \"dtype\": \"number\",\n        \"std\": 1.0002423361237562,\n        \"min\": -0.21904631524018786,\n        \"max\": 13.852680685798854,\n        \"samples\": [\n          -0.2190284211542834,\n          -0.18612241775424715,\n          13.647752339447614\n        ],\n        \"num_unique_values\": 2015,\n        \"semantic_type\": \"\",\n        \"description\": \"\"\n      }\n    },\n    {\n      \"column\": \"GrossFixedCapFormation\",\n      \"properties\": {\n        \"dtype\": \"number\",\n        \"std\": 1.0002423361237562,\n        \"min\": -0.21727226720434928,\n        \"max\": 14.07446083854854,\n        \"samples\": [\n          -0.21710652252860824,\n          -0.18318207043601284,\n          14.07446083854854\n        ],\n        \"num_unique_values\": 2008,\n        \"semantic_type\": \"\",\n        \"description\": \"\"\n      }\n    },\n    {\n      \"column\": \"HouseholdConsumption\",\n      \"properties\": {\n        \"dtype\": \"number\",\n        \"std\": 1.0002423361237562,\n        \"min\": -0.22245712447641566,\n        \"max\": 14.905850003708432,\n        \"samples\": [\n          -0.22078259218407287,\n          -0.21589607284734325,\n          -0.21867301747255313\n        ],\n        \"num_unique_values\": 1889,\n        \"semantic_type\": \"\",\n        \"description\": \"\"\n      }\n    },\n    {\n      \"column\": \"Imports\",\n      \"properties\": {\n        \"dtype\": \"number\",\n        \"std\": 1.0002423361237562,\n        \"min\": -0.3505766533198861,\n        \"max\": 10.07612674773255,\n        \"samples\": [\n          1.6080624388431333,\n          -0.2815314152822339,\n          -0.34843118022260966\n        ],\n        \"num_unique_values\": 1964,\n        \"semantic_type\": \"\",\n        \"description\": \"\"\n      }\n    },\n    {\n      \"column\": \"Manufacturing\",\n      \"properties\": {\n        \"dtype\": \"number\",\n        \"std\": 1.000242336123756,\n        \"min\": -0.21397394624168456,\n        \"max\": 13.716224881556611,\n        \"samples\": [\n          -0.15715824159517783,\n          -0.2139276055568807,\n          11.30453617924147\n        ],\n        \"num_unique_values\": 2016,\n        \"semantic_type\": \"\",\n        \"description\": \"\"\n      }\n    },\n    {\n      \"column\": \"Mining\",\n      \"properties\": {\n        \"dtype\": \"number\",\n        \"std\": 1.0002423361237562,\n        \"min\": -0.23862790069388715,\n        \"max\": 13.065469672631927,\n        \"samples\": [\n          -0.013448070174666088,\n          -0.2382971228444038,\n          -0.23672044842739268\n        ],\n        \"num_unique_values\": 1980,\n        \"semantic_type\": \"\",\n        \"description\": \"\"\n      }\n    },\n    {\n      \"column\": \"OtherActivities\",\n      \"properties\": {\n        \"dtype\": \"number\",\n        \"std\": 1.0002423361237562,\n        \"min\": -0.20225206388044403,\n        \"max\": 15.14193322331072,\n        \"samples\": [\n          -0.1618646033154541,\n          -0.1261117480574176,\n          -0.17113036611295318\n        ],\n        \"num_unique_values\": 1950,\n        \"semantic_type\": \"\",\n        \"description\": \"\"\n      }\n    },\n    {\n      \"column\": \"TotalValueAdded\",\n      \"properties\": {\n        \"dtype\": \"number\",\n        \"std\": 1.0002423361237562,\n        \"min\": -0.22946490728459096,\n        \"max\": 13.557337661551774,\n        \"samples\": [\n          -0.2143018209445391,\n          -0.21864506742592887,\n          -0.22909929749377214\n        ],\n        \"num_unique_values\": 1873,\n        \"semantic_type\": \"\",\n        \"description\": \"\"\n      }\n    },\n    {\n      \"column\": \"Transport\",\n      \"properties\": {\n        \"dtype\": \"number\",\n        \"std\": 1.0002423361237562,\n        \"min\": -0.2201569017036825,\n        \"max\": 15.244277914778086,\n        \"samples\": [\n          -0.07086319733574659,\n          -0.2080898802659031,\n          -0.21799140592465863\n        ],\n        \"num_unique_values\": 2034,\n        \"semantic_type\": \"\",\n        \"description\": \"\"\n      }\n    },\n    {\n      \"column\": \"Wholesale\",\n      \"properties\": {\n        \"dtype\": \"number\",\n        \"std\": 1.000242336123756,\n        \"min\": -0.23215749192686386,\n        \"max\": 14.170703740423177,\n        \"samples\": [\n          -0.2318020362610078,\n          -0.1861623579508328,\n          7.107753496789905\n        ],\n        \"num_unique_values\": 2018,\n        \"semantic_type\": \"\",\n        \"description\": \"\"\n      }\n    },\n    {\n      \"column\": \"GDP\",\n      \"properties\": {\n        \"dtype\": \"number\",\n        \"std\": 1.0002423361237562,\n        \"min\": -0.23879879688485783,\n        \"max\": 13.423170871146576,\n        \"samples\": [\n          2.978759490311354,\n          1.5551019487916384,\n          -0.23764326978917252\n        ],\n        \"num_unique_values\": 1892,\n        \"semantic_type\": \"\",\n        \"description\": \"\"\n      }\n    },\n    {\n      \"column\": \"CountryID\",\n      \"properties\": {\n        \"dtype\": \"number\",\n        \"std\": 251,\n        \"min\": 4,\n        \"max\": 894,\n        \"samples\": [\n          674,\n          56,\n          304\n        ],\n        \"num_unique_values\": 208,\n        \"semantic_type\": \"\",\n        \"description\": \"\"\n      }\n    },\n    {\n      \"column\": \"ingresos\",\n      \"properties\": {\n        \"dtype\": \"number\",\n        \"std\": 1,\n        \"min\": 0,\n        \"max\": 3,\n        \"samples\": [\n          2,\n          3,\n          0\n        ],\n        \"num_unique_values\": 4,\n        \"semantic_type\": \"\",\n        \"description\": \"\"\n      }\n    }\n  ]\n}"
            }
          },
          "metadata": {},
          "execution_count": 63
        }
      ]
    },
    {
      "cell_type": "code",
      "source": [
        "# Resumen de la variable objetivo \"ingresos\"\n",
        "class_summary_opt = indices_scaled_optativo['ingresos'].value_counts(normalize=True) * 100\n",
        "print(class_summary_opt)"
      ],
      "metadata": {
        "colab": {
          "base_uri": "https://localhost:8080/"
        },
        "id": "fHY54rCDW5YB",
        "outputId": "c96d6d0e-db56-4b0c-d4b3-5437539b276c"
      },
      "execution_count": 64,
      "outputs": [
        {
          "output_type": "stream",
          "name": "stdout",
          "text": [
            "3    34.302326\n",
            "2    26.647287\n",
            "1    26.114341\n",
            "0    12.936047\n",
            "Name: ingresos, dtype: float64\n"
          ]
        }
      ]
    },
    {
      "cell_type": "code",
      "source": [
        "n = indices_scaled_optativo['ingresos'].count()\n",
        "n"
      ],
      "metadata": {
        "colab": {
          "base_uri": "https://localhost:8080/"
        },
        "id": "9HLUReExX6Cj",
        "outputId": "2aac0ec1-9c1b-434a-aece-a5f4cb3b0300"
      },
      "execution_count": 65,
      "outputs": [
        {
          "output_type": "execute_result",
          "data": {
            "text/plain": [
              "2064"
            ]
          },
          "metadata": {},
          "execution_count": 65
        }
      ]
    },
    {
      "cell_type": "markdown",
      "source": [
        "## <font color='#3d59c6'>  Variables </font>"
      ],
      "metadata": {
        "id": "aTGbhC7_XTR3"
      }
    },
    {
      "cell_type": "code",
      "source": [
        "# Seleccionar las variables de interés\n",
        "variables_tree_opt = [\n",
        "\n",
        "     'CountryID',\n",
        "     'Population',\n",
        "    'Agriculture',\n",
        "    'Construction',\n",
        "    'Exports',\n",
        "    'FinalConsumption',\n",
        "     'GovtConsumption',\n",
        "    'GrossCapFormation',\n",
        "    'GrossFixedCapFormation',\n",
        "    'HouseholdConsumption',\n",
        "    'Imports',\n",
        "    'Manufacturing',\n",
        "    'Mining',\n",
        "    'OtherActivities',\n",
        "    'TotalValueAdded',\n",
        "    'Transport',\n",
        "    'Wholesale',\n",
        "    'GDP',\n",
        "    'ingresos'\n",
        "\n",
        "]\n",
        "\n",
        "# Crear el nuevo Dataset con las variables seleccionadas\n",
        "indices_tree_opt = indices_scaled_optativo[variables_tree_opt].copy()"
      ],
      "metadata": {
        "id": "Phsrmb0JXUMr"
      },
      "execution_count": 66,
      "outputs": []
    },
    {
      "cell_type": "markdown",
      "source": [
        "## <font color='#3d59c6'>  Original </font>"
      ],
      "metadata": {
        "id": "vRSLZAR8YWf9"
      }
    },
    {
      "cell_type": "markdown",
      "source": [
        "### <font color='#3d59c6'>  Entrenamiento </font>"
      ],
      "metadata": {
        "id": "7xMRcdeGVKRK"
      }
    },
    {
      "cell_type": "code",
      "source": [
        "X_tree_opt = indices_tree_opt.drop(['ingresos', 'CountryID'], axis=1)\n",
        "y_tree_opt = indices_tree_opt['ingresos'].values\n"
      ],
      "metadata": {
        "id": "qEqcZaLCY1Yv"
      },
      "execution_count": 67,
      "outputs": []
    },
    {
      "cell_type": "code",
      "source": [
        "# Dividir en train y test\n",
        "X_train_tree_opt, X_test_tree_opt, y_train_tree_opt, y_test_tree_opt = train_test_split(X_tree_opt,y_tree_opt,test_size=0.3,random_state=0)"
      ],
      "metadata": {
        "id": "Ep-fyIgF5C7w"
      },
      "execution_count": 68,
      "outputs": []
    },
    {
      "cell_type": "code",
      "source": [
        "#Creacion del modelo\n",
        "tree_opt = DecisionTreeClassifier(max_depth=4, random_state = 0,max_leaf_nodes=50, min_samples_split=2, criterion='gini')"
      ],
      "metadata": {
        "id": "ljvTYC6F5TgM"
      },
      "execution_count": 69,
      "outputs": []
    },
    {
      "cell_type": "code",
      "source": [
        "#Entrenamiento\n",
        "tree_opt.fit(X_train_tree_opt, y_train_tree_opt)"
      ],
      "metadata": {
        "colab": {
          "base_uri": "https://localhost:8080/",
          "height": 74
        },
        "id": "B8-J51H65rZO",
        "outputId": "d8f0ca4c-101f-4b26-ec78-4957f24a084f"
      },
      "execution_count": 70,
      "outputs": [
        {
          "output_type": "execute_result",
          "data": {
            "text/plain": [
              "DecisionTreeClassifier(max_depth=4, max_leaf_nodes=50, random_state=0)"
            ],
            "text/html": [
              "<style>#sk-container-id-2 {color: black;background-color: white;}#sk-container-id-2 pre{padding: 0;}#sk-container-id-2 div.sk-toggleable {background-color: white;}#sk-container-id-2 label.sk-toggleable__label {cursor: pointer;display: block;width: 100%;margin-bottom: 0;padding: 0.3em;box-sizing: border-box;text-align: center;}#sk-container-id-2 label.sk-toggleable__label-arrow:before {content: \"▸\";float: left;margin-right: 0.25em;color: #696969;}#sk-container-id-2 label.sk-toggleable__label-arrow:hover:before {color: black;}#sk-container-id-2 div.sk-estimator:hover label.sk-toggleable__label-arrow:before {color: black;}#sk-container-id-2 div.sk-toggleable__content {max-height: 0;max-width: 0;overflow: hidden;text-align: left;background-color: #f0f8ff;}#sk-container-id-2 div.sk-toggleable__content pre {margin: 0.2em;color: black;border-radius: 0.25em;background-color: #f0f8ff;}#sk-container-id-2 input.sk-toggleable__control:checked~div.sk-toggleable__content {max-height: 200px;max-width: 100%;overflow: auto;}#sk-container-id-2 input.sk-toggleable__control:checked~label.sk-toggleable__label-arrow:before {content: \"▾\";}#sk-container-id-2 div.sk-estimator input.sk-toggleable__control:checked~label.sk-toggleable__label {background-color: #d4ebff;}#sk-container-id-2 div.sk-label input.sk-toggleable__control:checked~label.sk-toggleable__label {background-color: #d4ebff;}#sk-container-id-2 input.sk-hidden--visually {border: 0;clip: rect(1px 1px 1px 1px);clip: rect(1px, 1px, 1px, 1px);height: 1px;margin: -1px;overflow: hidden;padding: 0;position: absolute;width: 1px;}#sk-container-id-2 div.sk-estimator {font-family: monospace;background-color: #f0f8ff;border: 1px dotted black;border-radius: 0.25em;box-sizing: border-box;margin-bottom: 0.5em;}#sk-container-id-2 div.sk-estimator:hover {background-color: #d4ebff;}#sk-container-id-2 div.sk-parallel-item::after {content: \"\";width: 100%;border-bottom: 1px solid gray;flex-grow: 1;}#sk-container-id-2 div.sk-label:hover label.sk-toggleable__label {background-color: #d4ebff;}#sk-container-id-2 div.sk-serial::before {content: \"\";position: absolute;border-left: 1px solid gray;box-sizing: border-box;top: 0;bottom: 0;left: 50%;z-index: 0;}#sk-container-id-2 div.sk-serial {display: flex;flex-direction: column;align-items: center;background-color: white;padding-right: 0.2em;padding-left: 0.2em;position: relative;}#sk-container-id-2 div.sk-item {position: relative;z-index: 1;}#sk-container-id-2 div.sk-parallel {display: flex;align-items: stretch;justify-content: center;background-color: white;position: relative;}#sk-container-id-2 div.sk-item::before, #sk-container-id-2 div.sk-parallel-item::before {content: \"\";position: absolute;border-left: 1px solid gray;box-sizing: border-box;top: 0;bottom: 0;left: 50%;z-index: -1;}#sk-container-id-2 div.sk-parallel-item {display: flex;flex-direction: column;z-index: 1;position: relative;background-color: white;}#sk-container-id-2 div.sk-parallel-item:first-child::after {align-self: flex-end;width: 50%;}#sk-container-id-2 div.sk-parallel-item:last-child::after {align-self: flex-start;width: 50%;}#sk-container-id-2 div.sk-parallel-item:only-child::after {width: 0;}#sk-container-id-2 div.sk-dashed-wrapped {border: 1px dashed gray;margin: 0 0.4em 0.5em 0.4em;box-sizing: border-box;padding-bottom: 0.4em;background-color: white;}#sk-container-id-2 div.sk-label label {font-family: monospace;font-weight: bold;display: inline-block;line-height: 1.2em;}#sk-container-id-2 div.sk-label-container {text-align: center;}#sk-container-id-2 div.sk-container {/* jupyter's `normalize.less` sets `[hidden] { display: none; }` but bootstrap.min.css set `[hidden] { display: none !important; }` so we also need the `!important` here to be able to override the default hidden behavior on the sphinx rendered scikit-learn.org. See: https://github.com/scikit-learn/scikit-learn/issues/21755 */display: inline-block !important;position: relative;}#sk-container-id-2 div.sk-text-repr-fallback {display: none;}</style><div id=\"sk-container-id-2\" class=\"sk-top-container\"><div class=\"sk-text-repr-fallback\"><pre>DecisionTreeClassifier(max_depth=4, max_leaf_nodes=50, random_state=0)</pre><b>In a Jupyter environment, please rerun this cell to show the HTML representation or trust the notebook. <br />On GitHub, the HTML representation is unable to render, please try loading this page with nbviewer.org.</b></div><div class=\"sk-container\" hidden><div class=\"sk-item\"><div class=\"sk-estimator sk-toggleable\"><input class=\"sk-toggleable__control sk-hidden--visually\" id=\"sk-estimator-id-2\" type=\"checkbox\" checked><label for=\"sk-estimator-id-2\" class=\"sk-toggleable__label sk-toggleable__label-arrow\">DecisionTreeClassifier</label><div class=\"sk-toggleable__content\"><pre>DecisionTreeClassifier(max_depth=4, max_leaf_nodes=50, random_state=0)</pre></div></div></div></div></div>"
            ]
          },
          "metadata": {},
          "execution_count": 70
        }
      ]
    },
    {
      "cell_type": "code",
      "source": [
        "#Calculo de las predicciones en Train y Test\n",
        "y_train_pred_tree_opt = tree_opt.predict(X_train_tree_opt)\n",
        "y_test_pred_tree_opt = tree_opt.predict(X_test_tree_opt)"
      ],
      "metadata": {
        "id": "MxMo1Tgc58Mk"
      },
      "execution_count": 71,
      "outputs": []
    },
    {
      "cell_type": "code",
      "source": [
        "y_train_pred_tree_opt"
      ],
      "metadata": {
        "colab": {
          "base_uri": "https://localhost:8080/"
        },
        "id": "qspXUxoW6Icr",
        "outputId": "2043755b-de6d-44ba-8e39-e578521a9475"
      },
      "execution_count": 72,
      "outputs": [
        {
          "output_type": "execute_result",
          "data": {
            "text/plain": [
              "array([1, 1, 3, ..., 0, 2, 2])"
            ]
          },
          "metadata": {},
          "execution_count": 72
        }
      ]
    },
    {
      "cell_type": "markdown",
      "source": [
        "### <font color='#3d59c6'>  Evaluación </font>"
      ],
      "metadata": {
        "id": "QG8TxT5KYadu"
      }
    },
    {
      "cell_type": "code",
      "source": [
        "#Calculo de metricas\n",
        "from sklearn.metrics import accuracy_score\n",
        "\n",
        "#Calculo el accuracy en Train\n",
        "train_accuracy_tree_opt = accuracy_score(y_train_tree_opt, y_train_pred_tree_opt)\n",
        "\n",
        "#Calculo el accuracy en Test\n",
        "test_accuracy_tree_opt = accuracy_score(y_test_tree_opt, y_test_pred_tree_opt)\n",
        "\n",
        "print('El accuracy en train es:', train_accuracy_tree_opt)\n",
        "print('El accuracy en test es:', test_accuracy_tree_opt)"
      ],
      "metadata": {
        "colab": {
          "base_uri": "https://localhost:8080/"
        },
        "id": "17cY0UUM6SAv",
        "outputId": "8de0911b-4f53-4806-f56d-24c70a0b42cb"
      },
      "execution_count": 73,
      "outputs": [
        {
          "output_type": "stream",
          "name": "stdout",
          "text": [
            "El accuracy en train es: 0.7098337950138505\n",
            "El accuracy en test es: 0.65\n"
          ]
        }
      ]
    },
    {
      "cell_type": "code",
      "source": [
        "\n",
        "\n",
        "# Evaluate the model\n",
        "\n",
        "accuracy_test_tree_opt = accuracy_score(y_test_tree_opt, y_test_pred_tree_opt)\n",
        "\n",
        "conf_matrix_test_tree_opt = confusion_matrix(y_test_tree_opt, y_test_pred_tree_opt)\n",
        "\n",
        "classification_rep_test_tree_opt = classification_report(y_test_tree_opt, y_test_pred_tree_opt)\n",
        "\n",
        "# Print the results\n",
        "\n",
        "\n",
        "print(\"\\nTest Set:\")\n",
        "print(f\"Accuracy: {accuracy_test_tree_opt:.2f}\")\n",
        "print(\"\\nConfusion Matrix:\")\n",
        "sns.heatmap(conf_matrix_test_tree_opt, annot=True, fmt='d')\n",
        "plt.show()\n",
        "print(\"\\nClassification Report:\")\n",
        "print(classification_rep_test_tree_opt)"
      ],
      "metadata": {
        "colab": {
          "base_uri": "https://localhost:8080/",
          "height": 742
        },
        "id": "0MGsxXFY7nWF",
        "outputId": "01b22b77-80f0-4f68-c503-2c6da4df81eb"
      },
      "execution_count": 74,
      "outputs": [
        {
          "output_type": "stream",
          "name": "stdout",
          "text": [
            "\n",
            "Test Set:\n",
            "Accuracy: 0.65\n",
            "\n",
            "Confusion Matrix:\n"
          ]
        },
        {
          "output_type": "display_data",
          "data": {
            "text/plain": [
              "<Figure size 640x480 with 2 Axes>"
            ],
            "image/png": "[encoded data removed]"
          },
          "metadata": {}
        },
        {
          "output_type": "stream",
          "name": "stdout",
          "text": [
            "\n",
            "Classification Report:\n",
            "              precision    recall  f1-score   support\n",
            "\n",
            "           0       0.63      0.67      0.65        79\n",
            "           1       0.48      0.61      0.54       158\n",
            "           2       0.59      0.33      0.42       171\n",
            "           3       0.83      0.93      0.88       212\n",
            "\n",
            "    accuracy                           0.65       620\n",
            "   macro avg       0.63      0.64      0.62       620\n",
            "weighted avg       0.65      0.65      0.64       620\n",
            "\n"
          ]
        }
      ]
    },
    {
      "cell_type": "markdown",
      "source": [
        "## <font color='#3d59c6'>  Optimizaciones </font>"
      ],
      "metadata": {
        "id": "apNrwEbt8U7F"
      }
    },
    {
      "cell_type": "markdown",
      "source": [
        "### <font color='#3d59c6'>  Definiciones </font>"
      ],
      "metadata": {
        "id": "90nN17c30Ynx"
      }
    },
    {
      "cell_type": "markdown",
      "source": [
        "Trabajando con los datos ya estandarizados del ejercicio de Clasificación utilizando arboles de decisión multiclase, hacemos optimizaciones de parámetros para ver si es posible obtener mejores resultados que la versión *vanilla* que viene por defecto en los clasificadores.\n",
        "\n",
        "Recordemos que se utiliza la variable \"ingresos\", que fue creada a partir del nivel de ingresos per capita, utilizando rangos sugeridos por el banco mundial mencionados anteriormente.\n",
        "\n",
        "*   Nivel de Ingresos Bajo [0]: GNI per cápita <1006\n",
        "*   Nivel de Ingresos Mediano Bajo[1]: GNI per cápita 1005> y <3955\n",
        "*   Nivel de Ingresos Medio-Alto [2]: GNI per cápita 3956> y <12235\n",
        "*   Nivel de Ingresos Alto[3]: GNI per cápita >12235\n"
      ],
      "metadata": {
        "id": "Gl3dDFYmA3x4"
      }
    },
    {
      "cell_type": "code",
      "source": [
        "X = indices_tree_opt.drop(['ingresos', 'CountryID'], axis=1)\n",
        "y = indices_tree_opt['ingresos'].values"
      ],
      "metadata": {
        "id": "oDsU618c_FBV"
      },
      "execution_count": 75,
      "outputs": []
    },
    {
      "cell_type": "code",
      "source": [
        "# Dividir en train y test\n",
        "X_train, X_test, y_train, y_test = train_test_split(X,y,test_size=0.3,random_state=0)"
      ],
      "metadata": {
        "id": "HokACzxsM7SL"
      },
      "execution_count": 76,
      "outputs": []
    },
    {
      "cell_type": "markdown",
      "source": [
        "### <font color='#3d59c6'>  Vanilla </font>"
      ],
      "metadata": {
        "id": "fXRoBTc2E-mI"
      }
    },
    {
      "cell_type": "code",
      "source": [
        "\n",
        "\n",
        "#Utilizando el modelo sin parametrizar\n",
        "\n",
        "model = DecisionTreeClassifier(random_state=42)\n",
        "\n",
        "#Entrenamiento\n",
        "starting_time = time.time()\n",
        "model.fit(X_train, y_train)\n",
        "train_time = time.time()\n",
        "\n",
        "#Calculo de las predicciones en Train y Test\n",
        "prediction = model.predict(X_test)\n",
        "train_prediction = model.predict(X_train)\n",
        "\n",
        "# Evaluamos el modelo\n",
        "\n",
        "accuracy_test = accuracy_score(y_test, prediction)\n",
        "accuracy_train = accuracy_score(y_train, train_prediction)\n",
        "\n",
        "conf_matrix_test = confusion_matrix(y_test, prediction)\n",
        "\n",
        "classification_rep_test = classification_report(y_test, prediction)\n",
        "\n",
        "# Print the results\n",
        "\n",
        "print(\"\\nVanilla execution time:\", train_time-starting_time)\n",
        "print(\"\\nTest Set:\")\n",
        "print(f\"Accuracy: {accuracy_test:.2f}\")\n",
        "print(\"\\nConfusion Matrix:\")\n",
        "sns.heatmap(conf_matrix_test, annot=True, fmt='d')\n",
        "plt.show()\n",
        "print(\"\\nClassification Report:\")\n",
        "print(classification_rep_test)\n",
        "\n",
        "# Obtener los parámetros utilizados por el modelo\n",
        "params = model.get_params()\n",
        "\n",
        "# Imprimir los parámetros\n",
        "print(\"Parámetros utilizados por el árbol de decisión:\")\n",
        "for key, value in params.items():\n",
        "    print(f\"{key}: {value}\")\n",
        "\n",
        "    # Obtener la profundidad del árbol de decisión\n",
        "depth = model.tree_.max_depth\n",
        "\n",
        "# Imprimir la profundidad\n",
        "print(\"Profundidad del árbol de decisión:\", depth)\n",
        "\n",
        "print(\"Precisión en conjunto de entrenamiento:\", accuracy_train)\n",
        "print(\"Precisión en conjunto de prueba:\", accuracy_test)\n",
        "\n",
        "precision_difference = accuracy_train - accuracy_test\n",
        "\n",
        "# Definir un umbral para determinar si la diferencia es considerable\n",
        "umbral = 0.05  # Por ejemplo, consideraremos una diferencia mayor a 0.05 como considerable\n",
        "\n",
        "# Verificar si hay Overfitting\n",
        "if precision_difference > umbral:\n",
        "    print(f\"Hay overfitting: la precisión en entrenamiento es {precision_difference:.2f} mayor que en prueba.\")\n",
        "else:\n",
        "    print(\"No hay overfitting: la precisión en prueba es igual o mayor que en entrenamiento.\")"
      ],
      "metadata": {
        "colab": {
          "base_uri": "https://localhost:8080/",
          "height": 0
        },
        "id": "f7aaxzVgFQor",
        "outputId": "0e839c4e-7842-41cf-8a14-da9344465407"
      },
      "execution_count": 77,
      "outputs": [
        {
          "output_type": "stream",
          "name": "stdout",
          "text": [
            "\n",
            "Vanilla execution time: 0.02748274803161621\n",
            "\n",
            "Test Set:\n",
            "Accuracy: 0.92\n",
            "\n",
            "Confusion Matrix:\n"
          ]
        },
        {
          "output_type": "display_data",
          "data": {
            "text/plain": [
              "<Figure size 640x480 with 2 Axes>"
            ],
            "image/png": "[encoded data removed]"
          },
          "metadata": {}
        },
        {
          "output_type": "stream",
          "name": "stdout",
          "text": [
            "\n",
            "Classification Report:\n",
            "              precision    recall  f1-score   support\n",
            "\n",
            "           0       0.93      0.95      0.94        79\n",
            "           1       0.88      0.87      0.88       158\n",
            "           2       0.89      0.88      0.88       171\n",
            "           3       0.96      0.97      0.96       212\n",
            "\n",
            "    accuracy                           0.92       620\n",
            "   macro avg       0.91      0.92      0.92       620\n",
            "weighted avg       0.92      0.92      0.92       620\n",
            "\n",
            "Parámetros utilizados por el árbol de decisión:\n",
            "ccp_alpha: 0.0\n",
            "class_weight: None\n",
            "criterion: gini\n",
            "max_depth: None\n",
            "max_features: None\n",
            "max_leaf_nodes: None\n",
            "min_impurity_decrease: 0.0\n",
            "min_samples_leaf: 1\n",
            "min_samples_split: 2\n",
            "min_weight_fraction_leaf: 0.0\n",
            "random_state: 42\n",
            "splitter: best\n",
            "Profundidad del árbol de decisión: 14\n",
            "Precisión en conjunto de entrenamiento: 1.0\n",
            "Precisión en conjunto de prueba: 0.9161290322580645\n",
            "Hay overfitting: la precisión en entrenamiento es 0.08 mayor que en prueba.\n"
          ]
        }
      ]
    },
    {
      "cell_type": "markdown",
      "source": [
        "Del modelo en Vanila, podemos concluir que aunque utiliza una gran profundidad para hacer la clasificación (14), es bastante rápido y preciso. Sin embargo, sabemos que el overfitting en un árbol de clasificación ocurre cuando el modelo se ajusta demasiado a los datos de entrenamiento y no generaliza bien para nuevos datos. Es decir, el árbol de clasificación se ha \"memorizado\" los datos de entrenamiento en lugar de aprender patrones generales. La diferencia entre el accuracy Train y el Test es de 8%.\n",
        "\n",
        "Asi que es una solución para obtener una clasificacion rápida y relativamente precisa, pero tener en cuenta un posible overfitting."
      ],
      "metadata": {
        "id": "obGHHGX60dAq"
      }
    },
    {
      "cell_type": "markdown",
      "source": [
        "### <font color='#3d59c6'>  GridSearch </font>"
      ],
      "metadata": {
        "id": "uW500PAY8YXz"
      }
    },
    {
      "cell_type": "code",
      "source": [
        "\n",
        "# Create a decision tree classifier\n",
        "dt_classifier = DecisionTreeClassifier(random_state=42)\n",
        "starting_time = time.time()\n",
        "# Define parameter grid for GridSearch\n",
        "param_grid = {\n",
        "    'criterion': ['gini', 'entropy'],\n",
        "    'max_depth': [None, 5, 10, 15],\n",
        "    'min_samples_split': [2, 5, 10],\n",
        "    'min_samples_leaf': [1, 2, 4]\n",
        "    }\n",
        "\n",
        "# Perform GridSearchCV\n",
        "grid_search = GridSearchCV(estimator=dt_classifier, param_grid=param_grid, cv=5)\n",
        "\n",
        "grid_search.fit(X_train, y_train)\n",
        "\n",
        "\n",
        "# Get the best parameters from the grid search\n",
        "best_params = grid_search.best_params_\n",
        "\n",
        "# Train a decision tree with the best parameters\n",
        "best_dt_classifier = DecisionTreeClassifier(**best_params, random_state=42)\n",
        "best_dt_classifier.fit(X_train, y_train)\n",
        "train_time = time.time()\n",
        "# Make predictions on the test set\n",
        "prediction = best_dt_classifier.predict(X_test)\n",
        "train_prediction = best_dt_classifier.predict(X_train)\n",
        "\n",
        "\n",
        "#Evaluating the model\n",
        "accuracy_test = accuracy_score(y_test, prediction)\n",
        "accuracy_train = accuracy_score(y_train, train_prediction)\n",
        "print(f\"Accuracy on the test set: {accuracy_test:.4f}\")\n",
        "\n",
        "print(\"Best Parameters:\", best_params)\n",
        "\n",
        "\n",
        "conf_matrix_test = confusion_matrix(y_test, prediction)\n",
        "\n",
        "classification_rep_test = classification_report(y_test, prediction)\n",
        "\n",
        "# Print the results\n",
        "\n",
        "print(\"\\nGridSearch execution time:\", train_time-starting_time)\n",
        "print(\"\\nTest Set:\")\n",
        "print(f\"Accuracy: {accuracy_test:.2f}\")\n",
        "print(\"\\nConfusion Matrix:\")\n",
        "sns.heatmap(conf_matrix_test, annot=True, fmt='d')\n",
        "plt.show()\n",
        "print(\"\\nClassification Report:\")\n",
        "print(classification_rep_test)\n",
        "\n",
        "\n",
        "precision_difference = accuracy_train - accuracy_test\n",
        "\n",
        "# Definir un umbral para determinar si la diferencia es considerable\n",
        "umbral = 0.05  # Por ejemplo, consideraremos una diferencia mayor a 0.05 como considerable\n",
        "\n",
        "# Verificar si hay Overfitting\n",
        "if precision_difference > umbral:\n",
        "    print(f\"Hay overfitting: la precisión en entrenamiento es {precision_difference:.2f} mayor que en prueba.\")\n",
        "else:\n",
        "    print(\"No hay overfitting: la precisión en prueba es igual o mayor que en entrenamiento.\")"
      ],
      "metadata": {
        "colab": {
          "base_uri": "https://localhost:8080/",
          "height": 832
        },
        "id": "OSEDtXLK-Ek0",
        "outputId": "55cada2b-0866-40d3-dd7b-8552f9790807"
      },
      "execution_count": 78,
      "outputs": [
        {
          "output_type": "stream",
          "name": "stdout",
          "text": [
            "Accuracy on the test set: 0.9226\n",
            "Best Parameters: {'criterion': 'entropy', 'max_depth': 10, 'min_samples_leaf': 1, 'min_samples_split': 2}\n",
            "\n",
            "GridSearch execution time: 9.076931476593018\n",
            "\n",
            "Test Set:\n",
            "Accuracy: 0.92\n",
            "\n",
            "Confusion Matrix:\n"
          ]
        },
        {
          "output_type": "display_data",
          "data": {
            "text/plain": [
              "<Figure size 640x480 with 2 Axes>"
            ],
            "image/png": "[encoded data removed]"
          },
          "metadata": {}
        },
        {
          "output_type": "stream",
          "name": "stdout",
          "text": [
            "\n",
            "Classification Report:\n",
            "              precision    recall  f1-score   support\n",
            "\n",
            "           0       0.97      0.96      0.97        79\n",
            "           1       0.91      0.92      0.91       158\n",
            "           2       0.88      0.88      0.88       171\n",
            "           3       0.95      0.95      0.95       212\n",
            "\n",
            "    accuracy                           0.92       620\n",
            "   macro avg       0.93      0.93      0.93       620\n",
            "weighted avg       0.92      0.92      0.92       620\n",
            "\n",
            "Hay overfitting: la precisión en entrenamiento es 0.08 mayor que en prueba.\n"
          ]
        }
      ]
    },
    {
      "cell_type": "markdown",
      "source": [
        "Encontramos unos muy buenos resultados con el Grid Search, con una profundidad de arbol de 10, menor al vanilla (14) obtiene resultados algo mejores (0.93). Se observa que juagando con los parametros de 'max_depth, poniendo valores de profundidad del atbol menores a 10, se obtienen resultados de accuracy de 0.92 pero demora 7 segundos en vez de 8 segundos."
      ],
      "metadata": {
        "id": "Q4A_zzrjXTtq"
      }
    },
    {
      "cell_type": "markdown",
      "source": [
        "### <font color='#3d59c6'>  RandomSearch </font>"
      ],
      "metadata": {
        "id": "o6VWnU8j8LTe"
      }
    },
    {
      "cell_type": "code",
      "source": [
        "from sklearn.model_selection import RandomizedSearchCV\n",
        "import numpy as np\n",
        "\n",
        "dt_classifier = DecisionTreeClassifier(random_state=42)\n",
        "\n",
        "# Define parameter grid for RandomizedSearch\n",
        "param_dist = {\n",
        "    'criterion': ['gini', 'entropy'],\n",
        "    'max_depth': np.arange(3, 20),\n",
        "    'min_samples_split': np.arange(2, 20, 200),\n",
        "    'min_samples_leaf': np.arange(2, 100)\n",
        "}\n",
        "\n",
        "# Perform RandomizedSearchCV\n",
        "starting_time = time.time()\n",
        "random_search = RandomizedSearchCV(estimator=dt_classifier, param_distributions=param_dist, n_iter=50, cv=5, random_state=43)\n",
        "random_search.fit(X_train, y_train)\n",
        "\n",
        "best_params = random_search.best_params_\n",
        "\n",
        "best_dt_classifier = DecisionTreeClassifier(**best_params, random_state=42)\n",
        "best_dt_classifier.fit(X_train, y_train)\n",
        "train_time = time.time()\n",
        "\n",
        "# Make predictions on the test set\n",
        "prediction = best_dt_classifier.predict(X_test)\n",
        "train_prediction = best_dt_classifier.predict(X_train)\n",
        "\n",
        "###\n",
        "#Evaluating the model\n",
        "accuracy_test = accuracy_score(y_test, prediction)\n",
        "accuracy_train = accuracy_score(y_train, train_prediction)\n",
        "print(f\"Accuracy on the test set: {accuracy_test:.4f}\")\n",
        "\n",
        "print(\"Best Parameters:\", best_params)\n",
        "\n",
        "\n",
        "conf_matrix_test = confusion_matrix(y_test, prediction)\n",
        "\n",
        "classification_rep_test = classification_report(y_test, prediction)\n",
        "\n",
        "# Print the results\n",
        "\n",
        "print(\"\\nRandomSearch execution time:\", train_time-starting_time)\n",
        "print(\"\\nTest Set:\")\n",
        "print(f\"Accuracy: {accuracy_test:.2f}\")\n",
        "print(\"\\nConfusion Matrix:\")\n",
        "sns.heatmap(conf_matrix_test, annot=True, fmt='d')\n",
        "plt.show()\n",
        "print(\"\\nClassification Report:\")\n",
        "print(classification_rep_test)\n",
        "\n",
        "\n",
        "precision_difference = accuracy_train - accuracy_test\n",
        "\n",
        "# Definir un umbral para determinar si la diferencia es considerable\n",
        "umbral = 0.05  # Por ejemplo, consideraremos una diferencia mayor a 0.05 como considerable\n",
        "\n",
        "# Verificar si hay Overfitting\n",
        "if precision_difference > umbral:\n",
        "    print(f\"Hay overfitting: la precisión en entrenamiento es {precision_difference:.2f} mayor que en prueba.\")\n",
        "else:\n",
        "    print(\"No hay overfitting: la precisión en prueba es igual o mayor que en entrenamiento.\")\n"
      ],
      "metadata": {
        "colab": {
          "base_uri": "https://localhost:8080/",
          "height": 0
        },
        "id": "7H-BRUkt8eCo",
        "outputId": "868bee43-6cbc-493a-ba97-bad70ef6bc76"
      },
      "execution_count": 79,
      "outputs": [
        {
          "output_type": "stream",
          "name": "stdout",
          "text": [
            "Accuracy on the test set: 0.9016\n",
            "Best Parameters: {'min_samples_split': 2, 'min_samples_leaf': 3, 'max_depth': 14, 'criterion': 'entropy'}\n",
            "\n",
            "RandomSearch execution time: 5.400615453720093\n",
            "\n",
            "Test Set:\n",
            "Accuracy: 0.90\n",
            "\n",
            "Confusion Matrix:\n"
          ]
        },
        {
          "output_type": "display_data",
          "data": {
            "text/plain": [
              "<Figure size 640x480 with 2 Axes>"
            ],
            "image/png": "[encoded data removed]"
          },
          "metadata": {}
        },
        {
          "output_type": "stream",
          "name": "stdout",
          "text": [
            "\n",
            "Classification Report:\n",
            "              precision    recall  f1-score   support\n",
            "\n",
            "           0       0.95      0.92      0.94        79\n",
            "           1       0.86      0.89      0.87       158\n",
            "           2       0.86      0.85      0.85       171\n",
            "           3       0.95      0.95      0.95       212\n",
            "\n",
            "    accuracy                           0.90       620\n",
            "   macro avg       0.90      0.90      0.90       620\n",
            "weighted avg       0.90      0.90      0.90       620\n",
            "\n",
            "Hay overfitting: la precisión en entrenamiento es 0.08 mayor que en prueba.\n"
          ]
        }
      ]
    },
    {
      "cell_type": "markdown",
      "source": [
        "En randomsearch, observamos que llegá a su valor máximo de precición de 0.90 en n_iter=50. Cuando se coloca un valor de n_iter=500, demora unos 50 segundos y se obtiene la misma precisión.\n",
        "Tiene demasiada profundidad el árbol y pareciera tener overfitting también, posiblemente debido a la profundidad del árbol.\n"
      ],
      "metadata": {
        "id": "S2uULTkZCyo-"
      }
    },
    {
      "cell_type": "markdown",
      "source": [
        "### <font color='#3d59c6'>  Bayes </font>"
      ],
      "metadata": {
        "id": "DycdF35tDigD"
      }
    },
    {
      "cell_type": "code",
      "source": [
        "!pip install scikit-optimize\n"
      ],
      "metadata": {
        "colab": {
          "base_uri": "https://localhost:8080/"
        },
        "id": "WeEvPjdqEivp",
        "outputId": "edc37d91-55a1-4222-aeb2-5b3a095a4a60"
      },
      "execution_count": 80,
      "outputs": [
        {
          "output_type": "stream",
          "name": "stdout",
          "text": [
            "Requirement already satisfied: scikit-optimize in /usr/local/lib/python3.10/dist-packages (0.9.0)\n",
            "Requirement already satisfied: joblib>=0.11 in /usr/local/lib/python3.10/dist-packages (from scikit-optimize) (1.3.2)\n",
            "Requirement already satisfied: pyaml>=16.9 in /usr/local/lib/python3.10/dist-packages (from scikit-optimize) (23.12.0)\n",
            "Requirement already satisfied: numpy>=1.13.3 in /usr/local/lib/python3.10/dist-packages (from scikit-optimize) (1.26.4)\n",
            "Requirement already satisfied: scipy>=0.19.1 in /usr/local/lib/python3.10/dist-packages (from scikit-optimize) (1.11.4)\n",
            "Requirement already satisfied: scikit-learn>=0.20.0 in /usr/local/lib/python3.10/dist-packages (from scikit-optimize) (1.2.2)\n",
            "Requirement already satisfied: PyYAML in /usr/local/lib/python3.10/dist-packages (from pyaml>=16.9->scikit-optimize) (6.0.1)\n",
            "Requirement already satisfied: threadpoolctl>=2.0.0 in /usr/local/lib/python3.10/dist-packages (from scikit-learn>=0.20.0->scikit-optimize) (3.2.0)\n"
          ]
        }
      ]
    },
    {
      "cell_type": "code",
      "source": [
        "\n",
        "\n",
        "# Definir el espacio de búsqueda de hiperparámetros\n",
        "param_space = {\n",
        "    'max_leaf_nodes': Integer(10, 500),\n",
        "    'min_samples_split': Integer(2, 6),\n",
        "    'criterion': Categorical(['gini', 'entropy']),\n",
        "    'max_depth': Integer(1, 10) if None else Categorical([None]),\n",
        "    'min_samples_leaf': Integer(1, 4)\n",
        "}\n",
        "\n",
        "starting_time = time.time()\n",
        "# Instanciar el clasificador\n",
        "dt_classifier = DecisionTreeClassifier(random_state=42)\n",
        "\n",
        "# Inicializar BayesSearchCV\n",
        "bayes_search = BayesSearchCV(\n",
        "    dt_classifier,\n",
        "    param_space,\n",
        "    cv=5,\n",
        "    n_iter=10,\n",
        "    random_state=42\n",
        ")\n",
        "\n",
        "np.int = int\n",
        "# Entrenar BayesSearchCV\n",
        "bayes_search.fit(X_train, y_train)\n",
        "\n",
        "train_time = time.time()\n",
        "# Obtener los mejores parámetros\n",
        "best_params_bayes = bayes_search.best_params_\n",
        "print(\"Best: %f using %s\" % (bayes_search.best_score_, best_params_bayes))\n",
        "\n",
        "# Make predictions on the test set\n",
        "# Obtener el mejor modelo entrenado con los mejores parámetros\n",
        "best_model = bayes_search.best_estimator_\n",
        "\n",
        "# Hacer predicciones en el conjunto de prueba\n",
        "prediction = best_model.predict(X_test)\n",
        "train_prediction = best_model.predict(X_train)\n",
        "\n",
        "\n",
        "\n",
        "\n",
        "\n",
        "#Evaluating the model\n",
        "accuracy_test = accuracy_score(y_test, prediction)\n",
        "accuracy_train = accuracy_score(y_train, train_prediction)\n",
        "print(f\"Accuracy on the test set: {accuracy_test:.4f}\")\n",
        "\n",
        "print(\"Best Parameters:\", best_params_bayes)\n",
        "\n",
        "\n",
        "conf_matrix_test = confusion_matrix(y_test, prediction)\n",
        "\n",
        "classification_rep_test = classification_report(y_test, prediction)\n",
        "\n",
        "# Print the results\n",
        "\n",
        "print(\"\\nRandomSearch execution time:\", train_time-starting_time)\n",
        "print(\"\\nTest Set:\")\n",
        "print(f\"Accuracy: {accuracy_test:.2f}\")\n",
        "print(\"\\nConfusion Matrix:\")\n",
        "sns.heatmap(conf_matrix_test, annot=True, fmt='d')\n",
        "plt.show()\n",
        "print(\"\\nClassification Report:\")\n",
        "print(classification_rep_test)\n",
        "\n",
        "\n",
        "precision_difference = accuracy_train - accuracy_test\n",
        "\n",
        "# Definir un umbral para determinar si la diferencia es considerable\n",
        "umbral = 0.05  # Por ejemplo, consideraremos una diferencia mayor a 0.05 como considerable\n",
        "\n",
        "# Verificar si hay Overfitting\n",
        "if precision_difference > umbral:\n",
        "    print(f\"Hay overfitting: la precisión en entrenamiento es {precision_difference:.2f} mayor que en prueba.\")\n",
        "else:\n",
        "    print(\"No hay overfitting: la precisión en prueba es igual o mayor que en entrenamiento.\")\n"
      ],
      "metadata": {
        "colab": {
          "base_uri": "https://localhost:8080/",
          "height": 851
        },
        "id": "lnc_QCLuIjdt",
        "outputId": "aae5208b-6cc6-4fb4-b820-db06ac5ca41a"
      },
      "execution_count": 81,
      "outputs": [
        {
          "output_type": "stream",
          "name": "stdout",
          "text": [
            "Best: 0.910667 using OrderedDict([('criterion', 'entropy'), ('max_depth', None), ('max_leaf_nodes', 467), ('min_samples_leaf', 2), ('min_samples_split', 5)])\n",
            "Accuracy on the test set: 0.9161\n",
            "Best Parameters: OrderedDict([('criterion', 'entropy'), ('max_depth', None), ('max_leaf_nodes', 467), ('min_samples_leaf', 2), ('min_samples_split', 5)])\n",
            "\n",
            "RandomSearch execution time: 3.2748782634735107\n",
            "\n",
            "Test Set:\n",
            "Accuracy: 0.92\n",
            "\n",
            "Confusion Matrix:\n"
          ]
        },
        {
          "output_type": "display_data",
          "data": {
            "text/plain": [
              "<Figure size 640x480 with 2 Axes>"
            ],
            "image/png": "[encoded data removed]"
          },
          "metadata": {}
        },
        {
          "output_type": "stream",
          "name": "stdout",
          "text": [
            "\n",
            "Classification Report:\n",
            "              precision    recall  f1-score   support\n",
            "\n",
            "           0       0.94      0.96      0.95        79\n",
            "           1       0.88      0.89      0.88       158\n",
            "           2       0.86      0.88      0.87       171\n",
            "           3       0.99      0.94      0.96       212\n",
            "\n",
            "    accuracy                           0.92       620\n",
            "   macro avg       0.92      0.92      0.92       620\n",
            "weighted avg       0.92      0.92      0.92       620\n",
            "\n",
            "Hay overfitting: la precisión en entrenamiento es 0.07 mayor que en prueba.\n"
          ]
        }
      ]
    },
    {
      "cell_type": "markdown",
      "source": [
        "Observamos que dan resultados similares al hacer bayes con n_iter=50 con n_iter=10. Parece haber menos overfitting con bayes."
      ],
      "metadata": {
        "id": "V9Vk5096QqQt"
      }
    },
    {
      "cell_type": "markdown",
      "source": [
        "## <font color='#3d59c6'>  Conclusiones </font>"
      ],
      "metadata": {
        "id": "dehAHSbw8qFk"
      }
    },
    {
      "cell_type": "markdown",
      "source": [
        "| Decision Tree | Presicion | Recall | F1-Score | Time (s) | Profundidad del Arbol | min_samples_leaf | min_samples_split |\n",
        "|---------------|-----------|--------|----------|----------|-----------------------|-------------------|-------------------|\n",
        "| Vanilla       | 0.91      | 0.92   | 0.92     | 0.099    | 14                    | 1                 | 2                 |\n",
        "| Grid Search   | 0.93      | 0.93   | 0.93     | 8.617    | 10                    | 1                 | 2                 |\n",
        "| RandomSearch  | 0.9       | 0.9    | 0.9      | 5.067    | 14                    | 3                 | 2                 |\n",
        "| Bayes         | 0.92      | 0.92   | 0.92     | 2.192    | 2                     | 2                 | 5                 |\n"
      ],
      "metadata": {
        "id": "vbPp9Pl3RciF"
      }
    },
    {
      "cell_type": "markdown",
      "source": [
        "Luego de evaluar los diferentes métodos de optimización, se concluye que parecen todos tener overfitting. Sin embargo, el método de grid search nos da posibilidad de controlar la profundidad del árbol dándonos una gran precisión. Sin embargo, es el método que mayor tiempo tomó.\n",
        "\n",
        "\n",
        "El método Vanilla sin hiperparametrización parece ser un buen approach inicial, ya que muestra un accuracy, pero al no poder modificar los parámetros, la profundidad del árbol puede penalizar.\n",
        "\n",
        "\n",
        "El método de random search muestra un accuracy bajo, cuando se compara con los otros. Sin embargo, tiene un tiempo de procesado más rápido que el de Grid Search.\n",
        "\n",
        "\n",
        "El método de Optimización de Bayes puede llegar a tomar bastante tiempo dependiendo del número de iteraciones. Llega un punto en que la precisión ya no aumenta por más iteraciones que se hagan.\n",
        "\n",
        "\n",
        "La hiperparametrización nos da un mayor control sobre el modelo, y nos permite entender de mejor manera los resultados para poder analizarlos mejor.\n",
        "\n",
        "\n",
        "A comparación con el método de clasificación original, se pasó de una precisión de 63% en menos de un segundo, a una de 93% en 8 segundos, (o 91% en milésimas de segundo con vanilla).\n",
        "\n",
        "\n",
        "Comprobar bien el overfitting es clave para decidir cual modelo es mejor. Una comparación entre el test y train accuracy puede ser una forma. Quizás habría que investigar que otros métodos visuales o numéricos se pueden implementar para asegurarnos que el método Vanilla no está haciendo overfitting.\n",
        "\n"
      ],
      "metadata": {
        "id": "idwRDRBgRen5"
      }
    },
    {
      "cell_type": "markdown",
      "source": [
        "## <font color='#3d59c6'>  Optativo </font>"
      ],
      "metadata": {
        "id": "SQ7lq1rtSBSm"
      }
    },
    {
      "cell_type": "markdown",
      "source": [
        "Se aprende muchísimo en la clase. Esta bien dividida, al principio se van introduciendo los conceptos y luego en enero se empieza a hacer teoria y práctica. Quizas en las sesiones de python se pueden hacer lecciones de limpieza de datos, asi cuando sea momento de hacer agrupación, es posible tener el dataset ya limpio y puede que eso ayude con las entregas. En realidad opino que está bastante bien.\n",
        "\n",
        "Algo que valoré muchísimo fue el calendario mostrando de donde venimos y hacia donde vamos en cada clase, y el resumen de lo que hemos visto. Me parece fundamental y una muy buena idea para reforzar conceptos y poder hacer preguntas también."
      ],
      "metadata": {
        "id": "Vs88LemfSDs5"
      }
    }
  ]
}