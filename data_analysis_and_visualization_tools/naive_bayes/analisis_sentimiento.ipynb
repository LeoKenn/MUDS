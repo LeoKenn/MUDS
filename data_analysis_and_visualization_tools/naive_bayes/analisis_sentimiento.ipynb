{
  "cells": [
    {
      "cell_type": "markdown",
      "source": [
        "# <font color='#3d59c6'> # MD004 ENTREGA8 NAIVE BAYES & ANÁLISIS DE SENTIMIENTO </font>\n"
      ],
      "metadata": {
        "id": "POGRaTGwLSLG"
      },
      "id": "POGRaTGwLSLG"
    },
    {
      "cell_type": "markdown",
      "source": [
        "## <font color='#3d59c6'> Información </font>"
      ],
      "metadata": {
        "id": "KAxIO7B6NES4"
      },
      "id": "KAxIO7B6NES4"
    },
    {
      "cell_type": "markdown",
      "id": "27c340cd",
      "metadata": {
        "id": "27c340cd"
      },
      "source": [
        "\n",
        "\n",
        "###### **Trabajo del Tema 8**\n",
        "\n",
        "**Descripción de la tarea:**\n",
        "\n",
        "El csv adjunto incluye reviews que han dejado usuarios en la Google Play Store en referencia a 23 apps, incluyendo una valoración categórica sobre el análisis de sentimiento. Los datos son los siguientes:\n",
        "\n",
        "- package_name: Nombre de la app\n",
        "- review: Texto del usuario con la review\n",
        "- polarity: Sentimiento de polaridad de la review:\n",
        "    - 1: Review con un sentimiento muy positivo o muy negativo\n",
        "    - 0: Review con un sentimiento neutro (-->realizo una pequeña corrección, el enunciado ponía '2')\n",
        "\n",
        "**Se pide:**\n",
        "\n",
        "1. **Limpieza de instancias (3.5p)**: Limpieza de texto de las instancias. Se valorará el uso de las técnicas empleadas y las explicaciones en el notebook\n",
        "2. **Creación de modelo clasificador de Naive Bayes (3.5p)**: Se valorará el uso de técnicas empleadas como el split entre entrenamiento y validación y selección de métrica de optimización\n",
        "3. **Optimización del modelo (2p)**: En base a los resultados obtenidos, ¿Somos capaces de mejorar nuestro modelo? Se valorará el uso de ténicas como Laplace smoothing, uso de\n",
        "la variable categórica package_name\n",
        "4. **Conclusiones y vías abiertas (1p)**: ¿Qué resultados obtenemos en el modelo?, ¿Predice correctamente?, ¿En todas las apps?, ¿Qué datos podrían ayudarnos a mejorar la predicción?\n",
        "\n",
        "**>> este ejercicio no tiene una solución única<<** Muchas opciones pueden ser válidas, pero se espera que se haga una interpretación de los datos obtenidos en todos los puntos y que se construya un modelo de Naive Bayes acorde a lo analizado (Si la clasificación es válida, por qué lo es y si no llega a serlo, por qué no lo es y cómo podrían mejorarse los resultados)\n"
      ]
    },
    {
      "cell_type": "markdown",
      "source": [
        "## <font color='#3d59c6'>  0. Carga de Packages </font>"
      ],
      "metadata": {
        "id": "zT-1a-3ML808"
      },
      "id": "zT-1a-3ML808"
    },
    {
      "cell_type": "code",
      "source": [
        "install.packages(\"caret\") #5min\n",
        " library(caret)"
      ],
      "metadata": {
        "colab": {
          "base_uri": "https://localhost:8080/"
        },
        "id": "lUF7rJq9P5G2",
        "outputId": "a729e754-77d0-4cb7-bbc5-e595a7ffa5fb"
      },
      "id": "lUF7rJq9P5G2",
      "execution_count": 1,
      "outputs": [
        {
          "output_type": "stream",
          "name": "stderr",
          "text": [
            "Installing package into ‘/usr/local/lib/R/site-library’\n",
            "(as ‘lib’ is unspecified)\n",
            "\n",
            "also installing the dependencies ‘listenv’, ‘parallelly’, ‘future’, ‘globals’, ‘shape’, ‘future.apply’, ‘numDeriv’, ‘progressr’, ‘SQUAREM’, ‘diagram’, ‘lava’, ‘prodlim’, ‘proxy’, ‘iterators’, ‘Rcpp’, ‘clock’, ‘gower’, ‘hardhat’, ‘ipred’, ‘timeDate’, ‘e1071’, ‘foreach’, ‘ModelMetrics’, ‘plyr’, ‘pROC’, ‘recipes’, ‘reshape2’\n",
            "\n",
            "\n",
            "Loading required package: ggplot2\n",
            "\n",
            "Loading required package: lattice\n",
            "\n"
          ]
        }
      ]
    },
    {
      "cell_type": "code",
      "source": [
        "install.packages('slam')\n",
        "install.packages('tm')\n",
        "install.packages('SnowballC')\n",
        "install.packages('gmodels')\n",
        "install.packages('wordcloud')\n",
        "install.packages(\"e1071\")\n",
        " library(e1071)\n",
        "\n",
        " library(tm)\n",
        " library(SnowballC)\n",
        " library(wordcloud)\n",
        " library(gmodels)\n",
        " library(wordcloud)"
      ],
      "metadata": {
        "id": "lyGkt6s2Ov_3",
        "colab": {
          "base_uri": "https://localhost:8080/"
        },
        "outputId": "571eeab4-3ad8-4f18-c1ac-63755cfc53d3"
      },
      "id": "lyGkt6s2Ov_3",
      "execution_count": 2,
      "outputs": [
        {
          "output_type": "stream",
          "name": "stderr",
          "text": [
            "Installing package into ‘/usr/local/lib/R/site-library’\n",
            "(as ‘lib’ is unspecified)\n",
            "\n",
            "Installing package into ‘/usr/local/lib/R/site-library’\n",
            "(as ‘lib’ is unspecified)\n",
            "\n",
            "also installing the dependencies ‘NLP’, ‘BH’\n",
            "\n",
            "\n",
            "Installing package into ‘/usr/local/lib/R/site-library’\n",
            "(as ‘lib’ is unspecified)\n",
            "\n",
            "Installing package into ‘/usr/local/lib/R/site-library’\n",
            "(as ‘lib’ is unspecified)\n",
            "\n",
            "also installing the dependencies ‘gtools’, ‘gdata’\n",
            "\n",
            "\n",
            "Installing package into ‘/usr/local/lib/R/site-library’\n",
            "(as ‘lib’ is unspecified)\n",
            "\n",
            "Installing package into ‘/usr/local/lib/R/site-library’\n",
            "(as ‘lib’ is unspecified)\n",
            "\n",
            "Loading required package: NLP\n",
            "\n",
            "\n",
            "Attaching package: ‘NLP’\n",
            "\n",
            "\n",
            "The following object is masked from ‘package:ggplot2’:\n",
            "\n",
            "    annotate\n",
            "\n",
            "\n",
            "Loading required package: RColorBrewer\n",
            "\n"
          ]
        }
      ]
    },
    {
      "cell_type": "markdown",
      "source": [
        "## <font color='#3d59c6'>  1. Carga de Datos  </font>\n"
      ],
      "metadata": {
        "id": "3P5iliKGL_oX"
      },
      "id": "3P5iliKGL_oX"
    },
    {
      "cell_type": "code",
      "source": [
        "data_subject = read.csv(file='/content/sentiment_dataset.csv', header=TRUE, sep=',', dec=',')\n",
        "head(data_subject)#de forma predefinida retorna las primeras 6 observations\n",
        "tail(data_subject)#de forma predefinida retorna las últimas 6 observations"
      ],
      "metadata": {
        "colab": {
          "base_uri": "https://localhost:8080/",
          "height": 971
        },
        "id": "fDDDi-nEPLfU",
        "outputId": "faa19c7e-1718-4b02-9f2e-350bdfe230fd"
      },
      "id": "fDDDi-nEPLfU",
      "execution_count": 3,
      "outputs": [
        {
          "output_type": "display_data",
          "data": {
            "text/html": [
              "<table class=\"dataframe\">\n",
              "<caption>A data.frame: 6 × 3</caption>\n",
              "<thead>\n",
              "\t<tr><th></th><th scope=col>package_name</th><th scope=col>review</th><th scope=col>polarity</th></tr>\n",
              "\t<tr><th></th><th scope=col>&lt;chr&gt;</th><th scope=col>&lt;chr&gt;</th><th scope=col>&lt;int&gt;</th></tr>\n",
              "</thead>\n",
              "<tbody>\n",
              "\t<tr><th scope=row>1</th><td>com.facebook.katana</td><td> privacy at least put some option appear offline. i mean for some people like me it's a big pressure to be seen online like you need to response on every message or else you be called seenzone only. if only i wanna do on facebook is to read on my newsfeed and just wanna response on message i want to. pls reconsidered my review. i tried to turn off chat but still can see me as online.                                                                                </td><td>0</td></tr>\n",
              "\t<tr><th scope=row>2</th><td>com.facebook.katana</td><td> messenger issues ever since the last update, initial received messages don't get pushed to the messenger app and you don't get notification in the facebook app or messenger app. you open the facebook app and happen to see you have a message. you have to click the icon and it opens messenger. subsequent messages go through messenger app, unless you close the chat head... then you start over with no notification and having to go through the facebook app.         </td><td>0</td></tr>\n",
              "\t<tr><th scope=row>3</th><td>com.facebook.katana</td><td> profile any time my wife or anybody has more than one post and i view them it would take me to there profile so that i can view them all at once. now when i try to view them it tells me that the page that i requested is not available. i've restarted my phone i even cleard the cache and i've uninstalled and reinstalled the app and it is still doing it. please fix it thank you                                                                                        </td><td>0</td></tr>\n",
              "\t<tr><th scope=row>4</th><td>com.facebook.katana</td><td> the new features suck for those of us who don't have a working back button can you guys make the videos able to be slid to the left to exit the video. as i have to force close facebook to exit                                                                                                                                                                                                                                                                                 </td><td>0</td></tr>\n",
              "\t<tr><th scope=row>5</th><td>com.facebook.katana</td><td> forced reload on uploading pic on replying comment last night i tried to reply a comment by uploading a photo from my phone. when i press on the button to select photos the app automatically goes back to the main page. on other occasions, i could enter to my gallery to select my image but as soon as i selected an image and press done, the program, again, forced reload and suddenly go back to the main page. please fix this and i will change my rating. thank you.</td><td>0</td></tr>\n",
              "\t<tr><th scope=row>6</th><td>com.facebook.katana</td><td> idk i can't edit my posts? things such as my profile picture, when i edit it, it becomes grey and says that it is no longer available. please fix. i have an htc desire. will rate 5 stars shown fixed đ                                                                                                                                                                                                                                                       </td><td>0</td></tr>\n",
              "</tbody>\n",
              "</table>\n"
            ],
            "text/markdown": "\nA data.frame: 6 × 3\n\n| <!--/--> | package_name &lt;chr&gt; | review &lt;chr&gt; | polarity &lt;int&gt; |\n|---|---|---|---|\n| 1 | com.facebook.katana |  privacy at least put some option appear offline. i mean for some people like me it's a big pressure to be seen online like you need to response on every message or else you be called seenzone only. if only i wanna do on facebook is to read on my newsfeed and just wanna response on message i want to. pls reconsidered my review. i tried to turn off chat but still can see me as online.                                                                                 | 0 |\n| 2 | com.facebook.katana |  messenger issues ever since the last update, initial received messages don't get pushed to the messenger app and you don't get notification in the facebook app or messenger app. you open the facebook app and happen to see you have a message. you have to click the icon and it opens messenger. subsequent messages go through messenger app, unless you close the chat head... then you start over with no notification and having to go through the facebook app.          | 0 |\n| 3 | com.facebook.katana |  profile any time my wife or anybody has more than one post and i view them it would take me to there profile so that i can view them all at once. now when i try to view them it tells me that the page that i requested is not available. i've restarted my phone i even cleard the cache and i've uninstalled and reinstalled the app and it is still doing it. please fix it thank you                                                                                         | 0 |\n| 4 | com.facebook.katana |  the new features suck for those of us who don't have a working back button can you guys make the videos able to be slid to the left to exit the video. as i have to force close facebook to exit                                                                                                                                                                                                                                                                                  | 0 |\n| 5 | com.facebook.katana |  forced reload on uploading pic on replying comment last night i tried to reply a comment by uploading a photo from my phone. when i press on the button to select photos the app automatically goes back to the main page. on other occasions, i could enter to my gallery to select my image but as soon as i selected an image and press done, the program, again, forced reload and suddenly go back to the main page. please fix this and i will change my rating. thank you. | 0 |\n| 6 | com.facebook.katana |  idk i can't edit my posts? things such as my profile picture, when i edit it, it becomes grey and says that it is no longer available. please fix. i have an htc desire. will rate 5 stars shown fixed đ                                                                                                                                                                                                                                                        | 0 |\n\n",
            "text/latex": "A data.frame: 6 × 3\n\\begin{tabular}{r|lll}\n  & package\\_name & review & polarity\\\\\n  & <chr> & <chr> & <int>\\\\\n\\hline\n\t1 & com.facebook.katana &  privacy at least put some option appear offline. i mean for some people like me it's a big pressure to be seen online like you need to response on every message or else you be called seenzone only. if only i wanna do on facebook is to read on my newsfeed and just wanna response on message i want to. pls reconsidered my review. i tried to turn off chat but still can see me as online.                                                                                 & 0\\\\\n\t2 & com.facebook.katana &  messenger issues ever since the last update, initial received messages don't get pushed to the messenger app and you don't get notification in the facebook app or messenger app. you open the facebook app and happen to see you have a message. you have to click the icon and it opens messenger. subsequent messages go through messenger app, unless you close the chat head... then you start over with no notification and having to go through the facebook app.          & 0\\\\\n\t3 & com.facebook.katana &  profile any time my wife or anybody has more than one post and i view them it would take me to there profile so that i can view them all at once. now when i try to view them it tells me that the page that i requested is not available. i've restarted my phone i even cleard the cache and i've uninstalled and reinstalled the app and it is still doing it. please fix it thank you                                                                                         & 0\\\\\n\t4 & com.facebook.katana &  the new features suck for those of us who don't have a working back button can you guys make the videos able to be slid to the left to exit the video. as i have to force close facebook to exit                                                                                                                                                                                                                                                                                  & 0\\\\\n\t5 & com.facebook.katana &  forced reload on uploading pic on replying comment last night i tried to reply a comment by uploading a photo from my phone. when i press on the button to select photos the app automatically goes back to the main page. on other occasions, i could enter to my gallery to select my image but as soon as i selected an image and press done, the program, again, forced reload and suddenly go back to the main page. please fix this and i will change my rating. thank you. & 0\\\\\n\t6 & com.facebook.katana &  idk i can't edit my posts? things such as my profile picture, when i edit it, it becomes grey and says that it is no longer available. please fix. i have an htc desire. will rate 5 stars shown fixed đ                                                                                                                                                                                                                                                        & 0\\\\\n\\end{tabular}\n",
            "text/plain": [
              "  package_name       \n",
              "1 com.facebook.katana\n",
              "2 com.facebook.katana\n",
              "3 com.facebook.katana\n",
              "4 com.facebook.katana\n",
              "5 com.facebook.katana\n",
              "6 com.facebook.katana\n",
              "  review                                                                                                                                                                                                                                                                                                                                                                                                                                                                            \n",
              "1  privacy at least put some option appear offline. i mean for some people like me it's a big pressure to be seen online like you need to response on every message or else you be called seenzone only. if only i wanna do on facebook is to read on my newsfeed and just wanna response on message i want to. pls reconsidered my review. i tried to turn off chat but still can see me as online.                                                                                \n",
              "2  messenger issues ever since the last update, initial received messages don't get pushed to the messenger app and you don't get notification in the facebook app or messenger app. you open the facebook app and happen to see you have a message. you have to click the icon and it opens messenger. subsequent messages go through messenger app, unless you close the chat head... then you start over with no notification and having to go through the facebook app.         \n",
              "3  profile any time my wife or anybody has more than one post and i view them it would take me to there profile so that i can view them all at once. now when i try to view them it tells me that the page that i requested is not available. i've restarted my phone i even cleard the cache and i've uninstalled and reinstalled the app and it is still doing it. please fix it thank you                                                                                        \n",
              "4  the new features suck for those of us who don't have a working back button can you guys make the videos able to be slid to the left to exit the video. as i have to force close facebook to exit                                                                                                                                                                                                                                                                                 \n",
              "5  forced reload on uploading pic on replying comment last night i tried to reply a comment by uploading a photo from my phone. when i press on the button to select photos the app automatically goes back to the main page. on other occasions, i could enter to my gallery to select my image but as soon as i selected an image and press done, the program, again, forced reload and suddenly go back to the main page. please fix this and i will change my rating. thank you.\n",
              "6  idk i can't edit my posts? things such as my profile picture, when i edit it, it becomes grey and says that it is no longer available. please fix. i have an htc desire. will rate 5 stars shown fixed đ\\u009f\\u0098\\u0094                                                                                                                                                                                                                                                       \n",
              "  polarity\n",
              "1 0       \n",
              "2 0       \n",
              "3 0       \n",
              "4 0       \n",
              "5 0       \n",
              "6 0       "
            ]
          },
          "metadata": {}
        },
        {
          "output_type": "display_data",
          "data": {
            "text/html": [
              "<table class=\"dataframe\">\n",
              "<caption>A data.frame: 6 × 3</caption>\n",
              "<thead>\n",
              "\t<tr><th></th><th scope=col>package_name</th><th scope=col>review</th><th scope=col>polarity</th></tr>\n",
              "\t<tr><th></th><th scope=col>&lt;chr&gt;</th><th scope=col>&lt;chr&gt;</th><th scope=col>&lt;int&gt;</th></tr>\n",
              "</thead>\n",
              "<tbody>\n",
              "\t<tr><th scope=row>886</th><td>com.rovio.angrybirds</td><td> too many ads far more adverts than any other game i've played. i know it's free and they need the ads to make a profit but there needs to be a balance.                                                                                                                                                                                                                                                                         </td><td>1</td></tr>\n",
              "\t<tr><th scope=row>887</th><td>com.rovio.angrybirds</td><td> loved it i loooooooooooooovvved it because it is incredible  awesome  and it's in go power and make a new clash of clans the same thing  butt better                                                                                                                                                                                                                                                                            </td><td>1</td></tr>\n",
              "\t<tr><th scope=row>888</th><td>com.rovio.angrybirds</td><td> all time legendary game the birthday party levels and short fuse levels are fantastic.especially when the pigs crash onto different chemicals is just great.suggestion to all those players who cringe about too much ads is close ur wi-fi connection and then play the game.then the ads won't trouble you.                                                                                                                   </td><td>1</td></tr>\n",
              "\t<tr><th scope=row>889</th><td>com.rovio.angrybirds</td><td> ads are way to heavy listen to the bad reviews. there are ads after every round, whether you pass it or fail it. sometimes there are ads before the next round starts to. you spend more time on ads than game play. i develop web apps, and honestly many people rely on ads to make a living. i can appreciate that all to well. however, these developers have went far beyond that. frankly, they are disrespectful nitwits.</td><td>0</td></tr>\n",
              "\t<tr><th scope=row>890</th><td>com.rovio.angrybirds</td><td> fun works perfectly well. ads aren't as annoying as you think, especially for a free game.                                                                                                                                                                                                                                                                                                                                      </td><td>1</td></tr>\n",
              "\t<tr><th scope=row>891</th><td>com.rovio.angrybirds</td><td> they're everywhere i see angry birds everywhere because i can't stop playing this game. get out my head devs! 4 đ because nothing's perfect                                                                                                                                                                                                                                                                   </td><td>1</td></tr>\n",
              "</tbody>\n",
              "</table>\n"
            ],
            "text/markdown": "\nA data.frame: 6 × 3\n\n| <!--/--> | package_name &lt;chr&gt; | review &lt;chr&gt; | polarity &lt;int&gt; |\n|---|---|---|---|\n| 886 | com.rovio.angrybirds |  too many ads far more adverts than any other game i've played. i know it's free and they need the ads to make a profit but there needs to be a balance.                                                                                                                                                                                                                                                                          | 1 |\n| 887 | com.rovio.angrybirds |  loved it i loooooooooooooovvved it because it is incredible  awesome  and it's in go power and make a new clash of clans the same thing  butt better                                                                                                                                                                                                                                                                             | 1 |\n| 888 | com.rovio.angrybirds |  all time legendary game the birthday party levels and short fuse levels are fantastic.especially when the pigs crash onto different chemicals is just great.suggestion to all those players who cringe about too much ads is close ur wi-fi connection and then play the game.then the ads won't trouble you.                                                                                                                    | 1 |\n| 889 | com.rovio.angrybirds |  ads are way to heavy listen to the bad reviews. there are ads after every round, whether you pass it or fail it. sometimes there are ads before the next round starts to. you spend more time on ads than game play. i develop web apps, and honestly many people rely on ads to make a living. i can appreciate that all to well. however, these developers have went far beyond that. frankly, they are disrespectful nitwits. | 0 |\n| 890 | com.rovio.angrybirds |  fun works perfectly well. ads aren't as annoying as you think, especially for a free game.                                                                                                                                                                                                                                                                                                                                       | 1 |\n| 891 | com.rovio.angrybirds |  they're everywhere i see angry birds everywhere because i can't stop playing this game. get out my head devs! 4 đ because nothing's perfect                                                                                                                                                                                                                                                                    | 1 |\n\n",
            "text/latex": "A data.frame: 6 × 3\n\\begin{tabular}{r|lll}\n  & package\\_name & review & polarity\\\\\n  & <chr> & <chr> & <int>\\\\\n\\hline\n\t886 & com.rovio.angrybirds &  too many ads far more adverts than any other game i've played. i know it's free and they need the ads to make a profit but there needs to be a balance.                                                                                                                                                                                                                                                                          & 1\\\\\n\t887 & com.rovio.angrybirds &  loved it i loooooooooooooovvved it because it is incredible  awesome  and it's in go power and make a new clash of clans the same thing  butt better                                                                                                                                                                                                                                                                             & 1\\\\\n\t888 & com.rovio.angrybirds &  all time legendary game the birthday party levels and short fuse levels are fantastic.especially when the pigs crash onto different chemicals is just great.suggestion to all those players who cringe about too much ads is close ur wi-fi connection and then play the game.then the ads won't trouble you.                                                                                                                    & 1\\\\\n\t889 & com.rovio.angrybirds &  ads are way to heavy listen to the bad reviews. there are ads after every round, whether you pass it or fail it. sometimes there are ads before the next round starts to. you spend more time on ads than game play. i develop web apps, and honestly many people rely on ads to make a living. i can appreciate that all to well. however, these developers have went far beyond that. frankly, they are disrespectful nitwits. & 0\\\\\n\t890 & com.rovio.angrybirds &  fun works perfectly well. ads aren't as annoying as you think, especially for a free game.                                                                                                                                                                                                                                                                                                                                       & 1\\\\\n\t891 & com.rovio.angrybirds &  they're everywhere i see angry birds everywhere because i can't stop playing this game. get out my head devs! 4 đ because nothing's perfect                                                                                                                                                                                                                                                                    & 1\\\\\n\\end{tabular}\n",
            "text/plain": [
              "    package_name        \n",
              "886 com.rovio.angrybirds\n",
              "887 com.rovio.angrybirds\n",
              "888 com.rovio.angrybirds\n",
              "889 com.rovio.angrybirds\n",
              "890 com.rovio.angrybirds\n",
              "891 com.rovio.angrybirds\n",
              "    review                                                                                                                                                                                                                                                                                                                                                                                                                           \n",
              "886  too many ads far more adverts than any other game i've played. i know it's free and they need the ads to make a profit but there needs to be a balance.                                                                                                                                                                                                                                                                         \n",
              "887  loved it i loooooooooooooovvved it because it is incredible  awesome  and it's in go power and make a new clash of clans the same thing  butt better                                                                                                                                                                                                                                                                            \n",
              "888  all time legendary game the birthday party levels and short fuse levels are fantastic.especially when the pigs crash onto different chemicals is just great.suggestion to all those players who cringe about too much ads is close ur wi-fi connection and then play the game.then the ads won't trouble you.                                                                                                                   \n",
              "889  ads are way to heavy listen to the bad reviews. there are ads after every round, whether you pass it or fail it. sometimes there are ads before the next round starts to. you spend more time on ads than game play. i develop web apps, and honestly many people rely on ads to make a living. i can appreciate that all to well. however, these developers have went far beyond that. frankly, they are disrespectful nitwits.\n",
              "890  fun works perfectly well. ads aren't as annoying as you think, especially for a free game.                                                                                                                                                                                                                                                                                                                                      \n",
              "891  they're everywhere i see angry birds everywhere because i can't stop playing this game. get out my head devs! 4 đ\\u009f\\u008c\\u009f because nothing's perfect                                                                                                                                                                                                                                                                   \n",
              "    polarity\n",
              "886 1       \n",
              "887 1       \n",
              "888 1       \n",
              "889 0       \n",
              "890 1       \n",
              "891 1       "
            ]
          },
          "metadata": {}
        }
      ]
    },
    {
      "cell_type": "markdown",
      "source": [
        "### <font color='#3d59c6'>  1.1 Exploración </font>"
      ],
      "metadata": {
        "id": "jbP52nidMPec"
      },
      "id": "jbP52nidMPec"
    },
    {
      "cell_type": "code",
      "source": [
        "str(data_subject)"
      ],
      "metadata": {
        "colab": {
          "base_uri": "https://localhost:8080/"
        },
        "id": "O-qQ6YJTL8DP",
        "outputId": "279902fb-8105-40a8-e286-08ae86c9823c"
      },
      "id": "O-qQ6YJTL8DP",
      "execution_count": 4,
      "outputs": [
        {
          "output_type": "stream",
          "name": "stdout",
          "text": [
            "'data.frame':\t891 obs. of  3 variables:\n",
            " $ package_name: chr  \"com.facebook.katana\" \"com.facebook.katana\" \"com.facebook.katana\" \"com.facebook.katana\" ...\n",
            " $ review      : chr  \" privacy at least put some option appear offline. i mean for some people like me it's a big pressure to be seen\"| __truncated__ \" messenger issues ever since the last update, initial received messages don't get pushed to the messenger app a\"| __truncated__ \" profile any time my wife or anybody has more than one post and i view them it would take me to there profile s\"| __truncated__ \" the new features suck for those of us who don't have a working back button can you guys make the videos able t\"| __truncated__ ...\n",
            " $ polarity    : int  0 0 0 0 0 0 0 0 0 0 ...\n"
          ]
        }
      ]
    },
    {
      "cell_type": "code",
      "source": [
        "# Proporción de clases\n",
        "round(prop.table(table(data_subject$polarity))*100, digits = 1)"
      ],
      "metadata": {
        "colab": {
          "base_uri": "https://localhost:8080/",
          "height": 69
        },
        "id": "T7HByX8JQxYo",
        "outputId": "abd1f50d-c2e0-4684-9b60-019b09a0a57f"
      },
      "id": "T7HByX8JQxYo",
      "execution_count": 5,
      "outputs": [
        {
          "output_type": "display_data",
          "data": {
            "text/plain": [
              "\n",
              "   0    1 \n",
              "65.5 34.5 "
            ]
          },
          "metadata": {}
        }
      ]
    },
    {
      "cell_type": "markdown",
      "source": [
        "El balanceo del sentimiento se encuentra ligeramente desbalanceado. 65% de los sentimientos son neutros y el resto son sentimientos extremos"
      ],
      "metadata": {
        "id": "2I6aNLMdVYUl"
      },
      "id": "2I6aNLMdVYUl"
    },
    {
      "cell_type": "code",
      "source": [
        "# Establecemos el tipo de dato a factor\n",
        "data_subject$polarity = factor(data_subject$polarity)\n",
        "data_subject$polarity"
      ],
      "metadata": {
        "colab": {
          "base_uri": "https://localhost:8080/",
          "height": 191
        },
        "id": "couiQJjGQ2RJ",
        "outputId": "5fa45462-0de8-4639-fbe3-1f9e22745a9a"
      },
      "id": "couiQJjGQ2RJ",
      "execution_count": 6,
      "outputs": [
        {
          "output_type": "display_data",
          "data": {
            "text/html": [
              "<style>\n",
              ".list-inline {list-style: none; margin:0; padding: 0}\n",
              ".list-inline>li {display: inline-block}\n",
              ".list-inline>li:not(:last-child)::after {content: \"\\00b7\"; padding: 0 .5ex}\n",
              "</style>\n",
              "<ol class=list-inline><li>0</li><li>0</li><li>0</li><li>0</li><li>0</li><li>0</li><li>0</li><li>0</li><li>0</li><li>0</li><li>0</li><li>0</li><li>0</li><li>0</li><li>0</li><li>0</li><li>0</li><li>0</li><li>0</li><li>0</li><li>0</li><li>0</li><li>0</li><li>0</li><li>0</li><li>0</li><li>0</li><li>0</li><li>0</li><li>0</li><li>0</li><li>0</li><li>0</li><li>0</li><li>0</li><li>0</li><li>0</li><li>0</li><li>0</li><li>0</li><li>0</li><li>0</li><li>0</li><li>0</li><li>0</li><li>0</li><li>0</li><li>0</li><li>0</li><li>0</li><li>0</li><li>0</li><li>0</li><li>0</li><li>0</li><li>0</li><li>0</li><li>0</li><li>0</li><li>0</li><li>0</li><li>0</li><li>0</li><li>0</li><li>0</li><li>0</li><li>0</li><li>0</li><li>0</li><li>0</li><li>0</li><li>0</li><li>0</li><li>1</li><li>0</li><li>0</li><li>0</li><li>0</li><li>0</li><li>0</li><li>0</li><li>0</li><li>0</li><li>0</li><li>0</li><li>0</li><li>0</li><li>0</li><li>0</li><li>0</li><li>0</li><li>0</li><li>0</li><li>0</li><li>0</li><li>0</li><li>0</li><li>0</li><li>0</li><li>0</li><li>0</li><li>0</li><li>0</li><li>0</li><li>0</li><li>1</li><li>0</li><li>0</li><li>0</li><li>0</li><li>0</li><li>0</li><li>0</li><li>1</li><li>0</li><li>0</li><li>0</li><li>0</li><li>0</li><li>0</li><li>0</li><li>0</li><li>0</li><li>0</li><li>0</li><li>1</li><li>0</li><li>0</li><li>1</li><li>0</li><li>0</li><li>0</li><li>0</li><li>0</li><li>0</li><li>1</li><li>0</li><li>0</li><li>0</li><li>0</li><li>0</li><li>0</li><li>1</li><li>0</li><li>0</li><li>1</li><li>0</li><li>1</li><li>0</li><li>0</li><li>0</li><li>1</li><li>0</li><li>0</li><li>0</li><li>0</li><li>0</li><li>0</li><li>0</li><li>0</li><li>1</li><li>1</li><li>1</li><li>0</li><li>0</li><li>0</li><li>0</li><li>0</li><li>0</li><li>1</li><li>1</li><li>1</li><li>1</li><li>1</li><li>0</li><li>1</li><li>1</li><li>0</li><li>1</li><li>0</li><li>0</li><li>0</li><li>1</li><li>0</li><li>1</li><li>1</li><li>0</li><li>0</li><li>1</li><li>1</li><li>0</li><li>0</li><li>0</li><li>0</li><li>1</li><li>1</li><li>0</li><li>0</li><li>0</li><li>0</li><li>⋯</li><li>1</li><li>1</li><li>1</li><li>1</li><li>1</li><li>1</li><li>1</li><li>1</li><li>0</li><li>1</li><li>1</li><li>1</li><li>1</li><li>1</li><li>0</li><li>0</li><li>0</li><li>0</li><li>0</li><li>0</li><li>0</li><li>0</li><li>0</li><li>0</li><li>0</li><li>0</li><li>0</li><li>0</li><li>0</li><li>0</li><li>0</li><li>0</li><li>0</li><li>0</li><li>0</li><li>0</li><li>0</li><li>0</li><li>1</li><li>0</li><li>0</li><li>0</li><li>0</li><li>0</li><li>0</li><li>1</li><li>0</li><li>0</li><li>0</li><li>0</li><li>1</li><li>0</li><li>1</li><li>0</li><li>0</li><li>0</li><li>0</li><li>0</li><li>0</li><li>0</li><li>1</li><li>1</li><li>1</li><li>1</li><li>0</li><li>1</li><li>0</li><li>1</li><li>0</li><li>1</li><li>1</li><li>1</li><li>1</li><li>1</li><li>0</li><li>1</li><li>1</li><li>0</li><li>0</li><li>0</li><li>0</li><li>0</li><li>0</li><li>0</li><li>0</li><li>0</li><li>0</li><li>0</li><li>0</li><li>0</li><li>0</li><li>0</li><li>0</li><li>1</li><li>0</li><li>0</li><li>0</li><li>0</li><li>1</li><li>1</li><li>1</li><li>1</li><li>1</li><li>1</li><li>1</li><li>1</li><li>0</li><li>0</li><li>0</li><li>1</li><li>0</li><li>0</li><li>1</li><li>0</li><li>0</li><li>0</li><li>1</li><li>1</li><li>1</li><li>1</li><li>1</li><li>1</li><li>1</li><li>1</li><li>1</li><li>1</li><li>1</li><li>1</li><li>1</li><li>1</li><li>1</li><li>1</li><li>1</li><li>1</li><li>1</li><li>1</li><li>1</li><li>1</li><li>1</li><li>1</li><li>1</li><li>1</li><li>1</li><li>1</li><li>1</li><li>1</li><li>1</li><li>1</li><li>1</li><li>1</li><li>1</li><li>1</li><li>1</li><li>1</li><li>1</li><li>1</li><li>1</li><li>1</li><li>1</li><li>1</li><li>1</li><li>1</li><li>1</li><li>1</li><li>1</li><li>0</li><li>1</li><li>1</li><li>0</li><li>1</li><li>0</li><li>0</li><li>1</li><li>1</li><li>1</li><li>1</li><li>1</li><li>1</li><li>1</li><li>1</li><li>1</li><li>1</li><li>1</li><li>1</li><li>1</li><li>0</li><li>0</li><li>1</li><li>1</li><li>1</li><li>0</li><li>0</li><li>1</li><li>1</li><li>1</li><li>1</li><li>1</li><li>0</li><li>1</li><li>1</li></ol>\n",
              "\n",
              "<details>\n",
              "\t<summary style=display:list-item;cursor:pointer>\n",
              "\t\t<strong>Levels</strong>:\n",
              "\t</summary>\n",
              "\t<style>\n",
              "\t.list-inline {list-style: none; margin:0; padding: 0}\n",
              "\t.list-inline>li {display: inline-block}\n",
              "\t.list-inline>li:not(:last-child)::after {content: \"\\00b7\"; padding: 0 .5ex}\n",
              "\t</style>\n",
              "\t<ol class=list-inline><li>'0'</li><li>'1'</li></ol>\n",
              "</details>"
            ],
            "text/markdown": "1. 0\n2. 0\n3. 0\n4. 0\n5. 0\n6. 0\n7. 0\n8. 0\n9. 0\n10. 0\n11. 0\n12. 0\n13. 0\n14. 0\n15. 0\n16. 0\n17. 0\n18. 0\n19. 0\n20. 0\n21. 0\n22. 0\n23. 0\n24. 0\n25. 0\n26. 0\n27. 0\n28. 0\n29. 0\n30. 0\n31. 0\n32. 0\n33. 0\n34. 0\n35. 0\n36. 0\n37. 0\n38. 0\n39. 0\n40. 0\n41. 0\n42. 0\n43. 0\n44. 0\n45. 0\n46. 0\n47. 0\n48. 0\n49. 0\n50. 0\n51. 0\n52. 0\n53. 0\n54. 0\n55. 0\n56. 0\n57. 0\n58. 0\n59. 0\n60. 0\n61. 0\n62. 0\n63. 0\n64. 0\n65. 0\n66. 0\n67. 0\n68. 0\n69. 0\n70. 0\n71. 0\n72. 0\n73. 0\n74. 1\n75. 0\n76. 0\n77. 0\n78. 0\n79. 0\n80. 0\n81. 0\n82. 0\n83. 0\n84. 0\n85. 0\n86. 0\n87. 0\n88. 0\n89. 0\n90. 0\n91. 0\n92. 0\n93. 0\n94. 0\n95. 0\n96. 0\n97. 0\n98. 0\n99. 0\n100. 0\n101. 0\n102. 0\n103. 0\n104. 0\n105. 0\n106. 1\n107. 0\n108. 0\n109. 0\n110. 0\n111. 0\n112. 0\n113. 0\n114. 1\n115. 0\n116. 0\n117. 0\n118. 0\n119. 0\n120. 0\n121. 0\n122. 0\n123. 0\n124. 0\n125. 0\n126. 1\n127. 0\n128. 0\n129. 1\n130. 0\n131. 0\n132. 0\n133. 0\n134. 0\n135. 0\n136. 1\n137. 0\n138. 0\n139. 0\n140. 0\n141. 0\n142. 0\n143. 1\n144. 0\n145. 0\n146. 1\n147. 0\n148. 1\n149. 0\n150. 0\n151. 0\n152. 1\n153. 0\n154. 0\n155. 0\n156. 0\n157. 0\n158. 0\n159. 0\n160. 0\n161. 1\n162. 1\n163. 1\n164. 0\n165. 0\n166. 0\n167. 0\n168. 0\n169. 0\n170. 1\n171. 1\n172. 1\n173. 1\n174. 1\n175. 0\n176. 1\n177. 1\n178. 0\n179. 1\n180. 0\n181. 0\n182. 0\n183. 1\n184. 0\n185. 1\n186. 1\n187. 0\n188. 0\n189. 1\n190. 1\n191. 0\n192. 0\n193. 0\n194. 0\n195. 1\n196. 1\n197. 0\n198. 0\n199. 0\n200. 0\n201. ⋯\n202. 1\n203. 1\n204. 1\n205. 1\n206. 1\n207. 1\n208. 1\n209. 1\n210. 0\n211. 1\n212. 1\n213. 1\n214. 1\n215. 1\n216. 0\n217. 0\n218. 0\n219. 0\n220. 0\n221. 0\n222. 0\n223. 0\n224. 0\n225. 0\n226. 0\n227. 0\n228. 0\n229. 0\n230. 0\n231. 0\n232. 0\n233. 0\n234. 0\n235. 0\n236. 0\n237. 0\n238. 0\n239. 0\n240. 1\n241. 0\n242. 0\n243. 0\n244. 0\n245. 0\n246. 0\n247. 1\n248. 0\n249. 0\n250. 0\n251. 0\n252. 1\n253. 0\n254. 1\n255. 0\n256. 0\n257. 0\n258. 0\n259. 0\n260. 0\n261. 0\n262. 1\n263. 1\n264. 1\n265. 1\n266. 0\n267. 1\n268. 0\n269. 1\n270. 0\n271. 1\n272. 1\n273. 1\n274. 1\n275. 1\n276. 0\n277. 1\n278. 1\n279. 0\n280. 0\n281. 0\n282. 0\n283. 0\n284. 0\n285. 0\n286. 0\n287. 0\n288. 0\n289. 0\n290. 0\n291. 0\n292. 0\n293. 0\n294. 0\n295. 1\n296. 0\n297. 0\n298. 0\n299. 0\n300. 1\n301. 1\n302. 1\n303. 1\n304. 1\n305. 1\n306. 1\n307. 1\n308. 0\n309. 0\n310. 0\n311. 1\n312. 0\n313. 0\n314. 1\n315. 0\n316. 0\n317. 0\n318. 1\n319. 1\n320. 1\n321. 1\n322. 1\n323. 1\n324. 1\n325. 1\n326. 1\n327. 1\n328. 1\n329. 1\n330. 1\n331. 1\n332. 1\n333. 1\n334. 1\n335. 1\n336. 1\n337. 1\n338. 1\n339. 1\n340. 1\n341. 1\n342. 1\n343. 1\n344. 1\n345. 1\n346. 1\n347. 1\n348. 1\n349. 1\n350. 1\n351. 1\n352. 1\n353. 1\n354. 1\n355. 1\n356. 1\n357. 1\n358. 1\n359. 1\n360. 1\n361. 1\n362. 1\n363. 1\n364. 1\n365. 1\n366. 1\n367. 0\n368. 1\n369. 1\n370. 0\n371. 1\n372. 0\n373. 0\n374. 1\n375. 1\n376. 1\n377. 1\n378. 1\n379. 1\n380. 1\n381. 1\n382. 1\n383. 1\n384. 1\n385. 1\n386. 1\n387. 0\n388. 0\n389. 1\n390. 1\n391. 1\n392. 0\n393. 0\n394. 1\n395. 1\n396. 1\n397. 1\n398. 1\n399. 0\n400. 1\n401. 1\n\n\n\n**Levels**: 1. '0'\n2. '1'\n\n\n",
            "text/latex": "\\begin{enumerate*}\n\\item 0\n\\item 0\n\\item 0\n\\item 0\n\\item 0\n\\item 0\n\\item 0\n\\item 0\n\\item 0\n\\item 0\n\\item 0\n\\item 0\n\\item 0\n\\item 0\n\\item 0\n\\item 0\n\\item 0\n\\item 0\n\\item 0\n\\item 0\n\\item 0\n\\item 0\n\\item 0\n\\item 0\n\\item 0\n\\item 0\n\\item 0\n\\item 0\n\\item 0\n\\item 0\n\\item 0\n\\item 0\n\\item 0\n\\item 0\n\\item 0\n\\item 0\n\\item 0\n\\item 0\n\\item 0\n\\item 0\n\\item 0\n\\item 0\n\\item 0\n\\item 0\n\\item 0\n\\item 0\n\\item 0\n\\item 0\n\\item 0\n\\item 0\n\\item 0\n\\item 0\n\\item 0\n\\item 0\n\\item 0\n\\item 0\n\\item 0\n\\item 0\n\\item 0\n\\item 0\n\\item 0\n\\item 0\n\\item 0\n\\item 0\n\\item 0\n\\item 0\n\\item 0\n\\item 0\n\\item 0\n\\item 0\n\\item 0\n\\item 0\n\\item 0\n\\item 1\n\\item 0\n\\item 0\n\\item 0\n\\item 0\n\\item 0\n\\item 0\n\\item 0\n\\item 0\n\\item 0\n\\item 0\n\\item 0\n\\item 0\n\\item 0\n\\item 0\n\\item 0\n\\item 0\n\\item 0\n\\item 0\n\\item 0\n\\item 0\n\\item 0\n\\item 0\n\\item 0\n\\item 0\n\\item 0\n\\item 0\n\\item 0\n\\item 0\n\\item 0\n\\item 0\n\\item 0\n\\item 1\n\\item 0\n\\item 0\n\\item 0\n\\item 0\n\\item 0\n\\item 0\n\\item 0\n\\item 1\n\\item 0\n\\item 0\n\\item 0\n\\item 0\n\\item 0\n\\item 0\n\\item 0\n\\item 0\n\\item 0\n\\item 0\n\\item 0\n\\item 1\n\\item 0\n\\item 0\n\\item 1\n\\item 0\n\\item 0\n\\item 0\n\\item 0\n\\item 0\n\\item 0\n\\item 1\n\\item 0\n\\item 0\n\\item 0\n\\item 0\n\\item 0\n\\item 0\n\\item 1\n\\item 0\n\\item 0\n\\item 1\n\\item 0\n\\item 1\n\\item 0\n\\item 0\n\\item 0\n\\item 1\n\\item 0\n\\item 0\n\\item 0\n\\item 0\n\\item 0\n\\item 0\n\\item 0\n\\item 0\n\\item 1\n\\item 1\n\\item 1\n\\item 0\n\\item 0\n\\item 0\n\\item 0\n\\item 0\n\\item 0\n\\item 1\n\\item 1\n\\item 1\n\\item 1\n\\item 1\n\\item 0\n\\item 1\n\\item 1\n\\item 0\n\\item 1\n\\item 0\n\\item 0\n\\item 0\n\\item 1\n\\item 0\n\\item 1\n\\item 1\n\\item 0\n\\item 0\n\\item 1\n\\item 1\n\\item 0\n\\item 0\n\\item 0\n\\item 0\n\\item 1\n\\item 1\n\\item 0\n\\item 0\n\\item 0\n\\item 0\n\\item ⋯\n\\item 1\n\\item 1\n\\item 1\n\\item 1\n\\item 1\n\\item 1\n\\item 1\n\\item 1\n\\item 0\n\\item 1\n\\item 1\n\\item 1\n\\item 1\n\\item 1\n\\item 0\n\\item 0\n\\item 0\n\\item 0\n\\item 0\n\\item 0\n\\item 0\n\\item 0\n\\item 0\n\\item 0\n\\item 0\n\\item 0\n\\item 0\n\\item 0\n\\item 0\n\\item 0\n\\item 0\n\\item 0\n\\item 0\n\\item 0\n\\item 0\n\\item 0\n\\item 0\n\\item 0\n\\item 1\n\\item 0\n\\item 0\n\\item 0\n\\item 0\n\\item 0\n\\item 0\n\\item 1\n\\item 0\n\\item 0\n\\item 0\n\\item 0\n\\item 1\n\\item 0\n\\item 1\n\\item 0\n\\item 0\n\\item 0\n\\item 0\n\\item 0\n\\item 0\n\\item 0\n\\item 1\n\\item 1\n\\item 1\n\\item 1\n\\item 0\n\\item 1\n\\item 0\n\\item 1\n\\item 0\n\\item 1\n\\item 1\n\\item 1\n\\item 1\n\\item 1\n\\item 0\n\\item 1\n\\item 1\n\\item 0\n\\item 0\n\\item 0\n\\item 0\n\\item 0\n\\item 0\n\\item 0\n\\item 0\n\\item 0\n\\item 0\n\\item 0\n\\item 0\n\\item 0\n\\item 0\n\\item 0\n\\item 0\n\\item 1\n\\item 0\n\\item 0\n\\item 0\n\\item 0\n\\item 1\n\\item 1\n\\item 1\n\\item 1\n\\item 1\n\\item 1\n\\item 1\n\\item 1\n\\item 0\n\\item 0\n\\item 0\n\\item 1\n\\item 0\n\\item 0\n\\item 1\n\\item 0\n\\item 0\n\\item 0\n\\item 1\n\\item 1\n\\item 1\n\\item 1\n\\item 1\n\\item 1\n\\item 1\n\\item 1\n\\item 1\n\\item 1\n\\item 1\n\\item 1\n\\item 1\n\\item 1\n\\item 1\n\\item 1\n\\item 1\n\\item 1\n\\item 1\n\\item 1\n\\item 1\n\\item 1\n\\item 1\n\\item 1\n\\item 1\n\\item 1\n\\item 1\n\\item 1\n\\item 1\n\\item 1\n\\item 1\n\\item 1\n\\item 1\n\\item 1\n\\item 1\n\\item 1\n\\item 1\n\\item 1\n\\item 1\n\\item 1\n\\item 1\n\\item 1\n\\item 1\n\\item 1\n\\item 1\n\\item 1\n\\item 1\n\\item 1\n\\item 1\n\\item 0\n\\item 1\n\\item 1\n\\item 0\n\\item 1\n\\item 0\n\\item 0\n\\item 1\n\\item 1\n\\item 1\n\\item 1\n\\item 1\n\\item 1\n\\item 1\n\\item 1\n\\item 1\n\\item 1\n\\item 1\n\\item 1\n\\item 1\n\\item 0\n\\item 0\n\\item 1\n\\item 1\n\\item 1\n\\item 0\n\\item 0\n\\item 1\n\\item 1\n\\item 1\n\\item 1\n\\item 1\n\\item 0\n\\item 1\n\\item 1\n\\end{enumerate*}\n\n\\emph{Levels}: \\begin{enumerate*}\n\\item '0'\n\\item '1'\n\\end{enumerate*}\n",
            "text/plain": [
              "  [1] 0 0 0 0 0 0 0 0 0 0 0 0 0 0 0 0 0 0 0 0 0 0 0 0 0 0 0 0 0 0 0 0 0 0 0 0 0\n",
              " [38] 0 0 0 0 0 0 0 0 0 0 0 0 0 0 0 0 0 0 0 0 0 0 0 0 0 0 0 0 0 0 0 0 0 0 0 0 1\n",
              " [75] 0 0 0 0 0 0 0 0 0 0 0 0 0 0 0 0 0 0 0 0 0 0 0 0 0 0 0 0 0 0 0 1 0 0 0 0 0\n",
              "[112] 0 0 1 0 0 0 0 0 0 0 0 0 0 0 1 0 0 1 0 0 0 0 0 0 1 0 0 0 0 0 0 1 0 0 1 0 1\n",
              "[149] 0 0 0 1 0 0 0 0 0 0 0 0 1 1 1 0 0 0 0 0 0 1 1 1 1 1 0 1 1 0 1 0 0 0 1 0 1\n",
              "[186] 1 0 0 1 1 0 0 0 0 1 1 0 0 0 0 0 0 0 0 0 0 0 0 0 0 0 0 0 0 0 0 0 0 0 0 0 0\n",
              "[223] 0 1 0 0 0 0 0 0 0 0 1 0 0 0 0 0 0 0 0 0 0 0 0 0 0 1 0 0 0 0 0 0 0 1 0 0 0\n",
              "[260] 0 1 0 1 1 0 0 0 0 0 0 0 0 0 0 0 0 0 0 0 0 0 0 0 0 0 0 0 0 0 0 0 0 0 0 0 0\n",
              "[297] 0 0 0 0 0 0 0 0 0 0 0 0 0 0 0 0 0 0 0 0 0 0 0 0 0 0 0 0 0 0 0 0 0 0 0 0 0\n",
              "[334] 0 0 0 0 0 0 0 0 0 1 0 0 0 1 0 0 1 1 1 1 1 0 0 0 1 0 0 0 1 0 0 0 0 0 0 1 0\n",
              "[371] 0 0 0 0 0 0 0 0 0 0 0 0 0 0 0 0 0 0 0 0 0 0 0 0 0 0 0 0 0 0 0 0 1 0 0 0 0\n",
              "[408] 0 0 0 0 0 0 0 0 0 0 0 0 0 0 0 0 0 0 0 0 0 0 0 0 0 0 0 0 0 0 1 0 1 1 1 0 0\n",
              "[445] 0 0 1 0 0 0 0 1 0 1 1 0 1 0 0 0 0 0 1 0 0 0 0 0 0 0 0 0 1 0 0 1 0 0 0 1 1\n",
              "[482] 1 1 0 1 1 1 1 1 1 0 1 1 1 1 1 1 0 0 1 1 1 1 0 1 0 1 1 1 0 1 1 0 1 1 1 0 0\n",
              "[519] 0 0 0 0 0 0 0 1 0 1 1 0 0 1 0 1 1 0 0 0 0 0 1 0 0 1 1 0 1 1 1 1 1 1 0 1 0\n",
              "[556] 0 0 1 0 0 1 0 0 1 0 0 0 0 0 1 0 1 0 1 0 1 0 1 0 1 0 1 1 1 1 1 1 1 1 1 0 1\n",
              "[593] 1 1 0 0 0 1 0 1 0 0 1 1 1 0 1 1 1 1 1 1 1 1 1 0 1 1 1 0 0 0 1 1 1 0 1 1 1\n",
              "[630] 0 0 1 1 1 1 1 0 0 0 1 0 0 0 1 1 1 1 0 0 1 0 1 0 1 1 1 0 1 1 1 0 1 1 1 1 1\n",
              "[667] 1 0 1 1 0 0 0 1 1 1 1 1 1 1 1 1 1 1 1 1 1 1 1 1 1 1 1 1 1 1 1 1 1 0 1 1 1\n",
              "[704] 1 1 0 0 0 0 0 0 0 0 0 0 0 0 0 0 0 0 0 0 0 0 0 0 0 0 1 0 0 0 0 0 0 1 0 0 0\n",
              "[741] 0 1 0 1 0 0 0 0 0 0 0 1 1 1 1 0 1 0 1 0 1 1 1 1 1 0 1 1 0 0 0 0 0 0 0 0 0\n",
              "[778] 0 0 0 0 0 0 0 1 0 0 0 0 1 1 1 1 1 1 1 1 0 0 0 1 0 0 1 0 0 0 1 1 1 1 1 1 1\n",
              "[815] 1 1 1 1 1 1 1 1 1 1 1 1 1 1 1 1 1 1 1 1 1 1 1 1 1 1 1 1 1 1 1 1 1 1 1 1 1\n",
              "[852] 1 1 1 1 1 0 1 1 0 1 0 0 1 1 1 1 1 1 1 1 1 1 1 1 1 0 0 1 1 1 0 0 1 1 1 1 1\n",
              "[889] 0 1 1\n",
              "Levels: 0 1"
            ]
          },
          "metadata": {}
        }
      ]
    },
    {
      "cell_type": "markdown",
      "source": [
        "### <font color='#3d59c6'>  1.2 Transformación y limpieza de instancias  </font>"
      ],
      "metadata": {
        "id": "vfX4uleOQ8Qk"
      },
      "id": "vfX4uleOQ8Qk"
    },
    {
      "cell_type": "markdown",
      "source": [
        "\n",
        "Procedemos a crear un mapa de palabras para analizar que palabras se repiten más.\n",
        "\n",
        "Se aplica la función VectorSource() para tratar cada fila como si fuese un documento.\n",
        "VCorpus() alamcenana la colección de \"datos\" (documentos).\n",
        "\n",
        "**VENTAJAS**\n",
        "\n",
        "- A nivel computacional los datos se guardan en la memoria, por lo que computacionalmente es más eficiente\n",
        "- El tipo de almacenamiento corpus tiene funciones que nos permiten manipular textos de una forma eficiente con funciones predefinidas"
      ],
      "metadata": {
        "id": "88tx-1ThWUsd"
      },
      "id": "88tx-1ThWUsd"
    },
    {
      "cell_type": "code",
      "source": [
        "replacePunctuation = function(x) {\n",
        "  # Reemplaza la puntuación por un espacio en blanco\n",
        "  gsub('[[:punct:]]', ' ', x)\n",
        "}\n",
        "\n",
        "removeAccents = function(x) {\n",
        "  # Remueve los acentos\n",
        "  chartr('àáèéìíòóùú', 'aaeeiioouu', x)\n",
        "}\n",
        "\n",
        "removeSpecialWords = function(x) {\n",
        "  # Elimina palabras que no contienen caracteres alfabéticos\n",
        "  words <- unlist(strsplit(as.character(x), \" \"))\n",
        "  words <- words[!grepl(\"[^[:alpha:]]\", words)]\n",
        "  paste(words, collapse = \" \")\n",
        "}\n",
        "\n",
        "clean_corpus = function(corpus){\n",
        "  data_corpus_clean = tm_map(corpus, content_transformer(tolower))\n",
        "  data_corpus_clean = tm_map(data_corpus_clean, removeNumbers)\n",
        "  data_corpus_clean = tm_map(data_corpus_clean, removeWords, stopwords('english'))\n",
        "  data_corpus_clean = tm_map(data_corpus_clean, removeWords, stopwords())\n",
        "  data_corpus_clean = tm_map(data_corpus_clean, removePunctuation)\n",
        "  data_corpus_clean = tm_map(data_corpus_clean, replacePunctuation)\n",
        "  data_corpus_clean = tm_map(data_corpus_clean, removeAccents)\n",
        "  data_corpus_clean = tm_map(data_corpus_clean, stripWhitespace)\n",
        "  data_corpus_clean = tm_map(data_corpus_clean, removeWords, c('the', 'if','is','are'))\n",
        "  data_corpus_clean = tm_map(data_corpus_clean, stemDocument, 'english')\n",
        "  data_corpus_clean = tm_map(data_corpus_clean, removeSpecialWords)\n",
        "  data_corpus_clean = tm_map(data_corpus_clean, PlainTextDocument)\n",
        "\n",
        "  data_corpus_clean\n",
        "}\n"
      ],
      "metadata": {
        "id": "YE1V23xOXNVi"
      },
      "id": "YE1V23xOXNVi",
      "execution_count": 162,
      "outputs": []
    },
    {
      "cell_type": "markdown",
      "source": [
        "Luego de examinar la matríz observamos que hay palabras que no contienen caracteres alphabeticos, se crea una función para eliminar esas palabras"
      ],
      "metadata": {
        "id": "ojTs_yvqX-w8"
      },
      "id": "ojTs_yvqX-w8"
    },
    {
      "cell_type": "code",
      "source": [
        "data_corpus = VCorpus(VectorSource(data_subject$review),readerControl = list(language = 'en'))\n",
        "data_corpus_clean = clean_corpus(data_corpus)\n",
        "print(lapply(data_corpus[[1]][1], as.character))\n",
        "print(lapply(data_corpus_clean[[1]][1], as.character))"
      ],
      "metadata": {
        "colab": {
          "base_uri": "https://localhost:8080/"
        },
        "id": "wBQJeydIDICh",
        "outputId": "07da6fe6-dbdd-48a8-d18a-65216c71a0ad"
      },
      "id": "wBQJeydIDICh",
      "execution_count": 163,
      "outputs": [
        {
          "output_type": "stream",
          "name": "stdout",
          "text": [
            "$content\n",
            "[1] \" privacy at least put some option appear offline. i mean for some people like me it's a big pressure to be seen online like you need to response on every message or else you be called seenzone only. if only i wanna do on facebook is to read on my newsfeed and just wanna response on message i want to. pls reconsidered my review. i tried to turn off chat but still can see me as online.\"\n",
            "\n",
            "$content\n",
            "[1] \"privaci least put option appear offlin mean peopl like big pressur seen onlin like need respons everi messag els call seenzon wanna facebook read newsfe just wanna respons messag want pls reconsid review tri turn chat still can see onlin\"\n",
            "\n"
          ]
        }
      ]
    },
    {
      "cell_type": "markdown",
      "source": [
        "La transformación del texto se lleva a cabo utilizando la función tm_map(), que permite quitar signos de puntuación, eliminar acentos, espacios, y realizar otras operaciones de limpieza y preprocesamiento del texto.\n",
        "\n",
        "En principio, se ve que todos los comentarios no tienen mayúsculas, sin embargo, utilizamos esta transformación para asegurarnos de que no haya mayúsculas.\n",
        "\n",
        "No suele haber en inglés estos caracteres con acentos, se hace para asegurar que no haya por cualquier motivo."
      ],
      "metadata": {
        "id": "JB5YeY9HD6hJ"
      },
      "id": "JB5YeY9HD6hJ"
    },
    {
      "cell_type": "code",
      "source": [
        "wordcloud(data_corpus_clean, max.words = 30, random.order = F, colors = brewer.pal(name = \"Dark2\", n = 8))"
      ],
      "metadata": {
        "colab": {
          "base_uri": "https://localhost:8080/",
          "height": 437
        },
        "id": "BNW-T4XdDrmb",
        "outputId": "dea46d49-0531-4bde-d862-16553106e1b3"
      },
      "id": "BNW-T4XdDrmb",
      "execution_count": 164,
      "outputs": [
        {
          "output_type": "display_data",
          "data": {
            "text/plain": [
              "plot without title"
            ],
            "image/png": "[encoded data removed]"
          },
          "metadata": {
            "image/png": {
              "width": 420,
              "height": 420
            }
          }
        }
      ]
    },
    {
      "cell_type": "markdown",
      "source": [
        "Se observan palabras positivas como great, good love; negativas como fix y neutrales como even."
      ],
      "metadata": {
        "id": "QW0GJWX8Eo1A"
      },
      "id": "QW0GJWX8Eo1A"
    },
    {
      "cell_type": "code",
      "source": [
        "data_subject_neutral = subset(data_subject, data_subject$polarity =='0')\n",
        "data_corpus_neutral = VCorpus(VectorSource(data_subject_neutral$review),readerControl = list(language = 'en'))\n",
        "data_corpus_clean_neutral = clean_corpus(data_corpus_neutral)\n",
        "\n",
        "wordcloud(data_corpus_clean_neutral, max.words = 30, random.order = F, colors = brewer.pal(name = \"Dark2\", n = 8))"
      ],
      "metadata": {
        "colab": {
          "base_uri": "https://localhost:8080/",
          "height": 437
        },
        "id": "LA2LxIWtEn_o",
        "outputId": "bb20fcfb-9b32-445d-f75d-0c779f04628f"
      },
      "id": "LA2LxIWtEn_o",
      "execution_count": 165,
      "outputs": [
        {
          "output_type": "display_data",
          "data": {
            "text/plain": [
              "plot without title"
            ],
            "image/png": "[encoded data removed]"
          },
          "metadata": {
            "image/png": {
              "width": 420,
              "height": 420
            }
          }
        }
      ]
    },
    {
      "cell_type": "markdown",
      "source": [
        "En la nube de palabras neutral, se dejan de ver palabras asociadas a sentimientos. aunque aun se observa \"good\", \"like\""
      ],
      "metadata": {
        "id": "kjCsErjVFjGq"
      },
      "id": "kjCsErjVFjGq"
    },
    {
      "cell_type": "code",
      "source": [
        "data_subject_extreme = subset(data_subject, data_subject$polarity =='1')\n",
        "data_corpus_extreme = VCorpus(VectorSource(data_subject_extreme$review),readerControl = list(language = 'en'))\n",
        "data_corpus_clean_extreme = clean_corpus(data_corpus_extreme)\n",
        "\n",
        "wordcloud(data_corpus_clean_extreme, max.words = 30, random.order = F, colors = brewer.pal(name = \"Dark2\", n = 8))"
      ],
      "metadata": {
        "colab": {
          "base_uri": "https://localhost:8080/",
          "height": 437
        },
        "id": "WLbF9ALcEn1-",
        "outputId": "65b360b0-0b6c-49c8-a2ee-ce178151da15"
      },
      "id": "WLbF9ALcEn1-",
      "execution_count": 166,
      "outputs": [
        {
          "output_type": "display_data",
          "data": {
            "text/plain": [
              "plot without title"
            ],
            "image/png": "[encoded data removed]"
          },
          "metadata": {
            "image/png": {
              "width": 420,
              "height": 420
            }
          }
        }
      ]
    },
    {
      "cell_type": "markdown",
      "source": [
        "En la nube de palabras extremos, se evidencian las palabras asociadas a sentimientos como great, best, love, best"
      ],
      "metadata": {
        "id": "No_GyW42GGuQ"
      },
      "id": "No_GyW42GGuQ"
    },
    {
      "cell_type": "markdown",
      "source": [
        "### <font color='#3d59c6'>  1.3 Separación Train y Test </font>"
      ],
      "metadata": {
        "id": "rljOAJ3MGv1H"
      },
      "id": "rljOAJ3MGv1H"
    },
    {
      "cell_type": "markdown",
      "source": [
        "Ahora se procede a descomponer cada mensaje en palabras individuales para crear la base del análisis. Esto se logra creando una matriz que tiene:\n",
        "\n",
        "*   Las columnas, que incluyen todas las palabras presentes en el corpus.\n",
        "*   Las filas, que representan cada mensaje según está definido en el conjunto de datos original.\n",
        "*   Los valores, que indican la frecuencia con la que cada palabra aparece en cada mensaje.\n",
        "\n",
        "\n",
        "Es importante destacar que la mayoría de las entradas de esta matriz serán 0, ya que muchas palabras no estarán presentes en algunos mensajes. Utilizaremos la función DocumentTermMatrix para generar esta matriz de manera eficiente."
      ],
      "metadata": {
        "id": "NaYzZvE5Ioza"
      },
      "id": "NaYzZvE5Ioza"
    },
    {
      "cell_type": "code",
      "source": [
        "dtm = DocumentTermMatrix(data_corpus_clean)\n",
        "dtm"
      ],
      "metadata": {
        "colab": {
          "base_uri": "https://localhost:8080/",
          "height": 104
        },
        "id": "O_i-uQepJDc1",
        "outputId": "0dff4c47-0e6a-42fb-d2a0-5111ac54e274"
      },
      "id": "O_i-uQepJDc1",
      "execution_count": 183,
      "outputs": [
        {
          "output_type": "display_data",
          "data": {
            "text/plain": [
              "<<DocumentTermMatrix (documents: 891, terms: 2625)>>\n",
              "Non-/sparse entries: 16614/2322261\n",
              "Sparsity           : 99%\n",
              "Maximal term length: 24\n",
              "Weighting          : term frequency (tf)"
            ]
          },
          "metadata": {}
        }
      ]
    },
    {
      "cell_type": "code",
      "source": [
        "str(dtm)"
      ],
      "metadata": {
        "colab": {
          "base_uri": "https://localhost:8080/"
        },
        "id": "9DdntEUKJLtO",
        "outputId": "308890c4-3f14-4ce1-d9af-945e8f4d3288"
      },
      "id": "9DdntEUKJLtO",
      "execution_count": 184,
      "outputs": [
        {
          "output_type": "stream",
          "name": "stdout",
          "text": [
            "List of 6\n",
            " $ i       : int [1:16614] 1 1 1 1 1 1 1 1 1 1 ...\n",
            " $ j       : int [1:16614] 121 239 335 342 383 712 761 806 1215 1274 ...\n",
            " $ v       : num [1:16614] 1 1 1 1 1 1 1 1 1 1 ...\n",
            " $ nrow    : int 891\n",
            " $ ncol    : int 2625\n",
            " $ dimnames:List of 2\n",
            "  ..$ Docs : chr [1:891] \"character(0)\" \"character(0)\" \"character(0)\" \"character(0)\" ...\n",
            "  ..$ Terms: chr [1:2625] \"aafnaii\" \"aakhirat\" \"aalikati\" \"aap\" ...\n",
            " - attr(*, \"class\")= chr [1:2] \"DocumentTermMatrix\" \"simple_triplet_matrix\"\n",
            " - attr(*, \"weighting\")= chr [1:2] \"term frequency\" \"tf\"\n"
          ]
        }
      ]
    },
    {
      "cell_type": "code",
      "source": [
        "as.matrix(dtm)"
      ],
      "metadata": {
        "colab": {
          "base_uri": "https://localhost:8080/",
          "height": 1000
        },
        "id": "1tVgyhe4Jjpp",
        "outputId": "dcaf0c9f-b1a6-4fff-ac32-f117eac0fa43"
      },
      "id": "1tVgyhe4Jjpp",
      "execution_count": 185,
      "outputs": [
        {
          "output_type": "display_data",
          "data": {
            "text/html": [
              "<table class=\"dataframe\">\n",
              "<caption>A matrix: 891 × 2625 of type dbl</caption>\n",
              "<thead>\n",
              "\t<tr><th></th><th scope=col>aafnaii</th><th scope=col>aakhirat</th><th scope=col>aalikati</th><th scope=col>aap</th><th scope=col>aapsssssss</th><th scope=col>aaru</th><th scope=col>abil</th><th scope=col>abk</th><th scope=col>abl</th><th scope=col>absolut</th><th scope=col>⋯</th><th scope=col>yep</th><th scope=col>yes</th><th scope=col>yet</th><th scope=col>youtub</th><th scope=col>yrs</th><th scope=col>yup</th><th scope=col>zenfon</th><th scope=col>zero</th><th scope=col>zespol</th><th scope=col>zoom</th></tr>\n",
              "</thead>\n",
              "<tbody>\n",
              "\t<tr><th scope=row>character(0)</th><td>0</td><td>0</td><td>0</td><td>0</td><td>0</td><td>0</td><td>0</td><td>0</td><td>0</td><td>0</td><td>⋯</td><td>0</td><td>0</td><td>0</td><td>0</td><td>0</td><td>0</td><td>0</td><td>0</td><td>0</td><td>0</td></tr>\n",
              "\t<tr><th scope=row>character(0)</th><td>0</td><td>0</td><td>0</td><td>0</td><td>0</td><td>0</td><td>0</td><td>0</td><td>0</td><td>0</td><td>⋯</td><td>0</td><td>0</td><td>0</td><td>0</td><td>0</td><td>0</td><td>0</td><td>0</td><td>0</td><td>0</td></tr>\n",
              "\t<tr><th scope=row>character(0)</th><td>0</td><td>0</td><td>0</td><td>0</td><td>0</td><td>0</td><td>0</td><td>0</td><td>0</td><td>0</td><td>⋯</td><td>0</td><td>0</td><td>0</td><td>0</td><td>0</td><td>0</td><td>0</td><td>0</td><td>0</td><td>0</td></tr>\n",
              "\t<tr><th scope=row>character(0)</th><td>0</td><td>0</td><td>0</td><td>0</td><td>0</td><td>0</td><td>0</td><td>0</td><td>1</td><td>0</td><td>⋯</td><td>0</td><td>0</td><td>0</td><td>0</td><td>0</td><td>0</td><td>0</td><td>0</td><td>0</td><td>0</td></tr>\n",
              "\t<tr><th scope=row>character(0)</th><td>0</td><td>0</td><td>0</td><td>0</td><td>0</td><td>0</td><td>0</td><td>0</td><td>0</td><td>0</td><td>⋯</td><td>0</td><td>0</td><td>0</td><td>0</td><td>0</td><td>0</td><td>0</td><td>0</td><td>0</td><td>0</td></tr>\n",
              "\t<tr><th scope=row>character(0)</th><td>0</td><td>0</td><td>0</td><td>0</td><td>0</td><td>0</td><td>0</td><td>0</td><td>0</td><td>0</td><td>⋯</td><td>0</td><td>0</td><td>0</td><td>0</td><td>0</td><td>0</td><td>0</td><td>0</td><td>0</td><td>0</td></tr>\n",
              "\t<tr><th scope=row>character(0)</th><td>0</td><td>0</td><td>0</td><td>0</td><td>0</td><td>0</td><td>0</td><td>0</td><td>0</td><td>0</td><td>⋯</td><td>0</td><td>0</td><td>0</td><td>0</td><td>0</td><td>0</td><td>0</td><td>0</td><td>0</td><td>0</td></tr>\n",
              "\t<tr><th scope=row>character(0)</th><td>0</td><td>0</td><td>0</td><td>0</td><td>0</td><td>0</td><td>0</td><td>0</td><td>0</td><td>0</td><td>⋯</td><td>0</td><td>0</td><td>0</td><td>0</td><td>0</td><td>0</td><td>0</td><td>1</td><td>0</td><td>0</td></tr>\n",
              "\t<tr><th scope=row>character(0)</th><td>0</td><td>0</td><td>0</td><td>0</td><td>0</td><td>0</td><td>0</td><td>0</td><td>0</td><td>0</td><td>⋯</td><td>0</td><td>0</td><td>0</td><td>0</td><td>0</td><td>0</td><td>0</td><td>0</td><td>0</td><td>0</td></tr>\n",
              "\t<tr><th scope=row>character(0)</th><td>0</td><td>0</td><td>0</td><td>0</td><td>0</td><td>0</td><td>0</td><td>0</td><td>0</td><td>0</td><td>⋯</td><td>0</td><td>0</td><td>0</td><td>0</td><td>0</td><td>0</td><td>0</td><td>0</td><td>0</td><td>0</td></tr>\n",
              "\t<tr><th scope=row>character(0)</th><td>0</td><td>0</td><td>0</td><td>0</td><td>0</td><td>0</td><td>0</td><td>0</td><td>0</td><td>0</td><td>⋯</td><td>0</td><td>0</td><td>0</td><td>0</td><td>0</td><td>0</td><td>0</td><td>0</td><td>0</td><td>0</td></tr>\n",
              "\t<tr><th scope=row>character(0)</th><td>0</td><td>0</td><td>0</td><td>0</td><td>0</td><td>0</td><td>0</td><td>0</td><td>0</td><td>0</td><td>⋯</td><td>0</td><td>0</td><td>0</td><td>0</td><td>0</td><td>0</td><td>0</td><td>0</td><td>0</td><td>0</td></tr>\n",
              "\t<tr><th scope=row>character(0)</th><td>0</td><td>0</td><td>0</td><td>0</td><td>0</td><td>0</td><td>0</td><td>0</td><td>0</td><td>0</td><td>⋯</td><td>0</td><td>0</td><td>0</td><td>0</td><td>0</td><td>0</td><td>0</td><td>0</td><td>0</td><td>0</td></tr>\n",
              "\t<tr><th scope=row>character(0)</th><td>0</td><td>0</td><td>0</td><td>0</td><td>0</td><td>0</td><td>0</td><td>0</td><td>1</td><td>0</td><td>⋯</td><td>0</td><td>0</td><td>0</td><td>0</td><td>0</td><td>0</td><td>0</td><td>0</td><td>0</td><td>0</td></tr>\n",
              "\t<tr><th scope=row>character(0)</th><td>0</td><td>0</td><td>0</td><td>0</td><td>0</td><td>0</td><td>0</td><td>0</td><td>0</td><td>0</td><td>⋯</td><td>0</td><td>0</td><td>0</td><td>0</td><td>0</td><td>0</td><td>0</td><td>0</td><td>0</td><td>0</td></tr>\n",
              "\t<tr><th scope=row>character(0)</th><td>0</td><td>0</td><td>0</td><td>0</td><td>0</td><td>0</td><td>0</td><td>0</td><td>0</td><td>0</td><td>⋯</td><td>0</td><td>0</td><td>0</td><td>0</td><td>0</td><td>0</td><td>0</td><td>0</td><td>0</td><td>0</td></tr>\n",
              "\t<tr><th scope=row>character(0)</th><td>0</td><td>0</td><td>0</td><td>0</td><td>0</td><td>0</td><td>0</td><td>0</td><td>0</td><td>0</td><td>⋯</td><td>0</td><td>0</td><td>0</td><td>0</td><td>0</td><td>0</td><td>0</td><td>0</td><td>0</td><td>0</td></tr>\n",
              "\t<tr><th scope=row>character(0)</th><td>0</td><td>0</td><td>0</td><td>0</td><td>0</td><td>0</td><td>0</td><td>0</td><td>0</td><td>0</td><td>⋯</td><td>0</td><td>0</td><td>0</td><td>0</td><td>0</td><td>0</td><td>0</td><td>0</td><td>0</td><td>0</td></tr>\n",
              "\t<tr><th scope=row>character(0)</th><td>0</td><td>0</td><td>0</td><td>0</td><td>0</td><td>0</td><td>0</td><td>0</td><td>0</td><td>0</td><td>⋯</td><td>0</td><td>0</td><td>0</td><td>0</td><td>0</td><td>0</td><td>0</td><td>0</td><td>0</td><td>0</td></tr>\n",
              "\t<tr><th scope=row>character(0)</th><td>0</td><td>0</td><td>0</td><td>0</td><td>0</td><td>0</td><td>0</td><td>0</td><td>0</td><td>0</td><td>⋯</td><td>0</td><td>0</td><td>1</td><td>0</td><td>0</td><td>0</td><td>0</td><td>0</td><td>0</td><td>0</td></tr>\n",
              "\t<tr><th scope=row>character(0)</th><td>0</td><td>0</td><td>0</td><td>0</td><td>0</td><td>0</td><td>0</td><td>0</td><td>0</td><td>0</td><td>⋯</td><td>0</td><td>0</td><td>1</td><td>0</td><td>0</td><td>0</td><td>0</td><td>0</td><td>0</td><td>0</td></tr>\n",
              "\t<tr><th scope=row>character(0)</th><td>0</td><td>0</td><td>0</td><td>0</td><td>0</td><td>0</td><td>0</td><td>0</td><td>0</td><td>0</td><td>⋯</td><td>0</td><td>0</td><td>0</td><td>0</td><td>0</td><td>0</td><td>0</td><td>0</td><td>0</td><td>0</td></tr>\n",
              "\t<tr><th scope=row>character(0)</th><td>0</td><td>0</td><td>0</td><td>0</td><td>0</td><td>0</td><td>0</td><td>0</td><td>0</td><td>0</td><td>⋯</td><td>0</td><td>0</td><td>0</td><td>0</td><td>0</td><td>0</td><td>0</td><td>0</td><td>0</td><td>0</td></tr>\n",
              "\t<tr><th scope=row>character(0)</th><td>0</td><td>0</td><td>0</td><td>0</td><td>0</td><td>0</td><td>0</td><td>0</td><td>0</td><td>0</td><td>⋯</td><td>0</td><td>0</td><td>0</td><td>0</td><td>0</td><td>0</td><td>0</td><td>0</td><td>0</td><td>0</td></tr>\n",
              "\t<tr><th scope=row>character(0)</th><td>0</td><td>0</td><td>0</td><td>0</td><td>0</td><td>0</td><td>0</td><td>0</td><td>0</td><td>0</td><td>⋯</td><td>0</td><td>0</td><td>0</td><td>0</td><td>0</td><td>0</td><td>0</td><td>0</td><td>0</td><td>0</td></tr>\n",
              "\t<tr><th scope=row>character(0)</th><td>0</td><td>0</td><td>0</td><td>0</td><td>0</td><td>0</td><td>0</td><td>0</td><td>0</td><td>0</td><td>⋯</td><td>0</td><td>0</td><td>0</td><td>0</td><td>0</td><td>0</td><td>0</td><td>0</td><td>0</td><td>0</td></tr>\n",
              "\t<tr><th scope=row>character(0)</th><td>0</td><td>0</td><td>0</td><td>0</td><td>0</td><td>0</td><td>0</td><td>0</td><td>0</td><td>0</td><td>⋯</td><td>0</td><td>0</td><td>0</td><td>0</td><td>0</td><td>0</td><td>0</td><td>0</td><td>0</td><td>0</td></tr>\n",
              "\t<tr><th scope=row>character(0)</th><td>0</td><td>0</td><td>0</td><td>0</td><td>0</td><td>0</td><td>0</td><td>0</td><td>0</td><td>0</td><td>⋯</td><td>0</td><td>0</td><td>0</td><td>0</td><td>0</td><td>0</td><td>0</td><td>0</td><td>0</td><td>0</td></tr>\n",
              "\t<tr><th scope=row>character(0)</th><td>0</td><td>0</td><td>0</td><td>0</td><td>0</td><td>0</td><td>0</td><td>0</td><td>0</td><td>0</td><td>⋯</td><td>0</td><td>0</td><td>0</td><td>0</td><td>0</td><td>0</td><td>0</td><td>0</td><td>0</td><td>0</td></tr>\n",
              "\t<tr><th scope=row>character(0)</th><td>0</td><td>0</td><td>0</td><td>0</td><td>0</td><td>0</td><td>0</td><td>0</td><td>0</td><td>0</td><td>⋯</td><td>0</td><td>0</td><td>0</td><td>0</td><td>0</td><td>0</td><td>0</td><td>0</td><td>0</td><td>0</td></tr>\n",
              "\t<tr><th scope=row>⋮</th><td>⋮</td><td>⋮</td><td>⋮</td><td>⋮</td><td>⋮</td><td>⋮</td><td>⋮</td><td>⋮</td><td>⋮</td><td>⋮</td><td>⋱</td><td>⋮</td><td>⋮</td><td>⋮</td><td>⋮</td><td>⋮</td><td>⋮</td><td>⋮</td><td>⋮</td><td>⋮</td><td>⋮</td></tr>\n",
              "\t<tr><th scope=row>character(0)</th><td>0</td><td>0</td><td>0</td><td>0</td><td>0</td><td>0</td><td>0</td><td>0</td><td>0</td><td>0</td><td>⋯</td><td>0</td><td>0</td><td>0</td><td>0</td><td>0</td><td>0</td><td>0</td><td>0</td><td>0</td><td>0</td></tr>\n",
              "\t<tr><th scope=row>character(0)</th><td>0</td><td>0</td><td>0</td><td>0</td><td>0</td><td>0</td><td>0</td><td>0</td><td>0</td><td>0</td><td>⋯</td><td>0</td><td>0</td><td>0</td><td>0</td><td>0</td><td>0</td><td>0</td><td>0</td><td>0</td><td>0</td></tr>\n",
              "\t<tr><th scope=row>character(0)</th><td>0</td><td>0</td><td>0</td><td>0</td><td>0</td><td>0</td><td>0</td><td>0</td><td>0</td><td>0</td><td>⋯</td><td>0</td><td>0</td><td>0</td><td>0</td><td>0</td><td>0</td><td>0</td><td>0</td><td>0</td><td>0</td></tr>\n",
              "\t<tr><th scope=row>character(0)</th><td>0</td><td>0</td><td>0</td><td>0</td><td>0</td><td>0</td><td>0</td><td>0</td><td>0</td><td>0</td><td>⋯</td><td>0</td><td>0</td><td>0</td><td>0</td><td>0</td><td>0</td><td>0</td><td>0</td><td>0</td><td>0</td></tr>\n",
              "\t<tr><th scope=row>character(0)</th><td>0</td><td>0</td><td>0</td><td>0</td><td>0</td><td>0</td><td>0</td><td>0</td><td>0</td><td>0</td><td>⋯</td><td>0</td><td>0</td><td>0</td><td>0</td><td>0</td><td>0</td><td>0</td><td>0</td><td>0</td><td>0</td></tr>\n",
              "\t<tr><th scope=row>character(0)</th><td>0</td><td>0</td><td>0</td><td>0</td><td>0</td><td>0</td><td>0</td><td>0</td><td>0</td><td>0</td><td>⋯</td><td>0</td><td>0</td><td>0</td><td>0</td><td>0</td><td>0</td><td>0</td><td>0</td><td>0</td><td>0</td></tr>\n",
              "\t<tr><th scope=row>character(0)</th><td>0</td><td>0</td><td>0</td><td>0</td><td>0</td><td>0</td><td>0</td><td>0</td><td>0</td><td>0</td><td>⋯</td><td>0</td><td>0</td><td>0</td><td>0</td><td>0</td><td>0</td><td>0</td><td>0</td><td>0</td><td>0</td></tr>\n",
              "\t<tr><th scope=row>character(0)</th><td>0</td><td>0</td><td>0</td><td>0</td><td>0</td><td>0</td><td>0</td><td>0</td><td>0</td><td>0</td><td>⋯</td><td>0</td><td>0</td><td>0</td><td>0</td><td>0</td><td>0</td><td>0</td><td>0</td><td>0</td><td>0</td></tr>\n",
              "\t<tr><th scope=row>character(0)</th><td>0</td><td>0</td><td>0</td><td>0</td><td>0</td><td>0</td><td>0</td><td>0</td><td>0</td><td>0</td><td>⋯</td><td>0</td><td>0</td><td>0</td><td>0</td><td>0</td><td>0</td><td>0</td><td>0</td><td>0</td><td>0</td></tr>\n",
              "\t<tr><th scope=row>character(0)</th><td>0</td><td>0</td><td>0</td><td>0</td><td>0</td><td>0</td><td>0</td><td>0</td><td>0</td><td>0</td><td>⋯</td><td>0</td><td>0</td><td>0</td><td>0</td><td>0</td><td>0</td><td>0</td><td>0</td><td>0</td><td>0</td></tr>\n",
              "\t<tr><th scope=row>character(0)</th><td>0</td><td>0</td><td>0</td><td>0</td><td>0</td><td>0</td><td>0</td><td>0</td><td>0</td><td>0</td><td>⋯</td><td>0</td><td>0</td><td>0</td><td>0</td><td>0</td><td>0</td><td>0</td><td>0</td><td>0</td><td>0</td></tr>\n",
              "\t<tr><th scope=row>character(0)</th><td>0</td><td>0</td><td>0</td><td>0</td><td>0</td><td>0</td><td>0</td><td>0</td><td>0</td><td>0</td><td>⋯</td><td>0</td><td>0</td><td>0</td><td>0</td><td>0</td><td>0</td><td>0</td><td>0</td><td>0</td><td>0</td></tr>\n",
              "\t<tr><th scope=row>character(0)</th><td>0</td><td>0</td><td>0</td><td>0</td><td>0</td><td>0</td><td>0</td><td>0</td><td>0</td><td>0</td><td>⋯</td><td>0</td><td>0</td><td>0</td><td>0</td><td>0</td><td>0</td><td>0</td><td>0</td><td>0</td><td>0</td></tr>\n",
              "\t<tr><th scope=row>character(0)</th><td>0</td><td>0</td><td>0</td><td>0</td><td>0</td><td>0</td><td>0</td><td>0</td><td>0</td><td>0</td><td>⋯</td><td>0</td><td>0</td><td>0</td><td>0</td><td>0</td><td>0</td><td>0</td><td>0</td><td>0</td><td>0</td></tr>\n",
              "\t<tr><th scope=row>character(0)</th><td>0</td><td>0</td><td>0</td><td>0</td><td>0</td><td>0</td><td>0</td><td>0</td><td>0</td><td>0</td><td>⋯</td><td>0</td><td>0</td><td>0</td><td>0</td><td>0</td><td>0</td><td>0</td><td>0</td><td>0</td><td>0</td></tr>\n",
              "\t<tr><th scope=row>character(0)</th><td>0</td><td>0</td><td>0</td><td>0</td><td>0</td><td>0</td><td>0</td><td>0</td><td>0</td><td>0</td><td>⋯</td><td>0</td><td>0</td><td>0</td><td>0</td><td>0</td><td>0</td><td>0</td><td>0</td><td>0</td><td>0</td></tr>\n",
              "\t<tr><th scope=row>character(0)</th><td>0</td><td>0</td><td>0</td><td>0</td><td>0</td><td>0</td><td>0</td><td>0</td><td>0</td><td>0</td><td>⋯</td><td>0</td><td>0</td><td>0</td><td>0</td><td>0</td><td>0</td><td>0</td><td>0</td><td>0</td><td>0</td></tr>\n",
              "\t<tr><th scope=row>character(0)</th><td>0</td><td>0</td><td>0</td><td>0</td><td>0</td><td>0</td><td>0</td><td>0</td><td>0</td><td>0</td><td>⋯</td><td>0</td><td>0</td><td>0</td><td>0</td><td>0</td><td>0</td><td>0</td><td>0</td><td>0</td><td>0</td></tr>\n",
              "\t<tr><th scope=row>character(0)</th><td>0</td><td>0</td><td>0</td><td>0</td><td>0</td><td>0</td><td>0</td><td>0</td><td>0</td><td>0</td><td>⋯</td><td>0</td><td>0</td><td>0</td><td>0</td><td>0</td><td>0</td><td>0</td><td>0</td><td>0</td><td>0</td></tr>\n",
              "\t<tr><th scope=row>character(0)</th><td>0</td><td>0</td><td>0</td><td>0</td><td>0</td><td>0</td><td>0</td><td>0</td><td>0</td><td>0</td><td>⋯</td><td>0</td><td>0</td><td>0</td><td>0</td><td>0</td><td>0</td><td>0</td><td>0</td><td>0</td><td>0</td></tr>\n",
              "\t<tr><th scope=row>character(0)</th><td>0</td><td>0</td><td>0</td><td>0</td><td>0</td><td>0</td><td>0</td><td>0</td><td>0</td><td>0</td><td>⋯</td><td>1</td><td>0</td><td>0</td><td>0</td><td>0</td><td>0</td><td>0</td><td>0</td><td>0</td><td>0</td></tr>\n",
              "\t<tr><th scope=row>character(0)</th><td>0</td><td>0</td><td>0</td><td>0</td><td>0</td><td>0</td><td>0</td><td>0</td><td>0</td><td>0</td><td>⋯</td><td>0</td><td>0</td><td>0</td><td>0</td><td>0</td><td>0</td><td>0</td><td>0</td><td>0</td><td>0</td></tr>\n",
              "\t<tr><th scope=row>character(0)</th><td>0</td><td>0</td><td>0</td><td>0</td><td>0</td><td>0</td><td>0</td><td>0</td><td>0</td><td>0</td><td>⋯</td><td>0</td><td>0</td><td>0</td><td>0</td><td>0</td><td>0</td><td>0</td><td>0</td><td>0</td><td>0</td></tr>\n",
              "\t<tr><th scope=row>character(0)</th><td>0</td><td>0</td><td>0</td><td>0</td><td>0</td><td>0</td><td>0</td><td>0</td><td>0</td><td>0</td><td>⋯</td><td>0</td><td>0</td><td>0</td><td>0</td><td>0</td><td>0</td><td>0</td><td>0</td><td>0</td><td>0</td></tr>\n",
              "\t<tr><th scope=row>character(0)</th><td>0</td><td>0</td><td>0</td><td>0</td><td>0</td><td>0</td><td>0</td><td>0</td><td>0</td><td>0</td><td>⋯</td><td>0</td><td>0</td><td>0</td><td>0</td><td>0</td><td>0</td><td>0</td><td>0</td><td>0</td><td>0</td></tr>\n",
              "\t<tr><th scope=row>character(0)</th><td>0</td><td>0</td><td>0</td><td>0</td><td>0</td><td>0</td><td>0</td><td>0</td><td>0</td><td>0</td><td>⋯</td><td>0</td><td>0</td><td>0</td><td>0</td><td>0</td><td>0</td><td>0</td><td>0</td><td>0</td><td>0</td></tr>\n",
              "\t<tr><th scope=row>character(0)</th><td>0</td><td>0</td><td>0</td><td>0</td><td>0</td><td>0</td><td>0</td><td>0</td><td>0</td><td>0</td><td>⋯</td><td>0</td><td>0</td><td>0</td><td>0</td><td>0</td><td>0</td><td>0</td><td>0</td><td>0</td><td>0</td></tr>\n",
              "\t<tr><th scope=row>character(0)</th><td>0</td><td>0</td><td>0</td><td>0</td><td>0</td><td>0</td><td>0</td><td>0</td><td>0</td><td>0</td><td>⋯</td><td>0</td><td>0</td><td>0</td><td>0</td><td>0</td><td>0</td><td>0</td><td>0</td><td>0</td><td>0</td></tr>\n",
              "\t<tr><th scope=row>character(0)</th><td>0</td><td>0</td><td>0</td><td>0</td><td>0</td><td>0</td><td>0</td><td>0</td><td>0</td><td>0</td><td>⋯</td><td>0</td><td>0</td><td>0</td><td>0</td><td>0</td><td>0</td><td>0</td><td>0</td><td>0</td><td>0</td></tr>\n",
              "\t<tr><th scope=row>character(0)</th><td>0</td><td>0</td><td>0</td><td>0</td><td>0</td><td>0</td><td>0</td><td>0</td><td>0</td><td>0</td><td>⋯</td><td>0</td><td>0</td><td>0</td><td>0</td><td>0</td><td>0</td><td>0</td><td>0</td><td>0</td><td>0</td></tr>\n",
              "</tbody>\n",
              "</table>\n"
            ],
            "text/markdown": "\nA matrix: 891 × 2625 of type dbl\n\n| <!--/--> | aafnaii | aakhirat | aalikati | aap | aapsssssss | aaru | abil | abk | abl | absolut | ⋯ | yep | yes | yet | youtub | yrs | yup | zenfon | zero | zespol | zoom |\n|---|---|---|---|---|---|---|---|---|---|---|---|---|---|---|---|---|---|---|---|---|---|\n| character(0) | 0 | 0 | 0 | 0 | 0 | 0 | 0 | 0 | 0 | 0 | ⋯ | 0 | 0 | 0 | 0 | 0 | 0 | 0 | 0 | 0 | 0 |\n| character(0) | 0 | 0 | 0 | 0 | 0 | 0 | 0 | 0 | 0 | 0 | ⋯ | 0 | 0 | 0 | 0 | 0 | 0 | 0 | 0 | 0 | 0 |\n| character(0) | 0 | 0 | 0 | 0 | 0 | 0 | 0 | 0 | 0 | 0 | ⋯ | 0 | 0 | 0 | 0 | 0 | 0 | 0 | 0 | 0 | 0 |\n| character(0) | 0 | 0 | 0 | 0 | 0 | 0 | 0 | 0 | 1 | 0 | ⋯ | 0 | 0 | 0 | 0 | 0 | 0 | 0 | 0 | 0 | 0 |\n| character(0) | 0 | 0 | 0 | 0 | 0 | 0 | 0 | 0 | 0 | 0 | ⋯ | 0 | 0 | 0 | 0 | 0 | 0 | 0 | 0 | 0 | 0 |\n| character(0) | 0 | 0 | 0 | 0 | 0 | 0 | 0 | 0 | 0 | 0 | ⋯ | 0 | 0 | 0 | 0 | 0 | 0 | 0 | 0 | 0 | 0 |\n| character(0) | 0 | 0 | 0 | 0 | 0 | 0 | 0 | 0 | 0 | 0 | ⋯ | 0 | 0 | 0 | 0 | 0 | 0 | 0 | 0 | 0 | 0 |\n| character(0) | 0 | 0 | 0 | 0 | 0 | 0 | 0 | 0 | 0 | 0 | ⋯ | 0 | 0 | 0 | 0 | 0 | 0 | 0 | 1 | 0 | 0 |\n| character(0) | 0 | 0 | 0 | 0 | 0 | 0 | 0 | 0 | 0 | 0 | ⋯ | 0 | 0 | 0 | 0 | 0 | 0 | 0 | 0 | 0 | 0 |\n| character(0) | 0 | 0 | 0 | 0 | 0 | 0 | 0 | 0 | 0 | 0 | ⋯ | 0 | 0 | 0 | 0 | 0 | 0 | 0 | 0 | 0 | 0 |\n| character(0) | 0 | 0 | 0 | 0 | 0 | 0 | 0 | 0 | 0 | 0 | ⋯ | 0 | 0 | 0 | 0 | 0 | 0 | 0 | 0 | 0 | 0 |\n| character(0) | 0 | 0 | 0 | 0 | 0 | 0 | 0 | 0 | 0 | 0 | ⋯ | 0 | 0 | 0 | 0 | 0 | 0 | 0 | 0 | 0 | 0 |\n| character(0) | 0 | 0 | 0 | 0 | 0 | 0 | 0 | 0 | 0 | 0 | ⋯ | 0 | 0 | 0 | 0 | 0 | 0 | 0 | 0 | 0 | 0 |\n| character(0) | 0 | 0 | 0 | 0 | 0 | 0 | 0 | 0 | 1 | 0 | ⋯ | 0 | 0 | 0 | 0 | 0 | 0 | 0 | 0 | 0 | 0 |\n| character(0) | 0 | 0 | 0 | 0 | 0 | 0 | 0 | 0 | 0 | 0 | ⋯ | 0 | 0 | 0 | 0 | 0 | 0 | 0 | 0 | 0 | 0 |\n| character(0) | 0 | 0 | 0 | 0 | 0 | 0 | 0 | 0 | 0 | 0 | ⋯ | 0 | 0 | 0 | 0 | 0 | 0 | 0 | 0 | 0 | 0 |\n| character(0) | 0 | 0 | 0 | 0 | 0 | 0 | 0 | 0 | 0 | 0 | ⋯ | 0 | 0 | 0 | 0 | 0 | 0 | 0 | 0 | 0 | 0 |\n| character(0) | 0 | 0 | 0 | 0 | 0 | 0 | 0 | 0 | 0 | 0 | ⋯ | 0 | 0 | 0 | 0 | 0 | 0 | 0 | 0 | 0 | 0 |\n| character(0) | 0 | 0 | 0 | 0 | 0 | 0 | 0 | 0 | 0 | 0 | ⋯ | 0 | 0 | 0 | 0 | 0 | 0 | 0 | 0 | 0 | 0 |\n| character(0) | 0 | 0 | 0 | 0 | 0 | 0 | 0 | 0 | 0 | 0 | ⋯ | 0 | 0 | 1 | 0 | 0 | 0 | 0 | 0 | 0 | 0 |\n| character(0) | 0 | 0 | 0 | 0 | 0 | 0 | 0 | 0 | 0 | 0 | ⋯ | 0 | 0 | 1 | 0 | 0 | 0 | 0 | 0 | 0 | 0 |\n| character(0) | 0 | 0 | 0 | 0 | 0 | 0 | 0 | 0 | 0 | 0 | ⋯ | 0 | 0 | 0 | 0 | 0 | 0 | 0 | 0 | 0 | 0 |\n| character(0) | 0 | 0 | 0 | 0 | 0 | 0 | 0 | 0 | 0 | 0 | ⋯ | 0 | 0 | 0 | 0 | 0 | 0 | 0 | 0 | 0 | 0 |\n| character(0) | 0 | 0 | 0 | 0 | 0 | 0 | 0 | 0 | 0 | 0 | ⋯ | 0 | 0 | 0 | 0 | 0 | 0 | 0 | 0 | 0 | 0 |\n| character(0) | 0 | 0 | 0 | 0 | 0 | 0 | 0 | 0 | 0 | 0 | ⋯ | 0 | 0 | 0 | 0 | 0 | 0 | 0 | 0 | 0 | 0 |\n| character(0) | 0 | 0 | 0 | 0 | 0 | 0 | 0 | 0 | 0 | 0 | ⋯ | 0 | 0 | 0 | 0 | 0 | 0 | 0 | 0 | 0 | 0 |\n| character(0) | 0 | 0 | 0 | 0 | 0 | 0 | 0 | 0 | 0 | 0 | ⋯ | 0 | 0 | 0 | 0 | 0 | 0 | 0 | 0 | 0 | 0 |\n| character(0) | 0 | 0 | 0 | 0 | 0 | 0 | 0 | 0 | 0 | 0 | ⋯ | 0 | 0 | 0 | 0 | 0 | 0 | 0 | 0 | 0 | 0 |\n| character(0) | 0 | 0 | 0 | 0 | 0 | 0 | 0 | 0 | 0 | 0 | ⋯ | 0 | 0 | 0 | 0 | 0 | 0 | 0 | 0 | 0 | 0 |\n| character(0) | 0 | 0 | 0 | 0 | 0 | 0 | 0 | 0 | 0 | 0 | ⋯ | 0 | 0 | 0 | 0 | 0 | 0 | 0 | 0 | 0 | 0 |\n| ⋮ | ⋮ | ⋮ | ⋮ | ⋮ | ⋮ | ⋮ | ⋮ | ⋮ | ⋮ | ⋮ | ⋱ | ⋮ | ⋮ | ⋮ | ⋮ | ⋮ | ⋮ | ⋮ | ⋮ | ⋮ | ⋮ |\n| character(0) | 0 | 0 | 0 | 0 | 0 | 0 | 0 | 0 | 0 | 0 | ⋯ | 0 | 0 | 0 | 0 | 0 | 0 | 0 | 0 | 0 | 0 |\n| character(0) | 0 | 0 | 0 | 0 | 0 | 0 | 0 | 0 | 0 | 0 | ⋯ | 0 | 0 | 0 | 0 | 0 | 0 | 0 | 0 | 0 | 0 |\n| character(0) | 0 | 0 | 0 | 0 | 0 | 0 | 0 | 0 | 0 | 0 | ⋯ | 0 | 0 | 0 | 0 | 0 | 0 | 0 | 0 | 0 | 0 |\n| character(0) | 0 | 0 | 0 | 0 | 0 | 0 | 0 | 0 | 0 | 0 | ⋯ | 0 | 0 | 0 | 0 | 0 | 0 | 0 | 0 | 0 | 0 |\n| character(0) | 0 | 0 | 0 | 0 | 0 | 0 | 0 | 0 | 0 | 0 | ⋯ | 0 | 0 | 0 | 0 | 0 | 0 | 0 | 0 | 0 | 0 |\n| character(0) | 0 | 0 | 0 | 0 | 0 | 0 | 0 | 0 | 0 | 0 | ⋯ | 0 | 0 | 0 | 0 | 0 | 0 | 0 | 0 | 0 | 0 |\n| character(0) | 0 | 0 | 0 | 0 | 0 | 0 | 0 | 0 | 0 | 0 | ⋯ | 0 | 0 | 0 | 0 | 0 | 0 | 0 | 0 | 0 | 0 |\n| character(0) | 0 | 0 | 0 | 0 | 0 | 0 | 0 | 0 | 0 | 0 | ⋯ | 0 | 0 | 0 | 0 | 0 | 0 | 0 | 0 | 0 | 0 |\n| character(0) | 0 | 0 | 0 | 0 | 0 | 0 | 0 | 0 | 0 | 0 | ⋯ | 0 | 0 | 0 | 0 | 0 | 0 | 0 | 0 | 0 | 0 |\n| character(0) | 0 | 0 | 0 | 0 | 0 | 0 | 0 | 0 | 0 | 0 | ⋯ | 0 | 0 | 0 | 0 | 0 | 0 | 0 | 0 | 0 | 0 |\n| character(0) | 0 | 0 | 0 | 0 | 0 | 0 | 0 | 0 | 0 | 0 | ⋯ | 0 | 0 | 0 | 0 | 0 | 0 | 0 | 0 | 0 | 0 |\n| character(0) | 0 | 0 | 0 | 0 | 0 | 0 | 0 | 0 | 0 | 0 | ⋯ | 0 | 0 | 0 | 0 | 0 | 0 | 0 | 0 | 0 | 0 |\n| character(0) | 0 | 0 | 0 | 0 | 0 | 0 | 0 | 0 | 0 | 0 | ⋯ | 0 | 0 | 0 | 0 | 0 | 0 | 0 | 0 | 0 | 0 |\n| character(0) | 0 | 0 | 0 | 0 | 0 | 0 | 0 | 0 | 0 | 0 | ⋯ | 0 | 0 | 0 | 0 | 0 | 0 | 0 | 0 | 0 | 0 |\n| character(0) | 0 | 0 | 0 | 0 | 0 | 0 | 0 | 0 | 0 | 0 | ⋯ | 0 | 0 | 0 | 0 | 0 | 0 | 0 | 0 | 0 | 0 |\n| character(0) | 0 | 0 | 0 | 0 | 0 | 0 | 0 | 0 | 0 | 0 | ⋯ | 0 | 0 | 0 | 0 | 0 | 0 | 0 | 0 | 0 | 0 |\n| character(0) | 0 | 0 | 0 | 0 | 0 | 0 | 0 | 0 | 0 | 0 | ⋯ | 0 | 0 | 0 | 0 | 0 | 0 | 0 | 0 | 0 | 0 |\n| character(0) | 0 | 0 | 0 | 0 | 0 | 0 | 0 | 0 | 0 | 0 | ⋯ | 0 | 0 | 0 | 0 | 0 | 0 | 0 | 0 | 0 | 0 |\n| character(0) | 0 | 0 | 0 | 0 | 0 | 0 | 0 | 0 | 0 | 0 | ⋯ | 0 | 0 | 0 | 0 | 0 | 0 | 0 | 0 | 0 | 0 |\n| character(0) | 0 | 0 | 0 | 0 | 0 | 0 | 0 | 0 | 0 | 0 | ⋯ | 0 | 0 | 0 | 0 | 0 | 0 | 0 | 0 | 0 | 0 |\n| character(0) | 0 | 0 | 0 | 0 | 0 | 0 | 0 | 0 | 0 | 0 | ⋯ | 1 | 0 | 0 | 0 | 0 | 0 | 0 | 0 | 0 | 0 |\n| character(0) | 0 | 0 | 0 | 0 | 0 | 0 | 0 | 0 | 0 | 0 | ⋯ | 0 | 0 | 0 | 0 | 0 | 0 | 0 | 0 | 0 | 0 |\n| character(0) | 0 | 0 | 0 | 0 | 0 | 0 | 0 | 0 | 0 | 0 | ⋯ | 0 | 0 | 0 | 0 | 0 | 0 | 0 | 0 | 0 | 0 |\n| character(0) | 0 | 0 | 0 | 0 | 0 | 0 | 0 | 0 | 0 | 0 | ⋯ | 0 | 0 | 0 | 0 | 0 | 0 | 0 | 0 | 0 | 0 |\n| character(0) | 0 | 0 | 0 | 0 | 0 | 0 | 0 | 0 | 0 | 0 | ⋯ | 0 | 0 | 0 | 0 | 0 | 0 | 0 | 0 | 0 | 0 |\n| character(0) | 0 | 0 | 0 | 0 | 0 | 0 | 0 | 0 | 0 | 0 | ⋯ | 0 | 0 | 0 | 0 | 0 | 0 | 0 | 0 | 0 | 0 |\n| character(0) | 0 | 0 | 0 | 0 | 0 | 0 | 0 | 0 | 0 | 0 | ⋯ | 0 | 0 | 0 | 0 | 0 | 0 | 0 | 0 | 0 | 0 |\n| character(0) | 0 | 0 | 0 | 0 | 0 | 0 | 0 | 0 | 0 | 0 | ⋯ | 0 | 0 | 0 | 0 | 0 | 0 | 0 | 0 | 0 | 0 |\n| character(0) | 0 | 0 | 0 | 0 | 0 | 0 | 0 | 0 | 0 | 0 | ⋯ | 0 | 0 | 0 | 0 | 0 | 0 | 0 | 0 | 0 | 0 |\n| character(0) | 0 | 0 | 0 | 0 | 0 | 0 | 0 | 0 | 0 | 0 | ⋯ | 0 | 0 | 0 | 0 | 0 | 0 | 0 | 0 | 0 | 0 |\n\n",
            "text/latex": "A matrix: 891 × 2625 of type dbl\n\\begin{tabular}{r|lllllllllllllllllllll}\n  & aafnaii & aakhirat & aalikati & aap & aapsssssss & aaru & abil & abk & abl & absolut & ⋯ & yep & yes & yet & youtub & yrs & yup & zenfon & zero & zespol & zoom\\\\\n\\hline\n\tcharacter(0) & 0 & 0 & 0 & 0 & 0 & 0 & 0 & 0 & 0 & 0 & ⋯ & 0 & 0 & 0 & 0 & 0 & 0 & 0 & 0 & 0 & 0\\\\\n\tcharacter(0) & 0 & 0 & 0 & 0 & 0 & 0 & 0 & 0 & 0 & 0 & ⋯ & 0 & 0 & 0 & 0 & 0 & 0 & 0 & 0 & 0 & 0\\\\\n\tcharacter(0) & 0 & 0 & 0 & 0 & 0 & 0 & 0 & 0 & 0 & 0 & ⋯ & 0 & 0 & 0 & 0 & 0 & 0 & 0 & 0 & 0 & 0\\\\\n\tcharacter(0) & 0 & 0 & 0 & 0 & 0 & 0 & 0 & 0 & 1 & 0 & ⋯ & 0 & 0 & 0 & 0 & 0 & 0 & 0 & 0 & 0 & 0\\\\\n\tcharacter(0) & 0 & 0 & 0 & 0 & 0 & 0 & 0 & 0 & 0 & 0 & ⋯ & 0 & 0 & 0 & 0 & 0 & 0 & 0 & 0 & 0 & 0\\\\\n\tcharacter(0) & 0 & 0 & 0 & 0 & 0 & 0 & 0 & 0 & 0 & 0 & ⋯ & 0 & 0 & 0 & 0 & 0 & 0 & 0 & 0 & 0 & 0\\\\\n\tcharacter(0) & 0 & 0 & 0 & 0 & 0 & 0 & 0 & 0 & 0 & 0 & ⋯ & 0 & 0 & 0 & 0 & 0 & 0 & 0 & 0 & 0 & 0\\\\\n\tcharacter(0) & 0 & 0 & 0 & 0 & 0 & 0 & 0 & 0 & 0 & 0 & ⋯ & 0 & 0 & 0 & 0 & 0 & 0 & 0 & 1 & 0 & 0\\\\\n\tcharacter(0) & 0 & 0 & 0 & 0 & 0 & 0 & 0 & 0 & 0 & 0 & ⋯ & 0 & 0 & 0 & 0 & 0 & 0 & 0 & 0 & 0 & 0\\\\\n\tcharacter(0) & 0 & 0 & 0 & 0 & 0 & 0 & 0 & 0 & 0 & 0 & ⋯ & 0 & 0 & 0 & 0 & 0 & 0 & 0 & 0 & 0 & 0\\\\\n\tcharacter(0) & 0 & 0 & 0 & 0 & 0 & 0 & 0 & 0 & 0 & 0 & ⋯ & 0 & 0 & 0 & 0 & 0 & 0 & 0 & 0 & 0 & 0\\\\\n\tcharacter(0) & 0 & 0 & 0 & 0 & 0 & 0 & 0 & 0 & 0 & 0 & ⋯ & 0 & 0 & 0 & 0 & 0 & 0 & 0 & 0 & 0 & 0\\\\\n\tcharacter(0) & 0 & 0 & 0 & 0 & 0 & 0 & 0 & 0 & 0 & 0 & ⋯ & 0 & 0 & 0 & 0 & 0 & 0 & 0 & 0 & 0 & 0\\\\\n\tcharacter(0) & 0 & 0 & 0 & 0 & 0 & 0 & 0 & 0 & 1 & 0 & ⋯ & 0 & 0 & 0 & 0 & 0 & 0 & 0 & 0 & 0 & 0\\\\\n\tcharacter(0) & 0 & 0 & 0 & 0 & 0 & 0 & 0 & 0 & 0 & 0 & ⋯ & 0 & 0 & 0 & 0 & 0 & 0 & 0 & 0 & 0 & 0\\\\\n\tcharacter(0) & 0 & 0 & 0 & 0 & 0 & 0 & 0 & 0 & 0 & 0 & ⋯ & 0 & 0 & 0 & 0 & 0 & 0 & 0 & 0 & 0 & 0\\\\\n\tcharacter(0) & 0 & 0 & 0 & 0 & 0 & 0 & 0 & 0 & 0 & 0 & ⋯ & 0 & 0 & 0 & 0 & 0 & 0 & 0 & 0 & 0 & 0\\\\\n\tcharacter(0) & 0 & 0 & 0 & 0 & 0 & 0 & 0 & 0 & 0 & 0 & ⋯ & 0 & 0 & 0 & 0 & 0 & 0 & 0 & 0 & 0 & 0\\\\\n\tcharacter(0) & 0 & 0 & 0 & 0 & 0 & 0 & 0 & 0 & 0 & 0 & ⋯ & 0 & 0 & 0 & 0 & 0 & 0 & 0 & 0 & 0 & 0\\\\\n\tcharacter(0) & 0 & 0 & 0 & 0 & 0 & 0 & 0 & 0 & 0 & 0 & ⋯ & 0 & 0 & 1 & 0 & 0 & 0 & 0 & 0 & 0 & 0\\\\\n\tcharacter(0) & 0 & 0 & 0 & 0 & 0 & 0 & 0 & 0 & 0 & 0 & ⋯ & 0 & 0 & 1 & 0 & 0 & 0 & 0 & 0 & 0 & 0\\\\\n\tcharacter(0) & 0 & 0 & 0 & 0 & 0 & 0 & 0 & 0 & 0 & 0 & ⋯ & 0 & 0 & 0 & 0 & 0 & 0 & 0 & 0 & 0 & 0\\\\\n\tcharacter(0) & 0 & 0 & 0 & 0 & 0 & 0 & 0 & 0 & 0 & 0 & ⋯ & 0 & 0 & 0 & 0 & 0 & 0 & 0 & 0 & 0 & 0\\\\\n\tcharacter(0) & 0 & 0 & 0 & 0 & 0 & 0 & 0 & 0 & 0 & 0 & ⋯ & 0 & 0 & 0 & 0 & 0 & 0 & 0 & 0 & 0 & 0\\\\\n\tcharacter(0) & 0 & 0 & 0 & 0 & 0 & 0 & 0 & 0 & 0 & 0 & ⋯ & 0 & 0 & 0 & 0 & 0 & 0 & 0 & 0 & 0 & 0\\\\\n\tcharacter(0) & 0 & 0 & 0 & 0 & 0 & 0 & 0 & 0 & 0 & 0 & ⋯ & 0 & 0 & 0 & 0 & 0 & 0 & 0 & 0 & 0 & 0\\\\\n\tcharacter(0) & 0 & 0 & 0 & 0 & 0 & 0 & 0 & 0 & 0 & 0 & ⋯ & 0 & 0 & 0 & 0 & 0 & 0 & 0 & 0 & 0 & 0\\\\\n\tcharacter(0) & 0 & 0 & 0 & 0 & 0 & 0 & 0 & 0 & 0 & 0 & ⋯ & 0 & 0 & 0 & 0 & 0 & 0 & 0 & 0 & 0 & 0\\\\\n\tcharacter(0) & 0 & 0 & 0 & 0 & 0 & 0 & 0 & 0 & 0 & 0 & ⋯ & 0 & 0 & 0 & 0 & 0 & 0 & 0 & 0 & 0 & 0\\\\\n\tcharacter(0) & 0 & 0 & 0 & 0 & 0 & 0 & 0 & 0 & 0 & 0 & ⋯ & 0 & 0 & 0 & 0 & 0 & 0 & 0 & 0 & 0 & 0\\\\\n\t⋮ & ⋮ & ⋮ & ⋮ & ⋮ & ⋮ & ⋮ & ⋮ & ⋮ & ⋮ & ⋮ & ⋱ & ⋮ & ⋮ & ⋮ & ⋮ & ⋮ & ⋮ & ⋮ & ⋮ & ⋮ & ⋮\\\\\n\tcharacter(0) & 0 & 0 & 0 & 0 & 0 & 0 & 0 & 0 & 0 & 0 & ⋯ & 0 & 0 & 0 & 0 & 0 & 0 & 0 & 0 & 0 & 0\\\\\n\tcharacter(0) & 0 & 0 & 0 & 0 & 0 & 0 & 0 & 0 & 0 & 0 & ⋯ & 0 & 0 & 0 & 0 & 0 & 0 & 0 & 0 & 0 & 0\\\\\n\tcharacter(0) & 0 & 0 & 0 & 0 & 0 & 0 & 0 & 0 & 0 & 0 & ⋯ & 0 & 0 & 0 & 0 & 0 & 0 & 0 & 0 & 0 & 0\\\\\n\tcharacter(0) & 0 & 0 & 0 & 0 & 0 & 0 & 0 & 0 & 0 & 0 & ⋯ & 0 & 0 & 0 & 0 & 0 & 0 & 0 & 0 & 0 & 0\\\\\n\tcharacter(0) & 0 & 0 & 0 & 0 & 0 & 0 & 0 & 0 & 0 & 0 & ⋯ & 0 & 0 & 0 & 0 & 0 & 0 & 0 & 0 & 0 & 0\\\\\n\tcharacter(0) & 0 & 0 & 0 & 0 & 0 & 0 & 0 & 0 & 0 & 0 & ⋯ & 0 & 0 & 0 & 0 & 0 & 0 & 0 & 0 & 0 & 0\\\\\n\tcharacter(0) & 0 & 0 & 0 & 0 & 0 & 0 & 0 & 0 & 0 & 0 & ⋯ & 0 & 0 & 0 & 0 & 0 & 0 & 0 & 0 & 0 & 0\\\\\n\tcharacter(0) & 0 & 0 & 0 & 0 & 0 & 0 & 0 & 0 & 0 & 0 & ⋯ & 0 & 0 & 0 & 0 & 0 & 0 & 0 & 0 & 0 & 0\\\\\n\tcharacter(0) & 0 & 0 & 0 & 0 & 0 & 0 & 0 & 0 & 0 & 0 & ⋯ & 0 & 0 & 0 & 0 & 0 & 0 & 0 & 0 & 0 & 0\\\\\n\tcharacter(0) & 0 & 0 & 0 & 0 & 0 & 0 & 0 & 0 & 0 & 0 & ⋯ & 0 & 0 & 0 & 0 & 0 & 0 & 0 & 0 & 0 & 0\\\\\n\tcharacter(0) & 0 & 0 & 0 & 0 & 0 & 0 & 0 & 0 & 0 & 0 & ⋯ & 0 & 0 & 0 & 0 & 0 & 0 & 0 & 0 & 0 & 0\\\\\n\tcharacter(0) & 0 & 0 & 0 & 0 & 0 & 0 & 0 & 0 & 0 & 0 & ⋯ & 0 & 0 & 0 & 0 & 0 & 0 & 0 & 0 & 0 & 0\\\\\n\tcharacter(0) & 0 & 0 & 0 & 0 & 0 & 0 & 0 & 0 & 0 & 0 & ⋯ & 0 & 0 & 0 & 0 & 0 & 0 & 0 & 0 & 0 & 0\\\\\n\tcharacter(0) & 0 & 0 & 0 & 0 & 0 & 0 & 0 & 0 & 0 & 0 & ⋯ & 0 & 0 & 0 & 0 & 0 & 0 & 0 & 0 & 0 & 0\\\\\n\tcharacter(0) & 0 & 0 & 0 & 0 & 0 & 0 & 0 & 0 & 0 & 0 & ⋯ & 0 & 0 & 0 & 0 & 0 & 0 & 0 & 0 & 0 & 0\\\\\n\tcharacter(0) & 0 & 0 & 0 & 0 & 0 & 0 & 0 & 0 & 0 & 0 & ⋯ & 0 & 0 & 0 & 0 & 0 & 0 & 0 & 0 & 0 & 0\\\\\n\tcharacter(0) & 0 & 0 & 0 & 0 & 0 & 0 & 0 & 0 & 0 & 0 & ⋯ & 0 & 0 & 0 & 0 & 0 & 0 & 0 & 0 & 0 & 0\\\\\n\tcharacter(0) & 0 & 0 & 0 & 0 & 0 & 0 & 0 & 0 & 0 & 0 & ⋯ & 0 & 0 & 0 & 0 & 0 & 0 & 0 & 0 & 0 & 0\\\\\n\tcharacter(0) & 0 & 0 & 0 & 0 & 0 & 0 & 0 & 0 & 0 & 0 & ⋯ & 0 & 0 & 0 & 0 & 0 & 0 & 0 & 0 & 0 & 0\\\\\n\tcharacter(0) & 0 & 0 & 0 & 0 & 0 & 0 & 0 & 0 & 0 & 0 & ⋯ & 0 & 0 & 0 & 0 & 0 & 0 & 0 & 0 & 0 & 0\\\\\n\tcharacter(0) & 0 & 0 & 0 & 0 & 0 & 0 & 0 & 0 & 0 & 0 & ⋯ & 1 & 0 & 0 & 0 & 0 & 0 & 0 & 0 & 0 & 0\\\\\n\tcharacter(0) & 0 & 0 & 0 & 0 & 0 & 0 & 0 & 0 & 0 & 0 & ⋯ & 0 & 0 & 0 & 0 & 0 & 0 & 0 & 0 & 0 & 0\\\\\n\tcharacter(0) & 0 & 0 & 0 & 0 & 0 & 0 & 0 & 0 & 0 & 0 & ⋯ & 0 & 0 & 0 & 0 & 0 & 0 & 0 & 0 & 0 & 0\\\\\n\tcharacter(0) & 0 & 0 & 0 & 0 & 0 & 0 & 0 & 0 & 0 & 0 & ⋯ & 0 & 0 & 0 & 0 & 0 & 0 & 0 & 0 & 0 & 0\\\\\n\tcharacter(0) & 0 & 0 & 0 & 0 & 0 & 0 & 0 & 0 & 0 & 0 & ⋯ & 0 & 0 & 0 & 0 & 0 & 0 & 0 & 0 & 0 & 0\\\\\n\tcharacter(0) & 0 & 0 & 0 & 0 & 0 & 0 & 0 & 0 & 0 & 0 & ⋯ & 0 & 0 & 0 & 0 & 0 & 0 & 0 & 0 & 0 & 0\\\\\n\tcharacter(0) & 0 & 0 & 0 & 0 & 0 & 0 & 0 & 0 & 0 & 0 & ⋯ & 0 & 0 & 0 & 0 & 0 & 0 & 0 & 0 & 0 & 0\\\\\n\tcharacter(0) & 0 & 0 & 0 & 0 & 0 & 0 & 0 & 0 & 0 & 0 & ⋯ & 0 & 0 & 0 & 0 & 0 & 0 & 0 & 0 & 0 & 0\\\\\n\tcharacter(0) & 0 & 0 & 0 & 0 & 0 & 0 & 0 & 0 & 0 & 0 & ⋯ & 0 & 0 & 0 & 0 & 0 & 0 & 0 & 0 & 0 & 0\\\\\n\tcharacter(0) & 0 & 0 & 0 & 0 & 0 & 0 & 0 & 0 & 0 & 0 & ⋯ & 0 & 0 & 0 & 0 & 0 & 0 & 0 & 0 & 0 & 0\\\\\n\\end{tabular}\n",
            "text/plain": [
              "             aafnaii aakhirat aalikati aap aapsssssss aaru abil abk abl absolut\n",
              "character(0) 0       0        0        0   0          0    0    0   0   0      \n",
              "character(0) 0       0        0        0   0          0    0    0   0   0      \n",
              "character(0) 0       0        0        0   0          0    0    0   0   0      \n",
              "character(0) 0       0        0        0   0          0    0    0   1   0      \n",
              "character(0) 0       0        0        0   0          0    0    0   0   0      \n",
              "character(0) 0       0        0        0   0          0    0    0   0   0      \n",
              "character(0) 0       0        0        0   0          0    0    0   0   0      \n",
              "character(0) 0       0        0        0   0          0    0    0   0   0      \n",
              "character(0) 0       0        0        0   0          0    0    0   0   0      \n",
              "character(0) 0       0        0        0   0          0    0    0   0   0      \n",
              "character(0) 0       0        0        0   0          0    0    0   0   0      \n",
              "character(0) 0       0        0        0   0          0    0    0   0   0      \n",
              "character(0) 0       0        0        0   0          0    0    0   0   0      \n",
              "character(0) 0       0        0        0   0          0    0    0   1   0      \n",
              "character(0) 0       0        0        0   0          0    0    0   0   0      \n",
              "character(0) 0       0        0        0   0          0    0    0   0   0      \n",
              "character(0) 0       0        0        0   0          0    0    0   0   0      \n",
              "character(0) 0       0        0        0   0          0    0    0   0   0      \n",
              "character(0) 0       0        0        0   0          0    0    0   0   0      \n",
              "character(0) 0       0        0        0   0          0    0    0   0   0      \n",
              "character(0) 0       0        0        0   0          0    0    0   0   0      \n",
              "character(0) 0       0        0        0   0          0    0    0   0   0      \n",
              "character(0) 0       0        0        0   0          0    0    0   0   0      \n",
              "character(0) 0       0        0        0   0          0    0    0   0   0      \n",
              "character(0) 0       0        0        0   0          0    0    0   0   0      \n",
              "character(0) 0       0        0        0   0          0    0    0   0   0      \n",
              "character(0) 0       0        0        0   0          0    0    0   0   0      \n",
              "character(0) 0       0        0        0   0          0    0    0   0   0      \n",
              "character(0) 0       0        0        0   0          0    0    0   0   0      \n",
              "character(0) 0       0        0        0   0          0    0    0   0   0      \n",
              "⋮            ⋮       ⋮        ⋮        ⋮   ⋮          ⋮    ⋮    ⋮   ⋮   ⋮      \n",
              "character(0) 0       0        0        0   0          0    0    0   0   0      \n",
              "character(0) 0       0        0        0   0          0    0    0   0   0      \n",
              "character(0) 0       0        0        0   0          0    0    0   0   0      \n",
              "character(0) 0       0        0        0   0          0    0    0   0   0      \n",
              "character(0) 0       0        0        0   0          0    0    0   0   0      \n",
              "character(0) 0       0        0        0   0          0    0    0   0   0      \n",
              "character(0) 0       0        0        0   0          0    0    0   0   0      \n",
              "character(0) 0       0        0        0   0          0    0    0   0   0      \n",
              "character(0) 0       0        0        0   0          0    0    0   0   0      \n",
              "character(0) 0       0        0        0   0          0    0    0   0   0      \n",
              "character(0) 0       0        0        0   0          0    0    0   0   0      \n",
              "character(0) 0       0        0        0   0          0    0    0   0   0      \n",
              "character(0) 0       0        0        0   0          0    0    0   0   0      \n",
              "character(0) 0       0        0        0   0          0    0    0   0   0      \n",
              "character(0) 0       0        0        0   0          0    0    0   0   0      \n",
              "character(0) 0       0        0        0   0          0    0    0   0   0      \n",
              "character(0) 0       0        0        0   0          0    0    0   0   0      \n",
              "character(0) 0       0        0        0   0          0    0    0   0   0      \n",
              "character(0) 0       0        0        0   0          0    0    0   0   0      \n",
              "character(0) 0       0        0        0   0          0    0    0   0   0      \n",
              "character(0) 0       0        0        0   0          0    0    0   0   0      \n",
              "character(0) 0       0        0        0   0          0    0    0   0   0      \n",
              "character(0) 0       0        0        0   0          0    0    0   0   0      \n",
              "character(0) 0       0        0        0   0          0    0    0   0   0      \n",
              "character(0) 0       0        0        0   0          0    0    0   0   0      \n",
              "character(0) 0       0        0        0   0          0    0    0   0   0      \n",
              "character(0) 0       0        0        0   0          0    0    0   0   0      \n",
              "character(0) 0       0        0        0   0          0    0    0   0   0      \n",
              "character(0) 0       0        0        0   0          0    0    0   0   0      \n",
              "character(0) 0       0        0        0   0          0    0    0   0   0      \n",
              "             ⋯ yep yes yet youtub yrs yup zenfon zero zespol zoom\n",
              "character(0) ⋯ 0   0   0   0      0   0   0      0    0      0   \n",
              "character(0) ⋯ 0   0   0   0      0   0   0      0    0      0   \n",
              "character(0) ⋯ 0   0   0   0      0   0   0      0    0      0   \n",
              "character(0) ⋯ 0   0   0   0      0   0   0      0    0      0   \n",
              "character(0) ⋯ 0   0   0   0      0   0   0      0    0      0   \n",
              "character(0) ⋯ 0   0   0   0      0   0   0      0    0      0   \n",
              "character(0) ⋯ 0   0   0   0      0   0   0      0    0      0   \n",
              "character(0) ⋯ 0   0   0   0      0   0   0      1    0      0   \n",
              "character(0) ⋯ 0   0   0   0      0   0   0      0    0      0   \n",
              "character(0) ⋯ 0   0   0   0      0   0   0      0    0      0   \n",
              "character(0) ⋯ 0   0   0   0      0   0   0      0    0      0   \n",
              "character(0) ⋯ 0   0   0   0      0   0   0      0    0      0   \n",
              "character(0) ⋯ 0   0   0   0      0   0   0      0    0      0   \n",
              "character(0) ⋯ 0   0   0   0      0   0   0      0    0      0   \n",
              "character(0) ⋯ 0   0   0   0      0   0   0      0    0      0   \n",
              "character(0) ⋯ 0   0   0   0      0   0   0      0    0      0   \n",
              "character(0) ⋯ 0   0   0   0      0   0   0      0    0      0   \n",
              "character(0) ⋯ 0   0   0   0      0   0   0      0    0      0   \n",
              "character(0) ⋯ 0   0   0   0      0   0   0      0    0      0   \n",
              "character(0) ⋯ 0   0   1   0      0   0   0      0    0      0   \n",
              "character(0) ⋯ 0   0   1   0      0   0   0      0    0      0   \n",
              "character(0) ⋯ 0   0   0   0      0   0   0      0    0      0   \n",
              "character(0) ⋯ 0   0   0   0      0   0   0      0    0      0   \n",
              "character(0) ⋯ 0   0   0   0      0   0   0      0    0      0   \n",
              "character(0) ⋯ 0   0   0   0      0   0   0      0    0      0   \n",
              "character(0) ⋯ 0   0   0   0      0   0   0      0    0      0   \n",
              "character(0) ⋯ 0   0   0   0      0   0   0      0    0      0   \n",
              "character(0) ⋯ 0   0   0   0      0   0   0      0    0      0   \n",
              "character(0) ⋯ 0   0   0   0      0   0   0      0    0      0   \n",
              "character(0) ⋯ 0   0   0   0      0   0   0      0    0      0   \n",
              "⋮            ⋱ ⋮   ⋮   ⋮   ⋮      ⋮   ⋮   ⋮      ⋮    ⋮      ⋮   \n",
              "character(0) ⋯ 0   0   0   0      0   0   0      0    0      0   \n",
              "character(0) ⋯ 0   0   0   0      0   0   0      0    0      0   \n",
              "character(0) ⋯ 0   0   0   0      0   0   0      0    0      0   \n",
              "character(0) ⋯ 0   0   0   0      0   0   0      0    0      0   \n",
              "character(0) ⋯ 0   0   0   0      0   0   0      0    0      0   \n",
              "character(0) ⋯ 0   0   0   0      0   0   0      0    0      0   \n",
              "character(0) ⋯ 0   0   0   0      0   0   0      0    0      0   \n",
              "character(0) ⋯ 0   0   0   0      0   0   0      0    0      0   \n",
              "character(0) ⋯ 0   0   0   0      0   0   0      0    0      0   \n",
              "character(0) ⋯ 0   0   0   0      0   0   0      0    0      0   \n",
              "character(0) ⋯ 0   0   0   0      0   0   0      0    0      0   \n",
              "character(0) ⋯ 0   0   0   0      0   0   0      0    0      0   \n",
              "character(0) ⋯ 0   0   0   0      0   0   0      0    0      0   \n",
              "character(0) ⋯ 0   0   0   0      0   0   0      0    0      0   \n",
              "character(0) ⋯ 0   0   0   0      0   0   0      0    0      0   \n",
              "character(0) ⋯ 0   0   0   0      0   0   0      0    0      0   \n",
              "character(0) ⋯ 0   0   0   0      0   0   0      0    0      0   \n",
              "character(0) ⋯ 0   0   0   0      0   0   0      0    0      0   \n",
              "character(0) ⋯ 0   0   0   0      0   0   0      0    0      0   \n",
              "character(0) ⋯ 0   0   0   0      0   0   0      0    0      0   \n",
              "character(0) ⋯ 1   0   0   0      0   0   0      0    0      0   \n",
              "character(0) ⋯ 0   0   0   0      0   0   0      0    0      0   \n",
              "character(0) ⋯ 0   0   0   0      0   0   0      0    0      0   \n",
              "character(0) ⋯ 0   0   0   0      0   0   0      0    0      0   \n",
              "character(0) ⋯ 0   0   0   0      0   0   0      0    0      0   \n",
              "character(0) ⋯ 0   0   0   0      0   0   0      0    0      0   \n",
              "character(0) ⋯ 0   0   0   0      0   0   0      0    0      0   \n",
              "character(0) ⋯ 0   0   0   0      0   0   0      0    0      0   \n",
              "character(0) ⋯ 0   0   0   0      0   0   0      0    0      0   \n",
              "character(0) ⋯ 0   0   0   0      0   0   0      0    0      0   "
            ]
          },
          "metadata": {}
        }
      ]
    },
    {
      "cell_type": "markdown",
      "source": [
        "Observamos que hay muchas palabras que no tienen sentido, con muchos caracteres especiales. Sin embargo, estas palabras estan lejos de las más frecuentes"
      ],
      "metadata": {
        "id": "J8Q7lpcLMF6y"
      },
      "id": "J8Q7lpcLMF6y"
    },
    {
      "cell_type": "code",
      "source": [
        "#Establecemos las frecuencias de cada término sumando las columnas\n",
        "termFreq = colSums(as.matrix(dtm))\n",
        "head(termFreq)"
      ],
      "metadata": {
        "colab": {
          "base_uri": "https://localhost:8080/",
          "height": 34
        },
        "id": "j-78fTPVJ2e7",
        "outputId": "27f2ddf1-2cf4-4576-f20c-e6889a3edb55"
      },
      "id": "j-78fTPVJ2e7",
      "execution_count": 186,
      "outputs": [
        {
          "output_type": "display_data",
          "data": {
            "text/html": [
              "<style>\n",
              ".dl-inline {width: auto; margin:0; padding: 0}\n",
              ".dl-inline>dt, .dl-inline>dd {float: none; width: auto; display: inline-block}\n",
              ".dl-inline>dt::after {content: \":\\0020\"; padding-right: .5ex}\n",
              ".dl-inline>dt:not(:first-of-type) {padding-left: .5ex}\n",
              "</style><dl class=dl-inline><dt>aafnaii</dt><dd>1</dd><dt>aakhirat</dt><dd>1</dd><dt>aalikati</dt><dd>1</dd><dt>aap</dt><dd>4</dd><dt>aapsssssss</dt><dd>1</dd><dt>aaru</dt><dd>1</dd></dl>\n"
            ],
            "text/markdown": "aafnaii\n:   1aakhirat\n:   1aalikati\n:   1aap\n:   4aapsssssss\n:   1aaru\n:   1\n\n",
            "text/latex": "\\begin{description*}\n\\item[aafnaii] 1\n\\item[aakhirat] 1\n\\item[aalikati] 1\n\\item[aap] 4\n\\item[aapsssssss] 1\n\\item[aaru] 1\n\\end{description*}\n",
            "text/plain": [
              "   aafnaii   aakhirat   aalikati        aap aapsssssss       aaru \n",
              "         1          1          1          4          1          1 "
            ]
          },
          "metadata": {}
        }
      ]
    },
    {
      "cell_type": "code",
      "source": [
        "#Creamos el nuevo data set\n",
        "tabla_frec = data.frame(term = names(termFreq), freq = termFreq)\n",
        "head(tabla_frec)"
      ],
      "metadata": {
        "colab": {
          "base_uri": "https://localhost:8080/",
          "height": 286
        },
        "id": "aVkhTtyJJ_Mh",
        "outputId": "f56ae062-47fd-4d9c-d6ba-1e95e7c80882"
      },
      "id": "aVkhTtyJJ_Mh",
      "execution_count": 187,
      "outputs": [
        {
          "output_type": "display_data",
          "data": {
            "text/html": [
              "<table class=\"dataframe\">\n",
              "<caption>A data.frame: 6 × 2</caption>\n",
              "<thead>\n",
              "\t<tr><th></th><th scope=col>term</th><th scope=col>freq</th></tr>\n",
              "\t<tr><th></th><th scope=col>&lt;chr&gt;</th><th scope=col>&lt;dbl&gt;</th></tr>\n",
              "</thead>\n",
              "<tbody>\n",
              "\t<tr><th scope=row>aafnaii</th><td>aafnaii   </td><td>1</td></tr>\n",
              "\t<tr><th scope=row>aakhirat</th><td>aakhirat  </td><td>1</td></tr>\n",
              "\t<tr><th scope=row>aalikati</th><td>aalikati  </td><td>1</td></tr>\n",
              "\t<tr><th scope=row>aap</th><td>aap       </td><td>4</td></tr>\n",
              "\t<tr><th scope=row>aapsssssss</th><td>aapsssssss</td><td>1</td></tr>\n",
              "\t<tr><th scope=row>aaru</th><td>aaru      </td><td>1</td></tr>\n",
              "</tbody>\n",
              "</table>\n"
            ],
            "text/markdown": "\nA data.frame: 6 × 2\n\n| <!--/--> | term &lt;chr&gt; | freq &lt;dbl&gt; |\n|---|---|---|\n| aafnaii | aafnaii    | 1 |\n| aakhirat | aakhirat   | 1 |\n| aalikati | aalikati   | 1 |\n| aap | aap        | 4 |\n| aapsssssss | aapsssssss | 1 |\n| aaru | aaru       | 1 |\n\n",
            "text/latex": "A data.frame: 6 × 2\n\\begin{tabular}{r|ll}\n  & term & freq\\\\\n  & <chr> & <dbl>\\\\\n\\hline\n\taafnaii & aafnaii    & 1\\\\\n\taakhirat & aakhirat   & 1\\\\\n\taalikati & aalikati   & 1\\\\\n\taap & aap        & 4\\\\\n\taapsssssss & aapsssssss & 1\\\\\n\taaru & aaru       & 1\\\\\n\\end{tabular}\n",
            "text/plain": [
              "           term       freq\n",
              "aafnaii    aafnaii    1   \n",
              "aakhirat   aakhirat   1   \n",
              "aalikati   aalikati   1   \n",
              "aap        aap        4   \n",
              "aapsssssss aapsssssss 1   \n",
              "aaru       aaru       1   "
            ]
          },
          "metadata": {}
        }
      ]
    },
    {
      "cell_type": "code",
      "source": [
        "#Ordenamos por frecuencias descendientes\n",
        "tabla_frec = tabla_frec[order(-tabla_frec[,2]),]\n",
        "head(tabla_frec)"
      ],
      "metadata": {
        "colab": {
          "base_uri": "https://localhost:8080/",
          "height": 286
        },
        "id": "Y8V9oanLKFIC",
        "outputId": "5c97466f-d562-4c68-8371-305a3cd7b95b"
      },
      "id": "Y8V9oanLKFIC",
      "execution_count": 188,
      "outputs": [
        {
          "output_type": "display_data",
          "data": {
            "text/html": [
              "<table class=\"dataframe\">\n",
              "<caption>A data.frame: 6 × 2</caption>\n",
              "<thead>\n",
              "\t<tr><th></th><th scope=col>term</th><th scope=col>freq</th></tr>\n",
              "\t<tr><th></th><th scope=col>&lt;chr&gt;</th><th scope=col>&lt;dbl&gt;</th></tr>\n",
              "</thead>\n",
              "<tbody>\n",
              "\t<tr><th scope=row>app</th><td>app  </td><td>481</td></tr>\n",
              "\t<tr><th scope=row>use</th><td>use  </td><td>301</td></tr>\n",
              "\t<tr><th scope=row>updat</th><td>updat</td><td>248</td></tr>\n",
              "\t<tr><th scope=row>game</th><td>game </td><td>179</td></tr>\n",
              "\t<tr><th scope=row>work</th><td>work </td><td>176</td></tr>\n",
              "\t<tr><th scope=row>fix</th><td>fix  </td><td>172</td></tr>\n",
              "</tbody>\n",
              "</table>\n"
            ],
            "text/markdown": "\nA data.frame: 6 × 2\n\n| <!--/--> | term &lt;chr&gt; | freq &lt;dbl&gt; |\n|---|---|---|\n| app | app   | 481 |\n| use | use   | 301 |\n| updat | updat | 248 |\n| game | game  | 179 |\n| work | work  | 176 |\n| fix | fix   | 172 |\n\n",
            "text/latex": "A data.frame: 6 × 2\n\\begin{tabular}{r|ll}\n  & term & freq\\\\\n  & <chr> & <dbl>\\\\\n\\hline\n\tapp & app   & 481\\\\\n\tuse & use   & 301\\\\\n\tupdat & updat & 248\\\\\n\tgame & game  & 179\\\\\n\twork & work  & 176\\\\\n\tfix & fix   & 172\\\\\n\\end{tabular}\n",
            "text/plain": [
              "      term  freq\n",
              "app   app   481 \n",
              "use   use   301 \n",
              "updat updat 248 \n",
              "game  game  179 \n",
              "work  work  176 \n",
              "fix   fix   172 "
            ]
          },
          "metadata": {}
        }
      ]
    },
    {
      "cell_type": "code",
      "source": [
        "set.seed(555)\n",
        "\n",
        "# Creamos el data partition de la función caret con un 70 - 30 split\n",
        "inTrain <- createDataPartition(y = data_subject$polarity\n",
        "                                  , p = .80\n",
        "                                  , list = FALSE\n",
        "                                  , times = 1)\n",
        "# Definitmos los datasets originales entre train y test\n",
        "data.train<-data_subject[inTrain,]\n",
        "data.test<-data_subject[-inTrain,]\n",
        "# Revisamos el split\n",
        "str(data.train)\n",
        "str(data.test)"
      ],
      "metadata": {
        "colab": {
          "base_uri": "https://localhost:8080/"
        },
        "id": "Tp0QZY9MKRzf",
        "outputId": "3b34a35e-89a6-4879-9677-250c817cd6fe"
      },
      "id": "Tp0QZY9MKRzf",
      "execution_count": 189,
      "outputs": [
        {
          "output_type": "stream",
          "name": "stdout",
          "text": [
            "'data.frame':\t714 obs. of  3 variables:\n",
            " $ package_name: chr  \"com.facebook.katana\" \"com.facebook.katana\" \"com.facebook.katana\" \"com.facebook.katana\" ...\n",
            " $ review      : chr  \" privacy at least put some option appear offline. i mean for some people like me it's a big pressure to be seen\"| __truncated__ \" messenger issues ever since the last update, initial received messages don't get pushed to the messenger app a\"| __truncated__ \" profile any time my wife or anybody has more than one post and i view them it would take me to there profile s\"| __truncated__ \" the new features suck for those of us who don't have a working back button can you guys make the videos able t\"| __truncated__ ...\n",
            " $ polarity    : Factor w/ 2 levels \"0\",\"1\": 1 1 1 1 1 1 1 1 1 1 ...\n",
            "'data.frame':\t177 obs. of  3 variables:\n",
            " $ package_name: chr  \"com.facebook.katana\" \"com.facebook.katana\" \"com.facebook.katana\" \"com.facebook.katana\" ...\n",
            " $ review      : chr  \" forced reload on uploading pic on replying comment last night i tried to reply a comment by uploading a photo \"| __truncated__ \" posting issues for the last week, there's been a ghost post at the top of all my feeds from when i uploaded a \"| __truncated__ \" its suck. any time when i want to see something error will come could not open check your internet satting. el\"| __truncated__ \" connection issues app always says can't refresh now, try later which in particular has to do with the net. but\"| __truncated__ ...\n",
            " $ polarity    : Factor w/ 2 levels \"0\",\"1\": 1 1 1 1 1 1 1 1 1 1 ...\n"
          ]
        }
      ]
    },
    {
      "cell_type": "markdown",
      "source": [
        "Se crea una particion de la polaridad del 70%"
      ],
      "metadata": {
        "id": "OGQtt2NxMs2-"
      },
      "id": "OGQtt2NxMs2-"
    },
    {
      "cell_type": "code",
      "source": [
        "# Separamos el corpus según la clase\n",
        "corpus.train = data_corpus_clean[inTrain]\n",
        "corpus.test  = data_corpus_clean[-inTrain]\n",
        "\n",
        "# Y finalmente el Document term matrix\n",
        "dtm.train = dtm[inTrain, ]\n",
        "dtm.test  = dtm[-inTrain, ]\n",
        "\n",
        "# Comprobamos que el desbalanceo de clases es el adecuado\n",
        "print(\"Training\")\n",
        "round(prop.table(table(data.train$polarity))*100, 2)\n",
        "print(\"Test\")\n",
        "round(prop.table(table(data.test$polarity))*100, 2)"
      ],
      "metadata": {
        "colab": {
          "base_uri": "https://localhost:8080/",
          "height": 156
        },
        "id": "oTYAfLspNDF4",
        "outputId": "c90144e4-82e7-4594-9386-68426f83c3db"
      },
      "id": "oTYAfLspNDF4",
      "execution_count": 190,
      "outputs": [
        {
          "output_type": "stream",
          "name": "stdout",
          "text": [
            "[1] \"Training\"\n"
          ]
        },
        {
          "output_type": "display_data",
          "data": {
            "text/plain": [
              "\n",
              "    0     1 \n",
              "65.55 34.45 "
            ]
          },
          "metadata": {}
        },
        {
          "output_type": "stream",
          "name": "stdout",
          "text": [
            "[1] \"Test\"\n"
          ]
        },
        {
          "output_type": "display_data",
          "data": {
            "text/plain": [
              "\n",
              "    0     1 \n",
              "65.54 34.46 "
            ]
          },
          "metadata": {}
        }
      ]
    },
    {
      "cell_type": "markdown",
      "source": [
        "Observamos que la distribución de separación es la misma para Test y Train. Asi que se aplica la filtración por frecuencia"
      ],
      "metadata": {
        "id": "hpy2L6hMJ2OR"
      },
      "id": "hpy2L6hMJ2OR"
    },
    {
      "cell_type": "code",
      "source": [
        "#Encontramos todas las palabras que se repiten más de 3 veces\n",
        "freq_terms = findFreqTerms(dtm.train, 5)\n",
        "freq_terms"
      ],
      "metadata": {
        "colab": {
          "base_uri": "https://localhost:8080/",
          "height": 399
        },
        "id": "6a4qg3YVN15s",
        "outputId": "a09e4398-f898-469a-aa4b-7aaef2218f8b"
      },
      "id": "6a4qg3YVN15s",
      "execution_count": 191,
      "outputs": [
        {
          "output_type": "display_data",
          "data": {
            "text/html": [
              "<style>\n",
              ".list-inline {list-style: none; margin:0; padding: 0}\n",
              ".list-inline>li {display: inline-block}\n",
              ".list-inline>li:not(:last-child)::after {content: \"\\00b7\"; padding: 0 .5ex}\n",
              "</style>\n",
              "<ol class=list-inline><li>'abil'</li><li>'abl'</li><li>'absolut'</li><li>'access'</li><li>'account'</li><li>'action'</li><li>'actual'</li><li>'add'</li><li>'addict'</li><li>'ago'</li><li>'album'</li><li>'allow'</li><li>'almost'</li><li>'along'</li><li>'alreadi'</li><li>'also'</li><li>'alway'</li><li>'amaz'</li><li>'android'</li><li>'angri'</li><li>'annoy'</li><li>'anoth'</li><li>'answer'</li><li>'anymor'</li><li>'anyon'</li><li>'anyth'</li><li>'app'</li><li>'appear'</li><li>'appli'</li><li>'applic'</li><li>'around'</li><li>'asap'</li><li>'ask'</li><li>'attack'</li><li>'auto'</li><li>'automat'</li><li>'avail'</li><li>'away'</li><li>'awesom'</li><li>'back'</li><li>'background'</li><li>'backup'</li><li>'bad'</li><li>'bar'</li><li>'base'</li><li>'basic'</li><li>'batteri'</li><li>'becom'</li><li>'begin'</li><li>'best'</li><li>'better'</li><li>'big'</li><li>'bird'</li><li>'bit'</li><li>'black'</li><li>'block'</li><li>'book'</li><li>'bookmark'</li><li>'booster'</li><li>'bottom'</li><li>'box'</li><li>'break'</li><li>'brilliant'</li><li>'brows'</li><li>'browser'</li><li>'bug'</li><li>'build'</li><li>'busi'</li><li>'button'</li><li>'buy'</li><li>'cach'</li><li>'call'</li><li>'can'</li><li>'candi'</li><li>'cant'</li><li>'cap'</li><li>'capit'</li><li>'card'</li><li>'care'</li><li>'caus'</li><li>'certain'</li><li>'challeng'</li><li>'chang'</li><li>'chat'</li><li>'check'</li><li>'choic'</li><li>'choos'</li><li>'chrome'</li><li>'classic'</li><li>'clear'</li><li>'click'</li><li>'close'</li><li>'clutter'</li><li>'coc'</li><li>'code'</li><li>'color'</li><li>'colour'</li><li>'come'</li><li>'comment'</li><li>'compani'</li><li>'compar'</li><li>'compat'</li><li>'complain'</li><li>'complet'</li><li>'comput'</li><li>'connect'</li><li>'consid'</li><li>'constant'</li><li>'contact'</li><li>'continu'</li><li>'control'</li><li>'convers'</li><li>'cool'</li><li>'coupl'</li><li>'crap'</li><li>'crash'</li><li>'crazi'</li><li>'creat'</li><li>'crush'</li><li>'current'</li><li>'custom'</li><li>'daili'</li><li>'data'</li><li>'day'</li><li>'dead'</li><li>'dear'</li><li>'decreas'</li><li>'default'</li><li>'definit'</li><li>'delet'</li><li>'design'</li><li>'desktop'</li><li>'dev'</li><li>'develop'</li><li>'devic'</li><li>'differ'</li><li>'difficult'</li><li>'direct'</li><li>'disappear'</li><li>'disappoint'</li><li>'doesnt'</li><li>'done'</li><li>'dont'</li><li>'doubt'</li><li>'download'</li><li>'drive'</li><li>'drop'</li><li>'dropbox'</li><li>'due'</li><li>'easi'</li><li>'easili'</li><li>'edit'</li><li>'either'</li><li>'els'</li><li>'email'</li><li>'emoji'</li><li>'enabl'</li><li>'end'</li><li>'engin'</li><li>'english'</li><li>'enjoy'</li><li>'enough'</li><li>'enter'</li><li>'entir'</li><li>'episod'</li><li>'error'</li><li>'especi'</li><li>'essenti'</li><li>'etc'</li><li>'even'</li><li>'ever'</li><li>'everi'</li><li>'evernot'</li><li>'everyon'</li><li>'everyth'</li><li>'everytim'</li><li>'excel'</li><li>'except'</li><li>'exit'</li><li>'expect'</li><li>'experi'</li><li>'extrem'</li><li>'facebook'</li><li>'fact'</li><li>'fail'</li><li>'famili'</li><li>'fantast'</li><li>'far'</li><li>'fast'</li><li>'faster'</li><li>'favorit'</li><li>'featur'</li><li>'feed'</li><li>'feel'</li><li>'file'</li><li>'final'</li><li>'find'</li><li>'fine'</li><li>'firefox'</li><li>'first'</li><li>⋯</li><li>'random'</li><li>'rate'</li><li>'rather'</li><li>'reach'</li><li>'read'</li><li>'real'</li><li>'realli'</li><li>'reason'</li><li>'receiv'</li><li>'recent'</li><li>'recommend'</li><li>'record'</li><li>'refresh'</li><li>'regular'</li><li>'reinstal'</li><li>'rememb'</li><li>'remov'</li><li>'replac'</li><li>'repli'</li><li>'report'</li><li>'request'</li><li>'requir'</li><li>'reset'</li><li>'respond'</li><li>'respons'</li><li>'restart'</li><li>'restor'</li><li>'return'</li><li>'review'</li><li>'ridicul'</li><li>'right'</li><li>'ring'</li><li>'rock'</li><li>'ruin'</li><li>'run'</li><li>'sad'</li><li>'samsung'</li><li>'save'</li><li>'say'</li><li>'screen'</li><li>'scroll'</li><li>'search'</li><li>'second'</li><li>'secur'</li><li>'see'</li><li>'seem'</li><li>'seen'</li><li>'select'</li><li>'send'</li><li>'sent'</li><li>'separ'</li><li>'serious'</li><li>'servic'</li><li>'set'</li><li>'sever'</li><li>'shadow'</li><li>'share'</li><li>'shield'</li><li>'short'</li><li>'show'</li><li>'side'</li><li>'sign'</li><li>'simpl'</li><li>'simpli'</li><li>'sinc'</li><li>'site'</li><li>'size'</li><li>'slack'</li><li>'slow'</li><li>'slower'</li><li>'small'</li><li>'smart'</li><li>'smooth'</li><li>'sms'</li><li>'solut'</li><li>'solv'</li><li>'someon'</li><li>'someth'</li><li>'sometim'</li><li>'soon'</li><li>'sort'</li><li>'sound'</li><li>'space'</li><li>'spam'</li><li>'speed'</li><li>'star'</li><li>'start'</li><li>'status'</li><li>'stay'</li><li>'step'</li><li>'sticker'</li><li>'still'</li><li>'stop'</li><li>'storag'</li><li>'store'</li><li>'stuck'</li><li>'stuff'</li><li>'suck'</li><li>'sudden'</li><li>'suggest'</li><li>'supercel'</li><li>'support'</li><li>'suppos'</li><li>'sure'</li><li>'swipe'</li><li>'switch'</li><li>'sync'</li><li>'system'</li><li>'tab'</li><li>'tablet'</li><li>'tag'</li><li>'take'</li><li>'taken'</li><li>'talk'</li><li>'team'</li><li>'telegram'</li><li>'tell'</li><li>'templ'</li><li>'text'</li><li>'thank'</li><li>'that'</li><li>'theme'</li><li>'thing'</li><li>'think'</li><li>'third'</li><li>'though'</li><li>'thought'</li><li>'three'</li><li>'time'</li><li>'timelin'</li><li>'took'</li><li>'top'</li><li>'total'</li><li>'touch'</li><li>'translat'</li><li>'tri'</li><li>'troop'</li><li>'troubl'</li><li>'turn'</li><li>'tweet'</li><li>'twitter'</li><li>'two'</li><li>'type'</li><li>'unabl'</li><li>'unfortun'</li><li>'uninstal'</li><li>'unless'</li><li>'unstabl'</li><li>'updat'</li><li>'upgrad'</li><li>'upload'</li><li>'usag'</li><li>'use'</li><li>'useless'</li><li>'user'</li><li>'usual'</li><li>'version'</li><li>'via'</li><li>'viber'</li><li>'video'</li><li>'view'</li><li>'villag'</li><li>'voic'</li><li>'wait'</li><li>'wallet'</li><li>'wanna'</li><li>'want'</li><li>'wast'</li><li>'watch'</li><li>'way'</li><li>'web'</li><li>'webpag'</li><li>'websit'</li><li>'wechat'</li><li>'week'</li><li>'well'</li><li>'whatev'</li><li>'whatsapp'</li><li>'whenev'</li><li>'widget'</li><li>'wifi'</li><li>'will'</li><li>'window'</li><li>'wish'</li><li>'within'</li><li>'without'</li><li>'wonder'</li><li>'wont'</li><li>'word'</li><li>'work'</li><li>'world'</li><li>'wors'</li><li>'worst'</li><li>'write'</li><li>'wrong'</li><li>'wtf'</li><li>'year'</li><li>'yes'</li><li>'yet'</li><li>'youtub'</li></ol>\n"
            ],
            "text/markdown": "1. 'abil'\n2. 'abl'\n3. 'absolut'\n4. 'access'\n5. 'account'\n6. 'action'\n7. 'actual'\n8. 'add'\n9. 'addict'\n10. 'ago'\n11. 'album'\n12. 'allow'\n13. 'almost'\n14. 'along'\n15. 'alreadi'\n16. 'also'\n17. 'alway'\n18. 'amaz'\n19. 'android'\n20. 'angri'\n21. 'annoy'\n22. 'anoth'\n23. 'answer'\n24. 'anymor'\n25. 'anyon'\n26. 'anyth'\n27. 'app'\n28. 'appear'\n29. 'appli'\n30. 'applic'\n31. 'around'\n32. 'asap'\n33. 'ask'\n34. 'attack'\n35. 'auto'\n36. 'automat'\n37. 'avail'\n38. 'away'\n39. 'awesom'\n40. 'back'\n41. 'background'\n42. 'backup'\n43. 'bad'\n44. 'bar'\n45. 'base'\n46. 'basic'\n47. 'batteri'\n48. 'becom'\n49. 'begin'\n50. 'best'\n51. 'better'\n52. 'big'\n53. 'bird'\n54. 'bit'\n55. 'black'\n56. 'block'\n57. 'book'\n58. 'bookmark'\n59. 'booster'\n60. 'bottom'\n61. 'box'\n62. 'break'\n63. 'brilliant'\n64. 'brows'\n65. 'browser'\n66. 'bug'\n67. 'build'\n68. 'busi'\n69. 'button'\n70. 'buy'\n71. 'cach'\n72. 'call'\n73. 'can'\n74. 'candi'\n75. 'cant'\n76. 'cap'\n77. 'capit'\n78. 'card'\n79. 'care'\n80. 'caus'\n81. 'certain'\n82. 'challeng'\n83. 'chang'\n84. 'chat'\n85. 'check'\n86. 'choic'\n87. 'choos'\n88. 'chrome'\n89. 'classic'\n90. 'clear'\n91. 'click'\n92. 'close'\n93. 'clutter'\n94. 'coc'\n95. 'code'\n96. 'color'\n97. 'colour'\n98. 'come'\n99. 'comment'\n100. 'compani'\n101. 'compar'\n102. 'compat'\n103. 'complain'\n104. 'complet'\n105. 'comput'\n106. 'connect'\n107. 'consid'\n108. 'constant'\n109. 'contact'\n110. 'continu'\n111. 'control'\n112. 'convers'\n113. 'cool'\n114. 'coupl'\n115. 'crap'\n116. 'crash'\n117. 'crazi'\n118. 'creat'\n119. 'crush'\n120. 'current'\n121. 'custom'\n122. 'daili'\n123. 'data'\n124. 'day'\n125. 'dead'\n126. 'dear'\n127. 'decreas'\n128. 'default'\n129. 'definit'\n130. 'delet'\n131. 'design'\n132. 'desktop'\n133. 'dev'\n134. 'develop'\n135. 'devic'\n136. 'differ'\n137. 'difficult'\n138. 'direct'\n139. 'disappear'\n140. 'disappoint'\n141. 'doesnt'\n142. 'done'\n143. 'dont'\n144. 'doubt'\n145. 'download'\n146. 'drive'\n147. 'drop'\n148. 'dropbox'\n149. 'due'\n150. 'easi'\n151. 'easili'\n152. 'edit'\n153. 'either'\n154. 'els'\n155. 'email'\n156. 'emoji'\n157. 'enabl'\n158. 'end'\n159. 'engin'\n160. 'english'\n161. 'enjoy'\n162. 'enough'\n163. 'enter'\n164. 'entir'\n165. 'episod'\n166. 'error'\n167. 'especi'\n168. 'essenti'\n169. 'etc'\n170. 'even'\n171. 'ever'\n172. 'everi'\n173. 'evernot'\n174. 'everyon'\n175. 'everyth'\n176. 'everytim'\n177. 'excel'\n178. 'except'\n179. 'exit'\n180. 'expect'\n181. 'experi'\n182. 'extrem'\n183. 'facebook'\n184. 'fact'\n185. 'fail'\n186. 'famili'\n187. 'fantast'\n188. 'far'\n189. 'fast'\n190. 'faster'\n191. 'favorit'\n192. 'featur'\n193. 'feed'\n194. 'feel'\n195. 'file'\n196. 'final'\n197. 'find'\n198. 'fine'\n199. 'firefox'\n200. 'first'\n201. ⋯\n202. 'random'\n203. 'rate'\n204. 'rather'\n205. 'reach'\n206. 'read'\n207. 'real'\n208. 'realli'\n209. 'reason'\n210. 'receiv'\n211. 'recent'\n212. 'recommend'\n213. 'record'\n214. 'refresh'\n215. 'regular'\n216. 'reinstal'\n217. 'rememb'\n218. 'remov'\n219. 'replac'\n220. 'repli'\n221. 'report'\n222. 'request'\n223. 'requir'\n224. 'reset'\n225. 'respond'\n226. 'respons'\n227. 'restart'\n228. 'restor'\n229. 'return'\n230. 'review'\n231. 'ridicul'\n232. 'right'\n233. 'ring'\n234. 'rock'\n235. 'ruin'\n236. 'run'\n237. 'sad'\n238. 'samsung'\n239. 'save'\n240. 'say'\n241. 'screen'\n242. 'scroll'\n243. 'search'\n244. 'second'\n245. 'secur'\n246. 'see'\n247. 'seem'\n248. 'seen'\n249. 'select'\n250. 'send'\n251. 'sent'\n252. 'separ'\n253. 'serious'\n254. 'servic'\n255. 'set'\n256. 'sever'\n257. 'shadow'\n258. 'share'\n259. 'shield'\n260. 'short'\n261. 'show'\n262. 'side'\n263. 'sign'\n264. 'simpl'\n265. 'simpli'\n266. 'sinc'\n267. 'site'\n268. 'size'\n269. 'slack'\n270. 'slow'\n271. 'slower'\n272. 'small'\n273. 'smart'\n274. 'smooth'\n275. 'sms'\n276. 'solut'\n277. 'solv'\n278. 'someon'\n279. 'someth'\n280. 'sometim'\n281. 'soon'\n282. 'sort'\n283. 'sound'\n284. 'space'\n285. 'spam'\n286. 'speed'\n287. 'star'\n288. 'start'\n289. 'status'\n290. 'stay'\n291. 'step'\n292. 'sticker'\n293. 'still'\n294. 'stop'\n295. 'storag'\n296. 'store'\n297. 'stuck'\n298. 'stuff'\n299. 'suck'\n300. 'sudden'\n301. 'suggest'\n302. 'supercel'\n303. 'support'\n304. 'suppos'\n305. 'sure'\n306. 'swipe'\n307. 'switch'\n308. 'sync'\n309. 'system'\n310. 'tab'\n311. 'tablet'\n312. 'tag'\n313. 'take'\n314. 'taken'\n315. 'talk'\n316. 'team'\n317. 'telegram'\n318. 'tell'\n319. 'templ'\n320. 'text'\n321. 'thank'\n322. 'that'\n323. 'theme'\n324. 'thing'\n325. 'think'\n326. 'third'\n327. 'though'\n328. 'thought'\n329. 'three'\n330. 'time'\n331. 'timelin'\n332. 'took'\n333. 'top'\n334. 'total'\n335. 'touch'\n336. 'translat'\n337. 'tri'\n338. 'troop'\n339. 'troubl'\n340. 'turn'\n341. 'tweet'\n342. 'twitter'\n343. 'two'\n344. 'type'\n345. 'unabl'\n346. 'unfortun'\n347. 'uninstal'\n348. 'unless'\n349. 'unstabl'\n350. 'updat'\n351. 'upgrad'\n352. 'upload'\n353. 'usag'\n354. 'use'\n355. 'useless'\n356. 'user'\n357. 'usual'\n358. 'version'\n359. 'via'\n360. 'viber'\n361. 'video'\n362. 'view'\n363. 'villag'\n364. 'voic'\n365. 'wait'\n366. 'wallet'\n367. 'wanna'\n368. 'want'\n369. 'wast'\n370. 'watch'\n371. 'way'\n372. 'web'\n373. 'webpag'\n374. 'websit'\n375. 'wechat'\n376. 'week'\n377. 'well'\n378. 'whatev'\n379. 'whatsapp'\n380. 'whenev'\n381. 'widget'\n382. 'wifi'\n383. 'will'\n384. 'window'\n385. 'wish'\n386. 'within'\n387. 'without'\n388. 'wonder'\n389. 'wont'\n390. 'word'\n391. 'work'\n392. 'world'\n393. 'wors'\n394. 'worst'\n395. 'write'\n396. 'wrong'\n397. 'wtf'\n398. 'year'\n399. 'yes'\n400. 'yet'\n401. 'youtub'\n\n\n",
            "text/latex": "\\begin{enumerate*}\n\\item 'abil'\n\\item 'abl'\n\\item 'absolut'\n\\item 'access'\n\\item 'account'\n\\item 'action'\n\\item 'actual'\n\\item 'add'\n\\item 'addict'\n\\item 'ago'\n\\item 'album'\n\\item 'allow'\n\\item 'almost'\n\\item 'along'\n\\item 'alreadi'\n\\item 'also'\n\\item 'alway'\n\\item 'amaz'\n\\item 'android'\n\\item 'angri'\n\\item 'annoy'\n\\item 'anoth'\n\\item 'answer'\n\\item 'anymor'\n\\item 'anyon'\n\\item 'anyth'\n\\item 'app'\n\\item 'appear'\n\\item 'appli'\n\\item 'applic'\n\\item 'around'\n\\item 'asap'\n\\item 'ask'\n\\item 'attack'\n\\item 'auto'\n\\item 'automat'\n\\item 'avail'\n\\item 'away'\n\\item 'awesom'\n\\item 'back'\n\\item 'background'\n\\item 'backup'\n\\item 'bad'\n\\item 'bar'\n\\item 'base'\n\\item 'basic'\n\\item 'batteri'\n\\item 'becom'\n\\item 'begin'\n\\item 'best'\n\\item 'better'\n\\item 'big'\n\\item 'bird'\n\\item 'bit'\n\\item 'black'\n\\item 'block'\n\\item 'book'\n\\item 'bookmark'\n\\item 'booster'\n\\item 'bottom'\n\\item 'box'\n\\item 'break'\n\\item 'brilliant'\n\\item 'brows'\n\\item 'browser'\n\\item 'bug'\n\\item 'build'\n\\item 'busi'\n\\item 'button'\n\\item 'buy'\n\\item 'cach'\n\\item 'call'\n\\item 'can'\n\\item 'candi'\n\\item 'cant'\n\\item 'cap'\n\\item 'capit'\n\\item 'card'\n\\item 'care'\n\\item 'caus'\n\\item 'certain'\n\\item 'challeng'\n\\item 'chang'\n\\item 'chat'\n\\item 'check'\n\\item 'choic'\n\\item 'choos'\n\\item 'chrome'\n\\item 'classic'\n\\item 'clear'\n\\item 'click'\n\\item 'close'\n\\item 'clutter'\n\\item 'coc'\n\\item 'code'\n\\item 'color'\n\\item 'colour'\n\\item 'come'\n\\item 'comment'\n\\item 'compani'\n\\item 'compar'\n\\item 'compat'\n\\item 'complain'\n\\item 'complet'\n\\item 'comput'\n\\item 'connect'\n\\item 'consid'\n\\item 'constant'\n\\item 'contact'\n\\item 'continu'\n\\item 'control'\n\\item 'convers'\n\\item 'cool'\n\\item 'coupl'\n\\item 'crap'\n\\item 'crash'\n\\item 'crazi'\n\\item 'creat'\n\\item 'crush'\n\\item 'current'\n\\item 'custom'\n\\item 'daili'\n\\item 'data'\n\\item 'day'\n\\item 'dead'\n\\item 'dear'\n\\item 'decreas'\n\\item 'default'\n\\item 'definit'\n\\item 'delet'\n\\item 'design'\n\\item 'desktop'\n\\item 'dev'\n\\item 'develop'\n\\item 'devic'\n\\item 'differ'\n\\item 'difficult'\n\\item 'direct'\n\\item 'disappear'\n\\item 'disappoint'\n\\item 'doesnt'\n\\item 'done'\n\\item 'dont'\n\\item 'doubt'\n\\item 'download'\n\\item 'drive'\n\\item 'drop'\n\\item 'dropbox'\n\\item 'due'\n\\item 'easi'\n\\item 'easili'\n\\item 'edit'\n\\item 'either'\n\\item 'els'\n\\item 'email'\n\\item 'emoji'\n\\item 'enabl'\n\\item 'end'\n\\item 'engin'\n\\item 'english'\n\\item 'enjoy'\n\\item 'enough'\n\\item 'enter'\n\\item 'entir'\n\\item 'episod'\n\\item 'error'\n\\item 'especi'\n\\item 'essenti'\n\\item 'etc'\n\\item 'even'\n\\item 'ever'\n\\item 'everi'\n\\item 'evernot'\n\\item 'everyon'\n\\item 'everyth'\n\\item 'everytim'\n\\item 'excel'\n\\item 'except'\n\\item 'exit'\n\\item 'expect'\n\\item 'experi'\n\\item 'extrem'\n\\item 'facebook'\n\\item 'fact'\n\\item 'fail'\n\\item 'famili'\n\\item 'fantast'\n\\item 'far'\n\\item 'fast'\n\\item 'faster'\n\\item 'favorit'\n\\item 'featur'\n\\item 'feed'\n\\item 'feel'\n\\item 'file'\n\\item 'final'\n\\item 'find'\n\\item 'fine'\n\\item 'firefox'\n\\item 'first'\n\\item ⋯\n\\item 'random'\n\\item 'rate'\n\\item 'rather'\n\\item 'reach'\n\\item 'read'\n\\item 'real'\n\\item 'realli'\n\\item 'reason'\n\\item 'receiv'\n\\item 'recent'\n\\item 'recommend'\n\\item 'record'\n\\item 'refresh'\n\\item 'regular'\n\\item 'reinstal'\n\\item 'rememb'\n\\item 'remov'\n\\item 'replac'\n\\item 'repli'\n\\item 'report'\n\\item 'request'\n\\item 'requir'\n\\item 'reset'\n\\item 'respond'\n\\item 'respons'\n\\item 'restart'\n\\item 'restor'\n\\item 'return'\n\\item 'review'\n\\item 'ridicul'\n\\item 'right'\n\\item 'ring'\n\\item 'rock'\n\\item 'ruin'\n\\item 'run'\n\\item 'sad'\n\\item 'samsung'\n\\item 'save'\n\\item 'say'\n\\item 'screen'\n\\item 'scroll'\n\\item 'search'\n\\item 'second'\n\\item 'secur'\n\\item 'see'\n\\item 'seem'\n\\item 'seen'\n\\item 'select'\n\\item 'send'\n\\item 'sent'\n\\item 'separ'\n\\item 'serious'\n\\item 'servic'\n\\item 'set'\n\\item 'sever'\n\\item 'shadow'\n\\item 'share'\n\\item 'shield'\n\\item 'short'\n\\item 'show'\n\\item 'side'\n\\item 'sign'\n\\item 'simpl'\n\\item 'simpli'\n\\item 'sinc'\n\\item 'site'\n\\item 'size'\n\\item 'slack'\n\\item 'slow'\n\\item 'slower'\n\\item 'small'\n\\item 'smart'\n\\item 'smooth'\n\\item 'sms'\n\\item 'solut'\n\\item 'solv'\n\\item 'someon'\n\\item 'someth'\n\\item 'sometim'\n\\item 'soon'\n\\item 'sort'\n\\item 'sound'\n\\item 'space'\n\\item 'spam'\n\\item 'speed'\n\\item 'star'\n\\item 'start'\n\\item 'status'\n\\item 'stay'\n\\item 'step'\n\\item 'sticker'\n\\item 'still'\n\\item 'stop'\n\\item 'storag'\n\\item 'store'\n\\item 'stuck'\n\\item 'stuff'\n\\item 'suck'\n\\item 'sudden'\n\\item 'suggest'\n\\item 'supercel'\n\\item 'support'\n\\item 'suppos'\n\\item 'sure'\n\\item 'swipe'\n\\item 'switch'\n\\item 'sync'\n\\item 'system'\n\\item 'tab'\n\\item 'tablet'\n\\item 'tag'\n\\item 'take'\n\\item 'taken'\n\\item 'talk'\n\\item 'team'\n\\item 'telegram'\n\\item 'tell'\n\\item 'templ'\n\\item 'text'\n\\item 'thank'\n\\item 'that'\n\\item 'theme'\n\\item 'thing'\n\\item 'think'\n\\item 'third'\n\\item 'though'\n\\item 'thought'\n\\item 'three'\n\\item 'time'\n\\item 'timelin'\n\\item 'took'\n\\item 'top'\n\\item 'total'\n\\item 'touch'\n\\item 'translat'\n\\item 'tri'\n\\item 'troop'\n\\item 'troubl'\n\\item 'turn'\n\\item 'tweet'\n\\item 'twitter'\n\\item 'two'\n\\item 'type'\n\\item 'unabl'\n\\item 'unfortun'\n\\item 'uninstal'\n\\item 'unless'\n\\item 'unstabl'\n\\item 'updat'\n\\item 'upgrad'\n\\item 'upload'\n\\item 'usag'\n\\item 'use'\n\\item 'useless'\n\\item 'user'\n\\item 'usual'\n\\item 'version'\n\\item 'via'\n\\item 'viber'\n\\item 'video'\n\\item 'view'\n\\item 'villag'\n\\item 'voic'\n\\item 'wait'\n\\item 'wallet'\n\\item 'wanna'\n\\item 'want'\n\\item 'wast'\n\\item 'watch'\n\\item 'way'\n\\item 'web'\n\\item 'webpag'\n\\item 'websit'\n\\item 'wechat'\n\\item 'week'\n\\item 'well'\n\\item 'whatev'\n\\item 'whatsapp'\n\\item 'whenev'\n\\item 'widget'\n\\item 'wifi'\n\\item 'will'\n\\item 'window'\n\\item 'wish'\n\\item 'within'\n\\item 'without'\n\\item 'wonder'\n\\item 'wont'\n\\item 'word'\n\\item 'work'\n\\item 'world'\n\\item 'wors'\n\\item 'worst'\n\\item 'write'\n\\item 'wrong'\n\\item 'wtf'\n\\item 'year'\n\\item 'yes'\n\\item 'yet'\n\\item 'youtub'\n\\end{enumerate*}\n",
            "text/plain": [
              "  [1] \"abil\"       \"abl\"        \"absolut\"    \"access\"     \"account\"   \n",
              "  [6] \"action\"     \"actual\"     \"add\"        \"addict\"     \"ago\"       \n",
              " [11] \"album\"      \"allow\"      \"almost\"     \"along\"      \"alreadi\"   \n",
              " [16] \"also\"       \"alway\"      \"amaz\"       \"android\"    \"angri\"     \n",
              " [21] \"annoy\"      \"anoth\"      \"answer\"     \"anymor\"     \"anyon\"     \n",
              " [26] \"anyth\"      \"app\"        \"appear\"     \"appli\"      \"applic\"    \n",
              " [31] \"around\"     \"asap\"       \"ask\"        \"attack\"     \"auto\"      \n",
              " [36] \"automat\"    \"avail\"      \"away\"       \"awesom\"     \"back\"      \n",
              " [41] \"background\" \"backup\"     \"bad\"        \"bar\"        \"base\"      \n",
              " [46] \"basic\"      \"batteri\"    \"becom\"      \"begin\"      \"best\"      \n",
              " [51] \"better\"     \"big\"        \"bird\"       \"bit\"        \"black\"     \n",
              " [56] \"block\"      \"book\"       \"bookmark\"   \"booster\"    \"bottom\"    \n",
              " [61] \"box\"        \"break\"      \"brilliant\"  \"brows\"      \"browser\"   \n",
              " [66] \"bug\"        \"build\"      \"busi\"       \"button\"     \"buy\"       \n",
              " [71] \"cach\"       \"call\"       \"can\"        \"candi\"      \"cant\"      \n",
              " [76] \"cap\"        \"capit\"      \"card\"       \"care\"       \"caus\"      \n",
              " [81] \"certain\"    \"challeng\"   \"chang\"      \"chat\"       \"check\"     \n",
              " [86] \"choic\"      \"choos\"      \"chrome\"     \"classic\"    \"clear\"     \n",
              " [91] \"click\"      \"close\"      \"clutter\"    \"coc\"        \"code\"      \n",
              " [96] \"color\"      \"colour\"     \"come\"       \"comment\"    \"compani\"   \n",
              "[101] \"compar\"     \"compat\"     \"complain\"   \"complet\"    \"comput\"    \n",
              "[106] \"connect\"    \"consid\"     \"constant\"   \"contact\"    \"continu\"   \n",
              "[111] \"control\"    \"convers\"    \"cool\"       \"coupl\"      \"crap\"      \n",
              "[116] \"crash\"      \"crazi\"      \"creat\"      \"crush\"      \"current\"   \n",
              "[121] \"custom\"     \"daili\"      \"data\"       \"day\"        \"dead\"      \n",
              "[126] \"dear\"       \"decreas\"    \"default\"    \"definit\"    \"delet\"     \n",
              "[131] \"design\"     \"desktop\"    \"dev\"        \"develop\"    \"devic\"     \n",
              "[136] \"differ\"     \"difficult\"  \"direct\"     \"disappear\"  \"disappoint\"\n",
              "[141] \"doesnt\"     \"done\"       \"dont\"       \"doubt\"      \"download\"  \n",
              "[146] \"drive\"      \"drop\"       \"dropbox\"    \"due\"        \"easi\"      \n",
              "[151] \"easili\"     \"edit\"       \"either\"     \"els\"        \"email\"     \n",
              "[156] \"emoji\"      \"enabl\"      \"end\"        \"engin\"      \"english\"   \n",
              "[161] \"enjoy\"      \"enough\"     \"enter\"      \"entir\"      \"episod\"    \n",
              "[166] \"error\"      \"especi\"     \"essenti\"    \"etc\"        \"even\"      \n",
              "[171] \"ever\"       \"everi\"      \"evernot\"    \"everyon\"    \"everyth\"   \n",
              "[176] \"everytim\"   \"excel\"      \"except\"     \"exit\"       \"expect\"    \n",
              "[181] \"experi\"     \"extrem\"     \"facebook\"   \"fact\"       \"fail\"      \n",
              "[186] \"famili\"     \"fantast\"    \"far\"        \"fast\"       \"faster\"    \n",
              "[191] \"favorit\"    \"featur\"     \"feed\"       \"feel\"       \"file\"      \n",
              "[196] \"final\"      \"find\"       \"fine\"       \"firefox\"    \"first\"     \n",
              "[201] \"five\"       \"fix\"        \"folder\"     \"follow\"     \"font\"      \n",
              "[206] \"forc\"       \"format\"     \"forward\"    \"found\"      \"free\"      \n",
              "[211] \"freez\"      \"frequent\"   \"friend\"     \"frozen\"     \"frustrat\"  \n",
              "[216] \"full\"       \"fun\"        \"function\"   \"galaxi\"     \"game\"      \n",
              "[221] \"gem\"        \"get\"        \"gif\"        \"give\"       \"given\"     \n",
              "[226] \"glitch\"     \"goe\"        \"gold\"       \"gone\"       \"gonna\"     \n",
              "[231] \"good\"       \"googl\"      \"got\"        \"great\"      \"group\"     \n",
              "[236] \"guy\"        \"half\"       \"hall\"       \"hamro\"      \"hand\"      \n",
              "[241] \"hang\"       \"hangout\"    \"happen\"     \"happi\"      \"hard\"      \n",
              "[246] \"hate\"       \"head\"       \"hear\"       \"help\"       \"hey\"       \n",
              "[251] \"high\"       \"histori\"    \"home\"       \"honest\"     \"hope\"      \n",
              "[256] \"horribl\"    \"hour\"       \"howev\"      \"htc\"        \"icon\"      \n",
              "[261] \"idea\"       \"imag\"       \"implement\"  \"import\"     \"imposs\"    \n",
              "[266] \"improv\"     \"includ\"     \"inform\"     \"initi\"      \"instal\"    \n",
              "[271] \"instead\"    \"interest\"   \"interfac\"   \"intern\"     \"internet\"  \n",
              "[276] \"introduc\"   \"iphon\"      \"issu\"       \"item\"       \"job\"       \n",
              "[281] \"just\"       \"keep\"       \"key\"        \"keyboard\"   \"kick\"      \n",
              "[286] \"kind\"       \"know\"       \"lack\"       \"lag\"        \"languag\"   \n",
              "[291] \"last\"       \"later\"      \"latest\"     \"launch\"     \"layout\"    \n",
              "[296] \"least\"      \"left\"       \"less\"       \"let\"        \"letter\"    \n",
              "[301] \"level\"      \"life\"       \"like\"       \"line\"       \"link\"      \n",
              "[306] \"linkedin\"   \"list\"       \"littl\"      \"live\"       \"load\"      \n",
              "[311] \"lock\"       \"log\"        \"login\"      \"long\"       \"longer\"    \n",
              "[316] \"look\"       \"loot\"       \"lose\"       \"lost\"       \"lot\"       \n",
              "[321] \"love\"       \"low\"        \"made\"       \"main\"       \"major\"     \n",
              "[326] \"make\"       \"manag\"      \"mani\"       \"map\"        \"matter\"    \n",
              "[331] \"may\"        \"mayb\"       \"mean\"       \"memori\"     \"mention\"   \n",
              "[336] \"menu\"       \"messag\"     \"messeng\"    \"min\"        \"mini\"      \n",
              "[341] \"minut\"      \"miss\"       \"mobil\"      \"mode\"       \"moment\"    \n",
              "[346] \"money\"      \"month\"      \"move\"       \"msg\"        \"msgs\"      \n",
              "[351] \"much\"       \"multipl\"    \"must\"       \"mute\"       \"name\"      \n",
              "[356] \"near\"       \"need\"       \"nepali\"     \"network\"    \"never\"     \n",
              "[361] \"new\"        \"newest\"     \"news\"       \"next\"       \"nice\"      \n",
              "[366] \"normal\"     \"note\"       \"noth\"       \"notic\"      \"notif\"     \n",
              "[371] \"notifi\"     \"now\"        \"number\"     \"obvious\"    \"occur\"     \n",
              "[376] \"offlin\"     \"often\"      \"old\"        \"older\"      \"one\"       \n",
              "[381] \"onlin\"      \"open\"       \"oper\"       \"opera\"      \"option\"    \n",
              "[386] \"order\"      \"organ\"      \"other\"      \"otherwis\"   \"overal\"    \n",
              "[391] \"page\"       \"paid\"       \"paper\"      \"part\"       \"parti\"     \n",
              "[396] \"pass\"       \"password\"   \"past\"       \"pay\"        \"pdf\"       \n",
              "[401] \"peopl\"      \"perfect\"    \"perform\"    \"person\"     \"phone\"     \n",
              "[406] \"photo\"      \"pic\"        \"pictur\"     \"place\"      \"play\"      \n",
              "[411] \"player\"     \"pleas\"      \"pls\"        \"plus\"       \"plz\"       \n",
              "[416] \"point\"      \"poor\"       \"pop\"        \"possibl\"    \"post\"      \n",
              "[421] \"power\"      \"press\"      \"pretti\"     \"previous\"   \"problem\"   \n",
              "[426] \"product\"    \"profil\"     \"program\"    \"proper\"     \"provid\"    \n",
              "[431] \"purchas\"    \"push\"       \"put\"        \"qualiti\"    \"quick\"     \n",
              "[436] \"quit\"       \"ram\"        \"random\"     \"rate\"       \"rather\"    \n",
              "[441] \"reach\"      \"read\"       \"real\"       \"realli\"     \"reason\"    \n",
              "[446] \"receiv\"     \"recent\"     \"recommend\"  \"record\"     \"refresh\"   \n",
              "[451] \"regular\"    \"reinstal\"   \"rememb\"     \"remov\"      \"replac\"    \n",
              "[456] \"repli\"      \"report\"     \"request\"    \"requir\"     \"reset\"     \n",
              "[461] \"respond\"    \"respons\"    \"restart\"    \"restor\"     \"return\"    \n",
              "[466] \"review\"     \"ridicul\"    \"right\"      \"ring\"       \"rock\"      \n",
              "[471] \"ruin\"       \"run\"        \"sad\"        \"samsung\"    \"save\"      \n",
              "[476] \"say\"        \"screen\"     \"scroll\"     \"search\"     \"second\"    \n",
              "[481] \"secur\"      \"see\"        \"seem\"       \"seen\"       \"select\"    \n",
              "[486] \"send\"       \"sent\"       \"separ\"      \"serious\"    \"servic\"    \n",
              "[491] \"set\"        \"sever\"      \"shadow\"     \"share\"      \"shield\"    \n",
              "[496] \"short\"      \"show\"       \"side\"       \"sign\"       \"simpl\"     \n",
              "[501] \"simpli\"     \"sinc\"       \"site\"       \"size\"       \"slack\"     \n",
              "[506] \"slow\"       \"slower\"     \"small\"      \"smart\"      \"smooth\"    \n",
              "[511] \"sms\"        \"solut\"      \"solv\"       \"someon\"     \"someth\"    \n",
              "[516] \"sometim\"    \"soon\"       \"sort\"       \"sound\"      \"space\"     \n",
              "[521] \"spam\"       \"speed\"      \"star\"       \"start\"      \"status\"    \n",
              "[526] \"stay\"       \"step\"       \"sticker\"    \"still\"      \"stop\"      \n",
              "[531] \"storag\"     \"store\"      \"stuck\"      \"stuff\"      \"suck\"      \n",
              "[536] \"sudden\"     \"suggest\"    \"supercel\"   \"support\"    \"suppos\"    \n",
              "[541] \"sure\"       \"swipe\"      \"switch\"     \"sync\"       \"system\"    \n",
              "[546] \"tab\"        \"tablet\"     \"tag\"        \"take\"       \"taken\"     \n",
              "[551] \"talk\"       \"team\"       \"telegram\"   \"tell\"       \"templ\"     \n",
              "[556] \"text\"       \"thank\"      \"that\"       \"theme\"      \"thing\"     \n",
              "[561] \"think\"      \"third\"      \"though\"     \"thought\"    \"three\"     \n",
              "[566] \"time\"       \"timelin\"    \"took\"       \"top\"        \"total\"     \n",
              "[571] \"touch\"      \"translat\"   \"tri\"        \"troop\"      \"troubl\"    \n",
              "[576] \"turn\"       \"tweet\"      \"twitter\"    \"two\"        \"type\"      \n",
              "[581] \"unabl\"      \"unfortun\"   \"uninstal\"   \"unless\"     \"unstabl\"   \n",
              "[586] \"updat\"      \"upgrad\"     \"upload\"     \"usag\"       \"use\"       \n",
              "[591] \"useless\"    \"user\"       \"usual\"      \"version\"    \"via\"       \n",
              "[596] \"viber\"      \"video\"      \"view\"       \"villag\"     \"voic\"      \n",
              "[601] \"wait\"       \"wallet\"     \"wanna\"      \"want\"       \"wast\"      \n",
              "[606] \"watch\"      \"way\"        \"web\"        \"webpag\"     \"websit\"    \n",
              "[611] \"wechat\"     \"week\"       \"well\"       \"whatev\"     \"whatsapp\"  \n",
              "[616] \"whenev\"     \"widget\"     \"wifi\"       \"will\"       \"window\"    \n",
              "[621] \"wish\"       \"within\"     \"without\"    \"wonder\"     \"wont\"      \n",
              "[626] \"word\"       \"work\"       \"world\"      \"wors\"       \"worst\"     \n",
              "[631] \"write\"      \"wrong\"      \"wtf\"        \"year\"       \"yes\"       \n",
              "[636] \"yet\"        \"youtub\"    "
            ]
          },
          "metadata": {}
        }
      ]
    },
    {
      "cell_type": "markdown",
      "source": [
        "Se observan aún algunas palabras que tienen caracteres especiales."
      ],
      "metadata": {
        "id": "t_rZIDiXO1Q9"
      },
      "id": "t_rZIDiXO1Q9"
    },
    {
      "cell_type": "code",
      "source": [
        "#Recortamos el data set con las palabras con una frecuencia superior a 3\n",
        "freq_terms = findFreqTerms(dtm.train, 3)\n",
        "reduced_dtm.train = DocumentTermMatrix(corpus.train, list(dictionary=freq_terms))\n",
        "reduced_dtm.test =  DocumentTermMatrix(corpus.test, list(dictionary=freq_terms))\n",
        "\n",
        "#Revisamos cuantas columnas reducimos\n",
        "ncol(dtm.train)\n",
        "ncol(reduced_dtm.train)\n",
        "ncol(dtm.test)\n",
        "ncol(reduced_dtm.test)"
      ],
      "metadata": {
        "colab": {
          "base_uri": "https://localhost:8080/",
          "height": 86
        },
        "id": "gwAIlHCYPXfl",
        "outputId": "92e9ae1a-7250-498e-fead-928f5c03a4c4"
      },
      "id": "gwAIlHCYPXfl",
      "execution_count": 192,
      "outputs": [
        {
          "output_type": "display_data",
          "data": {
            "text/html": [
              "2625"
            ],
            "text/markdown": "2625",
            "text/latex": "2625",
            "text/plain": [
              "[1] 2625"
            ]
          },
          "metadata": {}
        },
        {
          "output_type": "display_data",
          "data": {
            "text/html": [
              "923"
            ],
            "text/markdown": "923",
            "text/latex": "923",
            "text/plain": [
              "[1] 923"
            ]
          },
          "metadata": {}
        },
        {
          "output_type": "display_data",
          "data": {
            "text/html": [
              "2625"
            ],
            "text/markdown": "2625",
            "text/latex": "2625",
            "text/plain": [
              "[1] 2625"
            ]
          },
          "metadata": {}
        },
        {
          "output_type": "display_data",
          "data": {
            "text/html": [
              "923"
            ],
            "text/markdown": "923",
            "text/latex": "923",
            "text/plain": [
              "[1] 923"
            ]
          },
          "metadata": {}
        }
      ]
    },
    {
      "cell_type": "markdown",
      "source": [
        "Se filtra por frecuencia de 3, para que el train y el test solo tengan estas palabras de mayor frecuencia."
      ],
      "metadata": {
        "id": "a3plMyfFPclJ"
      },
      "id": "a3plMyfFPclJ"
    },
    {
      "cell_type": "markdown",
      "source": [
        "## <font color='#3d59c6'>  2. Creación de modelo clasificador de Naive Bayes  </font>\n"
      ],
      "metadata": {
        "id": "UMRvH-eoMdX2"
      },
      "id": "UMRvH-eoMdX2"
    },
    {
      "cell_type": "markdown",
      "source": [
        "Naive Bayes opera con variables categóricas, y la  DRT utiliza valores numéricos. Se crea una función diseñada para convertir números en variables categóricas y la se aplica a las matrices reducidas."
      ],
      "metadata": {
        "id": "edZn8pgdQEsv"
      },
      "id": "edZn8pgdQEsv"
    },
    {
      "cell_type": "code",
      "source": [
        "convert_counts = function(x) {\n",
        "  x = ifelse(x > 0, 1, 0)\n",
        "  x = factor(x, levels = c(0, 1), labels=c(\"No\", \"Yes\"))\n",
        "  return (x)\n",
        "}\n",
        "\n",
        "# apply() allows us to work either with rows or columns of a matrix.\n",
        "# MARGIN = 1 is for rows, and 2 for columns\n",
        "reduced_dtm.train = apply(reduced_dtm.train, MARGIN=2, convert_counts)\n",
        "reduced_dtm.test  = apply(reduced_dtm.test, MARGIN=2, convert_counts)"
      ],
      "metadata": {
        "id": "tvm9660TP30A"
      },
      "id": "tvm9660TP30A",
      "execution_count": 193,
      "outputs": []
    },
    {
      "cell_type": "code",
      "source": [
        "# store our model in sms_classifier\n",
        "subject_classifier = naiveBayes(reduced_dtm.train # Dataset de entrenamiento\n",
        "                            , data.train$polarity) # Target de entrenamiento\n",
        "\n",
        "subject_test.predicted = predict(subject_classifier,  # Predicciones utilizando el modelo creado con los datos de entrenamiento\n",
        "                             reduced_dtm.test) # Generación de predicciones para el dataset de test"
      ],
      "metadata": {
        "id": "_eWFia14QqH3"
      },
      "id": "_eWFia14QqH3",
      "execution_count": 194,
      "outputs": []
    },
    {
      "cell_type": "markdown",
      "source": [
        "Aplicandolo para Train y Test"
      ],
      "metadata": {
        "id": "gKerrrb1RSGF"
      },
      "id": "gKerrrb1RSGF"
    },
    {
      "cell_type": "code",
      "source": [
        "# Ahora sacamos el confusion matrix\n",
        "confusionMatrix(subject_test.predicted, data.test$polarity)"
      ],
      "metadata": {
        "colab": {
          "base_uri": "https://localhost:8080/",
          "height": 486
        },
        "id": "RY_W4wMKRZhe",
        "outputId": "06b53e22-e3cd-4ef3-86ef-aa5178c6fd45"
      },
      "id": "RY_W4wMKRZhe",
      "execution_count": 195,
      "outputs": [
        {
          "output_type": "display_data",
          "data": {
            "text/plain": [
              "Confusion Matrix and Statistics\n",
              "\n",
              "          Reference\n",
              "Prediction   0   1\n",
              "         0 100  11\n",
              "         1  16  50\n",
              "                                         \n",
              "               Accuracy : 0.8475         \n",
              "                 95% CI : (0.7859, 0.897)\n",
              "    No Information Rate : 0.6554         \n",
              "    P-Value [Acc > NIR] : 8.086e-09      \n",
              "                                         \n",
              "                  Kappa : 0.6687         \n",
              "                                         \n",
              " Mcnemar's Test P-Value : 0.4414         \n",
              "                                         \n",
              "            Sensitivity : 0.8621         \n",
              "            Specificity : 0.8197         \n",
              "         Pos Pred Value : 0.9009         \n",
              "         Neg Pred Value : 0.7576         \n",
              "             Prevalence : 0.6554         \n",
              "         Detection Rate : 0.5650         \n",
              "   Detection Prevalence : 0.6271         \n",
              "      Balanced Accuracy : 0.8409         \n",
              "                                         \n",
              "       'Positive' Class : 0              \n",
              "                                         "
            ]
          },
          "metadata": {}
        }
      ]
    },
    {
      "cell_type": "markdown",
      "source": [
        "La matriz de confusión nos muestra que hay 21 instancias que fueron incorrectamente clasificadas como neutras cuando en realidad eran extremas.\n",
        "\n",
        "Por otro lado, hay 28 instancias que fueron incorrectamente clasificadas como sentimientos extremos cuando en realidad eran neutros.\n",
        "\n",
        "Se tiene un accuracy aceptable de 82%"
      ],
      "metadata": {
        "id": "Qh-US9v1RrLD"
      },
      "id": "Qh-US9v1RrLD"
    },
    {
      "cell_type": "markdown",
      "source": [
        "la exactitud del modelo parece prometedora; sin embargo, es importante las características de las instancias en las que ocurren errores de predicción."
      ],
      "metadata": {
        "id": "ALb8hD6RaUDk"
      },
      "id": "ALb8hD6RaUDk"
    },
    {
      "cell_type": "markdown",
      "source": [
        "Posteriormente se cambio la frecuencia de las palabras y el % de train y test para ver si habia una mejora del modelo. Se disminuyeron los falsos positivos y negativos"
      ],
      "metadata": {
        "id": "kP0Mn0Yp6sr2"
      },
      "id": "kP0Mn0Yp6sr2"
    },
    {
      "cell_type": "code",
      "source": [
        "# Visualizamos las instancias que han sido filtradas erróneamente\n",
        "data.test[(subject_test.predicted != data.test$polarity) # Seleccionamos las instancias con error en la predicción\n",
        "          & (data.test$polarity == '0'),] # Seleccionamos las instancias con etiqueta neutro"
      ],
      "metadata": {
        "colab": {
          "base_uri": "https://localhost:8080/",
          "height": 1000
        },
        "id": "mqb2iWWhZrOX",
        "outputId": "a5a8b8cc-a281-4a2b-cbc1-2f721f941c6b"
      },
      "id": "mqb2iWWhZrOX",
      "execution_count": 196,
      "outputs": [
        {
          "output_type": "display_data",
          "data": {
            "text/html": [
              "<table class=\"dataframe\">\n",
              "<caption>A data.frame: 16 × 3</caption>\n",
              "<thead>\n",
              "\t<tr><th></th><th scope=col>package_name</th><th scope=col>review</th><th scope=col>polarity</th></tr>\n",
              "\t<tr><th></th><th scope=col>&lt;chr&gt;</th><th scope=col>&lt;chr&gt;</th><th scope=col>&lt;fct&gt;</th></tr>\n",
              "</thead>\n",
              "<tbody>\n",
              "\t<tr><th scope=row>36</th><td>com.facebook.katana    </td><td> not good its previous version (12.0.0.15.14) is much good than that. i can't text directly with current version. please add the inbuilt messenger again in the app.                                                                                                                                                                                                                                                                                                                                          </td><td>0</td></tr>\n",
              "\t<tr><th scope=row>58</th><td>com.twitter.android    </td><td> why is there so much space? there is so much white space and everything is so spaced out. also the notifications are always late.                                                                                                                                                                                                                                                                                                                                                                            </td><td>0</td></tr>\n",
              "\t<tr><th scope=row>127</th><td>com.king.candycrushsaga</td><td> it takes me two levels back and no boosters not happy with this game.i passed the hard level an i was two level forward to the hard level and i had boosters.after work i open the game no booster and i was two steps back .back to the hard level.after that the game switches its self off                                                                                                                                                                                                                </td><td>0</td></tr>\n",
              "\t<tr><th scope=row>160</th><td>com.imangi.templerun2  </td><td> book and their use as a great christmas navarro was gonna get a lot of different names for christmas is a screamer and i can't remember if my sis and baking and making everything so perfect for me to believe in things and i'll return to go over in a few minutes ago and i have a great day at home soon and their little room in the kids to school with your questions                                                                                                                                </td><td>0</td></tr>\n",
              "\t<tr><th scope=row>180</th><td>com.imangi.templerun2  </td><td> temple run -pretty good the game is fun.but i would like it if it didn't have so many videos for one specific app most of the time. it would also be nice if you could choose to be a boy or a girl character. overall the game is okay/pretty good                                                                                                                                                                                                                                                          </td><td>0</td></tr>\n",
              "\t<tr><th scope=row>417</th><td>com.facebook.orca      </td><td> not good i had for a while but is not working keeps messing up my face book must have a big because i deleted and my face book works                                                                                                                                                                                                                                                                                                                                                                         </td><td>0</td></tr>\n",
              "\t<tr><th scope=row>553</th><td>com.dropbox.android    </td><td> it used up my battery!!!!!! i forgot to switch back to my home screen and keep opening dropbox app, then my battery dropped from 50% to 25% in 30mins. it really is a 'drop'box.                                                                                                                                                                                                                                                                                                                             </td><td>0</td></tr>\n",
              "\t<tr><th scope=row>563</th><td>jabanaki.todo.todoly   </td><td> has potential could be better but it conts to crash after some use. love the web version though!                                                                                                                                                                                                                                                                                                                                                                                                             </td><td>0</td></tr>\n",
              "\t<tr><th scope=row>566</th><td>jabanaki.todo.todoly   </td><td> dud on droid4 doesn't work on my new droid4                                                                                                                                                                                                                                                                                                                                                                                                                                                                  </td><td>0</td></tr>\n",
              "\t<tr><th scope=row>602</th><td>com.evernote           </td><td> camera option is horrible you can't crop the image sideways... it has to be perfect square or rectangle.  camscanner or microsoft lens are  better options for document images. and it needs notebooks within notebooks. the camera flash always on, and when you do needs it, it takes very long time to turn itself off after taking the picture. the document camera likewise needs to detect the edge of the document. editing the images must be done within the interface without going through skitch.</td><td>0</td></tr>\n",
              "\t<tr><th scope=row>621</th><td>com.uc.browser.en      </td><td> disappointed first of all i'd like to thank the creators of the uc browser for this is the best browser that i have ever used. now why 3 stars ,because i was planning to download a game but uc browser can't download it. the page loads but no downloads and i have to use mozilla because of this particular reason..i want to give you guys a five star but until you fix this i will just give you 3 star...thank you ....just please help me with  this one i want to use only one browser.           </td><td>0</td></tr>\n",
              "\t<tr><th scope=row>716</th><td>com.opera.mini.native  </td><td> night mode this app is really good actually, but why the night mode doesn't work? what ashame đľ                                                                                                                                                                                                                                                                                                                                                                                                 </td><td>0</td></tr>\n",
              "\t<tr><th scope=row>721</th><td>com.opera.mini.native  </td><td> fonts why in the heck is this thing analysing my fonts??? not really quick browsing when i have to wait 5minutes for the fonts to load. are you asking my opinion? avoid this. terrible                                                                                                                                                                                                                                                                                                                      </td><td>0</td></tr>\n",
              "\t<tr><th scope=row>741</th><td>com.shirantech.kantipur</td><td> too much pop up add average app with too much advertisement. one star for the app and 5 star for the pop up advertisement.                                                                                                                                                                                                                                                                                                                                                                                   </td><td>0</td></tr>\n",
              "\t<tr><th scope=row>776</th><td>org.mozilla.firefox    </td><td> doesn't allow me to send tab to desktop previously, when i touched the share button, it allowed me to select 'firefox' as the share method to send the tab to my synched computer. now the 'share to firefox option' doesn't show up. why did it dissapear?                                                                                                                                                                                                                                                  </td><td>0</td></tr>\n",
              "\t<tr><th scope=row>877</th><td>com.rovio.angrybirds   </td><td> 2many adds. great game ruined by too many adds! way too many adds now. not even fun anymore. was great, now it's terrible.                                                                                                                                                                                                                                                                                                                                                                                   </td><td>0</td></tr>\n",
              "</tbody>\n",
              "</table>\n"
            ],
            "text/markdown": "\nA data.frame: 16 × 3\n\n| <!--/--> | package_name &lt;chr&gt; | review &lt;chr&gt; | polarity &lt;fct&gt; |\n|---|---|---|---|\n| 36 | com.facebook.katana     |  not good its previous version (12.0.0.15.14) is much good than that. i can't text directly with current version. please add the inbuilt messenger again in the app.                                                                                                                                                                                                                                                                                                                                           | 0 |\n| 58 | com.twitter.android     |  why is there so much space? there is so much white space and everything is so spaced out. also the notifications are always late.                                                                                                                                                                                                                                                                                                                                                                             | 0 |\n| 127 | com.king.candycrushsaga |  it takes me two levels back and no boosters not happy with this game.i passed the hard level an i was two level forward to the hard level and i had boosters.after work i open the game no booster and i was two steps back .back to the hard level.after that the game switches its self off                                                                                                                                                                                                                 | 0 |\n| 160 | com.imangi.templerun2   |  book and their use as a great christmas navarro was gonna get a lot of different names for christmas is a screamer and i can't remember if my sis and baking and making everything so perfect for me to believe in things and i'll return to go over in a few minutes ago and i have a great day at home soon and their little room in the kids to school with your questions                                                                                                                                 | 0 |\n| 180 | com.imangi.templerun2   |  temple run -pretty good the game is fun.but i would like it if it didn't have so many videos for one specific app most of the time. it would also be nice if you could choose to be a boy or a girl character. overall the game is okay/pretty good                                                                                                                                                                                                                                                           | 0 |\n| 417 | com.facebook.orca       |  not good i had for a while but is not working keeps messing up my face book must have a big because i deleted and my face book works                                                                                                                                                                                                                                                                                                                                                                          | 0 |\n| 553 | com.dropbox.android     |  it used up my battery!!!!!! i forgot to switch back to my home screen and keep opening dropbox app, then my battery dropped from 50% to 25% in 30mins. it really is a 'drop'box.                                                                                                                                                                                                                                                                                                                              | 0 |\n| 563 | jabanaki.todo.todoly    |  has potential could be better but it conts to crash after some use. love the web version though!                                                                                                                                                                                                                                                                                                                                                                                                              | 0 |\n| 566 | jabanaki.todo.todoly    |  dud on droid4 doesn't work on my new droid4                                                                                                                                                                                                                                                                                                                                                                                                                                                                   | 0 |\n| 602 | com.evernote            |  camera option is horrible you can't crop the image sideways... it has to be perfect square or rectangle.  camscanner or microsoft lens are  better options for document images. and it needs notebooks within notebooks. the camera flash always on, and when you do needs it, it takes very long time to turn itself off after taking the picture. the document camera likewise needs to detect the edge of the document. editing the images must be done within the interface without going through skitch. | 0 |\n| 621 | com.uc.browser.en       |  disappointed first of all i'd like to thank the creators of the uc browser for this is the best browser that i have ever used. now why 3 stars ,because i was planning to download a game but uc browser can't download it. the page loads but no downloads and i have to use mozilla because of this particular reason..i want to give you guys a five star but until you fix this i will just give you 3 star...thank you ....just please help me with  this one i want to use only one browser.            | 0 |\n| 716 | com.opera.mini.native   |  night mode this app is really good actually, but why the night mode doesn't work? what ashame đľ                                                                                                                                                                                                                                                                                                                                                                                                  | 0 |\n| 721 | com.opera.mini.native   |  fonts why in the heck is this thing analysing my fonts??? not really quick browsing when i have to wait 5minutes for the fonts to load. are you asking my opinion? avoid this. terrible                                                                                                                                                                                                                                                                                                                       | 0 |\n| 741 | com.shirantech.kantipur |  too much pop up add average app with too much advertisement. one star for the app and 5 star for the pop up advertisement.                                                                                                                                                                                                                                                                                                                                                                                    | 0 |\n| 776 | org.mozilla.firefox     |  doesn't allow me to send tab to desktop previously, when i touched the share button, it allowed me to select 'firefox' as the share method to send the tab to my synched computer. now the 'share to firefox option' doesn't show up. why did it dissapear?                                                                                                                                                                                                                                                   | 0 |\n| 877 | com.rovio.angrybirds    |  2many adds. great game ruined by too many adds! way too many adds now. not even fun anymore. was great, now it's terrible.                                                                                                                                                                                                                                                                                                                                                                                    | 0 |\n\n",
            "text/latex": "A data.frame: 16 × 3\n\\begin{tabular}{r|lll}\n  & package\\_name & review & polarity\\\\\n  & <chr> & <chr> & <fct>\\\\\n\\hline\n\t36 & com.facebook.katana     &  not good its previous version (12.0.0.15.14) is much good than that. i can't text directly with current version. please add the inbuilt messenger again in the app.                                                                                                                                                                                                                                                                                                                                           & 0\\\\\n\t58 & com.twitter.android     &  why is there so much space? there is so much white space and everything is so spaced out. also the notifications are always late.                                                                                                                                                                                                                                                                                                                                                                             & 0\\\\\n\t127 & com.king.candycrushsaga &  it takes me two levels back and no boosters not happy with this game.i passed the hard level an i was two level forward to the hard level and i had boosters.after work i open the game no booster and i was two steps back .back to the hard level.after that the game switches its self off                                                                                                                                                                                                                 & 0\\\\\n\t160 & com.imangi.templerun2   &  book and their use as a great christmas navarro was gonna get a lot of different names for christmas is a screamer and i can't remember if my sis and baking and making everything so perfect for me to believe in things and i'll return to go over in a few minutes ago and i have a great day at home soon and their little room in the kids to school with your questions                                                                                                                                 & 0\\\\\n\t180 & com.imangi.templerun2   &  temple run -pretty good the game is fun.but i would like it if it didn't have so many videos for one specific app most of the time. it would also be nice if you could choose to be a boy or a girl character. overall the game is okay/pretty good                                                                                                                                                                                                                                                           & 0\\\\\n\t417 & com.facebook.orca       &  not good i had for a while but is not working keeps messing up my face book must have a big because i deleted and my face book works                                                                                                                                                                                                                                                                                                                                                                          & 0\\\\\n\t553 & com.dropbox.android     &  it used up my battery!!!!!! i forgot to switch back to my home screen and keep opening dropbox app, then my battery dropped from 50\\% to 25\\% in 30mins. it really is a 'drop'box.                                                                                                                                                                                                                                                                                                                              & 0\\\\\n\t563 & jabanaki.todo.todoly    &  has potential could be better but it conts to crash after some use. love the web version though!                                                                                                                                                                                                                                                                                                                                                                                                              & 0\\\\\n\t566 & jabanaki.todo.todoly    &  dud on droid4 doesn't work on my new droid4                                                                                                                                                                                                                                                                                                                                                                                                                                                                   & 0\\\\\n\t602 & com.evernote            &  camera option is horrible you can't crop the image sideways... it has to be perfect square or rectangle.  camscanner or microsoft lens are  better options for document images. and it needs notebooks within notebooks. the camera flash always on, and when you do needs it, it takes very long time to turn itself off after taking the picture. the document camera likewise needs to detect the edge of the document. editing the images must be done within the interface without going through skitch. & 0\\\\\n\t621 & com.uc.browser.en       &  disappointed first of all i'd like to thank the creators of the uc browser for this is the best browser that i have ever used. now why 3 stars ,because i was planning to download a game but uc browser can't download it. the page loads but no downloads and i have to use mozilla because of this particular reason..i want to give you guys a five star but until you fix this i will just give you 3 star...thank you ....just please help me with  this one i want to use only one browser.            & 0\\\\\n\t716 & com.opera.mini.native   &  night mode this app is really good actually, but why the night mode doesn't work? what ashame đľ                                                                                                                                                                                                                                                                                                                                                                                                  & 0\\\\\n\t721 & com.opera.mini.native   &  fonts why in the heck is this thing analysing my fonts??? not really quick browsing when i have to wait 5minutes for the fonts to load. are you asking my opinion? avoid this. terrible                                                                                                                                                                                                                                                                                                                       & 0\\\\\n\t741 & com.shirantech.kantipur &  too much pop up add average app with too much advertisement. one star for the app and 5 star for the pop up advertisement.                                                                                                                                                                                                                                                                                                                                                                                    & 0\\\\\n\t776 & org.mozilla.firefox     &  doesn't allow me to send tab to desktop previously, when i touched the share button, it allowed me to select 'firefox' as the share method to send the tab to my synched computer. now the 'share to firefox option' doesn't show up. why did it dissapear?                                                                                                                                                                                                                                                   & 0\\\\\n\t877 & com.rovio.angrybirds    &  2many adds. great game ruined by too many adds! way too many adds now. not even fun anymore. was great, now it's terrible.                                                                                                                                                                                                                                                                                                                                                                                    & 0\\\\\n\\end{tabular}\n",
            "text/plain": [
              "    package_name           \n",
              "36  com.facebook.katana    \n",
              "58  com.twitter.android    \n",
              "127 com.king.candycrushsaga\n",
              "160 com.imangi.templerun2  \n",
              "180 com.imangi.templerun2  \n",
              "417 com.facebook.orca      \n",
              "553 com.dropbox.android    \n",
              "563 jabanaki.todo.todoly   \n",
              "566 jabanaki.todo.todoly   \n",
              "602 com.evernote           \n",
              "621 com.uc.browser.en      \n",
              "716 com.opera.mini.native  \n",
              "721 com.opera.mini.native  \n",
              "741 com.shirantech.kantipur\n",
              "776 org.mozilla.firefox    \n",
              "877 com.rovio.angrybirds   \n",
              "    review                                                                                                                                                                                                                                                                                                                                                                                                                                                                                                        \n",
              "36   not good its previous version (12.0.0.15.14) is much good than that. i can't text directly with current version. please add the inbuilt messenger again in the app.                                                                                                                                                                                                                                                                                                                                          \n",
              "58   why is there so much space? there is so much white space and everything is so spaced out. also the notifications are always late.                                                                                                                                                                                                                                                                                                                                                                            \n",
              "127  it takes me two levels back and no boosters not happy with this game.i passed the hard level an i was two level forward to the hard level and i had boosters.after work i open the game no booster and i was two steps back .back to the hard level.after that the game switches its self off                                                                                                                                                                                                                \n",
              "160  book and their use as a great christmas navarro was gonna get a lot of different names for christmas is a screamer and i can't remember if my sis and baking and making everything so perfect for me to believe in things and i'll return to go over in a few minutes ago and i have a great day at home soon and their little room in the kids to school with your questions                                                                                                                                \n",
              "180  temple run -pretty good the game is fun.but i would like it if it didn't have so many videos for one specific app most of the time. it would also be nice if you could choose to be a boy or a girl character. overall the game is okay/pretty good                                                                                                                                                                                                                                                          \n",
              "417  not good i had for a while but is not working keeps messing up my face book must have a big because i deleted and my face book works                                                                                                                                                                                                                                                                                                                                                                         \n",
              "553  it used up my battery!!!!!! i forgot to switch back to my home screen and keep opening dropbox app, then my battery dropped from 50% to 25% in 30mins. it really is a 'drop'box.                                                                                                                                                                                                                                                                                                                             \n",
              "563  has potential could be better but it conts to crash after some use. love the web version though!                                                                                                                                                                                                                                                                                                                                                                                                             \n",
              "566  dud on droid4 doesn't work on my new droid4                                                                                                                                                                                                                                                                                                                                                                                                                                                                  \n",
              "602  camera option is horrible you can't crop the image sideways... it has to be perfect square or rectangle.  camscanner or microsoft lens are  better options for document images. and it needs notebooks within notebooks. the camera flash always on, and when you do needs it, it takes very long time to turn itself off after taking the picture. the document camera likewise needs to detect the edge of the document. editing the images must be done within the interface without going through skitch.\n",
              "621  disappointed first of all i'd like to thank the creators of the uc browser for this is the best browser that i have ever used. now why 3 stars ,because i was planning to download a game but uc browser can't download it. the page loads but no downloads and i have to use mozilla because of this particular reason..i want to give you guys a five star but until you fix this i will just give you 3 star...thank you ....just please help me with  this one i want to use only one browser.           \n",
              "716  night mode this app is really good actually, but why the night mode doesn't work? what ashame đ\\u009f\\u0098ľ                                                                                                                                                                                                                                                                                                                                                                                                 \n",
              "721  fonts why in the heck is this thing analysing my fonts??? not really quick browsing when i have to wait 5minutes for the fonts to load. are you asking my opinion? avoid this. terrible                                                                                                                                                                                                                                                                                                                      \n",
              "741  too much pop up add average app with too much advertisement. one star for the app and 5 star for the pop up advertisement.                                                                                                                                                                                                                                                                                                                                                                                   \n",
              "776  doesn't allow me to send tab to desktop previously, when i touched the share button, it allowed me to select 'firefox' as the share method to send the tab to my synched computer. now the 'share to firefox option' doesn't show up. why did it dissapear?                                                                                                                                                                                                                                                  \n",
              "877  2many adds. great game ruined by too many adds! way too many adds now. not even fun anymore. was great, now it's terrible.                                                                                                                                                                                                                                                                                                                                                                                   \n",
              "    polarity\n",
              "36  0       \n",
              "58  0       \n",
              "127 0       \n",
              "160 0       \n",
              "180 0       \n",
              "417 0       \n",
              "553 0       \n",
              "563 0       \n",
              "566 0       \n",
              "602 0       \n",
              "621 0       \n",
              "716 0       \n",
              "721 0       \n",
              "741 0       \n",
              "776 0       \n",
              "877 0       "
            ]
          },
          "metadata": {}
        }
      ]
    },
    {
      "cell_type": "markdown",
      "source": [
        "Luego de visualizar los de sentimiento extremo, clasificados como neutro, observamos los de sentimiento neutro, clasificados como extremo"
      ],
      "metadata": {
        "id": "QXLGVzCDa0Wt"
      },
      "id": "QXLGVzCDa0Wt"
    },
    {
      "cell_type": "code",
      "source": [
        "# Visualizamos las instancias que han sido filtradas erróneamente\n",
        "data.test[(subject_test.predicted != data.test$polarity) # Seleccionamos las instancias con error en la predicción\n",
        "          & (data.test$polarity == '1'),] # Seleccionamos las instancias con etiqueta extremo"
      ],
      "metadata": {
        "colab": {
          "base_uri": "https://localhost:8080/",
          "height": 824
        },
        "id": "XAMy13nAaxBg",
        "outputId": "f7bac582-3b03-4470-fbda-020593ed7eed"
      },
      "id": "XAMy13nAaxBg",
      "execution_count": 197,
      "outputs": [
        {
          "output_type": "display_data",
          "data": {
            "text/html": [
              "<table class=\"dataframe\">\n",
              "<caption>A data.frame: 11 × 3</caption>\n",
              "<thead>\n",
              "\t<tr><th></th><th scope=col>package_name</th><th scope=col>review</th><th scope=col>polarity</th></tr>\n",
              "\t<tr><th></th><th scope=col>&lt;chr&gt;</th><th scope=col>&lt;chr&gt;</th><th scope=col>&lt;fct&gt;</th></tr>\n",
              "</thead>\n",
              "<tbody>\n",
              "\t<tr><th scope=row>74</th><td>com.twitter.android    </td><td> love it you are able to see celebrity tweets and get info you didn't know... i love it                                                                                                                                                                                                                                                                                                                                                                                                                                                     </td><td>1</td></tr>\n",
              "\t<tr><th scope=row>189</th><td>com.imangi.templerun2  </td><td> everyone able to see  highest score i would like to given one idea ,i could not saw everyone higher score atleast 1 to 5 member,  i want to see each and everyone highest score through on my mobile , if you create this option, everyone will be try to achive the highest score ,i hope you will be create this option of temple run 2                                                                                                                                                                                                  </td><td>1</td></tr>\n",
              "\t<tr><th scope=row>343</th><td>com.viber.voip         </td><td> i love viber viber is an excellent chatting software. only one tiny negative comment for you. sometimes it takes a delay to reach message even online.  stickers are so cool...                                                                                                                                                                                                                                                                                                                                                            </td><td>1</td></tr>\n",
              "\t<tr><th scope=row>358</th><td>com.google.android.talk</td><td> won't make calls i have 5 bars on verizon 4g but it keeps saying can not connect call.  so far had only connected 1 call when i had 1 bar and the other person couldn't hear me. i have tried at over 20 different locations in the city i live in all around 4 or 5 bars.  no calls can be made.  fix this.                                                                                                                                                                                                                               </td><td>1</td></tr>\n",
              "\t<tr><th scope=row>441</th><td>com.whatsapp           </td><td>  occasionally i won't receive a notification of a message(s) so i don't know that someone has replied until i actually open the app and then suddenly lots of messages come through... 5 stars if that can be fixed                                                                                                                                                                                                                                                                                                                        </td><td>1</td></tr>\n",
              "\t<tr><th scope=row>529</th><td>com.dropbox.android    </td><td> just one irritating issue very nice app... except one issue.     there is no option of select all for photos inside a folder. i have to select each photo individually. and there is no option to download or make offline the entire folder. one of the above options must be there.                                                                                                                                                                                                                                                      </td><td>1</td></tr>\n",
              "\t<tr><th scope=row>613</th><td>com.evernote           </td><td> really cool and organized. the new update is really amazing, the widgets are cool, however, it would be helpful if you could add right to left reading and writing support (like hebrew, 'cause when i want to add check box the text removed to the left). also, you need to add an option to change the size of the preview (don't like it's so small), and app animations would be nice. something else to your attention: i want to by the app, but it really (really) expensive. if it was cheaper and one time charge i would buy it.</td><td>1</td></tr>\n",
              "\t<tr><th scope=row>644</th><td>com.uc.browser.en      </td><td> pics are not loaded i  love using uc browser but the only erorr i  m facing that when i login fb pic are not loaded... plz fix dis issue                                                                                                                                                                                                                                                                                                                                                                                                   </td><td>1</td></tr>\n",
              "\t<tr><th scope=row>737</th><td>com.opera.mini.native  </td><td> the best mobile browser ever opera mini is still the best mobile browser in terms of data saving. however, the browser doesn't support gif animation/image, it doesn't support themes, night mode is not impressive, saved pages should be accessed locally and transferable to other opera mini device/browser. above all it's a good browser with beautiful ui; it's my number one choice browser. thumbs up guys!                                                                                                                       </td><td>1</td></tr>\n",
              "\t<tr><th scope=row>795</th><td><span style=white-space:pre-wrap>org.mozilla.firefox    </span></td><td><span style=white-space:pre-wrap>  i've used firefox on all my mobile devices and computers for years, but since this latest update it's become unusable on my galaxy note 10.1.  links either don't work or take you to a different link on the page and the tops &amp; bottoms of pages are obscured so only around a third of the page is visible and search boxes can't be accessed.  i hate the idea of changing to chrome etc, but my tablet has been rendered useless for browsing. please sort it out mozilla.                                                           </span></td><td>1</td></tr>\n",
              "\t<tr><th scope=row>820</th><td>com.hamropatro         </td><td> fixed sticky notification :) but can't sign in :( the stick notification is not displayed is fixed thank u :) but can't log in please help                                                                                                                                                                                                                                                                                                                                                                                                 </td><td>1</td></tr>\n",
              "</tbody>\n",
              "</table>\n"
            ],
            "text/markdown": "\nA data.frame: 11 × 3\n\n| <!--/--> | package_name &lt;chr&gt; | review &lt;chr&gt; | polarity &lt;fct&gt; |\n|---|---|---|---|\n| 74 | com.twitter.android     |  love it you are able to see celebrity tweets and get info you didn't know... i love it                                                                                                                                                                                                                                                                                                                                                                                                                                                      | 1 |\n| 189 | com.imangi.templerun2   |  everyone able to see  highest score i would like to given one idea ,i could not saw everyone higher score atleast 1 to 5 member,  i want to see each and everyone highest score through on my mobile , if you create this option, everyone will be try to achive the highest score ,i hope you will be create this option of temple run 2                                                                                                                                                                                                   | 1 |\n| 343 | com.viber.voip          |  i love viber viber is an excellent chatting software. only one tiny negative comment for you. sometimes it takes a delay to reach message even online.  stickers are so cool...                                                                                                                                                                                                                                                                                                                                                             | 1 |\n| 358 | com.google.android.talk |  won't make calls i have 5 bars on verizon 4g but it keeps saying can not connect call.  so far had only connected 1 call when i had 1 bar and the other person couldn't hear me. i have tried at over 20 different locations in the city i live in all around 4 or 5 bars.  no calls can be made.  fix this.                                                                                                                                                                                                                                | 1 |\n| 441 | com.whatsapp            |   occasionally i won't receive a notification of a message(s) so i don't know that someone has replied until i actually open the app and then suddenly lots of messages come through... 5 stars if that can be fixed                                                                                                                                                                                                                                                                                                                         | 1 |\n| 529 | com.dropbox.android     |  just one irritating issue very nice app... except one issue.     there is no option of select all for photos inside a folder. i have to select each photo individually. and there is no option to download or make offline the entire folder. one of the above options must be there.                                                                                                                                                                                                                                                       | 1 |\n| 613 | com.evernote            |  really cool and organized. the new update is really amazing, the widgets are cool, however, it would be helpful if you could add right to left reading and writing support (like hebrew, 'cause when i want to add check box the text removed to the left). also, you need to add an option to change the size of the preview (don't like it's so small), and app animations would be nice. something else to your attention: i want to by the app, but it really (really) expensive. if it was cheaper and one time charge i would buy it. | 1 |\n| 644 | com.uc.browser.en       |  pics are not loaded i  love using uc browser but the only erorr i  m facing that when i login fb pic are not loaded... plz fix dis issue                                                                                                                                                                                                                                                                                                                                                                                                    | 1 |\n| 737 | com.opera.mini.native   |  the best mobile browser ever opera mini is still the best mobile browser in terms of data saving. however, the browser doesn't support gif animation/image, it doesn't support themes, night mode is not impressive, saved pages should be accessed locally and transferable to other opera mini device/browser. above all it's a good browser with beautiful ui; it's my number one choice browser. thumbs up guys!                                                                                                                        | 1 |\n| 795 | org.mozilla.firefox     |   i've used firefox on all my mobile devices and computers for years, but since this latest update it's become unusable on my galaxy note 10.1.  links either don't work or take you to a different link on the page and the tops &amp; bottoms of pages are obscured so only around a third of the page is visible and search boxes can't be accessed.  i hate the idea of changing to chrome etc, but my tablet has been rendered useless for browsing. please sort it out mozilla.                                                            | 1 |\n| 820 | com.hamropatro          |  fixed sticky notification :) but can't sign in :( the stick notification is not displayed is fixed thank u :) but can't log in please help                                                                                                                                                                                                                                                                                                                                                                                                  | 1 |\n\n",
            "text/latex": "A data.frame: 11 × 3\n\\begin{tabular}{r|lll}\n  & package\\_name & review & polarity\\\\\n  & <chr> & <chr> & <fct>\\\\\n\\hline\n\t74 & com.twitter.android     &  love it you are able to see celebrity tweets and get info you didn't know... i love it                                                                                                                                                                                                                                                                                                                                                                                                                                                      & 1\\\\\n\t189 & com.imangi.templerun2   &  everyone able to see  highest score i would like to given one idea ,i could not saw everyone higher score atleast 1 to 5 member,  i want to see each and everyone highest score through on my mobile , if you create this option, everyone will be try to achive the highest score ,i hope you will be create this option of temple run 2                                                                                                                                                                                                   & 1\\\\\n\t343 & com.viber.voip          &  i love viber viber is an excellent chatting software. only one tiny negative comment for you. sometimes it takes a delay to reach message even online.  stickers are so cool...                                                                                                                                                                                                                                                                                                                                                             & 1\\\\\n\t358 & com.google.android.talk &  won't make calls i have 5 bars on verizon 4g but it keeps saying can not connect call.  so far had only connected 1 call when i had 1 bar and the other person couldn't hear me. i have tried at over 20 different locations in the city i live in all around 4 or 5 bars.  no calls can be made.  fix this.                                                                                                                                                                                                                                & 1\\\\\n\t441 & com.whatsapp            &   occasionally i won't receive a notification of a message(s) so i don't know that someone has replied until i actually open the app and then suddenly lots of messages come through... 5 stars if that can be fixed                                                                                                                                                                                                                                                                                                                         & 1\\\\\n\t529 & com.dropbox.android     &  just one irritating issue very nice app... except one issue.     there is no option of select all for photos inside a folder. i have to select each photo individually. and there is no option to download or make offline the entire folder. one of the above options must be there.                                                                                                                                                                                                                                                       & 1\\\\\n\t613 & com.evernote            &  really cool and organized. the new update is really amazing, the widgets are cool, however, it would be helpful if you could add right to left reading and writing support (like hebrew, 'cause when i want to add check box the text removed to the left). also, you need to add an option to change the size of the preview (don't like it's so small), and app animations would be nice. something else to your attention: i want to by the app, but it really (really) expensive. if it was cheaper and one time charge i would buy it. & 1\\\\\n\t644 & com.uc.browser.en       &  pics are not loaded i  love using uc browser but the only erorr i  m facing that when i login fb pic are not loaded... plz fix dis issue                                                                                                                                                                                                                                                                                                                                                                                                    & 1\\\\\n\t737 & com.opera.mini.native   &  the best mobile browser ever opera mini is still the best mobile browser in terms of data saving. however, the browser doesn't support gif animation/image, it doesn't support themes, night mode is not impressive, saved pages should be accessed locally and transferable to other opera mini device/browser. above all it's a good browser with beautiful ui; it's my number one choice browser. thumbs up guys!                                                                                                                        & 1\\\\\n\t795 & org.mozilla.firefox     &   i've used firefox on all my mobile devices and computers for years, but since this latest update it's become unusable on my galaxy note 10.1.  links either don't work or take you to a different link on the page and the tops \\& bottoms of pages are obscured so only around a third of the page is visible and search boxes can't be accessed.  i hate the idea of changing to chrome etc, but my tablet has been rendered useless for browsing. please sort it out mozilla.                                                            & 1\\\\\n\t820 & com.hamropatro          &  fixed sticky notification :) but can't sign in :( the stick notification is not displayed is fixed thank u :) but can't log in please help                                                                                                                                                                                                                                                                                                                                                                                                  & 1\\\\\n\\end{tabular}\n",
            "text/plain": [
              "    package_name           \n",
              "74  com.twitter.android    \n",
              "189 com.imangi.templerun2  \n",
              "343 com.viber.voip         \n",
              "358 com.google.android.talk\n",
              "441 com.whatsapp           \n",
              "529 com.dropbox.android    \n",
              "613 com.evernote           \n",
              "644 com.uc.browser.en      \n",
              "737 com.opera.mini.native  \n",
              "795 org.mozilla.firefox    \n",
              "820 com.hamropatro         \n",
              "    review                                                                                                                                                                                                                                                                                                                                                                                                                                                                                                                                      \n",
              "74   love it you are able to see celebrity tweets and get info you didn't know... i love it                                                                                                                                                                                                                                                                                                                                                                                                                                                     \n",
              "189  everyone able to see  highest score i would like to given one idea ,i could not saw everyone higher score atleast 1 to 5 member,  i want to see each and everyone highest score through on my mobile , if you create this option, everyone will be try to achive the highest score ,i hope you will be create this option of temple run 2                                                                                                                                                                                                  \n",
              "343  i love viber viber is an excellent chatting software. only one tiny negative comment for you. sometimes it takes a delay to reach message even online.  stickers are so cool...                                                                                                                                                                                                                                                                                                                                                            \n",
              "358  won't make calls i have 5 bars on verizon 4g but it keeps saying can not connect call.  so far had only connected 1 call when i had 1 bar and the other person couldn't hear me. i have tried at over 20 different locations in the city i live in all around 4 or 5 bars.  no calls can be made.  fix this.                                                                                                                                                                                                                               \n",
              "441   occasionally i won't receive a notification of a message(s) so i don't know that someone has replied until i actually open the app and then suddenly lots of messages come through... 5 stars if that can be fixed                                                                                                                                                                                                                                                                                                                        \n",
              "529  just one irritating issue very nice app... except one issue.     there is no option of select all for photos inside a folder. i have to select each photo individually. and there is no option to download or make offline the entire folder. one of the above options must be there.                                                                                                                                                                                                                                                      \n",
              "613  really cool and organized. the new update is really amazing, the widgets are cool, however, it would be helpful if you could add right to left reading and writing support (like hebrew, 'cause when i want to add check box the text removed to the left). also, you need to add an option to change the size of the preview (don't like it's so small), and app animations would be nice. something else to your attention: i want to by the app, but it really (really) expensive. if it was cheaper and one time charge i would buy it.\n",
              "644  pics are not loaded i  love using uc browser but the only erorr i  m facing that when i login fb pic are not loaded... plz fix dis issue                                                                                                                                                                                                                                                                                                                                                                                                   \n",
              "737  the best mobile browser ever opera mini is still the best mobile browser in terms of data saving. however, the browser doesn't support gif animation/image, it doesn't support themes, night mode is not impressive, saved pages should be accessed locally and transferable to other opera mini device/browser. above all it's a good browser with beautiful ui; it's my number one choice browser. thumbs up guys!                                                                                                                       \n",
              "795   i've used firefox on all my mobile devices and computers for years, but since this latest update it's become unusable on my galaxy note 10.1.  links either don't work or take you to a different link on the page and the tops & bottoms of pages are obscured so only around a third of the page is visible and search boxes can't be accessed.  i hate the idea of changing to chrome etc, but my tablet has been rendered useless for browsing. please sort it out mozilla.                                                           \n",
              "820  fixed sticky notification :) but can't sign in :( the stick notification is not displayed is fixed thank u :) but can't log in please help                                                                                                                                                                                                                                                                                                                                                                                                 \n",
              "    polarity\n",
              "74  1       \n",
              "189 1       \n",
              "343 1       \n",
              "358 1       \n",
              "441 1       \n",
              "529 1       \n",
              "613 1       \n",
              "644 1       \n",
              "737 1       \n",
              "795 1       \n",
              "820 1       "
            ]
          },
          "metadata": {}
        }
      ]
    },
    {
      "cell_type": "markdown",
      "source": [
        "## <font color='#3d59c6'>  3. Optimización del modelo  </font>\n"
      ],
      "metadata": {
        "id": "hsE9QWFtMvps"
      },
      "id": "hsE9QWFtMvps"
    },
    {
      "cell_type": "markdown",
      "source": [
        "### <font color='#3d59c6'> Laplace Smoothing </font>"
      ],
      "metadata": {
        "id": "_Sh4wklmcaVO"
      },
      "id": "_Sh4wklmcaVO"
    },
    {
      "cell_type": "markdown",
      "source": [
        "El modelo de clasificación de texto se enfrenta a palabras no entrenadas, lo que puede causar problemas donde la probabilidad 0. Para evitar esto, se aplica Laplace smoothing. Esta técnica agrega un factor de suavizado a todas las frecuencias de palabras durante el entrenamiento del modelo, incluso a aquellas no vistas previamente. De esta manera, todas las palabras tienen una probabilidad no nula, lo que evita bloqueos del modelo o resultados incorrectos. Es importante elegir cuidadosamente el valor del factor de suavizado para equilibrar el sesgo y la capacidad de manejar nuevas palabras. Laplace smoothing debería mejorar la generalización y robustez del modelo.\n",
        "\n",
        "\n",
        "\n",
        "\n"
      ],
      "metadata": {
        "id": "8oweaHb-dKPc"
      },
      "id": "8oweaHb-dKPc"
    },
    {
      "cell_type": "code",
      "source": [
        "# Hacemos una iteración para nuestro modelo en base a un factor i, siendo i el factor alpha en el laplace smoothing\n",
        "for (i in (1:10))\n",
        "{\n",
        "    print(paste0(\"Laplace factor of \", as.character((i-1)/4)))\n",
        "    sms_classifier2 = naiveBayes(reduced_dtm.train,\n",
        "                                 data.train$polarity,\n",
        "                                 laplace = (i-1)/4)\n",
        "\n",
        "    sms_test.predicted2 = predict(sms_classifier2,\n",
        "                                  reduced_dtm.test)\n",
        "\n",
        "    print(confusionMatrix(sms_test.predicted2, data.test$polarity))\n",
        "}"
      ],
      "metadata": {
        "colab": {
          "base_uri": "https://localhost:8080/"
        },
        "id": "D1cvCXiMca45",
        "outputId": "1520a830-ee99-47df-b52f-c2f191885198"
      },
      "id": "D1cvCXiMca45",
      "execution_count": 198,
      "outputs": [
        {
          "output_type": "stream",
          "name": "stdout",
          "text": [
            "[1] \"Laplace factor of 0\"\n",
            "Confusion Matrix and Statistics\n",
            "\n",
            "          Reference\n",
            "Prediction   0   1\n",
            "         0 100  11\n",
            "         1  16  50\n",
            "                                         \n",
            "               Accuracy : 0.8475         \n",
            "                 95% CI : (0.7859, 0.897)\n",
            "    No Information Rate : 0.6554         \n",
            "    P-Value [Acc > NIR] : 8.086e-09      \n",
            "                                         \n",
            "                  Kappa : 0.6687         \n",
            "                                         \n",
            " Mcnemar's Test P-Value : 0.4414         \n",
            "                                         \n",
            "            Sensitivity : 0.8621         \n",
            "            Specificity : 0.8197         \n",
            "         Pos Pred Value : 0.9009         \n",
            "         Neg Pred Value : 0.7576         \n",
            "             Prevalence : 0.6554         \n",
            "         Detection Rate : 0.5650         \n",
            "   Detection Prevalence : 0.6271         \n",
            "      Balanced Accuracy : 0.8409         \n",
            "                                         \n",
            "       'Positive' Class : 0              \n",
            "                                         \n",
            "[1] \"Laplace factor of 0.25\"\n",
            "Confusion Matrix and Statistics\n",
            "\n",
            "          Reference\n",
            "Prediction  0  1\n",
            "         0 93  8\n",
            "         1 23 53\n",
            "                                          \n",
            "               Accuracy : 0.8249          \n",
            "                 95% CI : (0.7607, 0.8778)\n",
            "    No Information Rate : 0.6554          \n",
            "    P-Value [Acc > NIR] : 4.364e-07       \n",
            "                                          \n",
            "                  Kappa : 0.6336          \n",
            "                                          \n",
            " Mcnemar's Test P-Value : 0.01192         \n",
            "                                          \n",
            "            Sensitivity : 0.8017          \n",
            "            Specificity : 0.8689          \n",
            "         Pos Pred Value : 0.9208          \n",
            "         Neg Pred Value : 0.6974          \n",
            "             Prevalence : 0.6554          \n",
            "         Detection Rate : 0.5254          \n",
            "   Detection Prevalence : 0.5706          \n",
            "      Balanced Accuracy : 0.8353          \n",
            "                                          \n",
            "       'Positive' Class : 0               \n",
            "                                          \n",
            "[1] \"Laplace factor of 0.5\"\n",
            "Confusion Matrix and Statistics\n",
            "\n",
            "          Reference\n",
            "Prediction  0  1\n",
            "         0 84  7\n",
            "         1 32 54\n",
            "                                          \n",
            "               Accuracy : 0.7797          \n",
            "                 95% CI : (0.7113, 0.8384)\n",
            "    No Information Rate : 0.6554          \n",
            "    P-Value [Acc > NIR] : 0.0002198       \n",
            "                                          \n",
            "                  Kappa : 0.5554          \n",
            "                                          \n",
            " Mcnemar's Test P-Value : 0.0001215       \n",
            "                                          \n",
            "            Sensitivity : 0.7241          \n",
            "            Specificity : 0.8852          \n",
            "         Pos Pred Value : 0.9231          \n",
            "         Neg Pred Value : 0.6279          \n",
            "             Prevalence : 0.6554          \n",
            "         Detection Rate : 0.4746          \n",
            "   Detection Prevalence : 0.5141          \n",
            "      Balanced Accuracy : 0.8047          \n",
            "                                          \n",
            "       'Positive' Class : 0               \n",
            "                                          \n",
            "[1] \"Laplace factor of 0.75\"\n",
            "Confusion Matrix and Statistics\n",
            "\n",
            "          Reference\n",
            "Prediction  0  1\n",
            "         0 78  4\n",
            "         1 38 57\n",
            "                                          \n",
            "               Accuracy : 0.7627          \n",
            "                 95% CI : (0.6931, 0.8233)\n",
            "    No Information Rate : 0.6554          \n",
            "    P-Value [Acc > NIR] : 0.001329        \n",
            "                                          \n",
            "                  Kappa : 0.536           \n",
            "                                          \n",
            " Mcnemar's Test P-Value : 3.543e-07       \n",
            "                                          \n",
            "            Sensitivity : 0.6724          \n",
            "            Specificity : 0.9344          \n",
            "         Pos Pred Value : 0.9512          \n",
            "         Neg Pred Value : 0.6000          \n",
            "             Prevalence : 0.6554          \n",
            "         Detection Rate : 0.4407          \n",
            "   Detection Prevalence : 0.4633          \n",
            "      Balanced Accuracy : 0.8034          \n",
            "                                          \n",
            "       'Positive' Class : 0               \n",
            "                                          \n",
            "[1] \"Laplace factor of 1\"\n",
            "Confusion Matrix and Statistics\n",
            "\n",
            "          Reference\n",
            "Prediction  0  1\n",
            "         0 64  3\n",
            "         1 52 58\n",
            "                                          \n",
            "               Accuracy : 0.6893          \n",
            "                 95% CI : (0.6155, 0.7566)\n",
            "    No Information Rate : 0.6554          \n",
            "    P-Value [Acc > NIR] : 0.1927          \n",
            "                                          \n",
            "                  Kappa : 0.4222          \n",
            "                                          \n",
            " Mcnemar's Test P-Value : 9.651e-11       \n",
            "                                          \n",
            "            Sensitivity : 0.5517          \n",
            "            Specificity : 0.9508          \n",
            "         Pos Pred Value : 0.9552          \n",
            "         Neg Pred Value : 0.5273          \n",
            "             Prevalence : 0.6554          \n",
            "         Detection Rate : 0.3616          \n",
            "   Detection Prevalence : 0.3785          \n",
            "      Balanced Accuracy : 0.7513          \n",
            "                                          \n",
            "       'Positive' Class : 0               \n",
            "                                          \n",
            "[1] \"Laplace factor of 1.25\"\n",
            "Confusion Matrix and Statistics\n",
            "\n",
            "          Reference\n",
            "Prediction  0  1\n",
            "         0 52  1\n",
            "         1 64 60\n",
            "                                          \n",
            "               Accuracy : 0.6328          \n",
            "                 95% CI : (0.5572, 0.7038)\n",
            "    No Information Rate : 0.6554          \n",
            "    P-Value [Acc > NIR] : 0.7629          \n",
            "                                          \n",
            "                  Kappa : 0.3469          \n",
            "                                          \n",
            " Mcnemar's Test P-Value : 1.47e-14        \n",
            "                                          \n",
            "            Sensitivity : 0.4483          \n",
            "            Specificity : 0.9836          \n",
            "         Pos Pred Value : 0.9811          \n",
            "         Neg Pred Value : 0.4839          \n",
            "             Prevalence : 0.6554          \n",
            "         Detection Rate : 0.2938          \n",
            "   Detection Prevalence : 0.2994          \n",
            "      Balanced Accuracy : 0.7159          \n",
            "                                          \n",
            "       'Positive' Class : 0               \n",
            "                                          \n",
            "[1] \"Laplace factor of 1.5\"\n",
            "Confusion Matrix and Statistics\n",
            "\n",
            "          Reference\n",
            "Prediction  0  1\n",
            "         0 47  1\n",
            "         1 69 60\n",
            "                                          \n",
            "               Accuracy : 0.6045          \n",
            "                 95% CI : (0.5284, 0.6771)\n",
            "    No Information Rate : 0.6554          \n",
            "    P-Value [Acc > NIR] : 0.9323          \n",
            "                                          \n",
            "                  Kappa : 0.3075          \n",
            "                                          \n",
            " Mcnemar's Test P-Value : 1.166e-15       \n",
            "                                          \n",
            "            Sensitivity : 0.4052          \n",
            "            Specificity : 0.9836          \n",
            "         Pos Pred Value : 0.9792          \n",
            "         Neg Pred Value : 0.4651          \n",
            "             Prevalence : 0.6554          \n",
            "         Detection Rate : 0.2655          \n",
            "   Detection Prevalence : 0.2712          \n",
            "      Balanced Accuracy : 0.6944          \n",
            "                                          \n",
            "       'Positive' Class : 0               \n",
            "                                          \n",
            "[1] \"Laplace factor of 1.75\"\n",
            "Confusion Matrix and Statistics\n",
            "\n",
            "          Reference\n",
            "Prediction  0  1\n",
            "         0 38  1\n",
            "         1 78 60\n",
            "                                          \n",
            "               Accuracy : 0.5537          \n",
            "                 95% CI : (0.4772, 0.6283)\n",
            "    No Information Rate : 0.6554          \n",
            "    P-Value [Acc > NIR] : 0.998           \n",
            "                                          \n",
            "                  Kappa : 0.2395          \n",
            "                                          \n",
            " Mcnemar's Test P-Value : <2e-16          \n",
            "                                          \n",
            "            Sensitivity : 0.3276          \n",
            "            Specificity : 0.9836          \n",
            "         Pos Pred Value : 0.9744          \n",
            "         Neg Pred Value : 0.4348          \n",
            "             Prevalence : 0.6554          \n",
            "         Detection Rate : 0.2147          \n",
            "   Detection Prevalence : 0.2203          \n",
            "      Balanced Accuracy : 0.6556          \n",
            "                                          \n",
            "       'Positive' Class : 0               \n",
            "                                          \n",
            "[1] \"Laplace factor of 2\"\n",
            "Confusion Matrix and Statistics\n",
            "\n",
            "          Reference\n",
            "Prediction  0  1\n",
            "         0 28  1\n",
            "         1 88 60\n",
            "                                          \n",
            "               Accuracy : 0.4972          \n",
            "                 95% CI : (0.4213, 0.5732)\n",
            "    No Information Rate : 0.6554          \n",
            "    P-Value [Acc > NIR] : 1               \n",
            "                                          \n",
            "                  Kappa : 0.1681          \n",
            "                                          \n",
            " Mcnemar's Test P-Value : <2e-16          \n",
            "                                          \n",
            "            Sensitivity : 0.2414          \n",
            "            Specificity : 0.9836          \n",
            "         Pos Pred Value : 0.9655          \n",
            "         Neg Pred Value : 0.4054          \n",
            "             Prevalence : 0.6554          \n",
            "         Detection Rate : 0.1582          \n",
            "   Detection Prevalence : 0.1638          \n",
            "      Balanced Accuracy : 0.6125          \n",
            "                                          \n",
            "       'Positive' Class : 0               \n",
            "                                          \n",
            "[1] \"Laplace factor of 2.25\"\n",
            "Confusion Matrix and Statistics\n",
            "\n",
            "          Reference\n",
            "Prediction  0  1\n",
            "         0 21  1\n",
            "         1 95 60\n",
            "                                         \n",
            "               Accuracy : 0.4576         \n",
            "                 95% CI : (0.3827, 0.534)\n",
            "    No Information Rate : 0.6554         \n",
            "    P-Value [Acc > NIR] : 1              \n",
            "                                         \n",
            "                  Kappa : 0.1206         \n",
            "                                         \n",
            " Mcnemar's Test P-Value : <2e-16         \n",
            "                                         \n",
            "            Sensitivity : 0.1810         \n",
            "            Specificity : 0.9836         \n",
            "         Pos Pred Value : 0.9545         \n",
            "         Neg Pred Value : 0.3871         \n",
            "             Prevalence : 0.6554         \n",
            "         Detection Rate : 0.1186         \n",
            "   Detection Prevalence : 0.1243         \n",
            "      Balanced Accuracy : 0.5823         \n",
            "                                         \n",
            "       'Positive' Class : 0              \n",
            "                                         \n"
          ]
        }
      ]
    },
    {
      "cell_type": "markdown",
      "source": [
        "Una vez utilizado Laplace, se observa que disminuye los falsos positivos mientras los falsos negativos disminuyen."
      ],
      "metadata": {
        "id": "RmSwQYJb87XW"
      },
      "id": "RmSwQYJb87XW"
    },
    {
      "cell_type": "markdown",
      "source": [
        "## <font color='#3d59c6'>  4. Conclusiones y vías abiertas  </font>\n"
      ],
      "metadata": {
        "id": "XrPT-SnCM4TV"
      },
      "id": "XrPT-SnCM4TV"
    },
    {
      "cell_type": "markdown",
      "source": [
        "El balanceo del sentimiento se encuentra ligeramente desbalanceado. 65% de los sentimientos son neutros y el resto son sentimientos extremos.\n",
        "\n",
        "La transformación del texto se lleva a cabo utilizando la función tm_map(), que permite quitar signos de puntuación, eliminar acentos, espacios, y realizar otras operaciones de limpieza y preprocesamiento del texto.\n",
        "\n",
        "En principio, se ve que todos los comentarios no tienen mayúsculas, sin embargo, utilizamos esta transformación para asegurarnos de que no haya mayúsculas.\n",
        "\n",
        "Luego de examinar la matriz observamos que hay palabras que no contienen caracteres alphabeticos, se crea una función para eliminar esas palabras\n",
        "\n",
        "En la nube de palabras neutral, se dejan de ver palabras asociadas a sentimientos. aunque aun se observa \"good\", \"like\".\n",
        "\n",
        "En la nube de palabras extremos, se evidencian las palabras asociadas a sentimientos como great, best, love, best.\n",
        "\n",
        "Se crea una partición de la polaridad del 70%\n",
        "\n",
        "Observamos que la distribución de separación es la misma para Test y Train. Así que se aplica la filtración por frecuencia\n",
        "\n",
        "Se filtra por frecuencia de 3, para que el train y el test solo tengan estas palabras de mayor frecuencia.\n",
        "\n",
        "Naive Bayes opera con variables categóricas, y la  DRT utiliza valores numéricos. Se crea una función diseñada para convertir números en variables categóricas y la se aplica a las matrices reducidas.\n",
        "\n",
        "La matriz de confusión nos muestra que hay 21 instancias que fueron incorrectamente clasificadas como neutras cuando en realidad eran extremas.\n",
        "\n",
        "Por otro lado, hay 28 instancias que fueron incorrectamente clasificadas como positivas cuando en realidad eran neutras.\n",
        "\n",
        "Se tiene un accuracy aceptable de 82%\n",
        "\n",
        "El modelo de clasificación de texto se enfrenta a palabras no entrenadas, lo que puede causar problemas donde la probabilidad 0. Para evitar esto, se aplica Laplace smoothing. Esta técnica agrega un factor de suavizado a todas las frecuencias de palabras durante el entrenamiento del modelo, incluso a aquellas no vistas previamente. De esta manera, todas las palabras tienen una probabilidad no nula, lo que evita bloqueos del modelo o resultados incorrectos. Es importante elegir cuidadosamente el valor del factor de suavizado para equilibrar el sesgo y la capacidad de manejar nuevas palabras. Laplace smoothing debería mejorar la generalización y robustez del modelo.\n",
        "\n",
        "Una vez utilizado Laplace, se observa que disminuye los falsos positivos mientras los falsos negativos disminuyen.\n",
        "\n",
        "Sería un buen método de optimización si se buscara minimizar las revisiones clasificadas incorrectamente como muy positivas o muy negativas (1) por el modelo, cuando en realidad son neutras (0).\n",
        "\n",
        "Otra forma que se buscó para mejorar el modelo fue incrementar el filtro de frecuencia de para realizar el entrenamiento. Pasó de 3 a 5. Y se aumentó el porcentaje de Train - test que subió a 80%. Esto disminuyo los falsos positivos y negativos.\n",
        "\n",
        "Una forma de aumentar la precisión de clasificación del modelo puede ser incrementando el filtrado de palabras y ver que numero puede llegar a ser más óptimo.\n",
        "\n"
      ],
      "metadata": {
        "id": "wyr9yOhoXN1P"
      },
      "id": "wyr9yOhoXN1P"
    }
  ],
  "metadata": {
    "kernelspec": {
      "display_name": "R",
      "language": "R",
      "name": "ir"
    },
    "language_info": {
      "codemirror_mode": "r",
      "file_extension": ".r",
      "mimetype": "text/x-r-source",
      "name": "R",
      "pygments_lexer": "r",
      "version": "4.1.1"
    },
    "colab": {
      "provenance": []
    }
  },
  "nbformat": 4,
  "nbformat_minor": 5
}